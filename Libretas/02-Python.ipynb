{
 "cells": [
  {
   "cell_type": "markdown",
   "id": "bc1d0b3f-72fd-4a28-8775-34ec075fade5",
   "metadata": {},
   "source": [
    "# Colecciones\n",
    "\n",
    "Las instancias de tipos primitivos de Python representan valores individuales.\n",
    "\n",
    "Python también tiene tipos que son *compuestos*, es decir, agrupan varios objetos. Estos son llamados *colecciones* o *contenedores* y las instancias que contienen son llamados *elementos*.\n",
    "\n",
    "Las colecciones pueden contener cualquier cantidad de elementos, algunas colecciones pueden contener elementos con una mezcla de tipos (incluyendo otras colecciones).\n",
    "\n",
    "Hay tres categorías de tipos de colección en el lenguaje: *conjuntos*, *secuencias* y *asociaciones*. Existen otros tipos de datos como *flujos* que son similares a las colecciones pero cuyos elementos se construyen a través del tiempo parte por parte.\n",
    "\n",
    "- Conjuntos: No permiten acceso individual de elementos\n",
    "- Secuencias: Utilizan un *índice* numérico asociado a cada elemento\n",
    "- Asociaciones: Utilizan una *llave* asociadas a cada elemento\n",
    "- Flujos: Utiliza una operación de *siguiente*"
   ]
  },
  {
   "cell_type": "markdown",
   "id": "164fe81d-d1c6-49d9-b297-1c525b57594c",
   "metadata": {},
   "source": [
    "Las cadenas de caracteres viven en la frontera entre primitivas y colecciones, tienen propiedades de ambas."
   ]
  },
  {
   "cell_type": "markdown",
   "id": "a5ffb9c0-dcaa-4f9d-a0c2-b47113c69625",
   "metadata": {},
   "source": [
    "Algunos tipos son *inmutables*, una vez creados no podemos modificarlos, en el contexto de las colecciones esto significa que no podemos agregar, eliminar o reordenar elementos. Los tipos primitivos (incluyendo las cadenas) son inmutables.\n",
    "\n",
    "Colecciones mutables no pueden ser elementos de conjuntos o utilizadas como índices en asociaciones."
   ]
  },
  {
   "cell_type": "markdown",
   "id": "082659f5-90e0-4ade-97a0-0ba782208836",
   "metadata": {},
   "source": [
    "### Operaciones y funciones para cualquier tipo de colección\n",
    "\n",
    "| Operación | Regresa |\n",
    "| --------- | ------- |\n",
    "| `x in coll` | `True` si `coll` contiene a `x` |\n",
    "| `x not in coll` | `True` si `coll` no contiene a `x` |\n",
    "| `any(coll)` | `True` si algún elemento de `coll` es verdadero |\n",
    "| `all(coll)` | `True` si todos los elementos de `coll` son verdaderos |\n",
    "| `len(coll)` | La cantidad de elementos en `coll` |\n",
    "| `max(coll)` | Un elemento máximo en `coll` |\n",
    "| `min(coll)` | Un elemento mínimo en `coll` |\n",
    "| `sorted(coll)` | Una lista con los elementos de `coll` ordenados |"
   ]
  },
  {
   "cell_type": "markdown",
   "id": "c6324312-da6d-4afa-8c9c-040da9ea7342",
   "metadata": {},
   "source": [
    "## Conjuntos\n",
    "\n",
    "Colección de elementos inmutables sin orden ni duplicados.\n",
    "\n",
    "Verificar si un objeto es elemento de un conjunto es una operación **muy** eficiente. También permite encontrar los elementos *distintos* de otra colección."
   ]
  },
  {
   "cell_type": "markdown",
   "id": "3a1f98e8-ed04-4a3e-ae91-201cfda89d47",
   "metadata": {},
   "source": [
    "Método `add`"
   ]
  },
  {
   "cell_type": "markdown",
   "id": "df21eebf-5d92-4365-98b9-fbc89a359195",
   "metadata": {},
   "source": [
    "Método `isdisjoint`"
   ]
  },
  {
   "cell_type": "markdown",
   "id": "721aac70-5efa-4d24-95fa-e740c4a77049",
   "metadata": {},
   "source": [
    "Operación `<=`"
   ]
  },
  {
   "cell_type": "code",
   "execution_count": null,
   "id": "e35578c9-10a2-4a90-854e-2f8788e62d31",
   "metadata": {},
   "outputs": [],
   "source": [
    "s1 = {1, 2, 3, 4}\n",
    "s2 = {3, 4, 5, 6}\n",
    "\n",
    "assert s1 | s2 == s1.union(s2)\n",
    "assert s1 & s2 == s1.intersection(s2)\n",
    "assert s1 - s2 == s1.difference(s2)\n",
    "assert s1 ^ s2 == s1.symmetric_difference(s2)"
   ]
  },
  {
   "cell_type": "markdown",
   "id": "0ee40962-f833-47e5-9118-b8270526d10a",
   "metadata": {},
   "source": [
    "Frozensets"
   ]
  },
  {
   "cell_type": "markdown",
   "id": "a5d72a50-7af6-4917-aa3a-05accf2cd7d6",
   "metadata": {},
   "source": [
    "## Secuencias\n",
    "\n",
    "Son colleciones ordenadas que admiten elementos duplicados.\n",
    "Podemos referirnos a un elemento por su posición (índice).\n",
    "\n",
    "Identificamos seis tipos de secuencias:\n",
    "\n",
    "| Tipo | Tipo de elemento | ¿Mutable? | Sintaxis |\n",
    "| ---- | ---------------- | --------- | -------- |\n",
    "| `str` | Cadenas de un caracter | No | Comillas |\n",
    "| `bytes` | Bytes de 8 bits |  No | Una cadena con prefijo `b` |\n",
    "| `bytearray` | Bytes de 8 bits | Si | |\n",
    "| `range` | Enteros | No | |\n",
    "| `tuple` | Cualquiera | No | Paréntesis |\n",
    "| `list` | Cualquiera | Si | Corchetes |"
   ]
  },
  {
   "cell_type": "markdown",
   "id": "18ea0b2c-c0af-4909-9654-2d31d729c733",
   "metadata": {},
   "source": [
    "### Cadenas de caracteres y bytes"
   ]
  },
  {
   "cell_type": "code",
   "execution_count": null,
   "id": "656311fb-af5c-422a-89f1-cc24abd46d58",
   "metadata": {},
   "outputs": [],
   "source": [
    "str()"
   ]
  },
  {
   "cell_type": "code",
   "execution_count": null,
   "id": "7848f701-d5be-4351-8d26-977300539025",
   "metadata": {},
   "outputs": [],
   "source": [
    "ord('X')"
   ]
  },
  {
   "cell_type": "code",
   "execution_count": null,
   "id": "43a1dcdd-a090-40f1-8297-ad40ac9235cb",
   "metadata": {},
   "outputs": [],
   "source": [
    "chr(88)"
   ]
  },
  {
   "cell_type": "code",
   "execution_count": null,
   "id": "1d3fda21-ec71-471d-bff3-a58c27e00dd7",
   "metadata": {},
   "outputs": [],
   "source": [
    "bytes()"
   ]
  },
  {
   "cell_type": "code",
   "execution_count": null,
   "id": "9049f627-a8f6-4b3a-aeb5-e6f5530a58de",
   "metadata": {},
   "outputs": [],
   "source": [
    "bytes(5)"
   ]
  },
  {
   "cell_type": "code",
   "execution_count": null,
   "id": "3cf6ace9-fc18-4858-b6b4-91cbbf56462f",
   "metadata": {},
   "outputs": [],
   "source": [
    "b'hola' == 'hola'"
   ]
  },
  {
   "cell_type": "code",
   "execution_count": null,
   "id": "b038a369-6245-4be4-ae3d-1c79cff9d0f7",
   "metadata": {},
   "outputs": [],
   "source": [
    "b'programación'"
   ]
  },
  {
   "cell_type": "code",
   "execution_count": null,
   "id": "47c06d39-99a5-47f4-8b79-595b561e4561",
   "metadata": {},
   "outputs": [],
   "source": [
    "bytearray(5)"
   ]
  },
  {
   "cell_type": "code",
   "execution_count": null,
   "id": "71ea2416-af21-4c3e-9a26-eb1a6ca1b3d1",
   "metadata": {},
   "outputs": [],
   "source": [
    "b'\\x40'"
   ]
  },
  {
   "cell_type": "code",
   "execution_count": null,
   "id": "5c083652-e458-4534-b502-0e4eeea33ed9",
   "metadata": {},
   "outputs": [],
   "source": [
    "x = 123\n",
    "y = 123.321123\n",
    "f\"El valor de x es {x}, el de y es {y:.2f}\""
   ]
  },
  {
   "cell_type": "markdown",
   "id": "9c57ab87-4e03-48fb-a85a-9e9b54b5a698",
   "metadata": {},
   "source": [
    "### Rangos"
   ]
  },
  {
   "cell_type": "code",
   "execution_count": null,
   "id": "6bc43d5f-cbc3-48f0-af24-07e93907cca5",
   "metadata": {},
   "outputs": [],
   "source": [
    "range(5)"
   ]
  },
  {
   "cell_type": "code",
   "execution_count": null,
   "id": "46e49574-3469-4da9-92c4-8118e4f3ab13",
   "metadata": {},
   "outputs": [],
   "source": [
    "range(10, 20)"
   ]
  },
  {
   "cell_type": "code",
   "execution_count": null,
   "id": "4f6569fe-25c1-4bcc-b26c-3d3a0d6af305",
   "metadata": {},
   "outputs": [],
   "source": [
    "range(10, 20)[5]"
   ]
  },
  {
   "cell_type": "code",
   "execution_count": null,
   "id": "8f4cafb7-e455-4ad0-a526-fa6fbaf2e833",
   "metadata": {},
   "outputs": [],
   "source": [
    "range(10, 20)[::-1][5]"
   ]
  },
  {
   "cell_type": "code",
   "execution_count": null,
   "id": "3cbaeb38-6aa6-4f53-ab62-f693ecfba1c9",
   "metadata": {},
   "outputs": [],
   "source": [
    "set(range(10, 20))"
   ]
  },
  {
   "cell_type": "code",
   "execution_count": null,
   "id": "d76d71fb-dda2-453d-ae1d-bb170c8a1bea",
   "metadata": {},
   "outputs": [],
   "source": [
    "set(range(1, 10, 2))"
   ]
  },
  {
   "cell_type": "code",
   "execution_count": null,
   "id": "9a061c2e-196e-4ae5-9085-2d96d6d33bf4",
   "metadata": {},
   "outputs": [],
   "source": [
    "8 in range(10,0,-2)"
   ]
  },
  {
   "cell_type": "markdown",
   "id": "974b79f3-e30f-409f-904f-c9bf4c82ac1c",
   "metadata": {},
   "source": [
    "### Tuplas ($n$-adas)"
   ]
  },
  {
   "cell_type": "code",
   "execution_count": null,
   "id": "9e5da62d-0e11-43e1-bd43-a611d283063f",
   "metadata": {},
   "outputs": [],
   "source": [
    "(1, 2, 3)"
   ]
  },
  {
   "cell_type": "code",
   "execution_count": null,
   "id": "b0b72779-f787-42ed-b98d-0b178e8b1494",
   "metadata": {},
   "outputs": [],
   "source": [
    "(1, 2)[-1]"
   ]
  },
  {
   "cell_type": "code",
   "execution_count": null,
   "id": "3caa11c8-691a-4af1-8966-01d33353b809",
   "metadata": {},
   "outputs": [],
   "source": [
    "(1) == (1,)"
   ]
  },
  {
   "cell_type": "code",
   "execution_count": null,
   "id": "6194b7ae-277b-4295-9983-19b809598112",
   "metadata": {},
   "outputs": [],
   "source": [
    "a, b, c = (1, 2, 3)"
   ]
  },
  {
   "cell_type": "code",
   "execution_count": null,
   "id": "d14d1ded-4005-4e8d-9b8a-8b3b72d84f18",
   "metadata": {},
   "outputs": [],
   "source": [
    "a * b"
   ]
  },
  {
   "cell_type": "code",
   "execution_count": null,
   "id": "75b89dd4-6840-4a0c-96aa-d38bba889629",
   "metadata": {},
   "outputs": [],
   "source": [
    "a + b + c"
   ]
  },
  {
   "cell_type": "code",
   "execution_count": 7,
   "id": "7595b75f-2da4-4569-8012-eb8ef71791a0",
   "metadata": {},
   "outputs": [
    {
     "name": "stdout",
     "output_type": "stream",
     "text": [
      "2\n",
      "1\n"
     ]
    }
   ],
   "source": [
    "def voltea(a, b):\n",
    "    return b, a\n",
    "\n",
    "a, b = (1, 2)\n",
    "a, b = voltea(a, b)\n",
    "print(a)\n",
    "print(b)"
   ]
  },
  {
   "cell_type": "markdown",
   "id": "ef35f466-9df5-4e87-850d-a06cd69fd9b8",
   "metadata": {},
   "source": [
    "### Listas\n",
    "\n",
    "Posiblemente la colección más fundamental de Python, es una colección ordenada, mutable y que admite modificaciones (en otros lenguajes es similar a un arreglo pero con más funcionalidades)."
   ]
  },
  {
   "cell_type": "code",
   "execution_count": null,
   "id": "40f44263-490f-4dc2-8850-fbdc0fb8c11b",
   "metadata": {},
   "outputs": [],
   "source": [
    "[1, 2, 3]"
   ]
  },
  {
   "cell_type": "code",
   "execution_count": null,
   "id": "c1dd8580-efcb-4c11-ac9c-4e7658d0ba91",
   "metadata": {},
   "outputs": [],
   "source": [
    "[\"hola\", 0.1, False]"
   ]
  },
  {
   "cell_type": "code",
   "execution_count": null,
   "id": "6d781ccb-246d-4d46-9e81-a9434d7eb1e3",
   "metadata": {},
   "outputs": [],
   "source": [
    "[[1, \"2\", 3], [4.0, {3, 2, 1}]]"
   ]
  },
  {
   "cell_type": "code",
   "execution_count": 8,
   "id": "3d7c3d0d-a7f7-45ca-9915-7fcebab9f0d0",
   "metadata": {},
   "outputs": [
    {
     "data": {
      "text/plain": [
       "[1, 2, 3, 4, 5, 6]"
      ]
     },
     "execution_count": 8,
     "metadata": {},
     "output_type": "execute_result"
    }
   ],
   "source": [
    "[1, 2, 3] + [4, 5, 6]"
   ]
  },
  {
   "cell_type": "code",
   "execution_count": 9,
   "id": "3dfb7853-49c2-4829-a247-950587ba97fb",
   "metadata": {},
   "outputs": [],
   "source": [
    "a = [1, 2, 3]\n",
    "b = [4, 5, 6]\n",
    "c = a + b"
   ]
  },
  {
   "cell_type": "code",
   "execution_count": 10,
   "id": "37450227",
   "metadata": {},
   "outputs": [
    {
     "name": "stdout",
     "output_type": "stream",
     "text": [
      "[5, 7, 9]\n",
      "Comprehension\n"
     ]
    },
    {
     "data": {
      "text/plain": [
       "[4, 10, 18]"
      ]
     },
     "execution_count": 10,
     "metadata": {},
     "output_type": "execute_result"
    }
   ],
   "source": [
    "# Comprehension: Dos formas de hacerlo...\n",
    "\n",
    "v1 = [1,2,3]\n",
    "v2 = [4,5,6]\n",
    "h=[x1 + x2 for (x1, x2) in zip(v1 , v2)]\n",
    "print(h)\n",
    "print(\"Comprehension\")\n",
    "\n",
    "def op (x1,x2):\n",
    "    return x1 * x2\n",
    "\n",
    "list(map(op, v1,v2))\n",
    "\n"
   ]
  },
  {
   "cell_type": "code",
   "execution_count": 12,
   "id": "6ec92d15",
   "metadata": {},
   "outputs": [
    {
     "data": {
      "text/plain": [
       "32"
      ]
     },
     "execution_count": 12,
     "metadata": {},
     "output_type": "execute_result"
    }
   ],
   "source": [
    "# Usar a Lambda como una función anónima, donde se describen 2 parámetros, luego les decimos que operación ralizar y de donde obternerlos...\n",
    "# Se usa además Comprehension...\n",
    "\n",
    "sum(map(lambda x1, x2: x1 * x2, v1, v2))"
   ]
  },
  {
   "cell_type": "code",
   "execution_count": 21,
   "id": "1b8ae33a",
   "metadata": {},
   "outputs": [
    {
     "name": "stdout",
     "output_type": "stream",
     "text": [
      "[1 2 3]\n",
      "[5 7 9]\n"
     ]
    },
    {
     "data": {
      "text/plain": [
       "array([ 4, 10, 18])"
      ]
     },
     "execution_count": 21,
     "metadata": {},
     "output_type": "execute_result"
    }
   ],
   "source": [
    "import numpy as np\n",
    "\n",
    "v1=np.array([1,2,3])\n",
    "v2=np.array([4,5,6])\n",
    "print(v1)\n",
    "print(v1 + v2)\n",
    "v1 * v2"
   ]
  },
  {
   "cell_type": "code",
   "execution_count": 22,
   "id": "43395114",
   "metadata": {},
   "outputs": [
    {
     "data": {
      "text/plain": [
       "array([[1., 0.],\n",
       "       [0., 1.]])"
      ]
     },
     "execution_count": 22,
     "metadata": {},
     "output_type": "execute_result"
    }
   ],
   "source": [
    "np.identity(2)"
   ]
  },
  {
   "cell_type": "code",
   "execution_count": 11,
   "id": "60af203b",
   "metadata": {},
   "outputs": [
    {
     "name": "stdout",
     "output_type": "stream",
     "text": [
      "Object `np.floor` not found.\n"
     ]
    }
   ],
   "source": [
    "np.floor?"
   ]
  },
  {
   "cell_type": "code",
   "execution_count": 30,
   "id": "026f7c5b",
   "metadata": {},
   "outputs": [],
   "source": [
    "from random import shuffle"
   ]
  },
  {
   "cell_type": "code",
   "execution_count": null,
   "id": "47bf1f63",
   "metadata": {},
   "outputs": [],
   "source": []
  },
  {
   "cell_type": "code",
   "execution_count": 29,
   "id": "28f67552",
   "metadata": {},
   "outputs": [
    {
     "data": {
      "text/plain": [
       "array([-0.05859241, -0.10083216, -0.04006715,  0.10629172, -0.09871486,\n",
       "       -0.0720094 ,  0.02068611, -0.03292546, -0.09665791,  0.02272062,\n",
       "        1.09584676,  0.97646008,  0.97369648,  1.06016979,  0.87532403,\n",
       "        1.01766678,  0.86891538,  1.12015341,  1.08938255,  0.91856619,\n",
       "        2.02765429,  2.04937252,  2.16369038,  2.12283379,  2.14432329,\n",
       "        2.04039395,  1.77443014,  2.00443359,  1.90136201,  1.8773791 ,\n",
       "        2.97206466,  3.00948029,  2.82562603,  3.02858264,  3.10543686,\n",
       "        2.91613603,  2.89548988,  3.10732605,  2.96907348,  2.95820344,\n",
       "        4.13089299,  3.99990386,  3.89389297,  4.12740364,  4.07444849,\n",
       "        3.98592057,  4.02790876,  4.08660526,  4.00414504,  4.12754529,\n",
       "        5.1007493 ,  4.94595944,  4.94533939,  5.0253749 ,  4.88007825,\n",
       "        5.1573421 ,  4.92634731,  5.05743771,  4.96134559,  4.84761294,\n",
       "        6.0459822 ,  6.12054377,  6.00011684,  5.97107107,  5.86127155,\n",
       "        6.0147621 ,  5.95542304,  5.96567988,  5.809373  ,  6.04317513,\n",
       "        6.93570114,  6.90622551,  6.90856515,  6.99637908,  7.18053298,\n",
       "        6.91335205,  6.98464064,  6.77677389,  6.98516572,  7.00795202,\n",
       "        8.13097816,  8.03604398,  8.05163227,  8.08233706,  8.08481866,\n",
       "        8.05882085,  8.05973955,  8.11702883,  8.00736432,  8.15463898,\n",
       "        8.95982325,  9.07123512,  8.90435629,  8.80238689,  9.11723858,\n",
       "        9.01521522,  9.01544394,  9.04406574,  9.12025327,  9.74153741])"
      ]
     },
     "execution_count": 29,
     "metadata": {},
     "output_type": "execute_result"
    }
   ],
   "source": [
    "#Generar datos...\n",
    "# Problema sería encontrar cúmulos o clusters en un conjunto de datos...\n",
    "\n",
    "x = np.floor(np.linspace(0,10,100)) + 0.1* np.random.randn(100)\n",
    "x"
   ]
  },
  {
   "cell_type": "code",
   "execution_count": null,
   "id": "c91c3ea0-c623-4220-9c0f-0cf916ac93ef",
   "metadata": {},
   "outputs": [],
   "source": [
    "a"
   ]
  },
  {
   "cell_type": "code",
   "execution_count": null,
   "id": "51057756-a141-4656-90e2-0725a6af7811",
   "metadata": {},
   "outputs": [],
   "source": [
    "b"
   ]
  },
  {
   "cell_type": "code",
   "execution_count": null,
   "id": "cf75cd9f-5fa7-48af-bb60-cfc356151e90",
   "metadata": {},
   "outputs": [],
   "source": [
    "c"
   ]
  },
  {
   "cell_type": "code",
   "execution_count": 13,
   "id": "ad09ff81-8d70-49b4-ac6a-8cbef6c65976",
   "metadata": {},
   "outputs": [
    {
     "data": {
      "text/plain": [
       "True"
      ]
     },
     "execution_count": 13,
     "metadata": {},
     "output_type": "execute_result"
    }
   ],
   "source": [
    "x = [0, 1, 2, 3, 4, 5, 6, 7, 8, 9, 10]\n",
    "x == list(range(11))"
   ]
  },
  {
   "cell_type": "code",
   "execution_count": 14,
   "id": "82eaa79a-13d1-4e8e-8812-632811cd7ed4",
   "metadata": {},
   "outputs": [
    {
     "name": "stdout",
     "output_type": "stream",
     "text": [
      "[10, 9, 8, 7, 6, 5, 4, 3, 2, 1, 0]\n",
      "[1, 3, 5, 7, 9]\n",
      "False\n"
     ]
    }
   ],
   "source": [
    "x = list(range(11))\n",
    "\n",
    "print(x[::-1])\n",
    "print(x[1:-1:2])\n",
    "print(11 in x)"
   ]
  },
  {
   "cell_type": "code",
   "execution_count": 17,
   "id": "c772b899-2ff2-4f29-87f1-1512b5a29545",
   "metadata": {},
   "outputs": [],
   "source": [
    "x.extend([11, 12, 13])"
   ]
  },
  {
   "cell_type": "code",
   "execution_count": 18,
   "id": "d2b62330-ee50-4c4e-8a7b-a49d75c79001",
   "metadata": {},
   "outputs": [
    {
     "data": {
      "text/plain": [
       "[0, 1, 2, 3, 4, 5, 6, 7, 8, 9, 10, 11, 12, 13]"
      ]
     },
     "execution_count": 18,
     "metadata": {},
     "output_type": "execute_result"
    }
   ],
   "source": [
    "x"
   ]
  },
  {
   "cell_type": "code",
   "execution_count": 19,
   "id": "87e20b53-91ab-486b-be20-c03be281467e",
   "metadata": {},
   "outputs": [],
   "source": [
    "x.append(14)"
   ]
  },
  {
   "cell_type": "code",
   "execution_count": 20,
   "id": "07711510-2ee2-47d2-85b8-33cd72f879fd",
   "metadata": {},
   "outputs": [
    {
     "data": {
      "text/plain": [
       "[0, 1, 2, 3, 4, 5, 6, 7, 8, 9, 10, 11, 12, 13, 14]"
      ]
     },
     "execution_count": 20,
     "metadata": {},
     "output_type": "execute_result"
    }
   ],
   "source": [
    "x"
   ]
  },
  {
   "cell_type": "code",
   "execution_count": 21,
   "id": "4ea23161-2550-449c-8d3a-104e86fbf837",
   "metadata": {},
   "outputs": [],
   "source": [
    "del x[-1]"
   ]
  },
  {
   "cell_type": "code",
   "execution_count": 22,
   "id": "3db398ff-1f9e-4aad-83bb-119cad0d5715",
   "metadata": {},
   "outputs": [
    {
     "data": {
      "text/plain": [
       "[0, 1, 2, 3, 4, 5, 6, 7, 8, 9, 10, 11, 12, 13]"
      ]
     },
     "execution_count": 22,
     "metadata": {},
     "output_type": "execute_result"
    }
   ],
   "source": [
    "x"
   ]
  },
  {
   "cell_type": "code",
   "execution_count": 23,
   "id": "1cfef002-407d-4d1f-b315-4d39629a8227",
   "metadata": {},
   "outputs": [],
   "source": [
    "y = ['a', 'b', 'c', 'd', 'e']"
   ]
  },
  {
   "cell_type": "code",
   "execution_count": null,
   "id": "189af547-adba-40f9-a720-06b2cd3df28e",
   "metadata": {},
   "outputs": [],
   "source": [
    "y[1:3] = ['B', 'C']"
   ]
  },
  {
   "cell_type": "code",
   "execution_count": null,
   "id": "9f4fcc9b-843e-471d-94fd-068bca707ab1",
   "metadata": {},
   "outputs": [],
   "source": [
    "y"
   ]
  },
  {
   "cell_type": "code",
   "execution_count": null,
   "id": "3095414b-6326-4ae6-957a-1d10ffa64589",
   "metadata": {},
   "outputs": [],
   "source": [
    "y[1:3] = ['b', 'c', 'x']"
   ]
  },
  {
   "cell_type": "code",
   "execution_count": null,
   "id": "018b56ee-63a3-49f9-9cb6-0a8c5840cfff",
   "metadata": {},
   "outputs": [],
   "source": [
    "y"
   ]
  },
  {
   "cell_type": "code",
   "execution_count": null,
   "id": "606e891f-2a42-4981-8a39-568efd40a683",
   "metadata": {},
   "outputs": [],
   "source": [
    "y[1:4] = []"
   ]
  },
  {
   "cell_type": "code",
   "execution_count": null,
   "id": "a453fbdf-c2ef-4cf6-b45e-69a96e78eaec",
   "metadata": {},
   "outputs": [],
   "source": [
    "y"
   ]
  },
  {
   "cell_type": "code",
   "execution_count": null,
   "id": "3d93e2ed-2df3-4077-a426-590ce31bfdd3",
   "metadata": {},
   "outputs": [],
   "source": [
    "z = list(range(11))\n",
    "z"
   ]
  },
  {
   "cell_type": "code",
   "execution_count": null,
   "id": "91c29423-07b7-4b04-bdfd-aa9f4f43017a",
   "metadata": {},
   "outputs": [],
   "source": [
    "z[5] = 'Hola'"
   ]
  },
  {
   "cell_type": "code",
   "execution_count": null,
   "id": "eade7de0-b7f3-49a7-9fd6-c4c8a4b7d07d",
   "metadata": {},
   "outputs": [],
   "source": [
    "z"
   ]
  },
  {
   "cell_type": "code",
   "execution_count": null,
   "id": "5055400c-63ea-4008-acf8-8b293d0990c7",
   "metadata": {},
   "outputs": [],
   "source": [
    "z[5] = []"
   ]
  },
  {
   "cell_type": "code",
   "execution_count": null,
   "id": "3a715805-73dd-4078-88fa-6e3badeb5bc5",
   "metadata": {},
   "outputs": [],
   "source": [
    "z"
   ]
  },
  {
   "cell_type": "code",
   "execution_count": null,
   "id": "ad4eebcd-affa-4beb-934a-09f33892688d",
   "metadata": {},
   "outputs": [],
   "source": [
    "w = list(range(11))\n",
    "w"
   ]
  },
  {
   "cell_type": "code",
   "execution_count": null,
   "id": "73f3c070-200f-4674-9d47-7341fcab4949",
   "metadata": {},
   "outputs": [],
   "source": [
    "w[-4:3:-1] = ['a', 'b', 'c', 'd']"
   ]
  },
  {
   "cell_type": "code",
   "execution_count": null,
   "id": "44718219-421d-426a-87fa-6b754200d1c8",
   "metadata": {},
   "outputs": [],
   "source": [
    "w[::2] = []"
   ]
  },
  {
   "cell_type": "code",
   "execution_count": null,
   "id": "778f761a-49c6-4d1e-b0c1-7efc7de7cfe3",
   "metadata": {},
   "outputs": [],
   "source": [
    "w[::2] = [False] * 6"
   ]
  },
  {
   "cell_type": "code",
   "execution_count": null,
   "id": "2a7ad338-1895-4c09-ae97-2394a9cbf30d",
   "metadata": {},
   "outputs": [],
   "source": [
    "w"
   ]
  },
  {
   "cell_type": "code",
   "execution_count": null,
   "id": "823b6101-1e49-4dc4-9de2-737fdd44bc86",
   "metadata": {},
   "outputs": [],
   "source": [
    "w[::2] = [True] * 12"
   ]
  },
  {
   "cell_type": "code",
   "execution_count": null,
   "id": "2a3b227b",
   "metadata": {},
   "outputs": [],
   "source": [
    "# Eliminar los elementos \n",
    "w = list(range(11))\n",
    "for i in reversed(range(0.len(w),2)):\n",
    "    del w[i]\n",
    "    w[i:i+1,2]\n",
    "w"
   ]
  },
  {
   "cell_type": "markdown",
   "id": "0497d773-333b-4bf3-984a-5826496222c8",
   "metadata": {},
   "source": [
    "## Diccionarios\n",
    "\n",
    "Otra colección fundamental de Python, asocia valores con llaves (las cuáles pueden ser cualquier objeto inmutable). Obtener el valor asociado a una llave es **muy** eficiente."
   ]
  },
  {
   "cell_type": "code",
   "execution_count": 34,
   "id": "026b414d-4a73-4635-a083-9e8dd619484f",
   "metadata": {},
   "outputs": [
    {
     "data": {
      "text/plain": [
       "{'x': 1, 'y': 2, 'z': 3}"
      ]
     },
     "execution_count": 34,
     "metadata": {},
     "output_type": "execute_result"
    }
   ],
   "source": [
    "dict((('x', 1),\n",
    "      ('y', 2),\n",
    "      ('z', 3)))"
   ]
  },
  {
   "cell_type": "code",
   "execution_count": 35,
   "id": "6e2abf24-832d-4085-b7e0-3aeca73da7bc",
   "metadata": {},
   "outputs": [
    {
     "data": {
      "text/plain": [
       "{'x': 1, 'y': 2, 'z': 3}"
      ]
     },
     "execution_count": 35,
     "metadata": {},
     "output_type": "execute_result"
    }
   ],
   "source": [
    "{'x': 1, 'y': 2, 'z': 3}"
   ]
  },
  {
   "cell_type": "code",
   "execution_count": 36,
   "id": "5053c420-b81b-4d3a-b2aa-a20a02c5f16a",
   "metadata": {},
   "outputs": [
    {
     "data": {
      "text/plain": [
       "3"
      ]
     },
     "execution_count": 36,
     "metadata": {},
     "output_type": "execute_result"
    }
   ],
   "source": [
    "{'x': 3, 'y': 2, 'z': 1}['x']"
   ]
  },
  {
   "cell_type": "code",
   "execution_count": 37,
   "id": "ac16a242-ce81-4877-95c9-f283c76d5add",
   "metadata": {},
   "outputs": [],
   "source": [
    "foo = {'x': 3, 'y': 2, 'z': 1}"
   ]
  },
  {
   "cell_type": "code",
   "execution_count": 38,
   "id": "730bed56-7c6c-43af-a5b7-3be4f8d82055",
   "metadata": {},
   "outputs": [
    {
     "data": {
      "text/plain": [
       "[3, 2, 1]"
      ]
     },
     "execution_count": 38,
     "metadata": {},
     "output_type": "execute_result"
    }
   ],
   "source": [
    "list(foo.values())"
   ]
  },
  {
   "cell_type": "code",
   "execution_count": 39,
   "id": "75970cfa",
   "metadata": {},
   "outputs": [
    {
     "data": {
      "text/plain": [
       "['x', 'y', 'z']"
      ]
     },
     "execution_count": 39,
     "metadata": {},
     "output_type": "execute_result"
    }
   ],
   "source": [
    "list(foo.keys())"
   ]
  },
  {
   "cell_type": "code",
   "execution_count": 42,
   "id": "337f4208",
   "metadata": {},
   "outputs": [
    {
     "ename": "TypeError",
     "evalue": "'dict' object is not callable",
     "output_type": "error",
     "traceback": [
      "\u001b[1;31m---------------------------------------------------------------------------\u001b[0m",
      "\u001b[1;31mTypeError\u001b[0m                                 Traceback (most recent call last)",
      "\u001b[1;32mc:\\Personal\\Maestría en Ciencia de Datos\\Asignaturas\\03 - Programación\\Libretas v1.1\\02-Python.ipynb Cell 90\u001b[0m line \u001b[0;36m1\n\u001b[1;32m----> <a href='vscode-notebook-cell:/c%3A/Personal/Maestr%C3%ADa%20en%20Ciencia%20de%20Datos/Asignaturas/03%20-%20Programaci%C3%B3n/Libretas%20v1.1/02-Python.ipynb#Y532sZmlsZQ%3D%3D?line=0'>1</a>\u001b[0m foo(\u001b[39m1\u001b[39;49m)\n",
      "\u001b[1;31mTypeError\u001b[0m: 'dict' object is not callable"
     ]
    }
   ],
   "source": [
    "foo.keys\n"
   ]
  },
  {
   "cell_type": "code",
   "execution_count": 40,
   "id": "87369b06",
   "metadata": {},
   "outputs": [
    {
     "data": {
      "text/plain": [
       "[('x', 3), ('y', 2), ('z', 1)]"
      ]
     },
     "execution_count": 40,
     "metadata": {},
     "output_type": "execute_result"
    }
   ],
   "source": [
    "list(foo.items())"
   ]
  },
  {
   "cell_type": "code",
   "execution_count": null,
   "id": "1a38e2d8-8d3b-40c7-b8f3-b34e25d2f7a5",
   "metadata": {},
   "outputs": [],
   "source": [
    "bar = {}\n",
    "bar['m'] = (1, 2)"
   ]
  },
  {
   "cell_type": "code",
   "execution_count": null,
   "id": "cf32f5cf-a296-4449-8d7a-3304ac142acd",
   "metadata": {},
   "outputs": [],
   "source": [
    "val1, val2 = bar['m']"
   ]
  },
  {
   "cell_type": "code",
   "execution_count": null,
   "id": "bde51da3-1765-42bc-8435-c08d187d829f",
   "metadata": {},
   "outputs": [],
   "source": [
    "val1 + val2"
   ]
  },
  {
   "cell_type": "code",
   "execution_count": null,
   "id": "6ba6a7b4-cc95-4033-9382-638f9735d53a",
   "metadata": {},
   "outputs": [],
   "source": [
    "bar['r'] = (5, 2, False, \"Hola mundo\")"
   ]
  },
  {
   "cell_type": "code",
   "execution_count": null,
   "id": "461b62f0-a00c-44f3-83bb-fe4ddc4ea5e6",
   "metadata": {},
   "outputs": [],
   "source": [
    "bar"
   ]
  },
  {
   "cell_type": "code",
   "execution_count": null,
   "id": "a054b2cc-fc6e-4ea7-bc52-8ee392986dd5",
   "metadata": {},
   "outputs": [],
   "source": [
    "import json"
   ]
  },
  {
   "cell_type": "code",
   "execution_count": null,
   "id": "391f2cc4-94c6-4d73-af38-aa747087c128",
   "metadata": {},
   "outputs": [],
   "source": [
    "json?"
   ]
  },
  {
   "cell_type": "code",
   "execution_count": null,
   "id": "36ae9deb-b696-4b21-aae5-a332d3100dae",
   "metadata": {},
   "outputs": [],
   "source": [
    "# Pasar un Diccionario de JSON a Python...\n",
    "json.loads('{\"hola\": 4, \"mundo\": 2.1}')"
   ]
  },
  {
   "cell_type": "code",
   "execution_count": null,
   "id": "577dcb09-2fa8-49b1-a3f1-d420987634ae",
   "metadata": {},
   "outputs": [],
   "source": [
    "{\n",
    "    (1, 2, 3): 4,\n",
    "    'mundo': 2.1,\n",
    "}[1]"
   ]
  },
  {
   "cell_type": "code",
   "execution_count": null,
   "id": "9315f069-df27-44d6-bd5f-d18c0e65d340",
   "metadata": {},
   "outputs": [],
   "source": [
    "# Pasar un Diccionario de Python a JSON... Tiene sus limitaciones ya que los keys de JSON no soportan tuplas, los de Python si...\n",
    "print(json.dumps({\n",
    "    (1, 2, 3): 4,\n",
    "    'mundo': 2.1,\n",
    "}, indent = 4))\n",
    "\n",
    "# Usar indent=None para crear un archivo que ahorra bytes pero no necesariamente se podría leer por humanos..."
   ]
  },
  {
   "cell_type": "code",
   "execution_count": null,
   "id": "0db01959-c073-40cc-b19d-80eafb9873c2",
   "metadata": {},
   "outputs": [],
   "source": [
    "json.loads?"
   ]
  },
  {
   "cell_type": "code",
   "execution_count": null,
   "id": "7e7b43a5-c17f-4555-94c2-184576d0c9a8",
   "metadata": {},
   "outputs": [],
   "source": [
    "words = \"\"\"habia una fuente\n",
    "habia un chorrito\n",
    "se hacía grandote\n",
    "se hacía chiquito\"\"\".split()"
   ]
  },
  {
   "cell_type": "code",
   "execution_count": null,
   "id": "b66739c5-9a74-42be-a29e-c1671426aac4",
   "metadata": {},
   "outputs": [],
   "source": [
    "\"chorrito\" in words"
   ]
  },
  {
   "cell_type": "code",
   "execution_count": null,
   "id": "d2618bdc-0f9e-4023-8220-3ff112b518b0",
   "metadata": {},
   "outputs": [],
   "source": [
    "words"
   ]
  },
  {
   "cell_type": "markdown",
   "id": "29cc127d-3a6c-4270-8666-7736b41dab5a",
   "metadata": {},
   "source": [
    "## Flujos\n",
    "\n",
    "Un flujo (o stream) es *como* secuencia temporalmente ordenada de longitud indefinida, usualmente se limitan a un mismo tipo e elemento.\n",
    "\n",
    "Los flujos no son colecciones, pero en muchas situaciones los usamos como tal.\n",
    "\n",
    "Cada flujo tiene dos extremos: la *fuente* que provee los elementos y el *sumidero* que absorbe los elementos (pensemos en un flujo de agua)."
   ]
  },
  {
   "cell_type": "markdown",
   "id": "d5a274d8-3518-42af-98f6-f0747cdefc58",
   "metadata": {},
   "source": [
    "### Archivos"
   ]
  },
  {
   "cell_type": "markdown",
   "id": "3480d507-cb07-449a-9d46-11e54a784200",
   "metadata": {},
   "source": [
    "Abrimos un libro almacenado como archivo en `assets/dq.txt` en modo `rt` que denota (`r` lectura y `t` texto.\n",
    "\n",
    "Asegúrate de ejecutar las siguientes celdas una vez y en orden de arriba hacia abajo hasta que te encuentres el mensaje **DETENTE**."
   ]
  },
  {
   "cell_type": "code",
   "execution_count": 47,
   "id": "f0b5f6af-6a9d-441d-ac5c-b7c161252b0b",
   "metadata": {},
   "outputs": [],
   "source": [
    "book = open('./assets/dq.txt', 'rt')"
   ]
  },
  {
   "cell_type": "code",
   "execution_count": 2,
   "id": "025d211f-3ffd-4ab6-a50c-49afdc70240b",
   "metadata": {},
   "outputs": [
    {
     "data": {
      "text/plain": [
       "<_io.TextIOWrapper name='./assets/dq.txt' mode='rt' encoding='utf-8'>"
      ]
     },
     "execution_count": 2,
     "metadata": {},
     "output_type": "execute_result"
    }
   ],
   "source": [
    "book"
   ]
  },
  {
   "cell_type": "code",
   "execution_count": 48,
   "id": "80b0c3e2-8b78-4a9e-b8e1-f2100d88b424",
   "metadata": {},
   "outputs": [
    {
     "data": {
      "text/plain": [
       "'\\ufeff'"
      ]
     },
     "execution_count": 48,
     "metadata": {},
     "output_type": "execute_result"
    }
   ],
   "source": [
    "book.read(1)"
   ]
  },
  {
   "cell_type": "code",
   "execution_count": 49,
   "id": "fa7312be-a113-4294-937a-f5127142843d",
   "metadata": {},
   "outputs": [
    {
     "data": {
      "text/plain": [
       "'T'"
      ]
     },
     "execution_count": 49,
     "metadata": {},
     "output_type": "execute_result"
    }
   ],
   "source": [
    "book.read(1)"
   ]
  },
  {
   "cell_type": "code",
   "execution_count": 50,
   "id": "6b2ccb17-d5d2-40e4-a6cf-098a3a00fa87",
   "metadata": {},
   "outputs": [
    {
     "data": {
      "text/plain": [
       "'h'"
      ]
     },
     "execution_count": 50,
     "metadata": {},
     "output_type": "execute_result"
    }
   ],
   "source": [
    "book.read(1)"
   ]
  },
  {
   "cell_type": "code",
   "execution_count": 6,
   "id": "c71c3276-211f-46de-8abd-a7244504e020",
   "metadata": {},
   "outputs": [
    {
     "data": {
      "text/plain": [
       "'e'"
      ]
     },
     "execution_count": 6,
     "metadata": {},
     "output_type": "execute_result"
    }
   ],
   "source": [
    "book.read(1)"
   ]
  },
  {
   "cell_type": "code",
   "execution_count": 51,
   "id": "3f012440-899d-4cc2-8c66-bf35055f00c5",
   "metadata": {},
   "outputs": [
    {
     "data": {
      "text/plain": [
       "'e'"
      ]
     },
     "execution_count": 51,
     "metadata": {},
     "output_type": "execute_result"
    }
   ],
   "source": [
    "book.read(1)"
   ]
  },
  {
   "cell_type": "code",
   "execution_count": 8,
   "id": "bf899643-ba49-4bc3-896f-ab0e7ca4f85a",
   "metadata": {},
   "outputs": [
    {
     "data": {
      "text/plain": [
       "'Project Gutenberg'"
      ]
     },
     "execution_count": 8,
     "metadata": {},
     "output_type": "execute_result"
    }
   ],
   "source": [
    "book.read(17)"
   ]
  },
  {
   "cell_type": "code",
   "execution_count": 9,
   "id": "62e9332d-d7fc-4b09-b243-7fa95b64fe95",
   "metadata": {},
   "outputs": [
    {
     "data": {
      "text/plain": [
       "' eBook of Don Quijote, by Miguel de Cervantes Saavedra\\n\\nThis eBook is for the use of anyone anywhere in the United States and\\nmost other parts of the world at no cost and with almost no restrictions\\nwhatsoever. You may copy it, give it away or re-use it under the terms\\nof the Project Gutenberg License included with this eBook or online at\\nwww.gutenberg.org. If you are not located in the United States, you\\nwill have to check the laws of the country where you are located before\\nusing this eBook.\\n\\nTitle: Don Quijote\\n\\nAuthor: Miguel de Cervantes Saavedra\\n\\nRelease Date: December, 1999 [eBook #2000]\\n[Most recently updated: January 2, 2020]\\n\\nLanguage: Spanish\\n\\nCharacter set encoding: UTF-8\\n\\nProduced by: an anonymous Project Gutenberg volunteer and Joaquin Cuenca Abela\\n\\n*** START OF THE PROJECT GUTENBERG EBOOK DON QUIJOTE ***\\n\\n\\n\\n\\nEl ingenioso hidalgo don Quijote de la Mancha\\n\\n\\n\\npor Miguel de Cervantes Saavedra\\n\\n\\n\\n\\n\\nEl ingenioso hidalgo don Quijote de la Mancha\\n\\n\\n  \\nTasa\\n\\n  \\nTestimonio de las erratas\\n\\n  \\nEl Rey\\n\\n  \\nAl Duque de Béjar\\n\\n  \\nPrólogo\\n\\n  \\nAl libro de don Quijote de la Mancha\\n\\n\\n\\nQue trata de la condición y ejercicio del famoso\\nhidalgo don Quijote de la Mancha\\n\\nQue trata de la primera salida que de su tierra hizo\\nel ingenioso don Quijote\\n\\nDonde se cuenta la graciosa manera que tuvo don\\nQuijote en armarse caballero\\n\\nDe lo que le sucedió a nuestro caballero cuando salió\\nde la venta\\n\\nDonde se prosigue la narración de la desgrac'"
      ]
     },
     "execution_count": 9,
     "metadata": {},
     "output_type": "execute_result"
    }
   ],
   "source": [
    "book.read(1447)"
   ]
  },
  {
   "cell_type": "code",
   "execution_count": 10,
   "id": "582bb076-6036-4b95-b481-6b09f953968b",
   "metadata": {},
   "outputs": [
    {
     "data": {
      "text/plain": [
       "'ia de\\n'"
      ]
     },
     "execution_count": 10,
     "metadata": {},
     "output_type": "execute_result"
    }
   ],
   "source": [
    "book.readline()"
   ]
  },
  {
   "cell_type": "code",
   "execution_count": 11,
   "id": "d8ab63de-174b-417a-8c86-559753a192ea",
   "metadata": {},
   "outputs": [
    {
     "data": {
      "text/plain": [
       "'nuestro caballero\\n'"
      ]
     },
     "execution_count": 11,
     "metadata": {},
     "output_type": "execute_result"
    }
   ],
   "source": [
    "book.readline()"
   ]
  },
  {
   "cell_type": "code",
   "execution_count": 12,
   "id": "b13b1e72-0b94-4332-99c2-7f72e40df5fd",
   "metadata": {},
   "outputs": [
    {
     "data": {
      "text/plain": [
       "'\\n'"
      ]
     },
     "execution_count": 12,
     "metadata": {},
     "output_type": "execute_result"
    }
   ],
   "source": [
    "book.readline()"
   ]
  },
  {
   "cell_type": "code",
   "execution_count": 13,
   "id": "b63e10d8-1ef1-4afa-b4eb-dd5fe579df27",
   "metadata": {},
   "outputs": [
    {
     "name": "stdout",
     "output_type": "stream",
     "text": [
      "Del donoso y grande escrutinio que el cura y el\n",
      "\n"
     ]
    }
   ],
   "source": [
    "print(book.readline())"
   ]
  },
  {
   "cell_type": "code",
   "execution_count": 14,
   "id": "34e57337-1966-4c5e-bea9-3e62b262512c",
   "metadata": {},
   "outputs": [
    {
     "data": {
      "text/plain": [
       "'BARBERO HICIERON EN LA LIBRERÍA DE NUESTRO INGENIOSO HIDALGO\\n'"
      ]
     },
     "execution_count": 14,
     "metadata": {},
     "output_type": "execute_result"
    }
   ],
   "source": [
    "book.readline().upper()"
   ]
  },
  {
   "cell_type": "code",
   "execution_count": 15,
   "id": "da87e827-ea3d-4159-965d-a40d88ef2f79",
   "metadata": {},
   "outputs": [],
   "source": [
    "book.close()"
   ]
  },
  {
   "cell_type": "markdown",
   "id": "de62f626-8c0b-430b-bc59-e0007437843d",
   "metadata": {},
   "source": [
    "**DETENTE**"
   ]
  },
  {
   "cell_type": "markdown",
   "id": "20eafce9-0aa9-417b-8581-b5ebb254afa1",
   "metadata": {},
   "source": [
    "Al final hemos cerrado el archivo con el método `close`, esto le instruye a Python que ya no tenemos intención de leer de este archivo. Intentemos seguir leyendo para ver qué ocurre..."
   ]
  },
  {
   "cell_type": "code",
   "execution_count": 16,
   "id": "2113bb93-b058-4eba-b968-55d5e52df5ab",
   "metadata": {},
   "outputs": [
    {
     "data": {
      "text/plain": [
       "<_io.TextIOWrapper name='./assets/dq.txt' mode='rt' encoding='utf-8'>"
      ]
     },
     "execution_count": 16,
     "metadata": {},
     "output_type": "execute_result"
    }
   ],
   "source": [
    "book"
   ]
  },
  {
   "cell_type": "code",
   "execution_count": 20,
   "id": "941f2853-5b34-44a1-aa18-f0b8a7d4763d",
   "metadata": {},
   "outputs": [
    {
     "ename": "ValueError",
     "evalue": "I/O operation on closed file.",
     "output_type": "error",
     "traceback": [
      "\u001b[1;31m---------------------------------------------------------------------------\u001b[0m",
      "\u001b[1;31mValueError\u001b[0m                                Traceback (most recent call last)",
      "\u001b[1;32mc:\\Personal\\Maestría en Ciencia de Datos\\Asignaturas\\03 - Programación\\Libretas v1.1\\02-Python.ipynb Cell 127\u001b[0m line \u001b[0;36m1\n\u001b[1;32m----> <a href='vscode-notebook-cell:/c%3A/Personal/Maestr%C3%ADa%20en%20Ciencia%20de%20Datos/Asignaturas/03%20-%20Programaci%C3%B3n/Libretas%20v1.1/02-Python.ipynb#Y240sZmlsZQ%3D%3D?line=0'>1</a>\u001b[0m book\u001b[39m.\u001b[39;49mread(\u001b[39m1\u001b[39;49m)\n",
      "\u001b[1;31mValueError\u001b[0m: I/O operation on closed file."
     ]
    }
   ],
   "source": [
    "book.read(1)"
   ]
  },
  {
   "cell_type": "markdown",
   "id": "a7364c08-7f02-4d00-b38f-fa70fa39cbac",
   "metadata": {},
   "source": [
    "Puede resultar algo tedioso tener que recordar cerrar los archivos que hemos abierto.\n",
    "Python tiene un mecanismo que se encarga de esto por nosotros, usando la instrucción `with`.\n",
    "\n",
    "```\n",
    "with open(path, mode) as name:\n",
    "    instrucciones...\n",
    "```\n",
    "\n",
    "La variable `name` puede ser referenciada solo dentro del cuerpo del `with`."
   ]
  },
  {
   "cell_type": "code",
   "execution_count": 46,
   "id": "381039ca-624d-4bef-af20-25c04fa2148e",
   "metadata": {},
   "outputs": [
    {
     "name": "stdout",
     "output_type": "stream",
     "text": [
      "The Project Gutenberg eBook of Don Quijote, by Miguel de Cervantes Saavedra\n",
      "\n",
      "This eBook is for the use of anyone anywhere in the United States and\n",
      "most other parts of the world at no cost and with almost no restrictions\n",
      "whatsoever. You may copy it, give it away or re-use it under the terms\n",
      "of the Project Gutenberg License included with this eBook or online at\n",
      "www.gutenberg.org. If you are not located in the United States, you\n",
      "will have to check the laws of the country where you are located before\n",
      "using this eBook.\n",
      "\n",
      "Title: Don Quijote\n",
      "\n",
      "Author: Miguel de Cervantes Saavedra\n",
      "\n",
      "Release Date: December, 1999 [eBook #2000]\n",
      "[Most recently updated: January 2, 2020]\n",
      "\n",
      "Language: Spanish\n",
      "\n",
      "Character set encoding: UTF-8\n",
      "\n",
      "Produced by: an anonymous Project Gutenberg volunteer and Joaquin Cuenca Abela\n",
      "\n",
      "*** START OF THE PROJECT GUTENBERG EBOOK DON QUIJOTE ***\n",
      "\n",
      "\n",
      "\n",
      "\n",
      "\n"
     ]
    }
   ],
   "source": [
    "with open('./assets/dq.txt', 'rt') as book:\n",
    "    print(book.read(856))"
   ]
  },
  {
   "cell_type": "markdown",
   "id": "61426c03-5e8b-484e-8814-57a2873d417b",
   "metadata": {},
   "source": [
    "Además de leer un archivo, podemos escribir a un archivo.\n",
    "Se pueden utilizar los mecanismos de ayuda e inspección de Python (`help` o `dir`) para averiguar cómo trabajar con la escritura."
   ]
  },
  {
   "cell_type": "markdown",
   "id": "fb42ad8c-baf2-4f8b-bc01-5ee39f28dce7",
   "metadata": {},
   "source": [
    "### Generadores\n",
    "\n",
    "Un generador es un objeto que regresa valores a lo largo de su cómputo. Producen valores únicamente cuando se le solicita.\n",
    "\n",
    "Una definición de función que use `yield` en lugar de `return` crea un nuevo objeto generador cada vez que es invocada. Este generador contiene las vinculaciones y código de la función y permite calcular el siguiente valor usando la función `next`.\n",
    "\n",
    "Podemos definir generadores a partir de otros generadores usando la instrucción `yield from`."
   ]
  },
  {
   "cell_type": "code",
   "execution_count": 83,
   "id": "97b8f84b-60eb-4983-92ba-ebb3115ec013",
   "metadata": {},
   "outputs": [],
   "source": [
    "def frange(start, end, step):\n",
    "    if start < end:\n",
    "        yield start\n",
    "        yield from frange(start + step, end, step)"
   ]
  },
  {
   "cell_type": "code",
   "execution_count": 101,
   "id": "37ab4d16-5258-43cf-b7ff-c80db3810e79",
   "metadata": {},
   "outputs": [],
   "source": [
    "x = frange(0.0, 1.0, 0.1)"
   ]
  },
  {
   "cell_type": "code",
   "execution_count": 102,
   "id": "e21d2bd6-7d3c-4cd3-83e2-d26c98a91a33",
   "metadata": {},
   "outputs": [
    {
     "data": {
      "text/plain": [
       "0.0"
      ]
     },
     "execution_count": 102,
     "metadata": {},
     "output_type": "execute_result"
    }
   ],
   "source": [
    "next(x)"
   ]
  },
  {
   "cell_type": "code",
   "execution_count": 103,
   "id": "bfc0d523-bb9a-40e2-ab62-f0cbba4081dc",
   "metadata": {},
   "outputs": [
    {
     "data": {
      "text/plain": [
       "0.1"
      ]
     },
     "execution_count": 103,
     "metadata": {},
     "output_type": "execute_result"
    }
   ],
   "source": [
    "next(x)"
   ]
  },
  {
   "cell_type": "code",
   "execution_count": 104,
   "id": "47ed216c-fdab-4d54-989f-d22be24ed874",
   "metadata": {},
   "outputs": [
    {
     "data": {
      "text/plain": [
       "0.2"
      ]
     },
     "execution_count": 104,
     "metadata": {},
     "output_type": "execute_result"
    }
   ],
   "source": [
    "next(x)"
   ]
  },
  {
   "cell_type": "code",
   "execution_count": 105,
   "id": "eb1f3018-0dd6-4db2-9c75-5a9252b4d828",
   "metadata": {},
   "outputs": [
    {
     "data": {
      "text/plain": [
       "0.30000000000000004"
      ]
     },
     "execution_count": 105,
     "metadata": {},
     "output_type": "execute_result"
    }
   ],
   "source": [
    "next(x)"
   ]
  },
  {
   "cell_type": "code",
   "execution_count": 106,
   "id": "1694af7c-e136-493a-83e4-58eca9624274",
   "metadata": {},
   "outputs": [
    {
     "data": {
      "text/plain": [
       "0.4"
      ]
     },
     "execution_count": 106,
     "metadata": {},
     "output_type": "execute_result"
    }
   ],
   "source": [
    "next(x)"
   ]
  },
  {
   "cell_type": "code",
   "execution_count": 107,
   "id": "35d77cb4-8dde-4b4e-9d67-ec45bff3d93d",
   "metadata": {},
   "outputs": [
    {
     "data": {
      "text/plain": [
       "0.5"
      ]
     },
     "execution_count": 107,
     "metadata": {},
     "output_type": "execute_result"
    }
   ],
   "source": [
    "next(x)"
   ]
  },
  {
   "cell_type": "code",
   "execution_count": 108,
   "id": "5997646e-0ab6-416c-9220-432ea3b6c8a2",
   "metadata": {},
   "outputs": [
    {
     "data": {
      "text/plain": [
       "0.6"
      ]
     },
     "execution_count": 108,
     "metadata": {},
     "output_type": "execute_result"
    }
   ],
   "source": [
    "next(x)"
   ]
  },
  {
   "cell_type": "code",
   "execution_count": 109,
   "id": "5dda27bd-8f27-413e-9e9a-9ed2ecef9e67",
   "metadata": {},
   "outputs": [
    {
     "data": {
      "text/plain": [
       "0.7"
      ]
     },
     "execution_count": 109,
     "metadata": {},
     "output_type": "execute_result"
    }
   ],
   "source": [
    "next(x)"
   ]
  },
  {
   "cell_type": "code",
   "execution_count": 110,
   "id": "560fc496-550d-4949-b5ec-d680613da242",
   "metadata": {},
   "outputs": [
    {
     "data": {
      "text/plain": [
       "0.7999999999999999"
      ]
     },
     "execution_count": 110,
     "metadata": {},
     "output_type": "execute_result"
    }
   ],
   "source": [
    "next(x)"
   ]
  },
  {
   "cell_type": "code",
   "execution_count": 111,
   "id": "a2bcde95-29eb-46b8-8b05-86e4f35efe38",
   "metadata": {},
   "outputs": [
    {
     "data": {
      "text/plain": [
       "0.8999999999999999"
      ]
     },
     "execution_count": 111,
     "metadata": {},
     "output_type": "execute_result"
    }
   ],
   "source": [
    "next(x, 'se acabó')"
   ]
  },
  {
   "cell_type": "code",
   "execution_count": 112,
   "id": "f4586e82-3dc3-45fa-8af8-4700cb08c7ee",
   "metadata": {},
   "outputs": [
    {
     "data": {
      "text/plain": [
       "0.9999999999999999"
      ]
     },
     "execution_count": 112,
     "metadata": {},
     "output_type": "execute_result"
    }
   ],
   "source": [
    "next(x, 'se acabó')"
   ]
  },
  {
   "cell_type": "code",
   "execution_count": 113,
   "id": "ad71787e-5695-4ede-8b92-d70e38812183",
   "metadata": {},
   "outputs": [
    {
     "data": {
      "text/plain": [
       "'se acabó'"
      ]
     },
     "execution_count": 113,
     "metadata": {},
     "output_type": "execute_result"
    }
   ],
   "source": [
    "next(x, 'se acabó')"
   ]
  },
  {
   "cell_type": "code",
   "execution_count": 114,
   "id": "a057a26b-42ab-4c9b-8f35-79cee2fce7e8",
   "metadata": {},
   "outputs": [
    {
     "data": {
      "text/plain": [
       "'se acabó'"
      ]
     },
     "execution_count": 114,
     "metadata": {},
     "output_type": "execute_result"
    }
   ],
   "source": [
    "next(x, 'se acabó')"
   ]
  },
  {
   "cell_type": "code",
   "execution_count": 117,
   "id": "b2fed503-387d-4a8e-b6a5-4549b4187451",
   "metadata": {},
   "outputs": [
    {
     "data": {
      "text/plain": [
       "'se acabó'"
      ]
     },
     "execution_count": 117,
     "metadata": {},
     "output_type": "execute_result"
    }
   ],
   "source": [
    "next(x, 'se acabó')"
   ]
  },
  {
   "cell_type": "code",
   "execution_count": 116,
   "id": "91bc964e-ab45-4485-a6a9-28aa77d48790",
   "metadata": {},
   "outputs": [
    {
     "ename": "StopIteration",
     "evalue": "",
     "output_type": "error",
     "traceback": [
      "\u001b[1;31m---------------------------------------------------------------------------\u001b[0m",
      "\u001b[1;31mStopIteration\u001b[0m                             Traceback (most recent call last)",
      "\u001b[1;32mc:\\Personal\\Maestría en Ciencia de Datos\\Asignaturas\\03 - Programación\\Libretas v1.1\\02-Python.ipynb Cell 148\u001b[0m line \u001b[0;36m1\n\u001b[1;32m----> <a href='vscode-notebook-cell:/c%3A/Personal/Maestr%C3%ADa%20en%20Ciencia%20de%20Datos/Asignaturas/03%20-%20Programaci%C3%B3n/Libretas%20v1.1/02-Python.ipynb#Y300sZmlsZQ%3D%3D?line=0'>1</a>\u001b[0m \u001b[39mnext\u001b[39;49m(x)\n",
      "\u001b[1;31mStopIteration\u001b[0m: "
     ]
    }
   ],
   "source": [
    "next(x)"
   ]
  },
  {
   "cell_type": "markdown",
   "id": "24a733a9-fc52-4011-9481-7acecb809dcd",
   "metadata": {},
   "source": [
    "# Instrucciones de control\n",
    "\n",
    "Nos permiten controlar el flujo de ejecución de nuestros programas"
   ]
  },
  {
   "cell_type": "markdown",
   "id": "873676cb-a47f-4af5-bfd8-b656eb2d281c",
   "metadata": {},
   "source": [
    "## Instrucciones condicionales\n",
    "\n",
    "Forma general:\n",
    "```\n",
    "if expr:\n",
    "    instr...\n",
    "elif expr:\n",
    "    instr...\n",
    "elif expr:\n",
    "    instr...\n",
    "else:\n",
    "    instr...\n",
    "```"
   ]
  },
  {
   "cell_type": "code",
   "execution_count": null,
   "id": "779c66ea-4286-41b8-9b2f-2c11031b1203",
   "metadata": {},
   "outputs": [],
   "source": [
    "if True:\n",
    "    print(\"si\")"
   ]
  },
  {
   "cell_type": "code",
   "execution_count": null,
   "id": "b636460c-86d2-4491-9816-a4bbb8d69b98",
   "metadata": {},
   "outputs": [],
   "source": [
    "if False:\n",
    "    print(\"no\")"
   ]
  },
  {
   "cell_type": "code",
   "execution_count": null,
   "id": "ef7a96d0-99bc-4a52-9dd1-51cf7cb8efe3",
   "metadata": {},
   "outputs": [],
   "source": [
    "if False:\n",
    "    print(\"no\")\n",
    "else:\n",
    "    print(\"talvez\")"
   ]
  },
  {
   "cell_type": "code",
   "execution_count": null,
   "id": "378f4b09-68d5-48bf-9f68-791c568430fc",
   "metadata": {},
   "outputs": [],
   "source": [
    "x = 5\n",
    "if x < 2:\n",
    "    y = 1\n",
    "elif x < 4:\n",
    "    y = 2\n",
    "elif x < 6:\n",
    "    y = 3\n",
    "else:\n",
    "    y = -1\n",
    "\n",
    "print(y)"
   ]
  },
  {
   "cell_type": "markdown",
   "id": "48e30737-5c3b-459a-b9bd-2a02e67da170",
   "metadata": {},
   "source": [
    "## Loops\n",
    "\n",
    "Forma general:\n",
    "\n",
    "```\n",
    "while expr:\n",
    "    instr...\n",
    "else:\n",
    "    instr...\n",
    "```"
   ]
  },
  {
   "cell_type": "code",
   "execution_count": null,
   "id": "6e4de93f-4c41-41b9-8327-1f4f9e0a30f3",
   "metadata": {},
   "outputs": [],
   "source": [
    "x = 0\n",
    "while x < 10:\n",
    "    print(f\"{x} es menor a 10\")\n",
    "    x += 1"
   ]
  },
  {
   "cell_type": "code",
   "execution_count": null,
   "id": "9401e7f5-5175-4c43-bb03-d55a091e1d68",
   "metadata": {},
   "outputs": [],
   "source": [
    "x = 0\n",
    "while True:\n",
    "    print(f\"{x} es menor a 10\")\n",
    "    x += 1\n",
    "    if x >= 10:\n",
    "        break"
   ]
  },
  {
   "cell_type": "code",
   "execution_count": null,
   "id": "495f340a-60d3-4be6-b047-52c8683ed4c4",
   "metadata": {},
   "outputs": [],
   "source": [
    "x = 0\n",
    "while x < 10:\n",
    "    if (x % 2) == 0:\n",
    "        x += 1\n",
    "        continue\n",
    "    print(f\"{x} es menor a 10\")\n",
    "    x += 1"
   ]
  },
  {
   "cell_type": "code",
   "execution_count": null,
   "id": "7f1e92f2-de82-4f72-b6a3-6967a0af48bd",
   "metadata": {},
   "outputs": [],
   "source": [
    "y = 3.12345\n",
    "print(f\"{y:.02f}\")"
   ]
  },
  {
   "cell_type": "markdown",
   "id": "44fa2220-dc5d-49db-9c42-97e27b4e08a5",
   "metadata": {},
   "source": [
    "## Iteraciones\n",
    "\n",
    "Forma general:\n",
    "\n",
    "```\n",
    "for item in collection:\n",
    "    instr...\n",
    "```"
   ]
  },
  {
   "cell_type": "code",
   "execution_count": 121,
   "id": "6930b76d-40d3-435e-b7f7-2f57e7c06510",
   "metadata": {},
   "outputs": [
    {
     "name": "stdout",
     "output_type": "stream",
     "text": [
      "0 es menor a 10\n",
      "1 es menor a 10\n",
      "2 es menor a 10\n",
      "3 es menor a 10\n",
      "4 es menor a 10\n",
      "5 es menor a 10\n",
      "6 es menor a 10\n",
      "7 es menor a 10\n",
      "8 es menor a 10\n",
      "9 es menor a 10\n"
     ]
    }
   ],
   "source": [
    "for x in range(10):\n",
    "    print(f\"{x} es menor a 10\")"
   ]
  },
  {
   "cell_type": "code",
   "execution_count": 122,
   "id": "9b150a2c-d01b-4666-9b9b-be1c5609f2ee",
   "metadata": {},
   "outputs": [
    {
     "name": "stdout",
     "output_type": "stream",
     "text": [
      "0\n",
      "1\n",
      "2\n",
      "4\n"
     ]
    }
   ],
   "source": [
    "for x in range(10):\n",
    "    if x == 3:\n",
    "        continue\n",
    "    if x == 5:\n",
    "        break\n",
    "    print(x)"
   ]
  },
  {
   "cell_type": "code",
   "execution_count": 123,
   "id": "9cafc902-8f65-4192-a20e-080312904f00",
   "metadata": {},
   "outputs": [],
   "source": [
    "import os"
   ]
  },
  {
   "cell_type": "code",
   "execution_count": 124,
   "id": "0123e3df-5359-4fba-8c84-54ce1b988808",
   "metadata": {},
   "outputs": [
    {
     "data": {
      "text/plain": [
       "'c:\\\\Personal\\\\Maestría en Ciencia de Datos\\\\Asignaturas\\\\03 - Programación\\\\Libretas v1.1'"
      ]
     },
     "execution_count": 124,
     "metadata": {},
     "output_type": "execute_result"
    }
   ],
   "source": [
    "os.getcwd()"
   ]
  },
  {
   "cell_type": "markdown",
   "id": "46b50cf8-2325-480b-be7d-f5c11654c7a0",
   "metadata": {},
   "source": [
    "Veamos como contar la cantidad de palabras en un documento."
   ]
  },
  {
   "cell_type": "code",
   "execution_count": 166,
   "id": "6583849f-f97d-4b34-924e-332e559732fe",
   "metadata": {},
   "outputs": [],
   "source": [
    "from pprint import pprint\n",
    "\n",
    "def dq_wc():\n",
    "    with open('./assets/dq.txt', 'rt', encoding=\"utf-8\") as book: #  with open('./assets/dq.txt', 'rt') as book:\n",
    "        book.read(856)\n",
    "        words = book.read().split()\n",
    "        word_counts = {}\n",
    "        for word in words:\n",
    "            if word in word_counts:\n",
    "                word_counts[word] += 1\n",
    "            else:\n",
    "                word_counts[word] = 1\n",
    "        return word_counts"
   ]
  },
  {
   "cell_type": "code",
   "execution_count": 167,
   "id": "490a9109-cdfd-4b69-9348-93b01d31446e",
   "metadata": {},
   "outputs": [],
   "source": [
    "wc = dq_wc()"
   ]
  },
  {
   "cell_type": "markdown",
   "id": "1042530e-60d5-49fa-abe6-fab94829d89b",
   "metadata": {},
   "source": [
    "Podemos obtener el top 20 palabras más frecuentes"
   ]
  },
  {
   "cell_type": "code",
   "execution_count": 168,
   "id": "c89c2aad-6e3e-44e5-9340-5d63ee69a7c6",
   "metadata": {},
   "outputs": [],
   "source": [
    "top = sorted(wc.items(), reverse=True, key=lambda x: x[1])\n",
    "# Reverse: Ordenar de mayor a menor...\n",
    "# key - Acá como son tuplas, las tuplas se ordenan de acuerdo a un X parámetro.\n",
    "# La función sin nombre lambda se usa entonces para determinar que se ordenará la tupla de acuerdo a su enésimo parámetro..."
   ]
  },
  {
   "cell_type": "code",
   "execution_count": 169,
   "id": "a1a78f31-edb3-467f-9cbd-2bcb048e976d",
   "metadata": {},
   "outputs": [
    {
     "data": {
      "text/plain": [
       "[('que', 19546),\n",
       " ('de', 18132),\n",
       " ('y', 15976),\n",
       " ('la', 10329),\n",
       " ('a', 9627),\n",
       " ('el', 8009),\n",
       " ('en', 7941),\n",
       " ('no', 5620),\n",
       " ('se', 4751),\n",
       " ('los', 4701),\n",
       " ('con', 4119),\n",
       " ('por', 3763),\n",
       " ('las', 3440),\n",
       " ('lo', 3418),\n",
       " ('le', 3405),\n",
       " ('su', 3355),\n",
       " ('—', 2983),\n",
       " ('don', 2597),\n",
       " ('del', 2501),\n",
       " ('me', 2344)]"
      ]
     },
     "execution_count": 169,
     "metadata": {},
     "output_type": "execute_result"
    }
   ],
   "source": [
    "top[:20]"
   ]
  },
  {
   "cell_type": "code",
   "execution_count": 170,
   "id": "2297e288-f0ea-4161-ace6-8760c1faefe7",
   "metadata": {},
   "outputs": [
    {
     "name": "stdout",
     "output_type": "stream",
     "text": [
      "156 ms ± 3.03 ms per loop (mean ± std. dev. of 7 runs, 10 loops each)\n"
     ]
    }
   ],
   "source": [
    "%%timeit\n",
    "wc = dq_wc()\n",
    "top = sorted(wc.items(), reverse=True, key=lambda x: x[1])\n",
    "top[:20]"
   ]
  },
  {
   "cell_type": "markdown",
   "id": "fe0e60bb-4ff0-40d1-84f6-2285cf7c3a4f",
   "metadata": {},
   "source": [
    "Hay formas más simples y eficientes de hacer eso, comparemos el código anterior con las siguientes propuestas:"
   ]
  },
  {
   "cell_type": "code",
   "execution_count": 171,
   "id": "8772b705-4e39-4aa1-a559-bc1bd8b27ad3",
   "metadata": {},
   "outputs": [],
   "source": [
    "from collections import defaultdict\n",
    "\n",
    "def dq_wc():\n",
    "    with open('./assets/dq.txt', 'rt') as book:\n",
    "        book.read(856)\n",
    "        words = book.read().split()\n",
    "        word_counts = defaultdict(int)\n",
    "        for word in words:\n",
    "            word_counts[word] += 1\n",
    "        return word_counts"
   ]
  },
  {
   "cell_type": "code",
   "execution_count": 172,
   "id": "ae076b1d-bb24-4373-8d67-fd1e6e6bde68",
   "metadata": {},
   "outputs": [
    {
     "name": "stdout",
     "output_type": "stream",
     "text": [
      "149 ms ± 3.9 ms per loop (mean ± std. dev. of 7 runs, 10 loops each)\n"
     ]
    }
   ],
   "source": [
    "%%timeit\n",
    "wc = dq_wc()\n",
    "top = sorted(wc.items(), reverse=True, key=lambda x: x[1])\n",
    "top[:20]"
   ]
  },
  {
   "cell_type": "code",
   "execution_count": 175,
   "id": "bf471e8c-728c-4b4e-8164-2b6d4152ba5f",
   "metadata": {},
   "outputs": [],
   "source": [
    "from collections import Counter\n",
    "\n",
    "def dq_wc():\n",
    "    with open('./assets/dq.txt', 'rt') as book:\n",
    "        book.read(856)\n",
    "        return Counter(book.read().split())"
   ]
  },
  {
   "cell_type": "code",
   "execution_count": 177,
   "id": "fb18d799-d7f8-4738-88e8-5c4a1a0d164f",
   "metadata": {},
   "outputs": [
    {
     "name": "stdout",
     "output_type": "stream",
     "text": [
      "220 ms ± 59.2 ms per loop (mean ± std. dev. of 7 runs, 1 loop each)\n"
     ]
    }
   ],
   "source": [
    "%%timeit\n",
    "wc = dq_wc()\n",
    "wc.most_common(20)"
   ]
  },
  {
   "cell_type": "code",
   "execution_count": 178,
   "id": "71bc4d5c-7078-4fb4-83f6-fb649f3b77f3",
   "metadata": {},
   "outputs": [
    {
     "data": {
      "text/plain": [
       "[('que', 19546),\n",
       " ('de', 18132),\n",
       " ('y', 15976),\n",
       " ('la', 10329),\n",
       " ('a', 9627),\n",
       " ('el', 8009),\n",
       " ('en', 7941),\n",
       " ('no', 5620),\n",
       " ('se', 4751),\n",
       " ('los', 4701),\n",
       " ('con', 4119),\n",
       " ('por', 3763),\n",
       " ('las', 3440),\n",
       " ('lo', 3418),\n",
       " ('le', 3405),\n",
       " ('su', 3355),\n",
       " ('—', 2983),\n",
       " ('don', 2597),\n",
       " ('del', 2501),\n",
       " ('me', 2344)]"
      ]
     },
     "execution_count": 178,
     "metadata": {},
     "output_type": "execute_result"
    }
   ],
   "source": [
    "wc = dq_wc()\n",
    "wc.most_common(20)"
   ]
  },
  {
   "cell_type": "markdown",
   "id": "c2f30cba-ffda-4a47-a1c9-131bd7b0a6c0",
   "metadata": {},
   "source": [
    "# Colecciones parte 2"
   ]
  },
  {
   "cell_type": "markdown",
   "id": "dac95ca7-c04a-4b74-86f4-4f1e788c8127",
   "metadata": {},
   "source": [
    "## Comprensiones\n",
    "\n",
    "Una *comprensión* crea un conjunto, lista o diccionario a partir de los resultados de evaluar una expresión por cada elemento en otra colección.\n",
    "\n",
    "Cada tipo de comprensión se escribe dentro de una pareja de caracteres usada para delimitar el tipo correspondiente de colección a calcular: corchetes para listas y llaves para conjuntos y diccionarios."
   ]
  },
  {
   "cell_type": "markdown",
   "id": "0ec3d4e0-7ded-45e8-9794-08d0b8695022",
   "metadata": {},
   "source": [
    "### Comprensiones de lista"
   ]
  },
  {
   "cell_type": "markdown",
   "id": "e55c868e-8646-4bae-bd3c-d192ce8ae4d0",
   "metadata": {},
   "source": [
    "Forma básica:\n",
    "```\n",
    "[expression for item in collection]\n",
    "```\n",
    "\n",
    "Forma condicionada:\n",
    "```\n",
    "[expression for item in collection if condition]\n",
    "```\n",
    "\n",
    "La forma general puede procesar varios `for`."
   ]
  },
  {
   "cell_type": "code",
   "execution_count": 179,
   "id": "8233cb4b-d534-4110-9846-bca2288a9a51",
   "metadata": {},
   "outputs": [],
   "source": [
    "squares = [x * x for x in range(5)]"
   ]
  },
  {
   "cell_type": "code",
   "execution_count": 180,
   "id": "69712622-306a-49ad-9eaa-ec7e6ca8b4a8",
   "metadata": {},
   "outputs": [
    {
     "data": {
      "text/plain": [
       "[0, 1, 4, 9, 16]"
      ]
     },
     "execution_count": 180,
     "metadata": {},
     "output_type": "execute_result"
    }
   ],
   "source": [
    "squares"
   ]
  },
  {
   "cell_type": "code",
   "execution_count": null,
   "id": "42672d8c-5cda-40de-a49e-e426f61ec764",
   "metadata": {},
   "outputs": [],
   "source": [
    "even_numbers = [x for x in range(5) if x % 2 == 0]"
   ]
  },
  {
   "cell_type": "code",
   "execution_count": null,
   "id": "89bd18ec-3bff-44ed-844a-21059fbd5666",
   "metadata": {},
   "outputs": [],
   "source": [
    "even_numbers"
   ]
  },
  {
   "cell_type": "code",
   "execution_count": null,
   "id": "1d4a4861-c4c1-42dc-bbee-0936c40485b0",
   "metadata": {},
   "outputs": [],
   "source": [
    "even_squares = [x * x for x in even_numbers]"
   ]
  },
  {
   "cell_type": "code",
   "execution_count": null,
   "id": "128c995f-fa02-4ee5-8aad-b3d5f498fe01",
   "metadata": {},
   "outputs": [],
   "source": [
    "even_squares"
   ]
  },
  {
   "cell_type": "code",
   "execution_count": null,
   "id": "91621d23-e8d3-45ce-9fea-7b85ac8ca21d",
   "metadata": {},
   "outputs": [],
   "source": [
    "zeros = [0 for _ in range(10)]"
   ]
  },
  {
   "cell_type": "code",
   "execution_count": null,
   "id": "ca4ebec0-3d86-453a-af0e-c007a2bb6caf",
   "metadata": {},
   "outputs": [],
   "source": [
    "zeros"
   ]
  },
  {
   "cell_type": "code",
   "execution_count": null,
   "id": "9709c2b0-f4db-47ea-ae34-1cdcbf5a9285",
   "metadata": {},
   "outputs": [],
   "source": [
    "[0] * 10"
   ]
  },
  {
   "cell_type": "code",
   "execution_count": null,
   "id": "d4939599-1b8d-4114-857e-cc214d2be0b7",
   "metadata": {},
   "outputs": [],
   "source": [
    "pairs = [\n",
    "    (x, y)\n",
    "    for x in range(4)\n",
    "    for y in range(4)\n",
    "]"
   ]
  },
  {
   "cell_type": "code",
   "execution_count": null,
   "id": "c97955c3-4d2e-4886-8984-e1b989d7f507",
   "metadata": {},
   "outputs": [],
   "source": [
    "pairs"
   ]
  },
  {
   "cell_type": "code",
   "execution_count": null,
   "id": "2c535b52-30d0-47ae-91b9-7fe2f47d594c",
   "metadata": {},
   "outputs": [],
   "source": [
    "pairs = [\n",
    "    (x, y)\n",
    "    for (x, y) in zip(range(4), range(4))\n",
    "]"
   ]
  },
  {
   "cell_type": "code",
   "execution_count": null,
   "id": "f4407ddd-c637-4c38-8f78-4714a0e9b5eb",
   "metadata": {},
   "outputs": [],
   "source": [
    "pairs"
   ]
  },
  {
   "cell_type": "code",
   "execution_count": null,
   "id": "8c5b9233-9c5b-42eb-bd1e-c275f031d323",
   "metadata": {},
   "outputs": [],
   "source": [
    "increasing_pairs = [\n",
    "    (x, y)\n",
    "    for x in range(5)\n",
    "    for y in range(x + 1, 5)\n",
    "]"
   ]
  },
  {
   "cell_type": "code",
   "execution_count": null,
   "id": "f66518e2-3b38-4e10-bc77-be142a0f4bdc",
   "metadata": {},
   "outputs": [],
   "source": [
    "increasing_pairs"
   ]
  },
  {
   "cell_type": "markdown",
   "id": "0dfa0b87-68ec-4476-89dc-6f85747f3be6",
   "metadata": {},
   "source": [
    "### Comprensiones de conjuntos\n",
    "\n",
    "Forma básica:\n",
    "```\n",
    "{expression for item in collection}\n",
    "```"
   ]
  },
  {
   "cell_type": "code",
   "execution_count": null,
   "id": "d25788fd-8630-412a-b1c5-397908c9c733",
   "metadata": {},
   "outputs": [],
   "source": [
    "square_set = {x * x for x in [1, -1]}"
   ]
  },
  {
   "cell_type": "code",
   "execution_count": null,
   "id": "745f98c5-7332-4d32-b65c-371ac75259e1",
   "metadata": {},
   "outputs": [],
   "source": [
    "square_set"
   ]
  },
  {
   "cell_type": "markdown",
   "id": "ccc24372-49ba-49ca-95a7-dbe440b1824e",
   "metadata": {},
   "source": [
    "### Comprensiones de diccionarios\n",
    "\n",
    "Forma básica:\n",
    "```\n",
    "{key-expression: value-expression for key, value in collection}\n",
    "```"
   ]
  },
  {
   "cell_type": "code",
   "execution_count": null,
   "id": "91ce0bd1-ac19-402b-a8bd-a30eb8c65dc9",
   "metadata": {},
   "outputs": [],
   "source": [
    "square_dict = {x: x * x for x in range(5)}"
   ]
  },
  {
   "cell_type": "code",
   "execution_count": null,
   "id": "3bc5d35f-a8d6-4b40-b1d1-dad7b5974c1d",
   "metadata": {},
   "outputs": [],
   "source": [
    "square_dict"
   ]
  },
  {
   "cell_type": "markdown",
   "id": "341c98ff-67c5-4a61-89fc-a243a5e729db",
   "metadata": {},
   "source": [
    "### Expresiones generadoras\n",
    "\n",
    "Previamente mencionamos que un generador se puede definir como una función que usa `yield` o `yield from` en lugar de `return`.\n",
    "\n",
    "Una expresión generadora es sintácticamente similar a una comprensión de lista o conjunto, excepto que es rodeada con paréntesis y su valor es un generador.\n",
    "\n",
    "Forma básica:\n",
    "```\n",
    "(expression for item in collection)\n",
    "```"
   ]
  },
  {
   "cell_type": "code",
   "execution_count": null,
   "id": "654a217f-0a3d-49ab-8dc9-9325d12bad4b",
   "metadata": {},
   "outputs": [],
   "source": [
    "g = (x * x for x in range(5))"
   ]
  },
  {
   "cell_type": "code",
   "execution_count": null,
   "id": "666a3fd6-460b-43b0-82a0-fd0469b635c9",
   "metadata": {},
   "outputs": [],
   "source": [
    "g"
   ]
  },
  {
   "cell_type": "code",
   "execution_count": null,
   "id": "e23258cb-5dfd-4d8d-bb7b-10e6abc975f1",
   "metadata": {},
   "outputs": [],
   "source": [
    "next(g)"
   ]
  },
  {
   "cell_type": "code",
   "execution_count": null,
   "id": "37ce6fb4-2c46-4e26-b5b0-782f188c53b6",
   "metadata": {},
   "outputs": [],
   "source": [
    "next(g)"
   ]
  },
  {
   "cell_type": "code",
   "execution_count": null,
   "id": "286e5c2e-952d-4232-9534-5df570e000fb",
   "metadata": {},
   "outputs": [],
   "source": [
    "next(g)"
   ]
  },
  {
   "cell_type": "code",
   "execution_count": null,
   "id": "f920e838-d2f4-4131-a6ab-82b3819e4902",
   "metadata": {},
   "outputs": [],
   "source": [
    "list(g)"
   ]
  },
  {
   "cell_type": "code",
   "execution_count": null,
   "id": "539a0976-0d8b-4d48-8a58-8646656769fb",
   "metadata": {},
   "outputs": [],
   "source": [
    "list((x * x for x in range(5)))"
   ]
  },
  {
   "cell_type": "code",
   "execution_count": null,
   "id": "c14af286-4ebb-4c5a-8ab4-57d23a8c7d42",
   "metadata": {},
   "outputs": [],
   "source": [
    "list(x * x for x in range(5))"
   ]
  },
  {
   "cell_type": "code",
   "execution_count": null,
   "id": "c187fc26-f3d3-4471-b412-0e5b81cf968d",
   "metadata": {},
   "outputs": [],
   "source": [
    "set(x * x for x in range(5))"
   ]
  },
  {
   "cell_type": "code",
   "execution_count": null,
   "id": "d5be3367-1d20-437e-9fd9-1a3dafbd7679",
   "metadata": {},
   "outputs": [],
   "source": [
    "dict(x * x for x in range(5))"
   ]
  },
  {
   "cell_type": "code",
   "execution_count": null,
   "id": "ba1ea1b2-0959-4bfd-a2d9-ab35b1a210d6",
   "metadata": {},
   "outputs": [],
   "source": [
    "{k: v for (k, v) in enumerate(x * x for x in range(5, 10))}"
   ]
  },
  {
   "cell_type": "code",
   "execution_count": null,
   "id": "5c1e9c46-eb56-4908-bc66-6b423d07cab7",
   "metadata": {},
   "outputs": [],
   "source": [
    "sum(x * x for x in range(5))"
   ]
  },
  {
   "cell_type": "markdown",
   "id": "8771af17-5cdb-4154-ba4c-23c66fa6cc8e",
   "metadata": {},
   "source": [
    "## Parámetros funcionales\n",
    "\n",
    "Algúnas funciones y métodos reciben un parámetro opcional `key`.\n",
    "\n",
    "Dos de estas funciones son `min` y `max`. Se espera que el argumento asociado a `key` sea una función que toma a su vez un argumento y regresa un valor a comparar.\n",
    "\n",
    "Ambas funciones regresan un elemento de la colección, pero realizan sus comparaciones a partir del valor que regresa `key`."
   ]
  },
  {
   "cell_type": "code",
   "execution_count": null,
   "id": "a5f76fb7-0521-45c5-b8b0-cc062f9c0ed7",
   "metadata": {},
   "outputs": [],
   "source": [
    "max(range(3, 8))"
   ]
  },
  {
   "cell_type": "code",
   "execution_count": null,
   "id": "be950c3a-4640-444d-9706-b4453140d7d2",
   "metadata": {},
   "outputs": [],
   "source": [
    "max(range(-7, 4))"
   ]
  },
  {
   "cell_type": "code",
   "execution_count": null,
   "id": "b74abf3f-4aa6-435e-ab45-724693114715",
   "metadata": {},
   "outputs": [],
   "source": [
    "max(range(-7, 4), key=abs)"
   ]
  },
  {
   "cell_type": "markdown",
   "id": "1387a973-1742-4cc1-b71f-7cd8cfaff793",
   "metadata": {},
   "source": [
    "Un método que funciona también con un parámetro opcional `key` es `list.sort`."
   ]
  },
  {
   "cell_type": "code",
   "execution_count": null,
   "id": "24132148-f570-4d46-be28-aa6c01928137",
   "metadata": {},
   "outputs": [],
   "source": [
    "list.sort?"
   ]
  },
  {
   "cell_type": "code",
   "execution_count": null,
   "id": "23d0eff5-61db-4bfa-9964-98474fa56281",
   "metadata": {},
   "outputs": [],
   "source": [
    "xs = list(range(-7, 4))\n",
    "xs.sort(key=abs)\n",
    "xs"
   ]
  },
  {
   "cell_type": "code",
   "execution_count": null,
   "id": "b6e88e9a-0829-4bff-818a-11757ac4c8c5",
   "metadata": {},
   "outputs": [],
   "source": [
    "xs = ['A', 'a', 'B', 'b', 'C', 'c', 'D', 'd']\n",
    "\n",
    "xs.sort()\n",
    "print(xs)\n",
    "\n",
    "xs.sort(key=str.lower)\n",
    "print(xs)"
   ]
  },
  {
   "cell_type": "markdown",
   "id": "1dfdb8cb-7554-4f62-aad4-331a92d75df9",
   "metadata": {},
   "source": [
    "El valor del argumento `key` suele ser simplemente un nombre. Sin embargo, es el valor asociado al nombre lo que en verdad se pasa como argumento."
   ]
  },
  {
   "cell_type": "code",
   "execution_count": null,
   "id": "f68eaa54-03fa-413a-85be-c943f9129c31",
   "metadata": {},
   "outputs": [],
   "source": [
    "abs"
   ]
  },
  {
   "cell_type": "code",
   "execution_count": null,
   "id": "6a57653c-58b5-4077-b376-e6045e93b7b4",
   "metadata": {},
   "outputs": [],
   "source": [
    "str.lower"
   ]
  },
  {
   "cell_type": "markdown",
   "id": "9ef93844-f864-4737-befa-bdfd1072c40f",
   "metadata": {},
   "source": [
    "Una función o método puede tener varios nombres. Asociar un nobre con una función no es diferente a asociar un nombre a un objeto existente de cualquier otro tipo"
   ]
  },
  {
   "cell_type": "code",
   "execution_count": null,
   "id": "74657be9-d08a-4165-b338-5f354d61d69f",
   "metadata": {},
   "outputs": [],
   "source": [
    "fn = str.lower"
   ]
  },
  {
   "cell_type": "code",
   "execution_count": null,
   "id": "56a6e0f8-99df-4ec9-8b5f-e0d70de2c1b1",
   "metadata": {},
   "outputs": [],
   "source": [
    "fn('HOLA')"
   ]
  },
  {
   "cell_type": "code",
   "execution_count": null,
   "id": "ee697546-fd27-4b8a-bc99-d2663cc55001",
   "metadata": {},
   "outputs": [],
   "source": [
    "fn = abs"
   ]
  },
  {
   "cell_type": "code",
   "execution_count": null,
   "id": "274d2232-9912-43f1-830f-a04cb8183127",
   "metadata": {},
   "outputs": [],
   "source": [
    "fn(-5)"
   ]
  },
  {
   "cell_type": "markdown",
   "id": "59c128a1-9e02-48b2-86a4-47a194845210",
   "metadata": {},
   "source": [
    "Python provee un tipo de expresión para construir funciones sin usar la instrucción `def`. Son llamadas expresiones lambda:"
   ]
  },
  {
   "cell_type": "code",
   "execution_count": null,
   "id": "7e21a4e8-f5c3-4f37-8018-982d15b03444",
   "metadata": {},
   "outputs": [],
   "source": [
    "def fn(x, y):\n",
    "    return x * x + y * y"
   ]
  },
  {
   "cell_type": "code",
   "execution_count": null,
   "id": "2a945a8c-2d75-4c01-babd-20eb7e60da76",
   "metadata": {},
   "outputs": [],
   "source": [
    "fn(123, 321)"
   ]
  },
  {
   "cell_type": "code",
   "execution_count": null,
   "id": "e7e757f4-c962-4a1e-9623-6b569454793d",
   "metadata": {},
   "outputs": [],
   "source": [
    "fn = lambda x, y: x * x + y * y"
   ]
  },
  {
   "cell_type": "code",
   "execution_count": null,
   "id": "a4018156-d675-43dc-bd04-7badbb924da5",
   "metadata": {},
   "outputs": [],
   "source": [
    "fn(123, 321)"
   ]
  },
  {
   "cell_type": "code",
   "execution_count": null,
   "id": "c50a2496-76f2-435f-b12a-36e344939226",
   "metadata": {},
   "outputs": [],
   "source": [
    "lambda x, y: x * x + y * y"
   ]
  },
  {
   "cell_type": "code",
   "execution_count": null,
   "id": "131ebe98-9d68-4781-a1a0-ebfc98a77fe8",
   "metadata": {},
   "outputs": [],
   "source": [
    "(lambda x, y: x * x + y * y)(123, 321)"
   ]
  },
  {
   "cell_type": "markdown",
   "id": "8df71e3c-2c30-41a9-8613-6e3939893b70",
   "metadata": {},
   "source": [
    "Python incluye dos funciones llamadas `all` y `any`, toman una colección como argumento. La función `all` regresa `True` si *todos* los elementos son verdaderos, mientras que `any` regresa `True` si *algún* elemento es verdadero."
   ]
  },
  {
   "cell_type": "code",
   "execution_count": null,
   "id": "52e05ac9-b98f-4291-858b-e57a0f2a734d",
   "metadata": {},
   "outputs": [],
   "source": [
    "all([1, 2, 3, 4])"
   ]
  },
  {
   "cell_type": "code",
   "execution_count": null,
   "id": "dc7ce55f-2f91-432d-ba5b-8db5ad5fac7e",
   "metadata": {},
   "outputs": [],
   "source": [
    "all([4, 1, 0, 3, 2])"
   ]
  },
  {
   "cell_type": "code",
   "execution_count": null,
   "id": "f1cca0ac-ba1c-44eb-8b70-f45df8e09df3",
   "metadata": {},
   "outputs": [],
   "source": [
    "all([])"
   ]
  },
  {
   "cell_type": "code",
   "execution_count": null,
   "id": "39fdfa95-e975-4ea9-b86f-f0f49b1bd7c9",
   "metadata": {},
   "outputs": [],
   "source": [
    "any([0, '', False, []])"
   ]
  },
  {
   "cell_type": "code",
   "execution_count": null,
   "id": "aa52267e-ec76-466f-9321-b7166a0270f9",
   "metadata": {},
   "outputs": [],
   "source": []
  },
  {
   "cell_type": "code",
   "execution_count": null,
   "id": "6dd8fb45-f25b-4602-9b7a-1e59998a9fc2",
   "metadata": {},
   "outputs": [],
   "source": [
    "any([0, '', 1, False, []])"
   ]
  },
  {
   "cell_type": "code",
   "execution_count": null,
   "id": "5836df39-e906-4ad7-b163-201d9fab2a11",
   "metadata": {},
   "outputs": [],
   "source": [
    "any([])"
   ]
  },
  {
   "cell_type": "markdown",
   "id": "aaa9a98e-4a1e-4a78-8662-dbf50aa1abcd",
   "metadata": {},
   "source": [
    "Estas funciones no reciben parámetro opcional para comparar el valor de verdad:"
   ]
  },
  {
   "cell_type": "code",
   "execution_count": null,
   "id": "b0954b65-bdfc-4aae-8769-fd175f4566ef",
   "metadata": {},
   "outputs": [],
   "source": [
    "all?"
   ]
  },
  {
   "cell_type": "code",
   "execution_count": null,
   "id": "f53cc189-6255-4ebb-b71b-f6c5e47607c8",
   "metadata": {},
   "outputs": [],
   "source": [
    "any?"
   ]
  },
  {
   "cell_type": "markdown",
   "id": "80fb5b39-8bc8-4bf0-bd5b-f5e35ff7be05",
   "metadata": {},
   "source": [
    "Pero podemos definir funciones equivalentes que lo hagan:"
   ]
  },
  {
   "cell_type": "code",
   "execution_count": null,
   "id": "77fe0543-e505-44f3-b381-32a6fbe5f0c5",
   "metadata": {},
   "outputs": [],
   "source": [
    "def some(coll, pred = lambda x: x):\n",
    "    \"\"\"Regresa True si pred(elt) es verdadero para algún elt en coll.\"\"\"\n",
    "    return next((True for elt in coll if pred(elt)), False)"
   ]
  },
  {
   "cell_type": "code",
   "execution_count": null,
   "id": "3943e5aa-cac7-44b8-9da2-49df4e331ee9",
   "metadata": {},
   "outputs": [],
   "source": [
    "def every(coll, pred = lambda x: x):\n",
    "    \"\"\"Regresa True si pred(elt) es verdadero para todo elt en coll.\"\"\"\n",
    "    return all(map(pred, coll))"
   ]
  },
  {
   "cell_type": "code",
   "execution_count": null,
   "id": "ee37a7bd-a6ce-41f8-853d-ddde533fd4f5",
   "metadata": {},
   "outputs": [],
   "source": [
    "every([1, 2, 3, 4])"
   ]
  },
  {
   "cell_type": "code",
   "execution_count": null,
   "id": "0f559f65-1a6d-46fa-8b61-bc554b7ee612",
   "metadata": {},
   "outputs": [],
   "source": [
    "every([4, 1, 0, 3, 2])"
   ]
  },
  {
   "cell_type": "code",
   "execution_count": null,
   "id": "545386f2-09aa-4f29-85b4-fe9f4a5dbf2c",
   "metadata": {},
   "outputs": [],
   "source": [
    "every([])"
   ]
  },
  {
   "cell_type": "code",
   "execution_count": null,
   "id": "63f201a4-e30c-491e-8114-6ad22b3c939f",
   "metadata": {},
   "outputs": [],
   "source": [
    "some([0, '', False, []])"
   ]
  },
  {
   "cell_type": "code",
   "execution_count": null,
   "id": "5342425e-a595-4e88-b503-5b52d0f98d82",
   "metadata": {},
   "outputs": [],
   "source": [
    "some([0, '', 1, False, []])"
   ]
  },
  {
   "cell_type": "code",
   "execution_count": null,
   "id": "dfa4b3ae-6a1c-4c8f-bdfe-1a0ae93a3ac6",
   "metadata": {},
   "outputs": [],
   "source": [
    "some([])"
   ]
  },
  {
   "cell_type": "code",
   "execution_count": null,
   "id": "816071b4-cba0-4234-823b-2acbb6433dff",
   "metadata": {},
   "outputs": [],
   "source": [
    "every([False], pred = str)"
   ]
  },
  {
   "cell_type": "code",
   "execution_count": null,
   "id": "d2ee0aa1-d7ce-44f9-9666-7ead91f7c48d",
   "metadata": {},
   "outputs": [],
   "source": [
    "some(range(0, 5), pred=lambda n: bool(n % 2))"
   ]
  },
  {
   "cell_type": "markdown",
   "id": "78622edb-024b-48c0-a053-fe515c11c215",
   "metadata": {},
   "source": [
    "# Problema\n",
    "\n",
    "Escribe un programa con quién jugar [al gato](https://es.wikipedia.org/wiki/Tres_en_l%C3%ADnea).\n",
    "Puedes representar el estado del juego con una lista con valores que codifican las marcas: 0 para casillas vacías, 1 para las cruces, 2 para los círculos.\n",
    "Puedes recibir la jugada desde el teclado usando `input`."
   ]
  },
  {
   "cell_type": "markdown",
   "id": "d03b0ac7-2b4c-4c47-9875-9ac0f3117010",
   "metadata": {},
   "source": [
    "La siguiente función permite imprimir a pantalla el estado del juego."
   ]
  },
  {
   "cell_type": "code",
   "execution_count": 1,
   "id": "48e6fdf3-7f7c-4d41-be39-d10eae6dee46",
   "metadata": {},
   "outputs": [],
   "source": [
    "state = [0, 0, 0, 0, 0, 0, 1, 0, 1] # Ni es necesario definir esta variable acá... solo para tener en cuenta lo que es...\n",
    "\n",
    "def cell_char(x):\n",
    "    if x == 1:\n",
    "        return \"x\"\n",
    "    if x == 2:\n",
    "        return \"o\"\n",
    "    return \" \"\n",
    "\n",
    "def init_state():\n",
    "    return [0, 0, 0, 0, 0, 0, 0, 0, 0]\n",
    "\n",
    "def  is_final_state(s): # Como hacer esto en una sola línea???\n",
    "    for i in range(len(s)):\n",
    "        if s[i-1] == 0:\n",
    "            return False\n",
    "    return True\n",
    "\n",
    "def print_state(s):\n",
    "    c = [cell_char(x) for x in s]\n",
    "    print(\"    A   B   C  \")\n",
    "    print(\"  ┏━━━┯━━━┯━━━┓\")\n",
    "    print(\"1 ┃ {} │ {} │ {} ┃\".format(c[0], c[1], c[2]))\n",
    "    print(\"  ┠───┼───┼───┨\")\n",
    "    print(\"2 ┃ {} │ {} │ {} ┃\".format(c[3], c[4], c[5]))\n",
    "    print(\"  ┠───┼───┼───┨\")\n",
    "    print(\"3 ┃ {} │ {} │ {} ┃\".format(c[6], c[7], c[8]))\n",
    "    print(\"  ┗━━━┷━━━┷━━━┛\")\n",
    "\n",
    "#is_final_state([0, 1, 1, 1, 1, 1, 1, 1, 1])"
   ]
  },
  {
   "cell_type": "code",
   "execution_count": 2,
   "id": "7d159e6e-e4b2-47d9-a960-0e0a8f6bfc94",
   "metadata": {},
   "outputs": [
    {
     "name": "stdout",
     "output_type": "stream",
     "text": [
      "    A   B   C  \n",
      "  ┏━━━┯━━━┯━━━┓\n",
      "1 ┃ x │ o │   ┃\n",
      "  ┠───┼───┼───┨\n",
      "2 ┃   │   │   ┃\n",
      "  ┠───┼───┼───┨\n",
      "3 ┃   │   │   ┃\n",
      "  ┗━━━┷━━━┷━━━┛\n",
      "    A   B   C  \n",
      "  ┏━━━┯━━━┯━━━┓\n",
      "1 ┃   │   │   ┃\n",
      "  ┠───┼───┼───┨\n",
      "2 ┃   │   │   ┃\n",
      "  ┠───┼───┼───┨\n",
      "3 ┃   │   │   ┃\n",
      "  ┗━━━┷━━━┷━━━┛\n"
     ]
    }
   ],
   "source": [
    "print_state([1, 2, 0, 0, 0, 0, 0, 0, 0])\n",
    "\n",
    "state = init_state()\n",
    "\n",
    "print_state(state)"
   ]
  },
  {
   "cell_type": "code",
   "execution_count": 3,
   "id": "309c0d83",
   "metadata": {},
   "outputs": [],
   "source": [
    "def next_player(p):\n",
    "    return 1 if p == 2 else 2"
   ]
  },
  {
   "cell_type": "markdown",
   "id": "2f05443c-3e3d-4a78-b9ed-929144b4170c",
   "metadata": {},
   "source": [
    "El siguiente fragmento de código puede servir como plantilla para el juego"
   ]
  },
  {
   "cell_type": "code",
   "execution_count": 7,
   "id": "9a6fa8f1-9bd7-4f0a-b508-7252cbb9d366",
   "metadata": {},
   "outputs": [
    {
     "name": "stdout",
     "output_type": "stream",
     "text": [
      "EL GATO™\n",
      "    A   B   C  \n",
      "  ┏━━━┯━━━┯━━━┓\n",
      "1 ┃   │   │   ┃\n",
      "  ┠───┼───┼───┨\n",
      "2 ┃   │   │   ┃\n",
      "  ┠───┼───┼───┨\n",
      "3 ┃   │   │   ┃\n",
      "  ┗━━━┷━━━┷━━━┛\n"
     ]
    },
    {
     "ename": "ValueError",
     "evalue": "invalid literal for int() with base 10: ''",
     "output_type": "error",
     "traceback": [
      "\u001b[1;31m---------------------------------------------------------------------------\u001b[0m",
      "\u001b[1;31mValueError\u001b[0m                                Traceback (most recent call last)",
      "\u001b[1;32mc:\\Personal\\Maestría en Ciencia de Datos\\Asignaturas\\03 - Programación\\Libretas v1.1\\02-Python.ipynb Cell 267\u001b[0m line \u001b[0;36m1\n\u001b[0;32m     <a href='vscode-notebook-cell:/c%3A/Personal/Maestr%C3%ADa%20en%20Ciencia%20de%20Datos/Asignaturas/03%20-%20Programaci%C3%B3n/Libretas%20v1.1/02-Python.ipynb#Y530sZmlsZQ%3D%3D?line=9'>10</a>\u001b[0m         player \u001b[39m=\u001b[39m next_player(player)\n\u001b[0;32m     <a href='vscode-notebook-cell:/c%3A/Personal/Maestr%C3%ADa%20en%20Ciencia%20de%20Datos/Asignaturas/03%20-%20Programaci%C3%B3n/Libretas%20v1.1/02-Python.ipynb#Y530sZmlsZQ%3D%3D?line=10'>11</a>\u001b[0m     report_winner(state)\n\u001b[1;32m---> <a href='vscode-notebook-cell:/c%3A/Personal/Maestr%C3%ADa%20en%20Ciencia%20de%20Datos/Asignaturas/03%20-%20Programaci%C3%B3n/Libretas%20v1.1/02-Python.ipynb#Y530sZmlsZQ%3D%3D?line=12'>13</a>\u001b[0m tic_tac_toe()\n\u001b[0;32m     <a href='vscode-notebook-cell:/c%3A/Personal/Maestr%C3%ADa%20en%20Ciencia%20de%20Datos/Asignaturas/03%20-%20Programaci%C3%B3n/Libretas%20v1.1/02-Python.ipynb#Y530sZmlsZQ%3D%3D?line=14'>15</a>\u001b[0m \u001b[39m# Falta programar algunas funciones...\u001b[39;00m\n",
      "\u001b[1;32mc:\\Personal\\Maestría en Ciencia de Datos\\Asignaturas\\03 - Programación\\Libretas v1.1\\02-Python.ipynb Cell 267\u001b[0m line \u001b[0;36m7\n\u001b[0;32m      <a href='vscode-notebook-cell:/c%3A/Personal/Maestr%C3%ADa%20en%20Ciencia%20de%20Datos/Asignaturas/03%20-%20Programaci%C3%B3n/Libretas%20v1.1/02-Python.ipynb#Y530sZmlsZQ%3D%3D?line=4'>5</a>\u001b[0m \u001b[39mwhile\u001b[39;00m \u001b[39mnot\u001b[39;00m is_final_state(state):\n\u001b[0;32m      <a href='vscode-notebook-cell:/c%3A/Personal/Maestr%C3%ADa%20en%20Ciencia%20de%20Datos/Asignaturas/03%20-%20Programaci%C3%B3n/Libretas%20v1.1/02-Python.ipynb#Y530sZmlsZQ%3D%3D?line=5'>6</a>\u001b[0m     print_state(state)\n\u001b[1;32m----> <a href='vscode-notebook-cell:/c%3A/Personal/Maestr%C3%ADa%20en%20Ciencia%20de%20Datos/Asignaturas/03%20-%20Programaci%C3%B3n/Libretas%20v1.1/02-Python.ipynb#Y530sZmlsZQ%3D%3D?line=6'>7</a>\u001b[0m     m \u001b[39m=\u001b[39m ask_action(state) \u001b[39mif\u001b[39;00m player \u001b[39m==\u001b[39m \u001b[39m1\u001b[39m \u001b[39melse\u001b[39;00m choose_action(state)\n\u001b[0;32m      <a href='vscode-notebook-cell:/c%3A/Personal/Maestr%C3%ADa%20en%20Ciencia%20de%20Datos/Asignaturas/03%20-%20Programaci%C3%B3n/Libretas%20v1.1/02-Python.ipynb#Y530sZmlsZQ%3D%3D?line=7'>8</a>\u001b[0m     s \u001b[39m=\u001b[39m next_state(state, m, player)\n\u001b[0;32m      <a href='vscode-notebook-cell:/c%3A/Personal/Maestr%C3%ADa%20en%20Ciencia%20de%20Datos/Asignaturas/03%20-%20Programaci%C3%B3n/Libretas%20v1.1/02-Python.ipynb#Y530sZmlsZQ%3D%3D?line=8'>9</a>\u001b[0m     actual_winner(state)\n",
      "\u001b[1;32mc:\\Personal\\Maestría en Ciencia de Datos\\Asignaturas\\03 - Programación\\Libretas v1.1\\02-Python.ipynb Cell 267\u001b[0m line \u001b[0;36m3\n\u001b[0;32m      <a href='vscode-notebook-cell:/c%3A/Personal/Maestr%C3%ADa%20en%20Ciencia%20de%20Datos/Asignaturas/03%20-%20Programaci%C3%B3n/Libretas%20v1.1/02-Python.ipynb#Y530sZmlsZQ%3D%3D?line=0'>1</a>\u001b[0m \u001b[39mdef\u001b[39;00m \u001b[39mask_action\u001b[39m(s):\n\u001b[0;32m      <a href='vscode-notebook-cell:/c%3A/Personal/Maestr%C3%ADa%20en%20Ciencia%20de%20Datos/Asignaturas/03%20-%20Programaci%C3%B3n/Libretas%20v1.1/02-Python.ipynb#Y530sZmlsZQ%3D%3D?line=1'>2</a>\u001b[0m     \u001b[39mfor\u001b[39;00m _ \u001b[39min\u001b[39;00m \u001b[39mrange\u001b[39m(\u001b[39m10\u001b[39m):\n\u001b[1;32m----> <a href='vscode-notebook-cell:/c%3A/Personal/Maestr%C3%ADa%20en%20Ciencia%20de%20Datos/Asignaturas/03%20-%20Programaci%C3%B3n/Libretas%20v1.1/02-Python.ipynb#Y530sZmlsZQ%3D%3D?line=2'>3</a>\u001b[0m         move \u001b[39m=\u001b[39m \u001b[39mint\u001b[39;49m(\u001b[39minput\u001b[39;49m(\u001b[39m\"\u001b[39;49m\u001b[39mHaga su jugada: \u001b[39;49m\u001b[39m\"\u001b[39;49m))\n\u001b[0;32m      <a href='vscode-notebook-cell:/c%3A/Personal/Maestr%C3%ADa%20en%20Ciencia%20de%20Datos/Asignaturas/03%20-%20Programaci%C3%B3n/Libretas%20v1.1/02-Python.ipynb#Y530sZmlsZQ%3D%3D?line=3'>4</a>\u001b[0m         \u001b[39mif\u001b[39;00m s[move] \u001b[39m==\u001b[39m \u001b[39m0\u001b[39m:\n\u001b[0;32m      <a href='vscode-notebook-cell:/c%3A/Personal/Maestr%C3%ADa%20en%20Ciencia%20de%20Datos/Asignaturas/03%20-%20Programaci%C3%B3n/Libretas%20v1.1/02-Python.ipynb#Y530sZmlsZQ%3D%3D?line=4'>5</a>\u001b[0m             \u001b[39mreturn\u001b[39;00m move\n",
      "\u001b[1;31mValueError\u001b[0m: invalid literal for int() with base 10: ''"
     ]
    }
   ],
   "source": [
    "def tic_tac_toe():\n",
    "    state = init_state()\n",
    "    print(\"EL GATO™\")\n",
    "    player = 1\n",
    "    while not is_final_state(state):\n",
    "        print_state(state)\n",
    "        m = ask_action(state) if player == 1 else choose_action(state)\n",
    "        s = next_state(state, m, player)\n",
    "        actual_winner(state)\n",
    "        player = next_player(player)\n",
    "    report_winner(state)\n",
    "\n",
    "tic_tac_toe()\n",
    "\n",
    "# Falta programar algunas funciones..."
   ]
  },
  {
   "cell_type": "code",
   "execution_count": 6,
   "id": "63c65d20",
   "metadata": {},
   "outputs": [],
   "source": [
    "def ask_action(s):\n",
    "    for _ in range(10):\n",
    "        move = int(input(\"Haga su jugada: \"))\n",
    "        if s[move] == 0:\n",
    "            return move\n",
    "        print(\"Jugada inválida...\")\n",
    "    print(\"10 intentos y nada... Adios...\")\n",
    "    return -123"
   ]
  },
  {
   "cell_type": "code",
   "execution_count": 5,
   "id": "8c59d9c7",
   "metadata": {},
   "outputs": [
    {
     "name": "stdout",
     "output_type": "stream",
     "text": [
      "Opciones:  [0, 6]\n",
      "Riesgos:  [2, 1]\n"
     ]
    },
    {
     "data": {
      "text/plain": [
       "0"
      ]
     },
     "execution_count": 5,
     "metadata": {},
     "output_type": "execute_result"
    }
   ],
   "source": [
    "# Acá voy a programar la juagada del player PC.\n",
    "\n",
    "def options(s):\n",
    "    optiones = [i for i in range(len(s)) if s[i]== 0]\n",
    "    return optiones\n",
    "\n",
    "\"\"\"\n",
    "Risk Matrix...\n",
    "Ve valores:\n",
    "Horizontal, Vertical, Diagonal1 y  Diagonal2 (en caso del 4).\n",
    "\"\"\"\n",
    "line_matrix={\"0\" : [[1,2] , [3,6], [4,8]],\n",
    "             \"1\" : [[0,2] , [4,7]],\n",
    "             \"2\" : [[0,1] , [5,8], [4,6]],\n",
    "             \"3\" : [[4,5] , [0,6]],\n",
    "             \"4\" : [[3,5] , [1,7], [0,8], [2,6]],\n",
    "             \"5\" : [[3,4] , [2,8]],\n",
    "             \"6\" : [[7,8] , [0,3], [2,4]],\n",
    "             \"7\" : [[6,8] , [1,4]],\n",
    "             \"8\" : [[6,7] , [2,5], [0,4]]}\n",
    "\n",
    "def risk_calc(ops): # Calculará el tamaño del riesgo de no jugar en determinada casilla...\n",
    "    risk_list = []\n",
    "    for op in ops:\n",
    "        # risk = 0\n",
    "        memory_risk = 0\n",
    "        for line in line_matrix[str(op)]:\n",
    "            risk = 0\n",
    "            for neigbor in line:\n",
    "                risk += 1 if state[neigbor] == 1 else 0\n",
    "                memory_risk = risk if risk > memory_risk else memory_risk\n",
    "                # print(\"Opción: {}, Línea: {}, Vecino: {}, Caracter: {} Riesgo: {}, Memoria: {}\".format(op, line, neigbor, cell_char(state[neigbor]), risk, memory_risk))\n",
    "        risk_list.append(memory_risk)\n",
    "    return risk_list\n",
    "\n",
    "\n",
    "def actual_winner(s):\n",
    "    winner = 0\n",
    "    for item in s:\n",
    "        memory1 = 0\n",
    "        memory2 = 0\n",
    "        for line in line_matrix[str(item)]:\n",
    "            score1 = 0\n",
    "            score2 = 0\n",
    "            for neigbor in line:\n",
    "                score1 += 1 if s[neigbor] == 1 else 0\n",
    "                score2 += 1 if s[neigbor] == 1 else 0\n",
    "                memory1 = score1 if score1 > memory1 else memory1\n",
    "                memory2 = score2 if score2 > memory2 else memory2\n",
    "                # print(\"Opción: {}, Línea: {}, Vecino: {}, Caracter: {} Riesgo: {}, Memoria: {}\".format(op, line, neigbor, cell_char(state[neigbor]), risk, memory_risk))\n",
    "        #risk_list.append(memory_risk)\n",
    "        if memory1 == 3:\n",
    "            for item in state:\n",
    "                if item == 0:\n",
    "                    item = 3\n",
    "            return 1\n",
    "        elif memory2 == 3:\n",
    "            for item in state:\n",
    "                if item == 0:\n",
    "                    item = 3\n",
    "            return 2\n",
    "    return 0\n",
    "\n",
    "def report_winner(s):\n",
    "    print(\"El Ganador es: \", actual_winner(s))\n",
    "\n",
    "\n",
    "def choose_action(s):\n",
    "    op_list = options(s)\n",
    "    rsk_list = risk_calc(op_list)\n",
    "    \n",
    "    cumul_risk = 0\n",
    "    big_risk_op = 0\n",
    "    \n",
    "    for ch_op in range(len(op_list)):\n",
    "        if rsk_list[ch_op] >= cumul_risk:\n",
    "            big_risk_op = ch_op\n",
    "            cumul_risk = rsk_list[ch_op]\n",
    "    return big_risk_op\n",
    "\n",
    "def next_state(s, m, player):\n",
    "    s[m] = player\n",
    "    print_state(s)\n",
    "    return s\n",
    "\n",
    "#choose_action(state)\n",
    "state = [0, 1, 1, 1, 2, 2, 0, 2, 1]\n",
    "print(\"Opciones: \", options(state))\n",
    "print(\"Riesgos: \", risk_calc(options(state)))\n",
    "choose_action(state)"
   ]
  }
 ],
 "metadata": {
  "kernelspec": {
   "display_name": "Python 3 (ipykernel)",
   "language": "python",
   "name": "python3"
  },
  "language_info": {
   "codemirror_mode": {
    "name": "ipython",
    "version": 3
   },
   "file_extension": ".py",
   "mimetype": "text/x-python",
   "name": "python",
   "nbconvert_exporter": "python",
   "pygments_lexer": "ipython3",
   "version": "3.11.3"
  }
 },
 "nbformat": 4,
 "nbformat_minor": 5
}
