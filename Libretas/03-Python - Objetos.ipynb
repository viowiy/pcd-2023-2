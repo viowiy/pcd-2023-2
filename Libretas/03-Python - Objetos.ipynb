{
 "cells": [
  {
   "cell_type": "code",
   "execution_count": 186,
   "metadata": {},
   "outputs": [],
   "source": [
    "import numpy as np\n",
    "import time\n",
    "import random\n",
    "import math"
   ]
  },
  {
   "cell_type": "code",
   "execution_count": 187,
   "metadata": {},
   "outputs": [],
   "source": [
    "people = [('Seymour', 'BOS'),\n",
    "          ('Franny', 'DAL'),\n",
    "          ('Zooey', 'CAK'),\n",
    "          ('Walt', 'MIA'),\n",
    "          ('Buddy', 'ORD'),\n",
    "          ('Les', 'OMA')]"
   ]
  },
  {
   "cell_type": "code",
   "execution_count": 188,
   "metadata": {},
   "outputs": [],
   "source": [
    "destination = 'LGA'"
   ]
  },
  {
   "cell_type": "code",
   "execution_count": 189,
   "metadata": {},
   "outputs": [],
   "source": [
    "def load_airports(path):\n",
    "    airports = {}\n",
    "    with open(path) as f:\n",
    "        f.readline()\n",
    "        for line in f:\n",
    "            cols = line.strip().split(',')\n",
    "            iata = cols[9]\n",
    "            name = cols[2]\n",
    "            region = cols[6]\n",
    "            municipality = cols[7]\n",
    "            airports[iata] = (\n",
    "                name,\n",
    "                region,\n",
    "                municipality\n",
    "            )\n",
    "    return airports"
   ]
  },
  {
   "cell_type": "code",
   "execution_count": 190,
   "metadata": {},
   "outputs": [],
   "source": [
    "airports = load_airports('assets/airport-codes.txt')"
   ]
  },
  {
   "cell_type": "code",
   "execution_count": 191,
   "metadata": {},
   "outputs": [
    {
     "name": "stdout",
     "output_type": "stream",
     "text": [
      "* Seymour parte de “General Edward Lawrence Logan International Airport” en Boston y viaja hasta “La Guardia Airport” en New York\n",
      "* Franny parte de “Dallas Love Field” en Dallas y viaja hasta “La Guardia Airport” en New York\n",
      "* Zooey parte de “Akron Canton Regional Airport” en Akron y viaja hasta “La Guardia Airport” en New York\n",
      "* Walt parte de “Miami International Airport” en Miami y viaja hasta “La Guardia Airport” en New York\n",
      "* Buddy parte de “Chicago O'Hare International Airport” en Chicago y viaja hasta “La Guardia Airport” en New York\n",
      "* Les parte de “Eppley Airfield” en Omaha y viaja hasta “La Guardia Airport” en New York\n"
     ]
    }
   ],
   "source": [
    "# Veamos una descripción del viaje de ida de cada miembro de la familia\n",
    "\n",
    "for name, iata in people:\n",
    "    print(f\"\\\n",
    "* {name} parte de \\\n",
    "“{airports[iata][0]}” en {airports[iata][2]} \\\n",
    "y viaja hasta \\\n",
    "“{airports[destination][0]}” en {airports[destination][2]}\\\n",
    "\")"
   ]
  },
  {
   "cell_type": "code",
   "execution_count": 192,
   "metadata": {},
   "outputs": [],
   "source": [
    "def load_flights(path):\n",
    "    flights = {}\n",
    "    with open(path) as f:\n",
    "        for line in f:\n",
    "            origin, dest, t_depart, t_arrive, price = line.strip().split(',')\n",
    "            flights.setdefault((origin, dest), [])\n",
    "            flights[(origin, dest)].append((t_depart, t_arrive, int(price)))\n",
    "    return flights"
   ]
  },
  {
   "cell_type": "code",
   "execution_count": 193,
   "metadata": {},
   "outputs": [],
   "source": [
    "flights = load_flights('assets/schedule.txt')"
   ]
  },
  {
   "cell_type": "code",
   "execution_count": 194,
   "metadata": {},
   "outputs": [
    {
     "data": {
      "text/plain": [
       "{('LGA', 'OMA'): [('6:19', '8:13', 239),\n",
       "  ('8:04', '10:59', 136),\n",
       "  ('9:31', '11:43', 210),\n",
       "  ('11:07', '13:24', 171),\n",
       "  ('12:31', '14:02', 234),\n",
       "  ('14:05', '15:47', 226),\n",
       "  ('15:07', '17:21', 129),\n",
       "  ('16:35', '18:56', 144),\n",
       "  ('18:25', '20:34', 205),\n",
       "  ('20:05', '21:44', 172)],\n",
       " ('OMA', 'LGA'): [('6:11', '8:31', 249),\n",
       "  ('7:39', '10:24', 219),\n",
       "  ('9:15', '12:03', 99),\n",
       "  ('11:08', '13:07', 175),\n",
       "  ('12:18', '14:56', 172),\n",
       "  ('13:37', '15:08', 250),\n",
       "  ('15:03', '16:42', 135),\n",
       "  ('16:51', '19:09', 147),\n",
       "  ('18:12', '20:17', 242),\n",
       "  ('20:05', '22:06', 261)],\n",
       " ('LGA', 'ORD'): [('6:03', '8:43', 219),\n",
       "  ('7:50', '10:08', 164),\n",
       "  ('9:11', '10:42', 172),\n",
       "  ('10:33', '13:11', 132),\n",
       "  ('12:08', '14:47', 231),\n",
       "  ('14:19', '17:09', 190),\n",
       "  ('15:04', '17:23', 189),\n",
       "  ('17:06', '20:00', 95),\n",
       "  ('18:33', '20:22', 143),\n",
       "  ('19:32', '21:25', 160)],\n",
       " ('ORD', 'LGA'): [('6:05', '8:32', 174),\n",
       "  ('8:25', '10:34', 157),\n",
       "  ('9:42', '11:32', 169),\n",
       "  ('11:01', '12:39', 260),\n",
       "  ('12:44', '14:17', 134),\n",
       "  ('14:22', '16:32', 126),\n",
       "  ('15:58', '18:40', 173),\n",
       "  ('16:43', '19:00', 246),\n",
       "  ('18:48', '21:45', 246),\n",
       "  ('19:50', '22:24', 269)],\n",
       " ('LGA', 'MIA'): [('6:33', '9:14', 172),\n",
       "  ('8:23', '11:07', 143),\n",
       "  ('9:25', '12:46', 295),\n",
       "  ('11:08', '14:38', 262),\n",
       "  ('12:37', '15:05', 170),\n",
       "  ('14:08', '16:09', 232),\n",
       "  ('15:23', '18:49', 150),\n",
       "  ('16:50', '19:26', 304),\n",
       "  ('18:07', '21:30', 355),\n",
       "  ('20:27', '23:42', 169)],\n",
       " ('MIA', 'LGA'): [('6:25', '9:30', 335),\n",
       "  ('7:34', '9:40', 324),\n",
       "  ('9:15', '12:29', 225),\n",
       "  ('11:28', '14:40', 248),\n",
       "  ('12:05', '15:30', 330),\n",
       "  ('14:01', '17:24', 338),\n",
       "  ('15:34', '18:11', 326),\n",
       "  ('17:07', '20:04', 291),\n",
       "  ('18:23', '21:35', 134),\n",
       "  ('19:53', '22:21', 173)],\n",
       " ('LGA', 'BOS'): [('6:39', '8:09', 86),\n",
       "  ('8:23', '10:28', 149),\n",
       "  ('9:58', '11:18', 130),\n",
       "  ('10:33', '12:03', 74),\n",
       "  ('12:08', '14:05', 142),\n",
       "  ('13:39', '15:30', 74),\n",
       "  ('15:25', '16:58', 62),\n",
       "  ('17:03', '18:03', 103),\n",
       "  ('18:24', '20:49', 124),\n",
       "  ('19:58', '21:23', 142)],\n",
       " ('BOS', 'LGA'): [('6:17', '8:26', 89),\n",
       "  ('8:04', '10:11', 95),\n",
       "  ('9:45', '11:50', 172),\n",
       "  ('11:16', '13:29', 83),\n",
       "  ('12:34', '15:02', 109),\n",
       "  ('13:40', '15:37', 138),\n",
       "  ('15:27', '17:18', 151),\n",
       "  ('17:11', '18:30', 108),\n",
       "  ('18:34', '19:36', 136),\n",
       "  ('20:17', '22:22', 102)],\n",
       " ('LGA', 'DAL'): [('6:09', '9:49', 414),\n",
       "  ('7:57', '11:15', 347),\n",
       "  ('9:49', '13:51', 229),\n",
       "  ('10:51', '14:16', 256),\n",
       "  ('12:20', '16:34', 500),\n",
       "  ('14:20', '17:32', 332),\n",
       "  ('15:49', '20:10', 497),\n",
       "  ('17:14', '20:59', 277),\n",
       "  ('18:44', '22:42', 351),\n",
       "  ('19:57', '23:15', 512)],\n",
       " ('DAL', 'LGA'): [('6:12', '10:22', 230),\n",
       "  ('7:53', '11:37', 433),\n",
       "  ('9:08', '12:12', 364),\n",
       "  ('10:30', '14:57', 290),\n",
       "  ('12:19', '15:25', 342),\n",
       "  ('13:54', '18:02', 294),\n",
       "  ('15:44', '18:55', 382),\n",
       "  ('16:52', '20:48', 448),\n",
       "  ('18:26', '21:29', 464),\n",
       "  ('20:07', '23:27', 473)],\n",
       " ('LGA', 'CAK'): [('6:58', '9:01', 238),\n",
       "  ('8:19', '11:16', 122),\n",
       "  ('9:58', '12:56', 249),\n",
       "  ('10:32', '13:16', 139),\n",
       "  ('12:01', '13:41', 267),\n",
       "  ('13:37', '15:33', 142),\n",
       "  ('15:50', '18:45', 243),\n",
       "  ('16:33', '18:15', 253),\n",
       "  ('18:17', '21:04', 259),\n",
       "  ('19:46', '21:45', 214)],\n",
       " ('CAK', 'LGA'): [('6:08', '8:06', 224),\n",
       "  ('8:27', '10:45', 139),\n",
       "  ('9:15', '12:14', 247),\n",
       "  ('10:53', '13:36', 189),\n",
       "  ('12:08', '14:59', 149),\n",
       "  ('13:40', '15:38', 137),\n",
       "  ('15:23', '17:25', 232),\n",
       "  ('17:08', '19:08', 262),\n",
       "  ('18:35', '20:28', 204),\n",
       "  ('20:30', '23:11', 114)]}"
      ]
     },
     "execution_count": 194,
     "metadata": {},
     "output_type": "execute_result"
    }
   ],
   "source": [
    "type(flights)\n",
    "flights"
   ]
  },
  {
   "cell_type": "code",
   "execution_count": 195,
   "metadata": {},
   "outputs": [
    {
     "data": {
      "text/plain": [
       "[('6:17', '8:26', 89),\n",
       " ('8:04', '10:11', 95),\n",
       " ('9:45', '11:50', 172),\n",
       " ('11:16', '13:29', 83),\n",
       " ('12:34', '15:02', 109),\n",
       " ('13:40', '15:37', 138),\n",
       " ('15:27', '17:18', 151),\n",
       " ('17:11', '18:30', 108),\n",
       " ('18:34', '19:36', 136),\n",
       " ('20:17', '22:22', 102)]"
      ]
     },
     "execution_count": 195,
     "metadata": {},
     "output_type": "execute_result"
    }
   ],
   "source": [
    "# Podemos consultar los posibles vuelos de ida para un miembro de la familia (en este ejemplo el primero en la lista, que es Seymour) de la siguiente forma:\n",
    "\n",
    "flights[(\n",
    "    people[0][1],\n",
    "    destination,\n",
    ")]"
   ]
  },
  {
   "cell_type": "code",
   "execution_count": 196,
   "metadata": {},
   "outputs": [],
   "source": [
    "def get_minutes(t):\n",
    "    x = time.strptime(t, '%H:%M')\n",
    "    h = x.tm_hour\n",
    "    m = x.tm_min\n",
    "    return 60 * h + m"
   ]
  },
  {
   "cell_type": "code",
   "execution_count": 197,
   "metadata": {},
   "outputs": [],
   "source": [
    "def print_schedule(s):\n",
    "    for i in range(len(s) // 2):\n",
    "        name = people[i][0]\n",
    "        origin = people[i][1]\n",
    "        out = flights[(origin,destination)][s[2*i]]\n",
    "        ret = flights[(destination,origin)][s[2*i+1]]\n",
    "        print('%10s%10s %5s-%5s $%3s %5s-%5s $%3s' % (\n",
    "            name,\n",
    "            airports[people[i][1]][2],\n",
    "            out[0],out[1],out[2],\n",
    "            ret[0],ret[1],ret[2],\n",
    "        ))"
   ]
  },
  {
   "cell_type": "code",
   "execution_count": 198,
   "metadata": {},
   "outputs": [
    {
     "name": "stdout",
     "output_type": "stream",
     "text": [
      "[1, 6, 7, 1, 5, 6, 2, 4, 9, 5, 8, 2]\n",
      "   Seymour    Boston  8:04-10:11 $ 95 15:25-16:58 $ 62\n",
      "    Franny    Dallas 16:52-20:48 $448  7:57-11:15 $347\n",
      "     Zooey     Akron 13:40-15:38 $137 15:50-18:45 $243\n",
      "      Walt     Miami  9:15-12:29 $225 12:37-15:05 $170\n",
      "     Buddy   Chicago 19:50-22:24 $269 14:19-17:09 $190\n",
      "       Les     Omaha 18:12-20:17 $242  9:31-11:43 $210\n"
     ]
    }
   ],
   "source": [
    "# Soluición aleatoria / Vimos 2 métodos para esto en la clase... usaremos el 2do... que genera la solución a partir de un dominio ya creado...\n",
    "import random\n",
    "\n",
    "\n",
    "def random_sol():\n",
    "    solution_r=[]\n",
    "    for i in range(len(people)):\n",
    "        opciones_ida = flights[(people[i][1], \"LGA\")]\n",
    "        opciones_regreso = flights[(\"LGA\",people[i][1])]\n",
    "        \n",
    "        ida = random.randint(0, len(opciones_ida) - 1)\n",
    "        regreso = random.randint(0, len(opciones_regreso) - 1)\n",
    "        \n",
    "        solution_r.append(ida)\n",
    "        solution_r.append(regreso)\n",
    "    \n",
    "    return solution_r\n",
    "\n",
    "a = random_sol()\n",
    "\n",
    "print(a)\n",
    "\n",
    "print_schedule(a)"
   ]
  },
  {
   "cell_type": "code",
   "execution_count": 199,
   "metadata": {},
   "outputs": [],
   "source": [
    "a = random_sol()"
   ]
  },
  {
   "cell_type": "code",
   "execution_count": 200,
   "metadata": {},
   "outputs": [],
   "source": [
    "def schedule_cost(s):\n",
    "    # contamos el precio total de cada vuelo (ida y regreso)\n",
    "    total_price = 0\n",
    "    \n",
    "    # nos interesa conocer el tiempo de llegada a NY mas tarde\n",
    "    # y el tiempo de salida de NY mas temprano.\n",
    "    latest_arrival = 0\n",
    "    earliest_departure = 24 * 60\n",
    "    \n",
    "    for i in range(len(s) // 2):\n",
    "        origin = people[i][1]\n",
    "        out_flight = flights[(origin, destination)][s[2*i]]\n",
    "        ret_flight = flights[(destination, origin)][s[2*i+1]]\n",
    "        \n",
    "        total_price += out_flight[2] # vuelo de ida\n",
    "        total_price += ret_flight[2] # vuelo de regreso\n",
    "        \n",
    "        # tiempo de llegada máximo\n",
    "        # tiempo de salida mínimo\n",
    "        if latest_arrival < get_minutes(out_flight[1]):\n",
    "            latest_arrival = get_minutes(out_flight[1])\n",
    "        if earliest_departure > get_minutes(ret_flight[0]):\n",
    "            earliest_departure = get_minutes(ret_flight[0])\n",
    "    \n",
    "    # contamos el tiempo de espera de cada persona\n",
    "    total_wait = 0\n",
    "    \n",
    "    for i in range(len(s) // 2):\n",
    "        origin = people[i][1]\n",
    "        out_flight = flights[(origin, destination)][s[2*i]]\n",
    "        ret_flight = flights[(destination, origin)][s[2*i+1]]\n",
    "        \n",
    "        # todos esperan al último familiar en llegar\n",
    "        total_wait += latest_arrival - get_minutes(out_flight[1])\n",
    "        \n",
    "        # todos llegan al aeropuerto al mismo tiempo y esperan su vuelo\n",
    "        total_wait += get_minutes(ret_flight[0]) - earliest_departure\n",
    "        \n",
    "        # si el último en llegar a NY llega después del primero en\n",
    "        # irse de NY se paga un día más de la renta del carro.\n",
    "        # el costo de la renta por un día es independiente de la\n",
    "        # solución.\n",
    "        if latest_arrival > earliest_departure:\n",
    "            total_price += 50\n",
    "    \n",
    "    # El costo total es el precio total de los vuelos y el tiempo de\n",
    "    # espera total de las personas.\n",
    "    # Buscamos soluciones con un bajo costo.\n",
    "    return total_price + total_wait # Quizás dándole más peso a la espera y no al precio la solución sea más idonea... total_wait * 2..."
   ]
  },
  {
   "cell_type": "code",
   "execution_count": 201,
   "metadata": {},
   "outputs": [
    {
     "name": "stdout",
     "output_type": "stream",
     "text": [
      "Hay 6 personas en la familia:\n",
      "- Seymour parte de Boston, tiene 10 opciones de salida y 10 opciones de regreso;\n",
      "- Franny parte de Dallas, tiene 10 opciones de salida y 10 opciones de regreso;\n",
      "- Zooey parte de Akron, tiene 10 opciones de salida y 10 opciones de regreso;\n",
      "- Walt parte de Miami, tiene 10 opciones de salida y 10 opciones de regreso;\n",
      "- Buddy parte de Chicago, tiene 10 opciones de salida y 10 opciones de regreso;\n",
      "- Les parte de Omaha, tiene 10 opciones de salida y 10 opciones de regreso;\n",
      "Por lo que hay un total de 1000000000000 posibles soluciones que analizar!\n",
      "\n",
      "\n",
      "¡Caracoles! esas son muchas soluciones\n"
     ]
    }
   ],
   "source": [
    "print(f\"Hay {len(people)} personas en la familia:\")\n",
    "total_solutions = 1\n",
    "for p in people:\n",
    "    name = p[0]\n",
    "    origin = airports[p[1]][2]\n",
    "    outs = len(flights[(p[1],destination)])\n",
    "    rets = len(flights[(destination,p[1])])\n",
    "    total_solutions *= outs\n",
    "    total_solutions *= rets\n",
    "    print(f\"- {name} parte de {origin}, tiene {outs} opciones de salida y {rets} opciones de regreso;\")\n",
    "print(f\"Por lo que hay un total de {total_solutions} posibles soluciones que analizar!\\n\\n\")\n",
    "\n",
    "if total_solutions > 1e9:\n",
    "    print(\"¡Caracoles! esas son muchas soluciones\")\n",
    "else:\n",
    "    print(\"Está facilito encontrar la mejor\")"
   ]
  },
  {
   "cell_type": "code",
   "execution_count": 202,
   "metadata": {},
   "outputs": [],
   "source": [
    "dom = [(0,9)]*12\n",
    "dom\n",
    "\n",
    "# O de esta forma:\n",
    "\n",
    "domain = [(0,9)] * len(people) * 2"
   ]
  },
  {
   "cell_type": "code",
   "execution_count": 203,
   "metadata": {},
   "outputs": [
    {
     "data": {
      "text/plain": [
       "[7, 7, 7, 9, 9, 8, 2, 4, 1, 6, 4, 0]"
      ]
     },
     "execution_count": 203,
     "metadata": {},
     "output_type": "execute_result"
    }
   ],
   "source": [
    "def random_solution(domain):\n",
    "    return [\n",
    "        random.randint(r[0], r[1])\n",
    "        for r in domain\n",
    "    ]\n",
    "\n",
    "random_solution(dom)\n",
    "\n",
    "# schedule_cost(random_solution(dom))"
   ]
  },
  {
   "cell_type": "code",
   "execution_count": 204,
   "metadata": {},
   "outputs": [],
   "source": [
    "# Encontrar aleatoreamente una solución...\n",
    "def solve_randomly(domain, cost_of, repeats = 1000):\n",
    "    best_cost = float('inf')\n",
    "    best_sol = None\n",
    "    \n",
    "    for _ in range(repeats):\n",
    "        s = random_solution(domain)\n",
    "        c = cost_of(s)\n",
    "        if c < best_cost:\n",
    "            best_cost = c\n",
    "            best_sol = s\n",
    "    \n",
    "    return best_sol"
   ]
  },
  {
   "cell_type": "code",
   "execution_count": 205,
   "metadata": {},
   "outputs": [
    {
     "name": "stdout",
     "output_type": "stream",
     "text": [
      "   Seymour    Boston 13:40-15:37 $138 10:33-12:03 $ 74\n",
      "    Franny    Dallas 10:30-14:57 $290 10:51-14:16 $256\n",
      "     Zooey     Akron 12:08-14:59 $149 10:32-13:16 $139\n",
      "      Walt     Miami 11:28-14:40 $248 12:37-15:05 $170\n",
      "     Buddy   Chicago  8:25-10:34 $157  9:11-10:42 $172\n",
      "       Les     Omaha 13:37-15:08 $250  9:31-11:43 $210\n",
      "\n",
      "Con costo 3509\n"
     ]
    }
   ],
   "source": [
    "def test_randomly(repeats = 1000):\n",
    "    s = solve_randomly(\n",
    "        domain,\n",
    "        schedule_cost,\n",
    "        repeats\n",
    "    )\n",
    "    print_schedule(s)\n",
    "    print(f\"\\nCon costo {schedule_cost(s)}\")\n",
    "\n",
    "test_randomly(100000)"
   ]
  },
  {
   "cell_type": "code",
   "execution_count": 206,
   "metadata": {},
   "outputs": [],
   "source": [
    "def neighbors_of(s, domain):\n",
    "    neighbors = []\n",
    "    for i in range(len(domain)):\n",
    "        if s[i] > domain[i][0]:\n",
    "            neighbors.append(s[0:i] + [s[i] - 1] + s[i+1:])\n",
    "            #print(\"Mayor que: \", i)\n",
    "            #print(neighbors)\n",
    "        if s[i] < domain[i][1]:\n",
    "            neighbors.append(s[0:i] + [s[i] + 1] + s[i+1:])\n",
    "            #print(\"Menor que: \", i)\n",
    "            #print(neighbors)\n",
    "    return neighbors\n",
    "\n",
    "# neighbors_of([3,0,0,0,0,0,0,0,0,0,0,9], domain)"
   ]
  },
  {
   "cell_type": "markdown",
   "metadata": {},
   "source": [
    "Algoritmos:\n",
    "1. Descenso de colinas.\n",
    "2. Recocido simulado.\n",
    "3. Mutación."
   ]
  },
  {
   "cell_type": "code",
   "execution_count": 207,
   "metadata": {},
   "outputs": [],
   "source": [
    "# 1. Descenso de colinas...\n",
    "\n",
    "def solve_hillclimbing(domain, cost_of):\n",
    "    s = random_solution(domain)\n",
    "\n",
    "    while True:\n",
    "        neighbors = neighbors_of(s, domain)\n",
    "        cost = cost_of(s)\n",
    "        best_neighbor = min(neighbors, key=cost_of)\n",
    "        neighbor_cost = cost_of(best_neighbor)\n",
    "        \n",
    "        if cost < neighbor_cost:\n",
    "            return s\n",
    "        \n",
    "        s = best_neighbor\n",
    "\n",
    "def test_hillclimbing():\n",
    "    s = solve_hillclimbing(\n",
    "        domain,\n",
    "        schedule_cost,\n",
    "    )\n",
    "    print_schedule(s)\n",
    "    print(f\"\\nCon costo {schedule_cost(s)}\")"
   ]
  },
  {
   "cell_type": "code",
   "execution_count": 208,
   "metadata": {},
   "outputs": [],
   "source": [
    "# 2. Recocido simulado...\n",
    "\n",
    "def solve_annealing(domain, cost_of, Ti=10000.0, Tf=0.1, alpha=0.95):\n",
    "    solution = random_solution(domain)\n",
    "    cost = cost_of(solution)\n",
    "    T = Ti\n",
    "    while T > Tf:\n",
    "        neighbor = random.choice(neighbors_of(solution, domain))\n",
    "        neighbor_cost = cost_of(neighbor)\n",
    "        diff = cost - neighbor_cost\n",
    "        if diff > 0 or random.random() < math.exp(diff / T):\n",
    "            solution = neighbor\n",
    "            cost = neighbor_cost\n",
    "        T = alpha*T\n",
    "    \n",
    "    return solution\n",
    "\n",
    "def test_annealing(Ti=100000.0, Tf=0.1, alpha=0.95):\n",
    "    s = solve_annealing(\n",
    "        domain,\n",
    "        schedule_cost,\n",
    "        Ti, Tf, alpha,\n",
    "    )\n",
    "    print_schedule(s)\n",
    "    print(f\"\\nCon costo {schedule_cost(s)}\")"
   ]
  },
  {
   "cell_type": "code",
   "execution_count": 209,
   "metadata": {},
   "outputs": [],
   "source": [
    "# 3. Mutación...\n",
    "\n",
    "def mutate(s, domain):\n",
    "    return random.choice(neighbors_of(s, domain))\n",
    "\n",
    "def crossover(s1, s2):\n",
    "    i = random.randint(1, len(s1)-2)\n",
    "    return s1[:i] + s2[i:]\n",
    "\n",
    "def solve_evolving(domain, cost_of, pop_size=50, mut_prob=0.2, elite=0.2, epochs=100):\n",
    "    pop = [random_solution(domain) for _ in range(pop_size)]\n",
    "    top_elite = int(elite * pop_size)\n",
    "    \n",
    "    for epoch in range(epochs):\n",
    "        pop.sort(key=cost_of)\n",
    "        best = pop[:top_elite]\n",
    "        while len(best) < pop_size:\n",
    "            if random.random() < mut_prob:\n",
    "                best.append(mutate(\n",
    "                    best[random.randint(0, top_elite-1)],\n",
    "                    domain\n",
    "                ))\n",
    "            else:\n",
    "                best.append(crossover(\n",
    "                    best[random.randint(0, top_elite-1)],\n",
    "                    best[random.randint(0, top_elite-1)],\n",
    "                ))\n",
    "        pop = best\n",
    "    pop.sort(key=cost_of)\n",
    "    return pop[0]\n",
    "\n",
    "def test_evolving(pop_size=50, mut_prob=0.2, elite=0.2, epochs=100):\n",
    "    s = solve_evolving(\n",
    "        domain,\n",
    "        schedule_cost,\n",
    "        pop_size, mut_prob,\n",
    "        elite, epochs,\n",
    "    )\n",
    "    print_schedule(s)\n",
    "    print(f\"\\nCon costo {schedule_cost(s)}\")"
   ]
  },
  {
   "cell_type": "code",
   "execution_count": 210,
   "metadata": {},
   "outputs": [],
   "source": [
    "# No necesitamos más código... Todo corrío de maravilla a lo \"Run All\"... Entonces... manos a la obra..."
   ]
  },
  {
   "cell_type": "markdown",
   "metadata": {},
   "source": [
    "# Empecemos a modelar el objeto con lo que tenemos... "
   ]
  },
  {
   "cell_type": "code",
   "execution_count": 211,
   "metadata": {},
   "outputs": [],
   "source": [
    "import numpy as np\n",
    "import time\n",
    "import random\n",
    "import math"
   ]
  },
  {
   "cell_type": "code",
   "execution_count": 212,
   "metadata": {},
   "outputs": [],
   "source": [
    "# Revisemos la forma en que se creaba el dominio de soluciones en el modelo estudiado:\n",
    "\"\"\"\n",
    "dom = [(0,9)]*12\n",
    "dom\n",
    "\n",
    "# O de esta forma:\n",
    "\n",
    "domain = [(0,9)] * len(people) * 2\n",
    "\n",
    "No las usaremos... espero...\n",
    "\n",
    "\"\"\"\n",
    "\n",
    "# No se crea directo de la fuente, vamos a corregir algo de eso inicialmente, pero no del todo...\n",
    "# Empecemos cargando los datos y los archivos del problema...\n",
    "\n",
    "# Tenemos 6 personas o grupos de personas que viajaran a un destino...\n",
    "people = [('Seymour', 'BOS'),\n",
    "          ('Franny', 'DAL'),\n",
    "          ('Zooey', 'CAK'),\n",
    "          ('Walt', 'MIA'),\n",
    "          ('Buddy', 'ORD'),\n",
    "          ('Les', 'OMA')]\n",
    "\n",
    "destination = 'LGA'\n",
    "\n",
    "# Luego una lista de aeropuestos y vuelos con sus horarios y costos en dólares... este no será el costo de la función...\n",
    "def load_airports(path):\n",
    "    airports = {}\n",
    "    with open(path) as f:\n",
    "        f.readline()\n",
    "        for line in f:\n",
    "            cols = line.strip().split(',')\n",
    "            iata = cols[9]\n",
    "            name = cols[2]\n",
    "            region = cols[6]\n",
    "            municipality = cols[7]\n",
    "            airports[iata] = (\n",
    "                name,\n",
    "                region,\n",
    "                municipality\n",
    "            )\n",
    "    return airports\n",
    "\n",
    "# Cargamos los aeropuertos...\n",
    "airports = load_airports('assets/airport-codes.txt')\n",
    "\n",
    "# Creamos una función para obtener la lista de vuelos...\n",
    "def load_flights(path):\n",
    "    flights = {}\n",
    "    with open(path) as f:\n",
    "        for line in f:\n",
    "            origin, dest, t_depart, t_arrive, price = line.strip().split(',')\n",
    "            flights.setdefault((origin, dest), [])\n",
    "            flights[(origin, dest)].append((t_depart, t_arrive, int(price)))\n",
    "    return flights\n",
    "\n",
    "# Cargamos los vuelos con sus datos...\n",
    "flights = load_flights('assets/schedule.txt')\n",
    "\n",
    "# Podemos consultar los posibles vuelos de ida para un miembro de la familia (en este ejemplo el primero en la lista, que es Seymour) de la siguiente forma:\n",
    "flights[(\n",
    "    people[0][1],\n",
    "    destination,\n",
    ")]\n",
    "\n",
    "# Ya entonces hacemos una función para crear el dominio a partir de los datos...\n",
    "def dom_creator():\n",
    "    dominio=[]\n",
    "    for i in range(len(people)):\n",
    "        opciones_ida = flights[(people[i][1], \"LGA\")]\n",
    "        opciones_regreso = flights[(\"LGA\",people[i][1])]\n",
    "        \n",
    "        dominio.append((0, len(opciones_ida) - 1))\n",
    "        dominio.append((0, len(opciones_regreso) - 1))\n",
    "    \n",
    "    return dominio\n",
    "\n",
    "dominium = dom_creator()\n",
    "\n",
    "# dominium # Ahí quedó el dominio listo por si el archivo de los vuelos cambia...\n"
   ]
  },
  {
   "cell_type": "code",
   "execution_count": 213,
   "metadata": {},
   "outputs": [],
   "source": [
    "class problem_solving:\n",
    "    def __init__(self, dominio, metodo=\"random\"): # Con el costo por fuera... def __init__(self, dominio, costo, metodo=\"random\"):\n",
    "        \"\"\"\n",
    "        Se define:\n",
    "        dominio: lista de tuplas de 2 elementos que delimitan su intervalo.\n",
    "        costo: recibe una función que devolverá un valor...\n",
    "        metodo: determina método de solución... opciones: \"random\", \"descenso\", \"recodido\", \"mutacion\", \"todas\"... (por defecto: \"random\").\n",
    "        Opción: \"todas\" solo para usuarios premium...\n",
    "        \"\"\"\n",
    "        self.dominio = dominio\n",
    "        # self.costo = costo # Pensé que iba a dejar esta función fuera del objeto...\n",
    "        self.metodo = metodo\n",
    "\n",
    "    def random_solution(self, domain):\n",
    "        return [\n",
    "            random.randint(r[0], r[1])\n",
    "            for r in domain\n",
    "        ]\n",
    "\n",
    "    def get_minutes(self, t):\n",
    "        x = time.strptime(t, '%H:%M')\n",
    "        h = x.tm_hour\n",
    "        m = x.tm_min\n",
    "        return 60 * h + m\n",
    "\n",
    "    def schedule_cost(self, s):\n",
    "        # contamos el precio total de cada vuelo (ida y regreso)\n",
    "        total_price = 0\n",
    "        \n",
    "        # nos interesa conocer el tiempo de llegada a NY mas tarde\n",
    "        # y el tiempo de salida de NY mas temprano.\n",
    "        latest_arrival = 0\n",
    "        earliest_departure = 24 * 60\n",
    "        \n",
    "        for i in range(len(s) // 2):\n",
    "            origin = people[i][1]\n",
    "            out_flight = flights[(origin, destination)][s[2*i]]\n",
    "            ret_flight = flights[(destination, origin)][s[2*i+1]]\n",
    "            \n",
    "            total_price += out_flight[2] # vuelo de ida\n",
    "            total_price += ret_flight[2] # vuelo de regreso\n",
    "            \n",
    "            # tiempo de llegada máximo\n",
    "            # tiempo de salida mínimo\n",
    "            if latest_arrival < self.get_minutes(out_flight[1]):\n",
    "                latest_arrival = self.get_minutes(out_flight[1])\n",
    "            if earliest_departure > self.get_minutes(ret_flight[0]):\n",
    "                earliest_departure = self.get_minutes(ret_flight[0])\n",
    "        \n",
    "        # contamos el tiempo de espera de cada persona\n",
    "        total_wait = 0\n",
    "        \n",
    "        for i in range(len(s) // 2):\n",
    "            origin = people[i][1]\n",
    "            out_flight = flights[(origin, destination)][s[2*i]]\n",
    "            ret_flight = flights[(destination, origin)][s[2*i+1]]\n",
    "            \n",
    "            # todos esperan al último familiar en llegar\n",
    "            total_wait += latest_arrival - self.get_minutes(out_flight[1])\n",
    "            \n",
    "            # todos llegan al aeropuerto al mismo tiempo y esperan su vuelo\n",
    "            total_wait += self.get_minutes(ret_flight[0]) - earliest_departure\n",
    "            \n",
    "            # si el último en llegar a NY llega después del primero en\n",
    "            # irse de NY se paga un día más de la renta del carro.\n",
    "            # el costo de la renta por un día es independiente de la\n",
    "            # solución.\n",
    "            if latest_arrival > earliest_departure:\n",
    "                total_price += 50\n",
    "        \n",
    "        # El costo total es el precio total de los vuelos y el tiempo de\n",
    "        # espera total de las personas.\n",
    "        # Buscamos soluciones con un bajo costo.\n",
    "        return total_price + total_wait # Quizás dándole más peso a la espera y no al precio la solución sea más idonea... total_wait * 2...\n",
    "\n",
    "    # Encontrar aleatoreamente la mejor solución posible... metodo = \"random\"\n",
    "    def solve_randomly(self, domain, cost_of): # , repeats = 100...\n",
    "        best_cost = float('inf')\n",
    "        best_sol = None\n",
    "\n",
    "        for _ in range(100):\n",
    "            s = self.random_solution(domain)\n",
    "            c = cost_of(s)\n",
    "            if c < best_cost:\n",
    "                best_cost = c\n",
    "                best_sol = s\n",
    "\n",
    "        return best_sol, best_cost\n",
    "\n",
    "    # Determinando vecinos más próximos...\n",
    "    def neighbors_of(self, s, domain):\n",
    "        neighbors = []\n",
    "        for i in range(len(domain)):\n",
    "            if s[i] > domain[i][0]:\n",
    "                neighbors.append(s[0:i] + [s[i] - 1] + s[i+1:])\n",
    "\n",
    "            if s[i] < domain[i][1]:\n",
    "                neighbors.append(s[0:i] + [s[i] + 1] + s[i+1:])\n",
    "\n",
    "        return neighbors\n",
    "\n",
    "    # Descenso de colinas... metodo = \"descenso\"\n",
    "    def solve_hillclimbing(self, domain, cost_of):\n",
    "        s = random_solution(domain)\n",
    "\n",
    "        while True:\n",
    "            neighbors = self.neighbors_of(s, domain)\n",
    "            cost = cost_of(s)\n",
    "            best_neighbor = min(neighbors, key=cost_of)\n",
    "            neighbor_cost = cost_of(best_neighbor)\n",
    "            \n",
    "            if cost < neighbor_cost:\n",
    "                return s, cost # Aquí quiero revisar luego... si elegí el mejor costo...\n",
    "            \n",
    "            s = best_neighbor\n",
    "\n",
    "    # Recocido simulado... metodo = \"recocido\"\n",
    "    def solve_annealing(self, domain, cost_of, Ti=10000.0, Tf=0.1, alpha=0.95):\n",
    "        solution = random_solution(domain)\n",
    "        cost = cost_of(solution)\n",
    "        T = Ti\n",
    "        while T > Tf:\n",
    "            neighbor = random.choice(neighbors_of(solution, domain))\n",
    "            neighbor_cost = cost_of(neighbor)\n",
    "            diff = cost - neighbor_cost\n",
    "            if diff > 0 or random.random() < math.exp(diff / T):\n",
    "                solution = neighbor\n",
    "                cost = neighbor_cost\n",
    "            T = alpha*T\n",
    "        \n",
    "        return solution, cost\n",
    "\n",
    "    # Mutación... metodo = \"mutacion\"\n",
    "    def mutate(self, s, domain):\n",
    "        return random.choice(self.neighbors_of(s, domain))\n",
    "\n",
    "    def crossover(self, s1, s2):\n",
    "        i = random.randint(1, len(s1)-2)\n",
    "        return s1[:i] + s2[i:]\n",
    "\n",
    "    def solve_evolving(self, domain, cost_of, pop_size=50, mut_prob=0.2, elite=0.2, epochs=100):\n",
    "        pop = [self.random_solution(domain) for _ in range(pop_size)]\n",
    "        top_elite = int(elite * pop_size)\n",
    "        \n",
    "        for epoch in range(epochs):\n",
    "            pop.sort(key=cost_of)\n",
    "            best = pop[:top_elite]\n",
    "            while len(best) < pop_size:\n",
    "                if random.random() < mut_prob:\n",
    "                    best.append(self.mutate(\n",
    "                        best[random.randint(0, top_elite-1)],\n",
    "                        domain\n",
    "                    ))\n",
    "                else:\n",
    "                    best.append(self.crossover(\n",
    "                        best[random.randint(0, top_elite-1)],\n",
    "                        best[random.randint(0, top_elite-1)],\n",
    "                    ))\n",
    "            pop = best\n",
    "        pop.sort(key=cost_of)\n",
    "        return pop[0], cost_of(pop[0]) # Revisar...\n",
    "\n",
    "    # From problem import solution... :-)\n",
    "    # \"random\", \"descenso\", \"recodido\", \"mutacion\", \"todas\"\n",
    "    def get_solution(self):\n",
    "        if self.metodo == \"random\":\n",
    "            return self.solve_randomly(self.dominio,self.schedule_cost)\n",
    "        elif self.metodo == \"descenso\":\n",
    "            return self.solve_hillclimbing(self.dominio, self.schedule_cost)\n",
    "        elif self.metodo == \"recocido\":\n",
    "            return self.solve_annealing(self.dominio, self.schedule_cost)\n",
    "        elif self.metodo == \"mutacion\":\n",
    "            return self.solve_evolving(self.dominio, self.schedule_cost)     \n",
    "        elif self.metodo == \"todas\":\n",
    "            return \"Compra la versión premium!!!\"\n",
    "        else:\n",
    "            return f\"Revisa la documentación. Método incorrecto: {self.metodo}\"\n"
   ]
  },
  {
   "cell_type": "code",
   "execution_count": 216,
   "metadata": {},
   "outputs": [
    {
     "data": {
      "text/plain": [
       "([6, 1, 4, 2, 8, 3, 5, 2, 6, 4, 7, 8], 4871)"
      ]
     },
     "execution_count": 216,
     "metadata": {},
     "output_type": "execute_result"
    }
   ],
   "source": [
    "problema_vuelos = problem_solving(dominium, metodo = \"random\")\n",
    "problema_vuelos.get_solution()"
   ]
  },
  {
   "cell_type": "code",
   "execution_count": 217,
   "metadata": {},
   "outputs": [
    {
     "data": {
      "text/plain": [
       "([4, 3, 0, 3, 4, 3, 3, 4, 2, 3, 4, 6], 3219)"
      ]
     },
     "execution_count": 217,
     "metadata": {},
     "output_type": "execute_result"
    }
   ],
   "source": [
    "problema_vuelos = problem_solving(dominium, metodo = \"descenso\")\n",
    "problema_vuelos.get_solution()"
   ]
  },
  {
   "cell_type": "code",
   "execution_count": 218,
   "metadata": {},
   "outputs": [
    {
     "data": {
      "text/plain": [
       "([5, 3, 0, 3, 5, 5, 3, 4, 4, 3, 4, 3], 3162)"
      ]
     },
     "execution_count": 218,
     "metadata": {},
     "output_type": "execute_result"
    }
   ],
   "source": [
    "problema_vuelos = problem_solving(dominium, metodo = \"recocido\")\n",
    "problema_vuelos.get_solution()"
   ]
  },
  {
   "cell_type": "code",
   "execution_count": 219,
   "metadata": {},
   "outputs": [
    {
     "data": {
      "text/plain": [
       "([4, 3, 3, 2, 4, 1, 3, 1, 4, 1, 2, 1], 2809)"
      ]
     },
     "execution_count": 219,
     "metadata": {},
     "output_type": "execute_result"
    }
   ],
   "source": [
    "problema_vuelos = problem_solving(dominium, metodo = \"mutacion\")\n",
    "problema_vuelos.get_solution()"
   ]
  },
  {
   "cell_type": "code",
   "execution_count": 220,
   "metadata": {},
   "outputs": [
    {
     "data": {
      "text/plain": [
       "'Compra la versión premium!!!'"
      ]
     },
     "execution_count": 220,
     "metadata": {},
     "output_type": "execute_result"
    }
   ],
   "source": [
    "problema_vuelos = problem_solving(dominium, metodo = \"todas\") # :-)\n",
    "problema_vuelos.get_solution()"
   ]
  }
 ],
 "metadata": {
  "kernelspec": {
   "display_name": "base",
   "language": "python",
   "name": "python3"
  },
  "language_info": {
   "codemirror_mode": {
    "name": "ipython",
    "version": 3
   },
   "file_extension": ".py",
   "mimetype": "text/x-python",
   "name": "python",
   "nbconvert_exporter": "python",
   "pygments_lexer": "ipython3",
   "version": "3.11.3"
  }
 },
 "nbformat": 4,
 "nbformat_minor": 2
}
