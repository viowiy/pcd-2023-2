{
 "cells": [
  {
   "cell_type": "markdown",
   "id": "627487a6-4834-4926-928e-ee191a9ec4a9",
   "metadata": {},
   "source": [
    "# Primitivas\n",
    "\n",
    "Los programas de computadora manipulan datos. Una pieza individual de un dato es llamado *valor* y cada valor tiene un *tipo* que identifica que \"clase de cosa\" es el valor."
   ]
  },
  {
   "cell_type": "code",
   "execution_count": null,
   "id": "572fb19a-41aa-44dd-9a82-621153955979",
   "metadata": {},
   "outputs": [],
   "source": []
  },
  {
   "cell_type": "markdown",
   "id": "07602f31-33ea-4a6d-ad65-e185594dd8d3",
   "metadata": {},
   "source": [
    "## Valores simples\n",
    "\n",
    "Hay cuatro tipos de valores que son parte fundamental de Python: lógicos (`bool`), enteros (`int`), flotantes (`float`) y cadenas (`str`).\n",
    "\n",
    "También existe un valor que representa \"nada\" llamado `None`.\n",
    "\n",
    "Cuando escribimos un valor en el intérprete de Python, lo imprime en la siguiente línea. Cuando el valor es `None`, no se imprime nada porque precisamente eso representa `None`.\n",
    "\n",
    "Si escribimos algo que Python encuentra inaceptable de alguna manera, se muestra un mensaje de varias líneas que describe el problema."
   ]
  },
  {
   "cell_type": "code",
   "execution_count": 1,
   "id": "98b89ec7-ba17-487d-b918-3c59a6b0cb11",
   "metadata": {},
   "outputs": [
    {
     "data": {
      "text/plain": [
       "42"
      ]
     },
     "execution_count": 1,
     "metadata": {},
     "output_type": "execute_result"
    }
   ],
   "source": [
    "42"
   ]
  },
  {
   "cell_type": "code",
   "execution_count": 2,
   "id": "1b6d3645-551d-438b-950f-ee04d29f7ac7",
   "metadata": {},
   "outputs": [],
   "source": [
    "None"
   ]
  },
  {
   "cell_type": "markdown",
   "id": "e0984363-f51c-42b8-89c1-e0428911033a",
   "metadata": {},
   "source": [
    "### Booleanos\n",
    "\n",
    "Su tipo es `bool`.\n",
    "\n",
    "`True` y `False` son Booleanos"
   ]
  },
  {
   "cell_type": "code",
   "execution_count": 2,
   "id": "6d0bc955-6b83-4295-b944-3ffcd3714de8",
   "metadata": {},
   "outputs": [
    {
     "data": {
      "text/plain": [
       "True"
      ]
     },
     "execution_count": 2,
     "metadata": {},
     "output_type": "execute_result"
    }
   ],
   "source": [
    "True"
   ]
  },
  {
   "cell_type": "code",
   "execution_count": 3,
   "id": "6cdce004-0ab0-44c6-b08c-960cc04a5e1e",
   "metadata": {},
   "outputs": [
    {
     "data": {
      "text/plain": [
       "False"
      ]
     },
     "execution_count": 3,
     "metadata": {},
     "output_type": "execute_result"
    }
   ],
   "source": [
    "False"
   ]
  },
  {
   "cell_type": "markdown",
   "id": "413b82af-8620-42d0-9a8b-49ae99484bec",
   "metadata": {},
   "source": [
    "### Enteros\n",
    "\n",
    "Su tipo es `int`.\n",
    "\n",
    "`42`, `-90` y `602200000000000000000000` son enteros.\n",
    "\n",
    "Pueden ser escritos en otras bases\n",
    "\n",
    "**base 2** (*binario*)\n",
    "`0b1001010010100101`\n",
    "\n",
    "**base 8** (*octal*)\n",
    "`0o5124751012`\n",
    "\n",
    "**base 16** (*hexadecimal*)\n",
    "`0xD3FEFF`"
   ]
  },
  {
   "cell_type": "code",
   "execution_count": 4,
   "id": "e9a2f964-a6bf-411f-a329-0f238781de47",
   "metadata": {},
   "outputs": [
    {
     "data": {
      "text/plain": [
       "38053"
      ]
     },
     "execution_count": 4,
     "metadata": {},
     "output_type": "execute_result"
    }
   ],
   "source": [
    "0b1001010010100101"
   ]
  },
  {
   "cell_type": "code",
   "execution_count": 5,
   "id": "0b6e76fb-b8d6-4293-a7d6-735f2421ea8a",
   "metadata": {},
   "outputs": [
    {
     "data": {
      "text/plain": [
       "693359114"
      ]
     },
     "execution_count": 5,
     "metadata": {},
     "output_type": "execute_result"
    }
   ],
   "source": [
    "0o5124751012"
   ]
  },
  {
   "cell_type": "code",
   "execution_count": 6,
   "id": "e8812c90-058b-43a7-a26a-54d1f70aa926",
   "metadata": {},
   "outputs": [
    {
     "data": {
      "text/plain": [
       "13893375"
      ]
     },
     "execution_count": 6,
     "metadata": {},
     "output_type": "execute_result"
    }
   ],
   "source": [
    "0xD3FEFF"
   ]
  },
  {
   "cell_type": "markdown",
   "id": "05448257-e633-4271-913d-7a61c2ae8289",
   "metadata": {},
   "source": [
    "### Flotantes\n",
    "\n",
    "Su tipo es `float`.\n",
    "\n",
    "`2.5`, `-0.1` y `0.0` son flotantes.\n",
    "\n",
    "Pueden ser escritos en notación científica:\n",
    "`1.8e+5`, `-1.4e-2`\n",
    "\n",
    "Python nos puede responder en notación científica si lo considera pertinente:\n",
    "`0.00001`, `100200300400500060.0`"
   ]
  },
  {
   "cell_type": "code",
   "execution_count": 10,
   "id": "6a804247-f801-4094-8807-8f417e6feb8c",
   "metadata": {},
   "outputs": [
    {
     "data": {
      "text/plain": [
       "1e-05"
      ]
     },
     "execution_count": 10,
     "metadata": {},
     "output_type": "execute_result"
    }
   ],
   "source": [
    "0.00001"
   ]
  },
  {
   "cell_type": "code",
   "execution_count": 11,
   "id": "1d720494-17b0-42ed-accb-6b6a55b9cf4a",
   "metadata": {},
   "outputs": [
    {
     "data": {
      "text/plain": [
       "1.0020030040050006e+17"
      ]
     },
     "execution_count": 11,
     "metadata": {},
     "output_type": "execute_result"
    }
   ],
   "source": [
    "100200300400500060.0"
   ]
  },
  {
   "cell_type": "code",
   "execution_count": 12,
   "id": "008350f8-5354-4754-8690-def55fa344d0",
   "metadata": {},
   "outputs": [
    {
     "data": {
      "text/plain": [
       "3.141592653589793"
      ]
     },
     "execution_count": 12,
     "metadata": {},
     "output_type": "execute_result"
    }
   ],
   "source": [
    "3.14159265358979323846264338327950288419716939937510582097494459230781640628620899862803482534211706798214808651328230664709384460955058223172535940812848111745028410270193852110555964462294895493038196442881097566593344612847564823378678316527120190914564856692346034861045432664821339360726024914127372458700660631558817488152092096282925409171536436789259036001133053054882046652138414695194151160943305727036575959195309218611738193261179310511854807446237996274956735188575272489122793818301194912983367336244065664308602139494639522473719070217986094370277053921717629317675238467481846766940513200056812714526356082778577134275778960917363717872146844090122495343014654958537105079227968925892354201995611212902196086403441815981362977477130996051870721134999999837297804995105973173281609631859502445945534690830264252230825334468503526193118817101000313783875288658753320838142061717766914730359825349042875546873115956286388235378759375195778185778053217122680661300192787661119590921642019893809525720106548586327886593615338182796823030195203530185296899577362259941389124972177528347913151557485724245415069595082953311686172785588907509838175463746493931925506040092770167113900984882401285836160356370766010471018194295559619894676783744944825537977472684710404753464620804668425906949129331367702898915210475216205696602405803815019351125338243003558764024749647326391419927260426992279678235478163600934172164121992458631503028618297455570674983850549"
   ]
  },
  {
   "cell_type": "markdown",
   "id": "5d32b7c9-de8b-43a6-9981-49d401b6f5f8",
   "metadata": {},
   "source": [
    "### Cadenas\n",
    "\n",
    "Su tipo es `str`.\n",
    "\n",
    "`'abc'` y `'Hola mundo'` son cadenas.\n",
    "\n",
    "Un carácter se representa como una cadena con un solo elemento: `'x'`.\n",
    "\n",
    "Algunas secuencias de caracteres son interpretadas de forma especial (secuencias de escape):\n",
    "- `\\n` es salto de línea\n",
    "- `\\t` es una tabulación\n",
    "- `\\'` es una comilla sencilla\n",
    "\n",
    "Esta última secuencia de escape permite representar la comilla como un elemento de la cadena y no como delimitador para indicar inicio/fin de la cadena:\n",
    "'¡Hola \\'amigos\\'!'\n",
    "\n",
    "También se pueden utilizar dobles comillas para delimitar cadenas.\n",
    "\n",
    "También se pueden utilizar tres comillas para delimitar cadenas que contienen varias líneas."
   ]
  },
  {
   "cell_type": "code",
   "execution_count": 1,
   "id": "21108064-c7fe-4896-a763-2dd9f1c5b2b3",
   "metadata": {},
   "outputs": [
    {
     "data": {
      "text/plain": [
       "\"Mi nombre se escribe 'Eduardo'\""
      ]
     },
     "execution_count": 1,
     "metadata": {},
     "output_type": "execute_result"
    }
   ],
   "source": [
    "'Mi nombre se escribe \\'Eduardo\\''"
   ]
  },
  {
   "cell_type": "code",
   "execution_count": 2,
   "id": "19b5a9e9-32c6-4ba7-a323-43cdbe1844b3",
   "metadata": {},
   "outputs": [
    {
     "data": {
      "text/plain": [
       "\"Mi nombre se escribe 'Eduardo'\""
      ]
     },
     "execution_count": 2,
     "metadata": {},
     "output_type": "execute_result"
    }
   ],
   "source": [
    "\"Mi nombre se escribe 'Eduardo'\""
   ]
  },
  {
   "cell_type": "code",
   "execution_count": 3,
   "id": "dcad0191-8835-4bc9-b3f1-dfac0b3b96fb",
   "metadata": {},
   "outputs": [
    {
     "data": {
      "text/plain": [
       "'Mi nombre se escribe \"Eduardo\"'"
      ]
     },
     "execution_count": 3,
     "metadata": {},
     "output_type": "execute_result"
    }
   ],
   "source": [
    "\"Mi nombre se escribe \\\"Eduardo\\\"\""
   ]
  },
  {
   "cell_type": "code",
   "execution_count": 4,
   "id": "18067216-607e-4dc5-a5ce-550857dbc14d",
   "metadata": {},
   "outputs": [
    {
     "data": {
      "text/plain": [
       "'Esta es una linea\\nEsta es otra'"
      ]
     },
     "execution_count": 4,
     "metadata": {},
     "output_type": "execute_result"
    }
   ],
   "source": [
    "'Esta es una linea\\nEsta es otra'"
   ]
  },
  {
   "cell_type": "code",
   "execution_count": 6,
   "id": "a2ade9b7-1ac4-4d45-8e07-2d5d0fa726a7",
   "metadata": {},
   "outputs": [
    {
     "data": {
      "text/plain": [
       "'Esta es una linea\\nEsta es otra'"
      ]
     },
     "execution_count": 6,
     "metadata": {},
     "output_type": "execute_result"
    }
   ],
   "source": [
    "\"\"\"Esta es una linea\n",
    "Esta es otra\"\"\""
   ]
  },
  {
   "cell_type": "markdown",
   "id": "634ec1d0-f6df-495b-bb67-75fca5b78b8a",
   "metadata": {},
   "source": [
    "## Expresiones\n",
    "\n",
    "Un *operador* es un símbolo que indica un cálculo y utiliza uno o más *operandos*. La combinación del operador con sus operandos es una *expresión*.\n",
    "\n",
    "Un operador *unario* es aquel que aparece antes de un solo operando. Un operador *binario* es aquel que aparece entre dos operandos."
   ]
  },
  {
   "cell_type": "markdown",
   "id": "6893ad19-5d5b-4d90-9ffa-61a65d302f6a",
   "metadata": {},
   "source": [
    "### Operaciones numéricas\n",
    "\n",
    "- `+ x`\n",
    "- `- x` (*negación*)\n",
    "- `x + y` (*suma*)\n",
    "- `x - y` (*resta*)\n",
    "- `x * y` (*multiplicación*)\n",
    "- `x ** y` (*exponenciación*)\n",
    "- `x / y` (*división*)\n",
    "- `x // y` (*división entera*)\n",
    "- `x % y` (*módulo*)"
   ]
  },
  {
   "cell_type": "code",
   "execution_count": 8,
   "id": "549d76df-ceef-4696-bbd7-0002b92cb89e",
   "metadata": {},
   "outputs": [
    {
     "data": {
      "text/plain": [
       "0.3333333333333333"
      ]
     },
     "execution_count": 8,
     "metadata": {},
     "output_type": "execute_result"
    }
   ],
   "source": [
    "1 / 3"
   ]
  },
  {
   "cell_type": "markdown",
   "id": "94ae0368-5aa5-410b-8648-f45d868735b7",
   "metadata": {},
   "source": [
    "Cuando algún operando es flotante, el resultado de la expresión será flotante."
   ]
  },
  {
   "cell_type": "code",
   "execution_count": 12,
   "id": "37252b57-4d60-4fd3-a2e8-2f4b6a027455",
   "metadata": {},
   "outputs": [
    {
     "data": {
      "text/plain": [
       "0.0009999999999999974"
      ]
     },
     "execution_count": 12,
     "metadata": {},
     "output_type": "execute_result"
    }
   ],
   "source": [
    "0.03 - 0.029"
   ]
  },
  {
   "cell_type": "code",
   "execution_count": 13,
   "id": "7a339a62-53f6-43b1-9061-83de9438fa9a",
   "metadata": {},
   "outputs": [
    {
     "data": {
      "text/plain": [
       "0.0010000000000000009"
      ]
     },
     "execution_count": 13,
     "metadata": {},
     "output_type": "execute_result"
    }
   ],
   "source": [
    ".01 - .009"
   ]
  },
  {
   "cell_type": "markdown",
   "id": "6672a0b0-9f8c-4e82-8cba-8b86c5ea215c",
   "metadata": {},
   "source": [
    "### Operaciones lógicas\n",
    "\n",
    "**Toman booleanos y regresan booleanos:**\n",
    "- `not x` (*negación*)\n",
    "- `x and y` (*conjunción*)\n",
    "- `x or y` (*disyunción*)\n",
    "\n",
    "**Toma booleano y regresa cualquier cosa:**\n",
    "- `x if y else z` (*condicional*)\n",
    "\n",
    "**Toman cualquier cosa y regresan booleanos:**\n",
    "- `x == y` (*igual qué*)\n",
    "- `x != y` (*no igual qué*)\n",
    "- `x < y` (*menor qué*)\n",
    "- `x <= y` (*a lo más*)\n",
    "- `x > y` (*mayor qué*)\n",
    "- `x >= y` (*al menos*)"
   ]
  },
  {
   "cell_type": "markdown",
   "id": "62fd5889-8a66-4fcb-8732-aa7126bcb48c",
   "metadata": {},
   "source": [
    "### Operaciones con cadenas\n",
    "\n",
    "- `x in y` (*es subcadena de*)\n",
    "- `x not in y` (*no es subcadena de*)\n",
    "- `x + y` (*concatenación*)\n",
    "- `x * y` (*repetición*)\n",
    "- `x[y]` (*extraer carácter*)\n",
    "- `x[y:z:w]` (*extraer caracteres*)"
   ]
  },
  {
   "cell_type": "markdown",
   "id": "2d8f3f1e-c8a8-4994-9785-c6e93ff98e50",
   "metadata": {},
   "source": [
    "### Invocaciones\n",
    "\n",
    "Una *invocación* es un tipo de expresión."
   ]
  },
  {
   "cell_type": "markdown",
   "id": "b351ebf6-dbdb-46dd-85eb-08c289e14470",
   "metadata": {},
   "source": [
    "#### A función\n",
    "\n",
    "Consiste en un *nombre de función* y cero o más *argumentos* separados por comas y delimitados por paréntesos.\n",
    "\n",
    "- `len(string)`\n",
    "- `print(args...[, sep=x][, end=y])`\n",
    "- `input(string)`\n",
    "- `abs(val)`\n",
    "- `max(args...)`\n",
    "- `min(args...)`\n",
    "\n",
    "Los tipos pueden ser llamados como funciones, toman un argumento y regresan un valor del tipo llamado.\n",
    "- `str(arg)`\n",
    "- `int(arg)`\n",
    "- `float(arg)`\n",
    "- `bool(arg)`\n",
    "\n",
    "Puedes obtener ayuda interactiva de Python llamando `help()`, o imprimir información sobre algún `x` con la llamada `help(x)`.\n",
    "\n",
    "¿Cómo podemos saber si un valor es de un tipo particular?\n",
    "```python\n",
    "isinstance(x, type)\n",
    "```"
   ]
  },
  {
   "cell_type": "markdown",
   "id": "d8f01def-9275-43ef-be8b-944be3523f83",
   "metadata": {},
   "source": [
    "#### A método\n",
    "\n",
    "La mayoría de las funciones de Python son parte de la implementación de un tipo específico. Estas funciones son llamadas *métodos*.\n",
    "\n",
    "Se llaman igual que las funciones, excepto que el primer argumento va antes que el nombre del método, seguido de un punto.\n",
    "\n",
    "- `string1.count(string2[, start[, end]])`\n",
    "- `string1.find(string2[, start[, end]])`\n",
    "- `string1.startswith(string2[, start[, end]])`\n",
    "- `string1.strip([string2])`\n",
    "- `string1.lstrip([string2])`\n",
    "- `string1.rstrip([string2])`\n",
    "\n",
    "Se puede obtener ayuda de un método `met` del tipo `tipo` con: `help(tipo.met)`."
   ]
  },
  {
   "cell_type": "markdown",
   "id": "8f0a2531-8d5e-4c23-96d0-f71d7ded0ae9",
   "metadata": {},
   "source": [
    "### Expresiones compuestas\n",
    "\n",
    "Los operadores pueden ser compuestos en serie para obtener expresiones más complejas:\n",
    "```python\n",
    "2 * 3 + 4 - 1\n",
    "```\n",
    "\n",
    "Python sigue reglas convencionales para determinar la precedencia de los operadores, puedes introducir paréntesis al rededor de expresiones para agruparlas y controlar la interpretación de la expresión."
   ]
  },
  {
   "cell_type": "markdown",
   "id": "b5c716b4-7b68-41bb-af1b-ac64a56e8c8d",
   "metadata": {},
   "source": [
    "# Nombres, funciones y módulos\n",
    "\n",
    "Un *nombre* de Python consiste de una cantidad arbitraria de letras, dígitos y el símbolo `_`. La única restricción es que el primer carácter no sea dígito.\n",
    "\n",
    "Un nombre es usado para referirnos a algo: un valor primitivo, una función, etc.\n",
    "\n",
    "La asociación entre un nombre y un valor es llamada *vinculación*, un valor puede estar vinculado a varios nombres.\n",
    "\n",
    "El mismo nombre puede significar cosas distintas en contextos distintos. A los contextos se les llama *espacios de nombres*.\n",
    "\n",
    "Los tipos y funciones que hemos visto son parte del espacio de nombres *global*. Adicionalmente, un espacio de nombres es asociado con cada tipo, esto permite que cada tipo tenga su propia versión de nombres usuales como `count` o `find`.\n",
    "\n",
    "En Python, el término *clase* es sinónimo de \"tipo\" y *objeto* es sinónimo de \"valor\". El símbolo de `.` en `str.count` le dice a Python que busque el método llamado `count` en la clase `str`."
   ]
  },
  {
   "cell_type": "markdown",
   "id": "2d66e585-bb72-46e8-a56d-c5fd7ce91101",
   "metadata": {},
   "source": [
    "Un programa de Python consiste de una secuencia de *instrucciones*. Estas no producen un valor y no pueden ser usadas como expresiones."
   ]
  },
  {
   "cell_type": "markdown",
   "id": "8d3d92aa-48bc-48b2-b04e-ae51bd63d37f",
   "metadata": {},
   "source": [
    "## Asignación de nombres\n",
    "\n",
    "Una *instrucción de asignación* vincula un nombre a un objeto. Se denota con un símbolo `=`.\n",
    "\n",
    "```python\n",
    "name = value\n",
    "```"
   ]
  },
  {
   "cell_type": "markdown",
   "id": "6bde49b7-9569-4d7b-afde-c83a87e7ee68",
   "metadata": {},
   "source": [
    "## Definición de funciones\n",
    "\n",
    "Nuevas funciones son definidas con *instrucciones de definición de función*. Una definición es una *instrucción compuesta*, es decir, se compone de más de una línea de código.\n",
    "\n",
    "La primera línea de cada instrucción compuesta termina con un símbolo `:`. La práctica estándar es indentar con cuatro espacios las líneas siguientes.\n",
    "\n",
    "```python\n",
    "def name(params...):\n",
    "    body\n",
    "```\n",
    "\n",
    "Para indicar el resultado de una función se utiliza la instrucción `return`.\n",
    "\n",
    "Si todavía no decides que programar en una instrucción compuesta, puedes utilizar la instrucción `pass`."
   ]
  },
  {
   "cell_type": "markdown",
   "id": "af630c8c-d146-45cf-825e-15172e3c551f",
   "metadata": {},
   "source": [
    "## Documentación\n",
    "\n",
    "El símbolo `#` le indica a Python que ignore el resto de la línea, estas líneas son llamadas *comentarios*.\n",
    "\n",
    "Python permite la documentación de funciones con *docstrings*, las cuales son simplemente una cadena que comienza la definición de función."
   ]
  },
  {
   "cell_type": "markdown",
   "id": "4eb07f1f-c185-4b29-bef8-11a89740fe78",
   "metadata": {},
   "source": [
    "## Valores de parámetros por defecto\n",
    "\n",
    "En algunos casos, la mayoría de las llamadas a tus funciones van a tener el mismo valor para un parámetro particular. Usualmente estos son para valores simples como `True`, `0`, `None`.\n",
    "\n",
    "Para estos casos, Python provee un mecanismo para asignar un *valor por defecto* al parámetro que será usado si la llamada a función no incluye el valor de forma explícita.\n",
    "\n",
    "```python\n",
    "def nombre(param, ..., opcional=valor, ...):\n",
    "    cuerpo\n",
    "```"
   ]
  },
  {
   "cell_type": "markdown",
   "id": "b89b27f0-bc7d-42ab-acca-532039b22f03",
   "metadata": {},
   "source": [
    "## Aserciones\n",
    "\n",
    "Al programar, suele suceder que tus funciones son llamadas con argumentos del tipo incorrecto o con valores incorrectos.\n",
    "\n",
    "Puedes incorporar las suposiciones que realizan tus funciones en docstrings, sin embargo, esto no va a afectar el cómputo, ni evitar que las instrucciones se intenten ejecutar.\n",
    "\n",
    "Python provee una instrucción de *afirmación*, que suele ser utilizada para afirmar que una expresión es verdadera, de lo contrario se muestra un error.\n",
    "\n",
    "```python\n",
    "assert expression\n",
    "```\n",
    "\n",
    "También puedes usar dos expresiones, una para evaluarse a un valor de verdad y otra para describir el problema:\n",
    "\n",
    "```python\n",
    "assert expression1, expression2\n",
    "```"
   ]
  },
  {
   "cell_type": "markdown",
   "id": "36d87b27-7217-4efa-9c83-3822e6a54bc1",
   "metadata": {},
   "source": [
    "# Usando módulos\n",
    "\n",
    "Además de los tipos, funciones y métodos incluídos en el intérprete de Python, la distribución oficial contiene una amplia biblioteca de *módulos* que podemos utilizar.\n",
    "\n",
    "Un módulo es un archivo que contiene definiciones (principalmente).\n",
    "\n",
    "Una docstring al inicio del archivo (si está presente) describe su propósito.\n",
    "\n",
    "El contenido de un módulo se puede incorporar al entorno del intérprete por medio de una *instrucción de importación*.\n",
    "\n",
    "```python\n",
    "import modulo\n",
    "```\n",
    "\n",
    "El nombre `modulo` es algun módulo disponible en el ambiente de trabajo o simplemente el nombre del archivo, sin su ruta ni extensión."
   ]
  },
  {
   "cell_type": "markdown",
   "id": "1ea7770f-c84d-48c5-9128-f819cd0b9728",
   "metadata": {},
   "source": [
    "El módulo `os` provee una interfaz con el sistema operativo de la máquina."
   ]
  },
  {
   "cell_type": "markdown",
   "id": "3a281e71-afca-4fb0-8ec3-d9e197552d32",
   "metadata": {},
   "source": [
    "Python lleva un registro de los directorios donde los módulos pueden encontrarse y qué módulos ya han sido importados.\n",
    "\n",
    "La primera vez que un módulo es importado, Python busca su archivo en la biblioteca, luego ejecuta las instrucciones que contiene y crea un objeto para representarlo. Si volvemos a importar el mismo módulo, Python se salta todos estos pasos.\n",
    "\n",
    "Cada módulo tiene su propio espacio de nombres. Un objeto de módulo es básicamente eso.\n",
    "\n",
    "El contenido de los módulos se accede utilizando la notación de punto, igual que en las llamadas a métodos.\n",
    "\n",
    "Algúnos módulos incluso tienen submódulos.\n",
    "\n",
    "```python3\n",
    "os.getcwd()\n",
    "os.getlogin()\n",
    "os.path\n",
    "```"
   ]
  },
  {
   "cell_type": "code",
   "execution_count": 9,
   "id": "7b1d75ef",
   "metadata": {},
   "outputs": [],
   "source": [
    "import os"
   ]
  },
  {
   "cell_type": "code",
   "execution_count": 18,
   "id": "8bbf492c",
   "metadata": {},
   "outputs": [
    {
     "name": "stdout",
     "output_type": "stream",
     "text": [
      "c:\\Users\\mcd\\ProgramacionDIR\\pcd-2023-2\\Libretas\n",
      "mcd\n"
     ]
    },
    {
     "data": {
      "text/plain": [
       "<module 'ntpath' (frozen)>"
      ]
     },
     "execution_count": 18,
     "metadata": {},
     "output_type": "execute_result"
    }
   ],
   "source": [
    "print(os.getcwd())\n",
    "print(os.getlogin())\n",
    "os.path\n"
   ]
  },
  {
   "cell_type": "markdown",
   "id": "7b366848-8254-4297-b4a4-433b61f9d80a",
   "metadata": {},
   "source": [
    "El espacio de nombres de cada módulo es aislado del espacio de nombres de otros módulos y del intérprete. Funciones con el mismo nombre pueden ser definidas en múltiples espacios de nombres sin interferir entre sí."
   ]
  },
  {
   "cell_type": "markdown",
   "id": "0724894c-5b99-4fe6-a0a8-75979f9b0cd0",
   "metadata": {},
   "source": [
    "Python nos permite importar nombres particulares de un módulo al espacio de nombres del intérprete (o el módulo que estemos programando).\n",
    "\n",
    "Para importar los nombres `nombre1`, `nombre2`, etc:\n",
    "```python\n",
    "from modulo import nombre1, nombre2, ...\n",
    "```\n",
    "\n",
    "Para importar y cambiar el nombre:\n",
    "```python\n",
    "from modulo import nombre_real as nombre_inventado\n",
    "```\n",
    "\n",
    "Para importar *todos* los nombres de un módulo:\n",
    "```python\n",
    "from modulo import *\n",
    "```"
   ]
  },
  {
   "cell_type": "code",
   "execution_count": 21,
   "id": "a92ae1d6",
   "metadata": {},
   "outputs": [],
   "source": [
    "# con esto solo entra eñ módulo version de sys... no sys...\n",
    "from sys import version\n",
    "\n",
    "\n",
    "# Hacer un import sys\n",
    "import sys"
   ]
  },
  {
   "cell_type": "code",
   "execution_count": 22,
   "id": "f0cc7792-8116-4ae0-ba87-1b04a40faa05",
   "metadata": {},
   "outputs": [
    {
     "data": {
      "text/plain": [
       "<module 'sys' (built-in)>"
      ]
     },
     "execution_count": 22,
     "metadata": {},
     "output_type": "execute_result"
    }
   ],
   "source": [
    "sys"
   ]
  },
  {
   "cell_type": "code",
   "execution_count": 24,
   "id": "80b6ac21-bac0-406e-8b53-e25831e3880c",
   "metadata": {},
   "outputs": [
    {
     "data": {
      "text/plain": [
       "'3.11.4 (tags/v3.11.4:d2340ef, Jun  7 2023, 05:45:37) [MSC v.1934 64 bit (AMD64)]'"
      ]
     },
     "execution_count": 24,
     "metadata": {},
     "output_type": "execute_result"
    }
   ],
   "source": [
    "sys.version"
   ]
  },
  {
   "cell_type": "code",
   "execution_count": 25,
   "id": "e18c69f3-2af1-48d1-9976-f8ab9c90610f",
   "metadata": {},
   "outputs": [],
   "source": [
    "from sys import version"
   ]
  },
  {
   "cell_type": "code",
   "execution_count": 26,
   "id": "e71c6b79-533c-4aac-885a-4846361200d2",
   "metadata": {},
   "outputs": [
    {
     "data": {
      "text/plain": [
       "<module 'sys' (built-in)>"
      ]
     },
     "execution_count": 26,
     "metadata": {},
     "output_type": "execute_result"
    }
   ],
   "source": [
    "sys"
   ]
  },
  {
   "cell_type": "code",
   "execution_count": 27,
   "id": "5e34fb3c-5f8f-4dc3-864b-c3c5dece09e6",
   "metadata": {},
   "outputs": [
    {
     "data": {
      "text/plain": [
       "'3.11.4 (tags/v3.11.4:d2340ef, Jun  7 2023, 05:45:37) [MSC v.1934 64 bit (AMD64)]'"
      ]
     },
     "execution_count": 27,
     "metadata": {},
     "output_type": "execute_result"
    }
   ],
   "source": [
    "version"
   ]
  },
  {
   "cell_type": "code",
   "execution_count": 28,
   "id": "3ca66a44-342d-4188-89d2-b0ff33e33516",
   "metadata": {},
   "outputs": [],
   "source": [
    "import sys"
   ]
  },
  {
   "cell_type": "code",
   "execution_count": 29,
   "id": "58c0fbac-575d-4b45-8407-b9bc6e2dea76",
   "metadata": {},
   "outputs": [
    {
     "data": {
      "text/plain": [
       "<module 'sys' (built-in)>"
      ]
     },
     "execution_count": 29,
     "metadata": {},
     "output_type": "execute_result"
    }
   ],
   "source": [
    "sys"
   ]
  },
  {
   "cell_type": "code",
   "execution_count": 30,
   "id": "9fca2cf9-20c3-4b4a-88ab-45421e729770",
   "metadata": {},
   "outputs": [
    {
     "data": {
      "text/plain": [
       "'3.11.4 (tags/v3.11.4:d2340ef, Jun  7 2023, 05:45:37) [MSC v.1934 64 bit (AMD64)]'"
      ]
     },
     "execution_count": 30,
     "metadata": {},
     "output_type": "execute_result"
    }
   ],
   "source": [
    "version"
   ]
  },
  {
   "cell_type": "code",
   "execution_count": 31,
   "id": "b8f03f4e-5902-4244-a7c4-f8591eb3a570",
   "metadata": {},
   "outputs": [
    {
     "data": {
      "text/plain": [
       "'3.11.4 (tags/v3.11.4:d2340ef, Jun  7 2023, 05:45:37) [MSC v.1934 64 bit (AMD64)]'"
      ]
     },
     "execution_count": 31,
     "metadata": {},
     "output_type": "execute_result"
    }
   ],
   "source": [
    "sys.version"
   ]
  },
  {
   "cell_type": "code",
   "execution_count": 32,
   "id": "75e244b6-b69c-4c98-8617-e69c80948c37",
   "metadata": {},
   "outputs": [
    {
     "ename": "ImportError",
     "evalue": "cannot import name 'la_version' from 'sys' (unknown location)",
     "output_type": "error",
     "traceback": [
      "\u001b[1;31m---------------------------------------------------------------------------\u001b[0m",
      "\u001b[1;31mImportError\u001b[0m                               Traceback (most recent call last)",
      "Cell \u001b[1;32mIn[32], line 1\u001b[0m\n\u001b[1;32m----> 1\u001b[0m \u001b[39mfrom\u001b[39;00m \u001b[39msys\u001b[39;00m \u001b[39mimport\u001b[39;00m la_version\n",
      "\u001b[1;31mImportError\u001b[0m: cannot import name 'la_version' from 'sys' (unknown location)"
     ]
    }
   ],
   "source": [
    "from sys import la_version"
   ]
  },
  {
   "cell_type": "code",
   "execution_count": 33,
   "id": "ac72a555-fac8-4fc0-9306-17805022e7bf",
   "metadata": {},
   "outputs": [
    {
     "ename": "ModuleNotFoundError",
     "evalue": "No module named 'version'",
     "output_type": "error",
     "traceback": [
      "\u001b[1;31m---------------------------------------------------------------------------\u001b[0m",
      "\u001b[1;31mModuleNotFoundError\u001b[0m                       Traceback (most recent call last)",
      "Cell \u001b[1;32mIn[33], line 1\u001b[0m\n\u001b[1;32m----> 1\u001b[0m \u001b[39mimport\u001b[39;00m \u001b[39mversion\u001b[39;00m\n",
      "\u001b[1;31mModuleNotFoundError\u001b[0m: No module named 'version'"
     ]
    }
   ],
   "source": [
    "import version"
   ]
  },
  {
   "cell_type": "code",
   "execution_count": 34,
   "id": "fc7e041c-1fc0-4390-ab43-bc5737f1a958",
   "metadata": {},
   "outputs": [],
   "source": [
    "from sys import version as la_version"
   ]
  },
  {
   "cell_type": "code",
   "execution_count": 35,
   "id": "c241665d-75c1-4dc5-8d20-959eda873bc4",
   "metadata": {},
   "outputs": [
    {
     "data": {
      "text/plain": [
       "'3.11.4 (tags/v3.11.4:d2340ef, Jun  7 2023, 05:45:37) [MSC v.1934 64 bit (AMD64)]'"
      ]
     },
     "execution_count": 35,
     "metadata": {},
     "output_type": "execute_result"
    }
   ],
   "source": [
    "la_version"
   ]
  },
  {
   "cell_type": "markdown",
   "id": "1fa9417e-52e6-415e-9895-df1af71817b5",
   "metadata": {},
   "source": [
    "### Explorando el módulo random"
   ]
  },
  {
   "cell_type": "code",
   "execution_count": 36,
   "id": "b0ac3918-2ff9-4652-86da-b308216154c1",
   "metadata": {},
   "outputs": [],
   "source": [
    "import random"
   ]
  },
  {
   "cell_type": "code",
   "execution_count": 37,
   "id": "6be78cb3-8673-4081-bcb3-ae761f9c554e",
   "metadata": {},
   "outputs": [
    {
     "name": "stdout",
     "output_type": "stream",
     "text": [
      "\u001b[1;31mType:\u001b[0m        module\n",
      "\u001b[1;31mString form:\u001b[0m <module 'random' from 'C:\\\\Program Files\\\\WindowsApps\\\\PythonSoftwareFoundation.Python.3.11_3.11.1264.0_x64__qbz5n2kfra8p0\\\\Lib\\\\random.py'>\n",
      "\u001b[1;31mFile:\u001b[0m        c:\\program files\\windowsapps\\pythonsoftwarefoundation.python.3.11_3.11.1264.0_x64__qbz5n2kfra8p0\\lib\\random.py\n",
      "\u001b[1;31mDocstring:\u001b[0m  \n",
      "Random variable generators.\n",
      "\n",
      "    bytes\n",
      "    -----\n",
      "           uniform bytes (values between 0 and 255)\n",
      "\n",
      "    integers\n",
      "    --------\n",
      "           uniform within range\n",
      "\n",
      "    sequences\n",
      "    ---------\n",
      "           pick random element\n",
      "           pick random sample\n",
      "           pick weighted random sample\n",
      "           generate random permutation\n",
      "\n",
      "    distributions on the real line:\n",
      "    ------------------------------\n",
      "           uniform\n",
      "           triangular\n",
      "           normal (Gaussian)\n",
      "           lognormal\n",
      "           negative exponential\n",
      "           gamma\n",
      "           beta\n",
      "           pareto\n",
      "           Weibull\n",
      "\n",
      "    distributions on the circle (angles 0 to 2pi)\n",
      "    ---------------------------------------------\n",
      "           circular uniform\n",
      "           von Mises\n",
      "\n",
      "General notes on the underlying Mersenne Twister core generator:\n",
      "\n",
      "* The period is 2**19937-1.\n",
      "* It is one of the most extensively tested generators in existence.\n",
      "* The random() method is implemented in C, executes in a single Python step,\n",
      "  and is, therefore, threadsafe."
     ]
    }
   ],
   "source": [
    "random?"
   ]
  },
  {
   "cell_type": "code",
   "execution_count": 49,
   "id": "460f75bc-e715-4b9b-83c2-c55049b47d40",
   "metadata": {},
   "outputs": [
    {
     "data": {
      "text/plain": [
       "['BPF',\n",
       " 'LOG4',\n",
       " 'NV_MAGICCONST',\n",
       " 'RECIP_BPF',\n",
       " 'Random',\n",
       " 'SG_MAGICCONST',\n",
       " 'SystemRandom',\n",
       " 'TWOPI',\n",
       " '_ONE',\n",
       " '_Sequence',\n",
       " '_Set',\n",
       " '__all__',\n",
       " '__builtins__',\n",
       " '__cached__',\n",
       " '__doc__',\n",
       " '__file__',\n",
       " '__loader__',\n",
       " '__name__',\n",
       " '__package__',\n",
       " '__spec__',\n",
       " '_accumulate',\n",
       " '_acos',\n",
       " '_bisect',\n",
       " '_ceil',\n",
       " '_cos',\n",
       " '_e',\n",
       " '_exp',\n",
       " '_floor',\n",
       " '_index',\n",
       " '_inst',\n",
       " '_isfinite',\n",
       " '_log',\n",
       " '_os',\n",
       " '_pi',\n",
       " '_random',\n",
       " '_repeat',\n",
       " '_sha512',\n",
       " '_sin',\n",
       " '_sqrt',\n",
       " '_test',\n",
       " '_test_generator',\n",
       " '_urandom',\n",
       " '_warn',\n",
       " 'betavariate',\n",
       " 'choice',\n",
       " 'choices',\n",
       " 'expovariate',\n",
       " 'gammavariate',\n",
       " 'gauss',\n",
       " 'getrandbits',\n",
       " 'getstate',\n",
       " 'lognormvariate',\n",
       " 'normalvariate',\n",
       " 'paretovariate',\n",
       " 'randbytes',\n",
       " 'randint',\n",
       " 'random',\n",
       " 'randrange',\n",
       " 'sample',\n",
       " 'seed',\n",
       " 'setstate',\n",
       " 'shuffle',\n",
       " 'triangular',\n",
       " 'uniform',\n",
       " 'vonmisesvariate',\n",
       " 'weibullvariate']"
      ]
     },
     "execution_count": 49,
     "metadata": {},
     "output_type": "execute_result"
    }
   ],
   "source": [
    "dir(random)"
   ]
  },
  {
   "cell_type": "code",
   "execution_count": 38,
   "id": "d07ec036",
   "metadata": {},
   "outputs": [
    {
     "name": "stdout",
     "output_type": "stream",
     "text": [
      "\u001b[1;31mSignature:\u001b[0m \u001b[0mrandom\u001b[0m\u001b[1;33m.\u001b[0m\u001b[0mgauss\u001b[0m\u001b[1;33m(\u001b[0m\u001b[0mmu\u001b[0m\u001b[1;33m=\u001b[0m\u001b[1;36m0.0\u001b[0m\u001b[1;33m,\u001b[0m \u001b[0msigma\u001b[0m\u001b[1;33m=\u001b[0m\u001b[1;36m1.0\u001b[0m\u001b[1;33m)\u001b[0m\u001b[1;33m\u001b[0m\u001b[1;33m\u001b[0m\u001b[0m\n",
      "\u001b[1;31mDocstring:\u001b[0m\n",
      "Gaussian distribution.\n",
      "\n",
      "mu is the mean, and sigma is the standard deviation.  This is\n",
      "slightly faster than the normalvariate() function.\n",
      "\n",
      "Not thread-safe without a lock around calls.\n",
      "\u001b[1;31mFile:\u001b[0m      c:\\program files\\windowsapps\\pythonsoftwarefoundation.python.3.11_3.11.1264.0_x64__qbz5n2kfra8p0\\lib\\random.py\n",
      "\u001b[1;31mType:\u001b[0m      method"
     ]
    }
   ],
   "source": [
    "random.gauss?"
   ]
  },
  {
   "cell_type": "code",
   "execution_count": 39,
   "id": "b068c902-6885-40c3-8047-e31c4d37b49b",
   "metadata": {},
   "outputs": [
    {
     "name": "stdout",
     "output_type": "stream",
     "text": [
      "\u001b[1;31mSignature:\u001b[0m \u001b[0mrandom\u001b[0m\u001b[1;33m.\u001b[0m\u001b[0mchoice\u001b[0m\u001b[1;33m(\u001b[0m\u001b[0mseq\u001b[0m\u001b[1;33m)\u001b[0m\u001b[1;33m\u001b[0m\u001b[1;33m\u001b[0m\u001b[0m\n",
      "\u001b[1;31mDocstring:\u001b[0m Choose a random element from a non-empty sequence.\n",
      "\u001b[1;31mFile:\u001b[0m      c:\\program files\\windowsapps\\pythonsoftwarefoundation.python.3.11_3.11.1264.0_x64__qbz5n2kfra8p0\\lib\\random.py\n",
      "\u001b[1;31mType:\u001b[0m      method"
     ]
    }
   ],
   "source": [
    "random.choice?"
   ]
  },
  {
   "cell_type": "code",
   "execution_count": 47,
   "id": "9896b32a-dd59-4966-bead-dded5c19b596",
   "metadata": {},
   "outputs": [
    {
     "data": {
      "text/plain": [
       "'A'"
      ]
     },
     "execution_count": 47,
     "metadata": {},
     "output_type": "execute_result"
    }
   ],
   "source": [
    "random.choice('ABCDE')"
   ]
  },
  {
   "cell_type": "code",
   "execution_count": 47,
   "id": "41868ffc-ef2c-423c-a0f1-a7786ae6b458",
   "metadata": {},
   "outputs": [
    {
     "name": "stdout",
     "output_type": "stream",
     "text": [
      "\u001b[1;31mSignature:\u001b[0m \u001b[0mrandom\u001b[0m\u001b[1;33m.\u001b[0m\u001b[0mrandint\u001b[0m\u001b[1;33m(\u001b[0m\u001b[0ma\u001b[0m\u001b[1;33m,\u001b[0m \u001b[0mb\u001b[0m\u001b[1;33m)\u001b[0m\u001b[1;33m\u001b[0m\u001b[1;33m\u001b[0m\u001b[0m\n",
      "\u001b[1;31mDocstring:\u001b[0m\n",
      "Return random integer in range [a, b], including both end points.\n",
      "        \n",
      "\u001b[1;31mFile:\u001b[0m      c:\\program files\\windowsapps\\pythonsoftwarefoundation.python.3.11_3.11.1264.0_x64__qbz5n2kfra8p0\\lib\\random.py\n",
      "\u001b[1;31mType:\u001b[0m      method"
     ]
    }
   ],
   "source": [
    "random.randint?"
   ]
  },
  {
   "cell_type": "code",
   "execution_count": 58,
   "id": "195ec666-2646-4955-b648-b04614693bb0",
   "metadata": {},
   "outputs": [
    {
     "data": {
      "text/plain": [
       "4"
      ]
     },
     "execution_count": 58,
     "metadata": {},
     "output_type": "execute_result"
    }
   ],
   "source": [
    "random.randint(1, 6)"
   ]
  },
  {
   "cell_type": "code",
   "execution_count": 59,
   "id": "5428f10a-4ca5-4fd2-a69a-c227c1031603",
   "metadata": {},
   "outputs": [
    {
     "name": "stdout",
     "output_type": "stream",
     "text": [
      "\u001b[1;31mSignature:\u001b[0m \u001b[0mrandom\u001b[0m\u001b[1;33m.\u001b[0m\u001b[0mrandom\u001b[0m\u001b[1;33m(\u001b[0m\u001b[1;33m)\u001b[0m\u001b[1;33m\u001b[0m\u001b[1;33m\u001b[0m\u001b[0m\n",
      "\u001b[1;31mDocstring:\u001b[0m random() -> x in the interval [0, 1).\n",
      "\u001b[1;31mType:\u001b[0m      builtin_function_or_method"
     ]
    }
   ],
   "source": [
    "random.random?"
   ]
  },
  {
   "cell_type": "code",
   "execution_count": 73,
   "id": "098ad3c4-b353-4e29-8f30-5910e82e9cc9",
   "metadata": {},
   "outputs": [
    {
     "data": {
      "text/plain": [
       "0.23957350279783274"
      ]
     },
     "execution_count": 73,
     "metadata": {},
     "output_type": "execute_result"
    }
   ],
   "source": [
    "random.random()"
   ]
  },
  {
   "cell_type": "code",
   "execution_count": 74,
   "id": "d0cdec13-79e5-4033-baf8-36d40f8d8c15",
   "metadata": {},
   "outputs": [
    {
     "name": "stdout",
     "output_type": "stream",
     "text": [
      "\u001b[1;31mSignature:\u001b[0m \u001b[0mrandom\u001b[0m\u001b[1;33m.\u001b[0m\u001b[0muniform\u001b[0m\u001b[1;33m(\u001b[0m\u001b[0ma\u001b[0m\u001b[1;33m,\u001b[0m \u001b[0mb\u001b[0m\u001b[1;33m)\u001b[0m\u001b[1;33m\u001b[0m\u001b[1;33m\u001b[0m\u001b[0m\n",
      "\u001b[1;31mDocstring:\u001b[0m Get a random number in the range [a, b) or [a, b] depending on rounding.\n",
      "\u001b[1;31mFile:\u001b[0m      c:\\program files\\windowsapps\\pythonsoftwarefoundation.python.3.11_3.11.1264.0_x64__qbz5n2kfra8p0\\lib\\random.py\n",
      "\u001b[1;31mType:\u001b[0m      method"
     ]
    }
   ],
   "source": [
    "random.uniform?"
   ]
  },
  {
   "cell_type": "code",
   "execution_count": 75,
   "id": "49fbd047-cd60-4452-82a1-de50c8d2f539",
   "metadata": {},
   "outputs": [
    {
     "data": {
      "text/plain": [
       "0.012538653548411539"
      ]
     },
     "execution_count": 75,
     "metadata": {},
     "output_type": "execute_result"
    }
   ],
   "source": [
    "random.uniform(0.0, 0.1)"
   ]
  },
  {
   "cell_type": "code",
   "execution_count": 76,
   "id": "63bede60-19a3-43a2-b7b5-ea6f3e8ac950",
   "metadata": {},
   "outputs": [
    {
     "name": "stdout",
     "output_type": "stream",
     "text": [
      "\u001b[1;31mSignature:\u001b[0m \u001b[0mrandom\u001b[0m\u001b[1;33m.\u001b[0m\u001b[0mgauss\u001b[0m\u001b[1;33m(\u001b[0m\u001b[0mmu\u001b[0m\u001b[1;33m=\u001b[0m\u001b[1;36m0.0\u001b[0m\u001b[1;33m,\u001b[0m \u001b[0msigma\u001b[0m\u001b[1;33m=\u001b[0m\u001b[1;36m1.0\u001b[0m\u001b[1;33m)\u001b[0m\u001b[1;33m\u001b[0m\u001b[1;33m\u001b[0m\u001b[0m\n",
      "\u001b[1;31mDocstring:\u001b[0m\n",
      "Gaussian distribution.\n",
      "\n",
      "mu is the mean, and sigma is the standard deviation.  This is\n",
      "slightly faster than the normalvariate() function.\n",
      "\n",
      "Not thread-safe without a lock around calls.\n",
      "\u001b[1;31mFile:\u001b[0m      c:\\program files\\windowsapps\\pythonsoftwarefoundation.python.3.11_3.11.1264.0_x64__qbz5n2kfra8p0\\lib\\random.py\n",
      "\u001b[1;31mType:\u001b[0m      method"
     ]
    }
   ],
   "source": [
    "random.gauss?"
   ]
  },
  {
   "cell_type": "code",
   "execution_count": 98,
   "id": "e1b77e16-21b4-4c4e-b872-845e39dd4bb7",
   "metadata": {},
   "outputs": [
    {
     "data": {
      "text/plain": [
       "-3.266760015526609"
      ]
     },
     "execution_count": 98,
     "metadata": {},
     "output_type": "execute_result"
    }
   ],
   "source": [
    "random.gauss(5.0, 10.0)"
   ]
  },
  {
   "cell_type": "markdown",
   "id": "f57e498b-2a75-4d68-9bea-8f012ce92391",
   "metadata": {},
   "source": [
    "### Archivos de Python\n",
    "\n",
    "Un archivo que importes se convierte en un módulo tal y como si estuviera en la biblioteca de Python.\n",
    "\n",
    "Cada archivo de Python debe importar los módulos que usa. Si *A* usa el módulo *M*, debe importar a *M* sin importar si importa otro archivo que importa *M* o si es importado en el intérprete después de que *M* haya sido importado allí."
   ]
  },
  {
   "cell_type": "markdown",
   "id": "768e543a-1206-42b5-886e-45e87ccb79f0",
   "metadata": {},
   "source": [
    "## Problemas\n",
    "\n",
    "1. Escribe un predicado que verifica si una cadena de caracteres es un dígito.\n",
    "2. Escribe un predicado que verifica si una cadena de caracteres consiste únicamente de dígitos.\n",
    "3. Escribe una función que genere un dígito de forma aleatoria.\n",
    "4. Escribe una función que genera una cadena con $n$ dígitos aleatorios.\n",
    "5. Escribe una función que calcule la distancia de Hamming de dos cadenas de dígitos del mismo tamaño.\n",
    "6. Escribe una función que dada una cadena de dígitos, regresa una cadena igual pero con un dígito cualquiera modificado a otro de forma aleatoria.\n",
    "7. Escribe una función que dada una cadena de dígitos, regresa una cadena igual pero con dos dígitos cualquiera modificados a otros de forma aleatoria.\n",
    "8. Escribe una función que dada una cadena de dígitos, regresa una cadena igual pero con tres dígitos cualquiera modificados a otros de forma aleatoria.\n",
    "9. Escribe una función que dada una cadena de $N$ dígitos, regrese una cadena igual pero con $n$ dígitos cualquiera modificados a otros de forma aleatoria, donde $n \\leq N$."
   ]
  },
  {
   "cell_type": "code",
   "execution_count": 23,
   "metadata": {},
   "outputs": [
    {
     "data": {
      "text/plain": [
       "'Es un dígito...'"
      ]
     },
     "execution_count": 23,
     "metadata": {},
     "output_type": "execute_result"
    }
   ],
   "source": [
    "# Ejercicio 1\n",
    "\n",
    "# Métodos de str.isdigit()\n",
    "\"000111\".isdigit()\n",
    "\n",
    "def esnumero(cadena):\n",
    "    if cadena.isdigit() == True and len(cadena) == 1:\n",
    "        return \"Es un dígito...\"\n",
    "    return \"No es un dígito...\"\n",
    "\n",
    "valor =\"1\"\n",
    "\n",
    "esnumero(valor)"
   ]
  },
  {
   "cell_type": "code",
   "execution_count": 12,
   "id": "551d2ef0",
   "metadata": {},
   "outputs": [
    {
     "name": "stdout",
     "output_type": "stream",
     "text": [
      "True\n"
     ]
    }
   ],
   "source": [
    "#Ejercicio 1 Corregido...\n",
    "\n",
    "def es_digito(x):\n",
    "    return (\n",
    "        isinstance(x,str) and\n",
    "        len(x)==1 and\n",
    "        x in \"0123456789\"\n",
    "    )\n",
    "\n",
    "assert not es_digito(0), \"falló la 1...\"\n",
    "\n",
    "\n",
    "print(es_digito(\"1\"))\n"
   ]
  },
  {
   "cell_type": "code",
   "execution_count": 14,
   "id": "58166594",
   "metadata": {},
   "outputs": [
    {
     "data": {
      "text/plain": [
       "True"
      ]
     },
     "execution_count": 14,
     "metadata": {},
     "output_type": "execute_result"
    }
   ],
   "source": [
    "def solo_digitos_desde(x,i):\n",
    "    return (\n",
    "        True if len(x) == i\n",
    "        else es_digito(x[i]) and solo_digitos_desde(x, i + 1)\n",
    "    )\n",
    "\n",
    "solo_digitos_desde(\"1234567890\" * 297,0) # Soporta hasta 2971 llamadas... "
   ]
  },
  {
   "cell_type": "code",
   "execution_count": 32,
   "id": "442340e5-286a-4b63-ac66-c0ca80c78247",
   "metadata": {},
   "outputs": [
    {
     "name": "stdout",
     "output_type": "stream",
     "text": [
      "Solo consiste en dígitos...\n"
     ]
    }
   ],
   "source": [
    "# Ejercicio 2.\n",
    "\n",
    "def solodigitos(cadena):\n",
    "    if cadena.isdigit() == True:\n",
    "        return \"Solo consiste en dígitos...\"\n",
    "    return \"No solo consiste en dígitos...\"\n",
    "\n",
    "valor =\"1111\"\n",
    "\n",
    "print(solodigitos(valor))"
   ]
  },
  {
   "cell_type": "code",
   "execution_count": 29,
   "metadata": {},
   "outputs": [
    {
     "data": {
      "text/plain": [
       "'No solo consiste en digitos...'"
      ]
     },
     "execution_count": 29,
     "metadata": {},
     "output_type": "execute_result"
    }
   ],
   "source": [
    "# Versión con recursividad??? Revisarla...\n",
    "\n",
    "def solodigitos(cadena):\n",
    "    if type(cadena)==int or type(cadena)==float:\n",
    "        return \"El tipo de datos es un numérico...\" \n",
    "    for caracter in cadena:\n",
    "        if ord(caracter)>57 or ord(caracter)<49:\n",
    "            #print (ord(caracter))\n",
    "            return \"No solo consiste en digitos...\"\n",
    "    return \"Solo consiste en digitos...\"\n",
    "\n",
    "#a=11.1\n",
    "#a=12121212\n",
    "#a=\"12121212\"\n",
    "a=\"1234567890\"\n",
    "\n",
    "#solodigitos(a * 297)\n",
    "\n",
    "solodigitos(a * 297)"
   ]
  },
  {
   "cell_type": "code",
   "execution_count": 41,
   "id": "a6d51cff",
   "metadata": {},
   "outputs": [
    {
     "data": {
      "text/plain": [
       "'5'"
      ]
     },
     "execution_count": 41,
     "metadata": {},
     "output_type": "execute_result"
    }
   ],
   "source": [
    "# Ejercicio 3.\n",
    "import random\n",
    "\n",
    "def aleatorio():\n",
    "    return str(random.randint(0,9))\n",
    "\n",
    "\"\"\"\n",
    "def aleatorio_rangos(rangos=[0,9]):\n",
    "    return random.randint(rangos[0],rangos[1])\n",
    "\n",
    "    \"\"\"\n",
    "\n",
    "aleatorio()\n"
   ]
  },
  {
   "cell_type": "code",
   "execution_count": 75,
   "id": "73650747",
   "metadata": {},
   "outputs": [
    {
     "data": {
      "text/plain": [
       "'528'"
      ]
     },
     "execution_count": 75,
     "metadata": {},
     "output_type": "execute_result"
    }
   ],
   "source": [
    "# Ejercicio 4.\n",
    "def cadenadigitos(size:int):\n",
    "    cadena = \"\"\n",
    "    for i in range(size):\n",
    "        cadena = cadena + str(aleatorio())\n",
    "    return cadena\n",
    "\n",
    "cadenadigitos(3)"
   ]
  },
  {
   "cell_type": "code",
   "execution_count": 68,
   "metadata": {},
   "outputs": [
    {
     "data": {
      "text/plain": [
       "'37'"
      ]
     },
     "execution_count": 68,
     "metadata": {},
     "output_type": "execute_result"
    }
   ],
   "source": [
    "# Por el profesor...\n",
    "\n",
    "def random_str(n):\n",
    "    return (\n",
    "            \"\" if n == 0\n",
    "            else aleatorio() + random_str(n-1)\n",
    "    )\n",
    "\n",
    "random_str(2)"
   ]
  },
  {
   "cell_type": "code",
   "execution_count": 81,
   "id": "a441cea0",
   "metadata": {},
   "outputs": [
    {
     "data": {
      "text/plain": [
       "'La distancia es: 2'"
      ]
     },
     "execution_count": 81,
     "metadata": {},
     "output_type": "execute_result"
    }
   ],
   "source": [
    "# Ejercicio 5.\n",
    "def distancia(num1,num2):    \n",
    "    numstr1,numstr2 = str(num1),str(num2)\n",
    "    if len(numstr1) != len(numstr2):\n",
    "        return \"Números de tamaños diferentes...\"\n",
    "    distancia = 0\n",
    "    for i in range(len(numstr1)):\n",
    "        if numstr1[i] != numstr2[i]:\n",
    "            distancia += 1\n",
    "    if distancia == 0:\n",
    "        answer = \"Los números son iguales...\"\n",
    "    else:\n",
    "        answer = \"La distancia es: \" + str(distancia)\n",
    "    return answer\n",
    "\n",
    "distancia(\"222\" ,\"523\")"
   ]
  },
  {
   "cell_type": "code",
   "execution_count": 84,
   "metadata": {},
   "outputs": [
    {
     "data": {
      "text/plain": [
       "'La distancia es: 3'"
      ]
     },
     "execution_count": 84,
     "metadata": {},
     "output_type": "execute_result"
    }
   ],
   "source": [
    "# Otro método...\n",
    "def distancia2(num1,num2):    \n",
    "    numstr1,numstr2 = str(num1),str(num2)\n",
    "    \n",
    "    assert len(numstr1) == len(numstr2), \"Números de tamaños diferentes...\"\n",
    "    \n",
    "    distancia = 0\n",
    "    for i in range(len(numstr1)):\n",
    "        if numstr1[i] != numstr2[i]:\n",
    "            distancia += 1\n",
    "    if distancia == 0:\n",
    "        answer = \"Los números son iguales...\"\n",
    "    else:\n",
    "        answer = \"La distancia es: \" + str(distancia)\n",
    "    return answer\n",
    "\n",
    "distancia2(\"341\" ,\"523\")"
   ]
  },
  {
   "cell_type": "code",
   "execution_count": 126,
   "metadata": {},
   "outputs": [
    {
     "data": {
      "text/plain": [
       "'3'"
      ]
     },
     "execution_count": 126,
     "metadata": {},
     "output_type": "execute_result"
    }
   ],
   "source": [
    "random.choice(\"123\")"
   ]
  },
  {
   "cell_type": "code",
   "execution_count": 171,
   "id": "2acc74a8",
   "metadata": {},
   "outputs": [
    {
     "data": {
      "text/plain": [
       "\"['6', '2', '5', '9', '5', '5', '5', '9', '8', '3']\""
      ]
     },
     "execution_count": 171,
     "metadata": {},
     "output_type": "execute_result"
    }
   ],
   "source": [
    "# Toca el Ejercicio 6. Pero primero haremos el 9... okey???\n",
    "\n",
    "def aleatorizador(cadena,n:int):\n",
    "    if len(cadena) == 0 or n > len(cadena) or cadena.isdigit() == False:\n",
    "        return \"No es posible trabajar con esta cadena...\"\n",
    "    indices_modificar = sorted(random.sample(range(len(cadena)),n))\n",
    "    cadena_mutable = list(cadena)\n",
    "    digitos_default = \"0123456789\"\n",
    "    for i in indices_modificar:\n",
    "        digitos_disponibles = digitos_default.replace(str(cadena_mutable[i]), \"\")\n",
    "        cadena_mutable[i] = random.choice(digitos_disponibles)\n",
    "    return str(cadena_mutable)\n",
    "\n",
    "aleatorizador(\"1234567890\",8)"
   ]
  },
  {
   "cell_type": "code",
   "execution_count": 185,
   "id": "4de4f872",
   "metadata": {},
   "outputs": [
    {
     "name": "stdout",
     "output_type": "stream",
     "text": [
      "['1', '2', '3', '4', '0', '6', '7', '8', '9', '0']\n",
      "['1', '2', '3', '4', '5', '6', '7', '5', '0', '0']\n",
      "['1', '2', '0', '5', '5', '6', '7', '0', '9', '0']\n"
     ]
    }
   ],
   "source": [
    "# Dicho esto, pues...\n",
    "\n",
    "# Ejercicio 6:\n",
    "print(aleatorizador(\"1234567890\",1))\n",
    "\n",
    "# Ejercicio 7:\n",
    "print(aleatorizador(\"1234567890\",2))\n",
    "\n",
    "# Ejercicio 8:\n",
    "print(aleatorizador(\"1234567890\",3))"
   ]
  }
 ],
 "metadata": {
  "kernelspec": {
   "display_name": "Python 3 (ipykernel)",
   "language": "python",
   "name": "python3"
  },
  "language_info": {
   "codemirror_mode": {
    "name": "ipython",
    "version": 3
   },
   "file_extension": ".py",
   "mimetype": "text/x-python",
   "name": "python",
   "nbconvert_exporter": "python",
   "pygments_lexer": "ipython3",
   "version": "3.11.3"
  }
 },
 "nbformat": 4,
 "nbformat_minor": 5
}
