{
 "cells": [
  {
   "cell_type": "markdown",
   "id": "fc864d6f-cd74-49eb-aee6-bff91fe5c256",
   "metadata": {},
   "source": [
    "# Introducción a Pandas\n",
    "\n",
    "Pandas es una biblioteca que construye sobre NumPy y provee una implementación eficiente de *DataFrames* un tipo de objetos de Python similar a una tabla que permite una conveniente manipulación de columnas y renglones, así como mecanismos para trabajar con valores faltantes e índices más complejos que los usuales (por ejemplo, fechas o instantes de tiempo).\n",
    "\n",
    "En esta libreta veremos cómo utilizar los tipos `Series` y `DataFrame` de Pandas. Pero primero asegúrate de haber instalado la biblioteca:\n",
    "1. Activa tu entorno de trabajo.\n",
    "2. Ejecuta el comando en la consola: `pip install pandas`."
   ]
  },
  {
   "cell_type": "code",
   "execution_count": 2,
   "id": "83f04829-9679-455f-bdd3-092a95beede6",
   "metadata": {},
   "outputs": [],
   "source": [
    "import numpy as np\n",
    "import pandas as pd"
   ]
  },
  {
   "cell_type": "code",
   "execution_count": 3,
   "id": "e220b560-066f-43b3-b31c-b7469da81e11",
   "metadata": {},
   "outputs": [
    {
     "data": {
      "text/plain": [
       "'2.0.3'"
      ]
     },
     "execution_count": 3,
     "metadata": {},
     "output_type": "execute_result"
    }
   ],
   "source": [
    "pd.__version__"
   ]
  },
  {
   "cell_type": "markdown",
   "id": "22ba98b6-189b-4c0b-9d2e-b5d1a07c95a7",
   "metadata": {},
   "source": [
    "## Series\n",
    "\n",
    "El tipo `Series` representa arreglos unidimensionales de datos indexados. Puede ser creado a partir de una secuencia:"
   ]
  },
  {
   "cell_type": "code",
   "execution_count": 4,
   "id": "c996ccd4-c825-440e-b59e-be792252e3b9",
   "metadata": {},
   "outputs": [
    {
     "data": {
      "text/plain": [
       "0    0.25\n",
       "1    0.50\n",
       "2    0.75\n",
       "3    1.00\n",
       "dtype: float64"
      ]
     },
     "execution_count": 4,
     "metadata": {},
     "output_type": "execute_result"
    }
   ],
   "source": [
    "data = pd.Series([0.25, 0.5, 0.75, 1.0])\n",
    "data"
   ]
  },
  {
   "cell_type": "markdown",
   "id": "6d296cf1-b4ff-458d-8e9e-6624a8957b4c",
   "metadata": {},
   "source": [
    "Observemos que un objeto `Series` contempla tanto la secuencia de valores como la secuencia de índices. Los valores se almacenan internamente como un arreglo de NumPy:"
   ]
  },
  {
   "cell_type": "code",
   "execution_count": 5,
   "id": "c48b802f-ba45-46d3-96bb-cc80e72a7450",
   "metadata": {},
   "outputs": [
    {
     "data": {
      "text/plain": [
       "array([0.25, 0.5 , 0.75, 1.  ])"
      ]
     },
     "execution_count": 5,
     "metadata": {},
     "output_type": "execute_result"
    }
   ],
   "source": [
    "data.values"
   ]
  },
  {
   "cell_type": "markdown",
   "id": "61ba4f56-2b54-49f7-8637-21a01d3cd1cf",
   "metadata": {},
   "source": [
    "Los índices se almacenan internamente como un objeto parecido a arreglo de tipo `pd.Index`:"
   ]
  },
  {
   "cell_type": "code",
   "execution_count": 6,
   "id": "82ec3c33-cafd-45d7-bca9-30e757dd3ae2",
   "metadata": {},
   "outputs": [
    {
     "data": {
      "text/plain": [
       "RangeIndex(start=0, stop=4, step=1)"
      ]
     },
     "execution_count": 6,
     "metadata": {},
     "output_type": "execute_result"
    }
   ],
   "source": [
    "data.index"
   ]
  },
  {
   "cell_type": "markdown",
   "id": "d1cd6d49-9e8c-45dd-a6c8-5514263ff69f",
   "metadata": {},
   "source": [
    "Podemos usar operaciones similares a los arreglos de NumPy, pero para objetos `Series`."
   ]
  },
  {
   "cell_type": "code",
   "execution_count": 7,
   "id": "de2a0ce6-e521-424f-984c-f424efe7f08b",
   "metadata": {},
   "outputs": [
    {
     "data": {
      "text/plain": [
       "0.5"
      ]
     },
     "execution_count": 7,
     "metadata": {},
     "output_type": "execute_result"
    }
   ],
   "source": [
    "data[1]"
   ]
  },
  {
   "cell_type": "code",
   "execution_count": 8,
   "id": "6d656083-9eca-47b6-bfdd-675b1c7d1b53",
   "metadata": {},
   "outputs": [
    {
     "data": {
      "text/plain": [
       "1    0.50\n",
       "2    0.75\n",
       "dtype: float64"
      ]
     },
     "execution_count": 8,
     "metadata": {},
     "output_type": "execute_result"
    }
   ],
   "source": [
    "data[1:3]"
   ]
  },
  {
   "cell_type": "code",
   "execution_count": 9,
   "id": "f6452598-52c6-48a1-9f70-a545e4bfc6be",
   "metadata": {},
   "outputs": [
    {
     "data": {
      "text/plain": [
       "0    0.25\n",
       "1    0.50\n",
       "2    0.75\n",
       "3    1.00\n",
       "dtype: float64"
      ]
     },
     "execution_count": 9,
     "metadata": {},
     "output_type": "execute_result"
    }
   ],
   "source": [
    "data"
   ]
  },
  {
   "cell_type": "markdown",
   "id": "b8de256d-88c5-4ffa-9305-0c2eacdbf8ff",
   "metadata": {},
   "source": [
    "Al calcular un subarreglo, los índices siguen correspondiendo a los valores del arreglo original.\n",
    "\n",
    "Podemos pensar en los objetos `Series` como arreglos de NumPy generalizados. La inclusión de los índices de forma explícita en la estructura de los objetos nos permite, por ejemplo, usar otros tipos de valores no numéricos."
   ]
  },
  {
   "cell_type": "markdown",
   "id": "09b867b9-6e37-4e00-a916-7780d1b8cc09",
   "metadata": {},
   "source": [
    "---"
   ]
  },
  {
   "cell_type": "code",
   "execution_count": 10,
   "id": "5e0e2baf-391e-4f44-a4ef-205bd098739e",
   "metadata": {},
   "outputs": [
    {
     "data": {
      "text/plain": [
       "a    0.25\n",
       "b    0.50\n",
       "c    0.75\n",
       "d    1.00\n",
       "dtype: float64"
      ]
     },
     "execution_count": 10,
     "metadata": {},
     "output_type": "execute_result"
    }
   ],
   "source": [
    "data = pd.Series([0.25, 0.5, 0.75, 1.0],\n",
    "                 index=['a', 'b', 'c', 'd'])\n",
    "data"
   ]
  },
  {
   "cell_type": "code",
   "execution_count": 11,
   "id": "8afcb34b-a5fc-4c5e-8828-212727bdb41f",
   "metadata": {},
   "outputs": [
    {
     "data": {
      "text/plain": [
       "0.5"
      ]
     },
     "execution_count": 11,
     "metadata": {},
     "output_type": "execute_result"
    }
   ],
   "source": [
    "data['b']"
   ]
  },
  {
   "cell_type": "code",
   "execution_count": 12,
   "id": "bcbfce60-b384-4013-9cb3-02db70b08f18",
   "metadata": {},
   "outputs": [
    {
     "data": {
      "text/plain": [
       "Index(['a', 'b', 'c', 'd'], dtype='object')"
      ]
     },
     "execution_count": 12,
     "metadata": {},
     "output_type": "execute_result"
    }
   ],
   "source": [
    "data.index"
   ]
  },
  {
   "cell_type": "markdown",
   "id": "9ecb49c7-94fe-43ea-84b1-95966e943685",
   "metadata": {},
   "source": [
    "---"
   ]
  },
  {
   "cell_type": "code",
   "execution_count": 13,
   "id": "f9e211b5-1e30-4cf9-80e8-126fa1d909c5",
   "metadata": {},
   "outputs": [
    {
     "data": {
      "text/plain": [
       "2    0.25\n",
       "5    0.50\n",
       "3    0.75\n",
       "7    1.00\n",
       "dtype: float64"
      ]
     },
     "execution_count": 13,
     "metadata": {},
     "output_type": "execute_result"
    }
   ],
   "source": [
    "data = pd.Series([0.25, 0.5, 0.75, 1.0],\n",
    "                 index=[2, 5, 3, 7])\n",
    "data"
   ]
  },
  {
   "cell_type": "code",
   "execution_count": 14,
   "id": "bc5a435a-443f-4dff-8c0c-fd039d25193a",
   "metadata": {},
   "outputs": [
    {
     "data": {
      "text/plain": [
       "0.5"
      ]
     },
     "execution_count": 14,
     "metadata": {},
     "output_type": "execute_result"
    }
   ],
   "source": [
    "data[5]"
   ]
  },
  {
   "cell_type": "markdown",
   "id": "033b9748-b951-45f5-ab38-a8844a3b7284",
   "metadata": {},
   "source": [
    "---\n",
    "\n",
    "Podemos utilizar `Series` como una forma de diccionario:"
   ]
  },
  {
   "cell_type": "code",
   "execution_count": 15,
   "id": "7ec6ceef-ca79-486b-8ac3-41aec2ba349b",
   "metadata": {},
   "outputs": [
    {
     "data": {
      "text/plain": [
       "Sonora              2945000\n",
       "Chihuahua           3742000\n",
       "Sinaloa             3027000\n",
       "La Habana           3265832\n",
       "Santiago de Cuba    2286360\n",
       "dtype: int64"
      ]
     },
     "execution_count": 15,
     "metadata": {},
     "output_type": "execute_result"
    }
   ],
   "source": [
    "población = pd.Series({\n",
    "    'Sonora': 2945000,\n",
    "    'Chihuahua': 3742000,\n",
    "    'Sinaloa': 3027000,\n",
    "    'La Habana': 3265832,\n",
    "    'Santiago de Cuba': 2286360,\n",
    "})\n",
    "población"
   ]
  },
  {
   "cell_type": "code",
   "execution_count": 16,
   "metadata": {},
   "outputs": [
    {
     "data": {
      "text/plain": [
       "Index(['Sonora', 'Chihuahua', 'Sinaloa', 'La Habana', 'Santiago de Cuba'], dtype='object')"
      ]
     },
     "execution_count": 16,
     "metadata": {},
     "output_type": "execute_result"
    }
   ],
   "source": [
    "población.index"
   ]
  },
  {
   "cell_type": "markdown",
   "id": "2178f941-0486-4480-9db2-2cd7628fde74",
   "metadata": {},
   "source": [
    "En este ejemplo constuimos un objeto `Series` a partir de un diccionario, el índice se obtiene se las llaves del diccionario y los valores... de los valores."
   ]
  },
  {
   "cell_type": "code",
   "execution_count": 17,
   "id": "2a7afbe6-089a-4a63-afa7-5d1483dd6a58",
   "metadata": {},
   "outputs": [
    {
     "data": {
      "text/plain": [
       "2945000"
      ]
     },
     "execution_count": 17,
     "metadata": {},
     "output_type": "execute_result"
    }
   ],
   "source": [
    "población['Sonora']"
   ]
  },
  {
   "cell_type": "code",
   "execution_count": 18,
   "id": "bae1f02f-1dba-46f8-8dfb-7a11cbe67943",
   "metadata": {},
   "outputs": [
    {
     "data": {
      "text/plain": [
       "Chihuahua    3742000\n",
       "Sinaloa      3027000\n",
       "La Habana    3265832\n",
       "dtype: int64"
      ]
     },
     "execution_count": 18,
     "metadata": {},
     "output_type": "execute_result"
    }
   ],
   "source": [
    "población['Chihuahua':'La Habana']"
   ]
  },
  {
   "cell_type": "code",
   "execution_count": 19,
   "id": "bb5114cc-4f23-47f4-a9e3-ddb6b485d66b",
   "metadata": {},
   "outputs": [
    {
     "data": {
      "text/plain": [
       "Series([], dtype: int64)"
      ]
     },
     "execution_count": 19,
     "metadata": {},
     "output_type": "execute_result"
    }
   ],
   "source": [
    "población['La Habana':'Chihuahua']"
   ]
  },
  {
   "cell_type": "markdown",
   "id": "7063ba09-c7ff-4725-a3a1-cce0ca24d50c",
   "metadata": {},
   "source": [
    "**Problema 1:** Determina qué ocurre cuando creamos un objeto `Series` a partir de un diccionario, pero adicionalmente proveemos el argumento opcional `index`. ¿De qué forma podemos utilizar esta propiedad?\n",
    "\n",
    "Se crea una serie con las claves del diccionario como etiquetas a las entradas de cada valos. Si además se proporciona el argumento index, estos se ordenerán según le especifiquemos. Y si por error se asigna un index que no se encuentre se generará un valor NaN.\n",
    "\n",
    "**Problema 2:** Determina qué ocurre cuando creamos un objeto `Series` a partir de un valor numérico, pero adicionalmente proveemos el argumento opcional `index`. ¿De qué forma podemos utilizar esta propiedad?\n",
    "\n",
    "Aquí se crea una Serie con un único valor, que sería el número que se pasó, y que tendría varias entradas, que serían los índices que se pasaron."
   ]
  },
  {
   "cell_type": "code",
   "execution_count": 20,
   "metadata": {},
   "outputs": [
    {
     "data": {
      "text/plain": [
       "1    a\n",
       "2    a\n",
       "3    a\n",
       "4    a\n",
       "dtype: object"
      ]
     },
     "execution_count": 20,
     "metadata": {},
     "output_type": "execute_result"
    }
   ],
   "source": [
    "población = pd.Series(\"a\", index=[1,2,3,4])\n",
    "población"
   ]
  },
  {
   "cell_type": "markdown",
   "id": "dc35fa7c-d1a2-42d5-bc36-3ffa43000a27",
   "metadata": {},
   "source": [
    "## DataFrame\n",
    "\n",
    "Recordemos la serie de población:"
   ]
  },
  {
   "cell_type": "code",
   "execution_count": 21,
   "metadata": {},
   "outputs": [
    {
     "data": {
      "text/plain": [
       "Index([1, 2, 3, 4], dtype='int64')"
      ]
     },
     "execution_count": 21,
     "metadata": {},
     "output_type": "execute_result"
    }
   ],
   "source": [
    "población.index"
   ]
  },
  {
   "cell_type": "code",
   "execution_count": 22,
   "id": "ff31d7d8-2251-48a7-a68b-58478a3ffd96",
   "metadata": {},
   "outputs": [
    {
     "data": {
      "text/plain": [
       "1    a\n",
       "2    a\n",
       "3    a\n",
       "4    a\n",
       "dtype: object"
      ]
     },
     "execution_count": 22,
     "metadata": {},
     "output_type": "execute_result"
    }
   ],
   "source": [
    "población"
   ]
  },
  {
   "cell_type": "markdown",
   "id": "ccbc2aa0-6340-4bcc-9b4f-4d9848bae144",
   "metadata": {},
   "source": [
    "Definamos ahora una serie similar, pero con la supericie de los territorios medida en kilómetros cuadrados:"
   ]
  },
  {
   "cell_type": "code",
   "execution_count": 23,
   "id": "3f6fcaca-495a-4bc3-9714-01c0da872140",
   "metadata": {},
   "outputs": [
    {
     "data": {
      "text/plain": [
       "La Habana              728\n",
       "Sinaloa              58200\n",
       "Santiago de Cuba      6243\n",
       "Sonora              179355\n",
       "Chihuahua           247455\n",
       "dtype: int64"
      ]
     },
     "execution_count": 23,
     "metadata": {},
     "output_type": "execute_result"
    }
   ],
   "source": [
    "superficie = pd.Series({\n",
    "    'La Habana': 728,\n",
    "    'Sinaloa': 58200,\n",
    "    'Santiago de Cuba': 6243,\n",
    "    'Sonora': 179355,\n",
    "    'Chihuahua': 247455,\n",
    "})\n",
    "superficie"
   ]
  },
  {
   "cell_type": "markdown",
   "id": "1867308c-0fb8-49ec-8cd0-3d66c2629183",
   "metadata": {},
   "source": [
    "Ahora vamos a crear una tabla (`DataFrame`) que contenga estas dos valiosas piezas de información:"
   ]
  },
  {
   "cell_type": "code",
   "execution_count": 24,
   "id": "bff1d99a-8029-4667-8b3a-0e9865a85a1e",
   "metadata": {},
   "outputs": [
    {
     "data": {
      "text/html": [
       "<div>\n",
       "<style scoped>\n",
       "    .dataframe tbody tr th:only-of-type {\n",
       "        vertical-align: middle;\n",
       "    }\n",
       "\n",
       "    .dataframe tbody tr th {\n",
       "        vertical-align: top;\n",
       "    }\n",
       "\n",
       "    .dataframe thead th {\n",
       "        text-align: right;\n",
       "    }\n",
       "</style>\n",
       "<table border=\"1\" class=\"dataframe\">\n",
       "  <thead>\n",
       "    <tr style=\"text-align: right;\">\n",
       "      <th></th>\n",
       "      <th>población</th>\n",
       "      <th>superficie</th>\n",
       "    </tr>\n",
       "  </thead>\n",
       "  <tbody>\n",
       "    <tr>\n",
       "      <th>1</th>\n",
       "      <td>a</td>\n",
       "      <td>NaN</td>\n",
       "    </tr>\n",
       "    <tr>\n",
       "      <th>2</th>\n",
       "      <td>a</td>\n",
       "      <td>NaN</td>\n",
       "    </tr>\n",
       "    <tr>\n",
       "      <th>3</th>\n",
       "      <td>a</td>\n",
       "      <td>NaN</td>\n",
       "    </tr>\n",
       "    <tr>\n",
       "      <th>4</th>\n",
       "      <td>a</td>\n",
       "      <td>NaN</td>\n",
       "    </tr>\n",
       "    <tr>\n",
       "      <th>La Habana</th>\n",
       "      <td>NaN</td>\n",
       "      <td>728.0</td>\n",
       "    </tr>\n",
       "    <tr>\n",
       "      <th>Sinaloa</th>\n",
       "      <td>NaN</td>\n",
       "      <td>58200.0</td>\n",
       "    </tr>\n",
       "    <tr>\n",
       "      <th>Santiago de Cuba</th>\n",
       "      <td>NaN</td>\n",
       "      <td>6243.0</td>\n",
       "    </tr>\n",
       "    <tr>\n",
       "      <th>Sonora</th>\n",
       "      <td>NaN</td>\n",
       "      <td>179355.0</td>\n",
       "    </tr>\n",
       "    <tr>\n",
       "      <th>Chihuahua</th>\n",
       "      <td>NaN</td>\n",
       "      <td>247455.0</td>\n",
       "    </tr>\n",
       "  </tbody>\n",
       "</table>\n",
       "</div>"
      ],
      "text/plain": [
       "                 población  superficie\n",
       "1                        a         NaN\n",
       "2                        a         NaN\n",
       "3                        a         NaN\n",
       "4                        a         NaN\n",
       "La Habana              NaN       728.0\n",
       "Sinaloa                NaN     58200.0\n",
       "Santiago de Cuba       NaN      6243.0\n",
       "Sonora                 NaN    179355.0\n",
       "Chihuahua              NaN    247455.0"
      ]
     },
     "execution_count": 24,
     "metadata": {},
     "output_type": "execute_result"
    }
   ],
   "source": [
    "territorios = pd.DataFrame({\n",
    "    'población': población,\n",
    "    'superficie': superficie,\n",
    "})\n",
    "territorios"
   ]
  },
  {
   "cell_type": "markdown",
   "id": "92d58987-78b3-41f7-b3b8-e95d492cf06f",
   "metadata": {},
   "source": [
    "Los DataFrames, al igual que las Series, tienen un atributo `index` con el índice de la tabla:"
   ]
  },
  {
   "cell_type": "code",
   "execution_count": 25,
   "id": "dcc31d55-8639-4135-81c4-f41367d25c3e",
   "metadata": {},
   "outputs": [],
   "source": [
    "pruebita = pd.Series([5, 10, 2, 4, 6])"
   ]
  },
  {
   "cell_type": "code",
   "execution_count": 26,
   "id": "99c0e1db-54d6-4303-8292-68f38ce9bd1d",
   "metadata": {},
   "outputs": [
    {
     "data": {
      "text/plain": [
       "0     5\n",
       "1    10\n",
       "2     2\n",
       "3     4\n",
       "4     6\n",
       "dtype: int64"
      ]
     },
     "execution_count": 26,
     "metadata": {},
     "output_type": "execute_result"
    }
   ],
   "source": [
    "pruebita"
   ]
  },
  {
   "cell_type": "code",
   "execution_count": 27,
   "id": "5c873c95-a734-46d5-b3fc-8cd4b8b1c06b",
   "metadata": {},
   "outputs": [
    {
     "data": {
      "text/plain": [
       "2     2\n",
       "3     4\n",
       "0     5\n",
       "4     6\n",
       "1    10\n",
       "dtype: int64"
      ]
     },
     "execution_count": 27,
     "metadata": {},
     "output_type": "execute_result"
    }
   ],
   "source": [
    "pruebita.sort_values()"
   ]
  },
  {
   "cell_type": "code",
   "execution_count": 28,
   "id": "c36c8bcc-e7a6-4951-965f-a96f8e4055e6",
   "metadata": {},
   "outputs": [
    {
     "data": {
      "text/plain": [
       "Index([1, 2, 3, 4, 'La Habana', 'Sinaloa', 'Santiago de Cuba', 'Sonora',\n",
       "       'Chihuahua'],\n",
       "      dtype='object')"
      ]
     },
     "execution_count": 28,
     "metadata": {},
     "output_type": "execute_result"
    }
   ],
   "source": [
    "territorios.index"
   ]
  },
  {
   "cell_type": "markdown",
   "id": "15152698-7b96-4d4e-a516-733cae997d36",
   "metadata": {},
   "source": [
    "Cuando escuchamos índice de una tabla, pensemos en sus renglones. En este caso, cada renglón representa un territorio.\n",
    "\n",
    "También tenemos el atributo `columns` (columnas). En este caso, cada columna corresponde a cada medición asociada a los territorios."
   ]
  },
  {
   "cell_type": "code",
   "execution_count": 29,
   "id": "de4615b6-6a08-45e0-8bcc-fe5f32d002e1",
   "metadata": {},
   "outputs": [
    {
     "data": {
      "text/plain": [
       "Index(['población', 'superficie'], dtype='object')"
      ]
     },
     "execution_count": 29,
     "metadata": {},
     "output_type": "execute_result"
    }
   ],
   "source": [
    "territorios.columns"
   ]
  },
  {
   "cell_type": "markdown",
   "id": "08391ede-5611-4a64-8754-9c2bbb084d3a",
   "metadata": {},
   "source": [
    "El tipo de objeto para las columnas también es `pd.Index`. Podemos pensar las tablas como arreglos bidimensionales de NumPy.\n",
    "\n",
    "Observemos también que al construir la tabla, las serie población y la serie superficie tenían los mismos índices pero en orden distinto. Pandas se encarga de crear la tabla emparejando correctamente las mediciones de acuerdo al *valor* de su índice, no la *posición* de este."
   ]
  },
  {
   "cell_type": "markdown",
   "id": "704379b4-abb5-4676-802b-3d5fab1fd69b",
   "metadata": {},
   "source": [
    "---"
   ]
  },
  {
   "cell_type": "code",
   "execution_count": 30,
   "id": "bf3bf996-28e8-4c0d-9780-cc2ef2bdbe86",
   "metadata": {},
   "outputs": [
    {
     "data": {
      "text/plain": [
       "1                        NaN\n",
       "2                        NaN\n",
       "3                        NaN\n",
       "4                        NaN\n",
       "La Habana              728.0\n",
       "Sinaloa              58200.0\n",
       "Santiago de Cuba      6243.0\n",
       "Sonora              179355.0\n",
       "Chihuahua           247455.0\n",
       "Name: superficie, dtype: float64"
      ]
     },
     "execution_count": 30,
     "metadata": {},
     "output_type": "execute_result"
    }
   ],
   "source": [
    "territorios['superficie']"
   ]
  },
  {
   "cell_type": "code",
   "execution_count": 31,
   "id": "9b0ece35-0b13-4640-9707-c2ae80717e8b",
   "metadata": {},
   "outputs": [
    {
     "data": {
      "text/plain": [
       "1                     a\n",
       "2                     a\n",
       "3                     a\n",
       "4                     a\n",
       "La Habana           NaN\n",
       "Sinaloa             NaN\n",
       "Santiago de Cuba    NaN\n",
       "Sonora              NaN\n",
       "Chihuahua           NaN\n",
       "Name: población, dtype: object"
      ]
     },
     "execution_count": 31,
     "metadata": {},
     "output_type": "execute_result"
    }
   ],
   "source": [
    "territorios['población']"
   ]
  },
  {
   "cell_type": "markdown",
   "id": "0baecb44-2683-4c3d-a89c-b4aa35b7458b",
   "metadata": {},
   "source": [
    "---\n",
    "\n",
    "Distinta formas de crear DataFrames:"
   ]
  },
  {
   "cell_type": "code",
   "execution_count": 32,
   "id": "6c3ae416-9fd2-4eca-858a-b75a1855c02c",
   "metadata": {},
   "outputs": [
    {
     "data": {
      "text/html": [
       "<div>\n",
       "<style scoped>\n",
       "    .dataframe tbody tr th:only-of-type {\n",
       "        vertical-align: middle;\n",
       "    }\n",
       "\n",
       "    .dataframe tbody tr th {\n",
       "        vertical-align: top;\n",
       "    }\n",
       "\n",
       "    .dataframe thead th {\n",
       "        text-align: right;\n",
       "    }\n",
       "</style>\n",
       "<table border=\"1\" class=\"dataframe\">\n",
       "  <thead>\n",
       "    <tr style=\"text-align: right;\">\n",
       "      <th></th>\n",
       "      <th>población</th>\n",
       "    </tr>\n",
       "  </thead>\n",
       "  <tbody>\n",
       "    <tr>\n",
       "      <th>1</th>\n",
       "      <td>a</td>\n",
       "    </tr>\n",
       "    <tr>\n",
       "      <th>2</th>\n",
       "      <td>a</td>\n",
       "    </tr>\n",
       "    <tr>\n",
       "      <th>3</th>\n",
       "      <td>a</td>\n",
       "    </tr>\n",
       "    <tr>\n",
       "      <th>4</th>\n",
       "      <td>a</td>\n",
       "    </tr>\n",
       "  </tbody>\n",
       "</table>\n",
       "</div>"
      ],
      "text/plain": [
       "  población\n",
       "1         a\n",
       "2         a\n",
       "3         a\n",
       "4         a"
      ]
     },
     "execution_count": 32,
     "metadata": {},
     "output_type": "execute_result"
    }
   ],
   "source": [
    "# A partir de una Serie\n",
    "pd.DataFrame(población, columns=['población'])"
   ]
  },
  {
   "cell_type": "code",
   "execution_count": 33,
   "metadata": {},
   "outputs": [
    {
     "data": {
      "text/plain": [
       "[{'a': 0, 'b': 0}, {'a': 1, 'b': 2}, {'a': 2, 'b': 4}]"
      ]
     },
     "execution_count": 33,
     "metadata": {},
     "output_type": "execute_result"
    }
   ],
   "source": [
    "[{'a': i, 'b': 2 * i} for i in range(3)]"
   ]
  },
  {
   "cell_type": "code",
   "execution_count": 34,
   "id": "b4ce445e-5959-42aa-bdf4-e636f745b3d6",
   "metadata": {},
   "outputs": [
    {
     "data": {
      "text/html": [
       "<div>\n",
       "<style scoped>\n",
       "    .dataframe tbody tr th:only-of-type {\n",
       "        vertical-align: middle;\n",
       "    }\n",
       "\n",
       "    .dataframe tbody tr th {\n",
       "        vertical-align: top;\n",
       "    }\n",
       "\n",
       "    .dataframe thead th {\n",
       "        text-align: right;\n",
       "    }\n",
       "</style>\n",
       "<table border=\"1\" class=\"dataframe\">\n",
       "  <thead>\n",
       "    <tr style=\"text-align: right;\">\n",
       "      <th></th>\n",
       "      <th>a</th>\n",
       "      <th>b</th>\n",
       "    </tr>\n",
       "  </thead>\n",
       "  <tbody>\n",
       "    <tr>\n",
       "      <th>0</th>\n",
       "      <td>0</td>\n",
       "      <td>0</td>\n",
       "    </tr>\n",
       "    <tr>\n",
       "      <th>1</th>\n",
       "      <td>1</td>\n",
       "      <td>2</td>\n",
       "    </tr>\n",
       "    <tr>\n",
       "      <th>2</th>\n",
       "      <td>2</td>\n",
       "      <td>4</td>\n",
       "    </tr>\n",
       "  </tbody>\n",
       "</table>\n",
       "</div>"
      ],
      "text/plain": [
       "   a  b\n",
       "0  0  0\n",
       "1  1  2\n",
       "2  2  4"
      ]
     },
     "execution_count": 34,
     "metadata": {},
     "output_type": "execute_result"
    }
   ],
   "source": [
    "# A partir de una lista de diccionarios\n",
    "pd.DataFrame([{'a': i, 'b': 2 * i} for i in range(3)])"
   ]
  },
  {
   "cell_type": "code",
   "execution_count": 35,
   "id": "71a5e3d4-eb1b-4905-b7c3-6c37679ddceb",
   "metadata": {},
   "outputs": [
    {
     "data": {
      "text/html": [
       "<div>\n",
       "<style scoped>\n",
       "    .dataframe tbody tr th:only-of-type {\n",
       "        vertical-align: middle;\n",
       "    }\n",
       "\n",
       "    .dataframe tbody tr th {\n",
       "        vertical-align: top;\n",
       "    }\n",
       "\n",
       "    .dataframe thead th {\n",
       "        text-align: right;\n",
       "    }\n",
       "</style>\n",
       "<table border=\"1\" class=\"dataframe\">\n",
       "  <thead>\n",
       "    <tr style=\"text-align: right;\">\n",
       "      <th></th>\n",
       "      <th>a</th>\n",
       "      <th>b</th>\n",
       "      <th>c</th>\n",
       "    </tr>\n",
       "  </thead>\n",
       "  <tbody>\n",
       "    <tr>\n",
       "      <th>0</th>\n",
       "      <td>1.0</td>\n",
       "      <td>2</td>\n",
       "      <td>NaN</td>\n",
       "    </tr>\n",
       "    <tr>\n",
       "      <th>1</th>\n",
       "      <td>NaN</td>\n",
       "      <td>3</td>\n",
       "      <td>4.0</td>\n",
       "    </tr>\n",
       "  </tbody>\n",
       "</table>\n",
       "</div>"
      ],
      "text/plain": [
       "     a  b    c\n",
       "0  1.0  2  NaN\n",
       "1  NaN  3  4.0"
      ]
     },
     "execution_count": 35,
     "metadata": {},
     "output_type": "execute_result"
    }
   ],
   "source": [
    "pd.DataFrame([\n",
    "    {'a': 1, 'b': 2},\n",
    "    {'b': 3, 'c': 4},\n",
    "])"
   ]
  },
  {
   "cell_type": "code",
   "execution_count": 36,
   "id": "d1c90e28-c883-462a-9e5e-bebc59c4b723",
   "metadata": {},
   "outputs": [
    {
     "data": {
      "text/html": [
       "<div>\n",
       "<style scoped>\n",
       "    .dataframe tbody tr th:only-of-type {\n",
       "        vertical-align: middle;\n",
       "    }\n",
       "\n",
       "    .dataframe tbody tr th {\n",
       "        vertical-align: top;\n",
       "    }\n",
       "\n",
       "    .dataframe thead th {\n",
       "        text-align: right;\n",
       "    }\n",
       "</style>\n",
       "<table border=\"1\" class=\"dataframe\">\n",
       "  <thead>\n",
       "    <tr style=\"text-align: right;\">\n",
       "      <th></th>\n",
       "      <th>población</th>\n",
       "      <th>superficie</th>\n",
       "    </tr>\n",
       "  </thead>\n",
       "  <tbody>\n",
       "    <tr>\n",
       "      <th>1</th>\n",
       "      <td>a</td>\n",
       "      <td>NaN</td>\n",
       "    </tr>\n",
       "    <tr>\n",
       "      <th>2</th>\n",
       "      <td>a</td>\n",
       "      <td>NaN</td>\n",
       "    </tr>\n",
       "    <tr>\n",
       "      <th>3</th>\n",
       "      <td>a</td>\n",
       "      <td>NaN</td>\n",
       "    </tr>\n",
       "    <tr>\n",
       "      <th>4</th>\n",
       "      <td>a</td>\n",
       "      <td>NaN</td>\n",
       "    </tr>\n",
       "    <tr>\n",
       "      <th>La Habana</th>\n",
       "      <td>NaN</td>\n",
       "      <td>728.0</td>\n",
       "    </tr>\n",
       "    <tr>\n",
       "      <th>Sinaloa</th>\n",
       "      <td>NaN</td>\n",
       "      <td>58200.0</td>\n",
       "    </tr>\n",
       "    <tr>\n",
       "      <th>Santiago de Cuba</th>\n",
       "      <td>NaN</td>\n",
       "      <td>6243.0</td>\n",
       "    </tr>\n",
       "    <tr>\n",
       "      <th>Sonora</th>\n",
       "      <td>NaN</td>\n",
       "      <td>179355.0</td>\n",
       "    </tr>\n",
       "    <tr>\n",
       "      <th>Chihuahua</th>\n",
       "      <td>NaN</td>\n",
       "      <td>247455.0</td>\n",
       "    </tr>\n",
       "  </tbody>\n",
       "</table>\n",
       "</div>"
      ],
      "text/plain": [
       "                 población  superficie\n",
       "1                        a         NaN\n",
       "2                        a         NaN\n",
       "3                        a         NaN\n",
       "4                        a         NaN\n",
       "La Habana              NaN       728.0\n",
       "Sinaloa                NaN     58200.0\n",
       "Santiago de Cuba       NaN      6243.0\n",
       "Sonora                 NaN    179355.0\n",
       "Chihuahua              NaN    247455.0"
      ]
     },
     "execution_count": 36,
     "metadata": {},
     "output_type": "execute_result"
    }
   ],
   "source": [
    "# A partir de un diccionario con Series como valores\n",
    "pd.DataFrame({\n",
    "    'población': población,\n",
    "    'superficie': superficie,\n",
    "})"
   ]
  },
  {
   "cell_type": "code",
   "execution_count": 37,
   "id": "55eebcda-5137-4ae4-8f93-f451ad976577",
   "metadata": {},
   "outputs": [
    {
     "data": {
      "text/html": [
       "<div>\n",
       "<style scoped>\n",
       "    .dataframe tbody tr th:only-of-type {\n",
       "        vertical-align: middle;\n",
       "    }\n",
       "\n",
       "    .dataframe tbody tr th {\n",
       "        vertical-align: top;\n",
       "    }\n",
       "\n",
       "    .dataframe thead th {\n",
       "        text-align: right;\n",
       "    }\n",
       "</style>\n",
       "<table border=\"1\" class=\"dataframe\">\n",
       "  <thead>\n",
       "    <tr style=\"text-align: right;\">\n",
       "      <th></th>\n",
       "      <th>A</th>\n",
       "      <th>B</th>\n",
       "    </tr>\n",
       "  </thead>\n",
       "  <tbody>\n",
       "    <tr>\n",
       "      <th>0</th>\n",
       "      <td>0</td>\n",
       "      <td>0.0</td>\n",
       "    </tr>\n",
       "    <tr>\n",
       "      <th>1</th>\n",
       "      <td>0</td>\n",
       "      <td>0.0</td>\n",
       "    </tr>\n",
       "    <tr>\n",
       "      <th>2</th>\n",
       "      <td>0</td>\n",
       "      <td>0.0</td>\n",
       "    </tr>\n",
       "  </tbody>\n",
       "</table>\n",
       "</div>"
      ],
      "text/plain": [
       "   A    B\n",
       "0  0  0.0\n",
       "1  0  0.0\n",
       "2  0  0.0"
      ]
     },
     "execution_count": 37,
     "metadata": {},
     "output_type": "execute_result"
    }
   ],
   "source": [
    "# A partir de una arreglo bidimensional de NumPy\n",
    "# A estos se le llaman arreglos estructurados de Numpy...\n",
    "A = np.zeros(3, dtype=[('A', 'i8'), ('B', 'f8')])\n",
    "pd.DataFrame(A)"
   ]
  },
  {
   "cell_type": "markdown",
   "id": "dc8f3040-5aaa-4a91-9d56-6daa3f0562e1",
   "metadata": {},
   "source": [
    "**Problema 3:** El ejemplo anterior utiliza un concepto llamado *Structured Arrays* de NumPy. Investiga para qué pueden ser utilizados este tipo de arreglos.\n",
    "Los arreglos de Numpy almecenan solo un tipo de datos, a diferencia de los arreglos en otros lenguajes de programación, sin embargo los arreglos estructurados permiten almacenar datos en varios tipos como en dicho ejemplo, donde se almacenan un dato entero y un flotante. Dicho ejemplo usa abreviaturas para definir que se tratan de un entero y un flotante de 8 bytes, pero también se pueden colocar los tipos de datos directamente... tales como \"int\" o \"float\"..."
   ]
  },
  {
   "cell_type": "markdown",
   "id": "bbd5681c-035c-45a4-907d-bc9bb9113f60",
   "metadata": {},
   "source": [
    "## Index\n",
    "\n",
    "Tanto los objetos DataFrame como Series contienen índices explícitos que nos permiten hacer referencia a la información que contienen.\n",
    "\n",
    "La estructura de los índices podemos pensarla como un arreglo inmutable (no podemos modificar sus valores) o como un conjunto ordenado (o multiconjunto ya que un índice puede tener valores repetidos)."
   ]
  },
  {
   "cell_type": "code",
   "execution_count": 38,
   "id": "c9b03177-230d-406e-afcc-d5eef9a18400",
   "metadata": {},
   "outputs": [
    {
     "data": {
      "text/plain": [
       "Index([2, 3, 5, 7, 11], dtype='int64')"
      ]
     },
     "execution_count": 38,
     "metadata": {},
     "output_type": "execute_result"
    }
   ],
   "source": [
    "ind = pd.Index([2, 3, 5, 7, 11])\n",
    "ind"
   ]
  },
  {
   "cell_type": "code",
   "execution_count": 39,
   "id": "ab00ebbc-7d2f-427b-9d45-4db57a81eeff",
   "metadata": {},
   "outputs": [
    {
     "data": {
      "text/plain": [
       "3"
      ]
     },
     "execution_count": 39,
     "metadata": {},
     "output_type": "execute_result"
    }
   ],
   "source": [
    "ind[1]"
   ]
  },
  {
   "cell_type": "code",
   "execution_count": 40,
   "id": "90c07b07-f110-4db6-aa84-c10e61ed6eba",
   "metadata": {},
   "outputs": [
    {
     "data": {
      "text/plain": [
       "Index([2, 5, 11], dtype='int64')"
      ]
     },
     "execution_count": 40,
     "metadata": {},
     "output_type": "execute_result"
    }
   ],
   "source": [
    "ind[::2]"
   ]
  },
  {
   "cell_type": "code",
   "execution_count": 41,
   "id": "282a4a73-25ce-4986-a471-6dbb7198afe4",
   "metadata": {},
   "outputs": [
    {
     "data": {
      "text/plain": [
       "5"
      ]
     },
     "execution_count": 41,
     "metadata": {},
     "output_type": "execute_result"
    }
   ],
   "source": [
    "ind.size"
   ]
  },
  {
   "cell_type": "code",
   "execution_count": 42,
   "metadata": {},
   "outputs": [
    {
     "data": {
      "text/plain": [
       "5"
      ]
     },
     "execution_count": 42,
     "metadata": {},
     "output_type": "execute_result"
    }
   ],
   "source": [
    "len(ind)"
   ]
  },
  {
   "cell_type": "code",
   "execution_count": 43,
   "id": "718f717d-39f2-4cd2-a891-6aa636838eb9",
   "metadata": {},
   "outputs": [
    {
     "data": {
      "text/plain": [
       "(5,)"
      ]
     },
     "execution_count": 43,
     "metadata": {},
     "output_type": "execute_result"
    }
   ],
   "source": [
    "ind.shape"
   ]
  },
  {
   "cell_type": "code",
   "execution_count": 44,
   "id": "52d45492-02ff-4c84-b8d6-cb1117b61481",
   "metadata": {},
   "outputs": [
    {
     "data": {
      "text/plain": [
       "1"
      ]
     },
     "execution_count": 44,
     "metadata": {},
     "output_type": "execute_result"
    }
   ],
   "source": [
    "ind.ndim"
   ]
  },
  {
   "cell_type": "code",
   "execution_count": 45,
   "id": "4c1483d1-8e85-44ef-b3a5-1371d330bdc2",
   "metadata": {},
   "outputs": [
    {
     "data": {
      "text/plain": [
       "dtype('int64')"
      ]
     },
     "execution_count": 45,
     "metadata": {},
     "output_type": "execute_result"
    }
   ],
   "source": [
    "ind.dtype"
   ]
  },
  {
   "cell_type": "code",
   "execution_count": 46,
   "id": "fc3e1b41-d548-45a2-9754-4a5ef79408c5",
   "metadata": {},
   "outputs": [],
   "source": [
    "#ind[1] = 0"
   ]
  },
  {
   "cell_type": "code",
   "execution_count": 47,
   "id": "ee2089ba-0126-4301-af77-d9a65f301d7f",
   "metadata": {},
   "outputs": [],
   "source": [
    "indA = pd.Index([1, 3, 5, 7, 9])\n",
    "indB = pd.Index([2, 3, 5, 7, 11])"
   ]
  },
  {
   "cell_type": "code",
   "execution_count": 48,
   "id": "06e1aa22-39b2-4fbc-847e-d70ed94df770",
   "metadata": {},
   "outputs": [
    {
     "data": {
      "text/plain": [
       "Index([3, 5, 7], dtype='int64')"
      ]
     },
     "execution_count": 48,
     "metadata": {},
     "output_type": "execute_result"
    }
   ],
   "source": [
    "indA.intersection(indB)"
   ]
  },
  {
   "cell_type": "code",
   "execution_count": 49,
   "id": "9bb931cb-4238-49bb-ace7-4f0e22afc426",
   "metadata": {},
   "outputs": [
    {
     "data": {
      "text/plain": [
       "Index([1, 2, 3, 5, 7, 9, 11], dtype='int64')"
      ]
     },
     "execution_count": 49,
     "metadata": {},
     "output_type": "execute_result"
    }
   ],
   "source": [
    "indA.union(indB)"
   ]
  },
  {
   "cell_type": "code",
   "execution_count": 50,
   "id": "0c2fe083-a7cc-498d-831b-cc8d233516d0",
   "metadata": {},
   "outputs": [
    {
     "data": {
      "text/plain": [
       "Index([1, 2, 9, 11], dtype='int64')"
      ]
     },
     "execution_count": 50,
     "metadata": {},
     "output_type": "execute_result"
    }
   ],
   "source": [
    "indA.symmetric_difference(indB)"
   ]
  },
  {
   "cell_type": "markdown",
   "id": "9e67e423-8678-4b25-82e0-4ce5634b7188",
   "metadata": {},
   "source": [
    "## Indexando y seleccionando datos"
   ]
  },
  {
   "cell_type": "code",
   "execution_count": 51,
   "id": "0905dd13-6138-4df4-8ecd-b8cc2bb3415d",
   "metadata": {},
   "outputs": [
    {
     "data": {
      "text/plain": [
       "a    0.25\n",
       "b    0.50\n",
       "c    0.75\n",
       "d    1.00\n",
       "dtype: float64"
      ]
     },
     "execution_count": 51,
     "metadata": {},
     "output_type": "execute_result"
    }
   ],
   "source": [
    "data = pd.Series([0.25, 0.5, 0.75, 1.0],\n",
    "                 index=['a', 'b', 'c', 'd'])\n",
    "data"
   ]
  },
  {
   "cell_type": "code",
   "execution_count": 52,
   "id": "471e37c4-838b-4b81-a871-5b0badb4dda2",
   "metadata": {},
   "outputs": [
    {
     "data": {
      "text/plain": [
       "0.5"
      ]
     },
     "execution_count": 52,
     "metadata": {},
     "output_type": "execute_result"
    }
   ],
   "source": [
    "data['b']"
   ]
  },
  {
   "cell_type": "code",
   "execution_count": 53,
   "id": "48e1a945-19b9-49a4-b95b-75a4b9ff2fae",
   "metadata": {},
   "outputs": [
    {
     "data": {
      "text/plain": [
       "True"
      ]
     },
     "execution_count": 53,
     "metadata": {},
     "output_type": "execute_result"
    }
   ],
   "source": [
    "'a' in data"
   ]
  },
  {
   "cell_type": "code",
   "execution_count": 54,
   "id": "d2b992d8-4fef-4bcd-8e76-ba9a7dc303d6",
   "metadata": {},
   "outputs": [
    {
     "data": {
      "text/plain": [
       "['a', 'b', 'c', 'd']"
      ]
     },
     "execution_count": 54,
     "metadata": {},
     "output_type": "execute_result"
    }
   ],
   "source": [
    "list(data.keys())"
   ]
  },
  {
   "cell_type": "code",
   "execution_count": 55,
   "id": "d786a75a-d632-4b29-8ba1-71ee6409c8f4",
   "metadata": {},
   "outputs": [
    {
     "data": {
      "text/plain": [
       "[('a', 0.25), ('b', 0.5), ('c', 0.75), ('d', 1.0)]"
      ]
     },
     "execution_count": 55,
     "metadata": {},
     "output_type": "execute_result"
    }
   ],
   "source": [
    "list(data.items())"
   ]
  },
  {
   "cell_type": "code",
   "execution_count": 56,
   "id": "d9d58e4e-bd7d-46ff-88a3-58b5b0a80d8c",
   "metadata": {},
   "outputs": [],
   "source": [
    "data['e'] = 1.25"
   ]
  },
  {
   "cell_type": "code",
   "execution_count": 57,
   "id": "1da5ed09-bbae-4a7b-bbd0-3a422bf286c6",
   "metadata": {},
   "outputs": [
    {
     "data": {
      "text/plain": [
       "a    0.25\n",
       "b    0.50\n",
       "c    0.75\n",
       "d    1.00\n",
       "e    1.25\n",
       "dtype: float64"
      ]
     },
     "execution_count": 57,
     "metadata": {},
     "output_type": "execute_result"
    }
   ],
   "source": [
    "data"
   ]
  },
  {
   "cell_type": "code",
   "execution_count": 58,
   "id": "ee436eab-c51a-4925-b915-c21835706c88",
   "metadata": {},
   "outputs": [
    {
     "data": {
      "text/plain": [
       "a    0.25\n",
       "b    0.50\n",
       "c    0.75\n",
       "dtype: float64"
      ]
     },
     "execution_count": 58,
     "metadata": {},
     "output_type": "execute_result"
    }
   ],
   "source": [
    "data['a':'c']"
   ]
  },
  {
   "cell_type": "code",
   "execution_count": 59,
   "id": "e54adde0-addd-4f1a-92b9-2ab1a7dc44eb",
   "metadata": {},
   "outputs": [
    {
     "data": {
      "text/plain": [
       "a    0.25\n",
       "b    0.50\n",
       "dtype: float64"
      ]
     },
     "execution_count": 59,
     "metadata": {},
     "output_type": "execute_result"
    }
   ],
   "source": [
    "data[0:2]"
   ]
  },
  {
   "cell_type": "code",
   "execution_count": 60,
   "id": "056e028a-7f68-445c-8e63-c7095839557c",
   "metadata": {},
   "outputs": [
    {
     "data": {
      "text/plain": [
       "b    0.50\n",
       "c    0.75\n",
       "dtype: float64"
      ]
     },
     "execution_count": 60,
     "metadata": {},
     "output_type": "execute_result"
    }
   ],
   "source": [
    "data[(data > 0.3) & (data < 0.8)]"
   ]
  },
  {
   "cell_type": "code",
   "execution_count": 61,
   "id": "94e725a7-7a83-4846-9b0c-cca24796d45d",
   "metadata": {},
   "outputs": [
    {
     "data": {
      "text/plain": [
       "a    False\n",
       "b     True\n",
       "c     True\n",
       "d    False\n",
       "e    False\n",
       "dtype: bool"
      ]
     },
     "execution_count": 61,
     "metadata": {},
     "output_type": "execute_result"
    }
   ],
   "source": [
    "(data > 0.3) & (data < 0.8)"
   ]
  },
  {
   "cell_type": "code",
   "execution_count": 62,
   "metadata": {},
   "outputs": [
    {
     "data": {
      "text/plain": [
       "b    0.50\n",
       "c    0.75\n",
       "dtype: float64"
      ]
     },
     "execution_count": 62,
     "metadata": {},
     "output_type": "execute_result"
    }
   ],
   "source": [
    "data[(data > 0.3) & (data < 0.8)]"
   ]
  },
  {
   "cell_type": "code",
   "execution_count": 63,
   "id": "7f975b12-62c2-464f-8d7c-18501293a8b8",
   "metadata": {},
   "outputs": [
    {
     "data": {
      "text/plain": [
       "a    0.25\n",
       "e    1.25\n",
       "dtype: float64"
      ]
     },
     "execution_count": 63,
     "metadata": {},
     "output_type": "execute_result"
    }
   ],
   "source": [
    "data[['a', 'e']]"
   ]
  },
  {
   "cell_type": "code",
   "execution_count": 64,
   "id": "ca39b051-4460-4f34-a2ad-4d71ec8a1e76",
   "metadata": {},
   "outputs": [
    {
     "data": {
      "text/plain": [
       "1    a\n",
       "3    b\n",
       "5    c\n",
       "dtype: object"
      ]
     },
     "execution_count": 64,
     "metadata": {},
     "output_type": "execute_result"
    }
   ],
   "source": [
    "data = pd.Series(['a', 'b', 'c'], index=[1, 3, 5])\n",
    "data"
   ]
  },
  {
   "cell_type": "code",
   "execution_count": 65,
   "id": "a5182afb-e10b-4d81-8de1-5792298fd3fc",
   "metadata": {},
   "outputs": [
    {
     "data": {
      "text/plain": [
       "'a'"
      ]
     },
     "execution_count": 65,
     "metadata": {},
     "output_type": "execute_result"
    }
   ],
   "source": [
    "data[1]"
   ]
  },
  {
   "cell_type": "code",
   "execution_count": 66,
   "id": "5572f3ab-228a-4712-922f-97b161a17e13",
   "metadata": {},
   "outputs": [
    {
     "data": {
      "text/plain": [
       "3    b\n",
       "5    c\n",
       "dtype: object"
      ]
     },
     "execution_count": 66,
     "metadata": {},
     "output_type": "execute_result"
    }
   ],
   "source": [
    "data[1:3]"
   ]
  },
  {
   "cell_type": "code",
   "execution_count": 67,
   "id": "b03fad60-d060-42ba-abec-b683694283dc",
   "metadata": {},
   "outputs": [
    {
     "data": {
      "text/plain": [
       "'a'"
      ]
     },
     "execution_count": 67,
     "metadata": {},
     "output_type": "execute_result"
    }
   ],
   "source": [
    "data.loc[1]"
   ]
  },
  {
   "cell_type": "code",
   "execution_count": 68,
   "id": "8276a5eb-8bf1-4a5c-a69a-9d03ca81190d",
   "metadata": {},
   "outputs": [
    {
     "data": {
      "text/plain": [
       "1    a\n",
       "3    b\n",
       "dtype: object"
      ]
     },
     "execution_count": 68,
     "metadata": {},
     "output_type": "execute_result"
    }
   ],
   "source": [
    "data.loc[1:3]"
   ]
  },
  {
   "cell_type": "code",
   "execution_count": 69,
   "id": "07340e8f-82d9-40d8-922d-511e2c055d51",
   "metadata": {},
   "outputs": [
    {
     "data": {
      "text/plain": [
       "'b'"
      ]
     },
     "execution_count": 69,
     "metadata": {},
     "output_type": "execute_result"
    }
   ],
   "source": [
    "data.iloc[1]"
   ]
  },
  {
   "cell_type": "code",
   "execution_count": 70,
   "id": "f9d4af97-0021-4ed8-aab4-461d31b44406",
   "metadata": {},
   "outputs": [
    {
     "data": {
      "text/plain": [
       "3    b\n",
       "5    c\n",
       "dtype: object"
      ]
     },
     "execution_count": 70,
     "metadata": {},
     "output_type": "execute_result"
    }
   ],
   "source": [
    "data.iloc[1:3]"
   ]
  },
  {
   "cell_type": "code",
   "execution_count": 71,
   "id": "d2ff816f-af59-4851-9ec9-684875157adc",
   "metadata": {},
   "outputs": [
    {
     "data": {
      "text/html": [
       "<div>\n",
       "<style scoped>\n",
       "    .dataframe tbody tr th:only-of-type {\n",
       "        vertical-align: middle;\n",
       "    }\n",
       "\n",
       "    .dataframe tbody tr th {\n",
       "        vertical-align: top;\n",
       "    }\n",
       "\n",
       "    .dataframe thead th {\n",
       "        text-align: right;\n",
       "    }\n",
       "</style>\n",
       "<table border=\"1\" class=\"dataframe\">\n",
       "  <thead>\n",
       "    <tr style=\"text-align: right;\">\n",
       "      <th></th>\n",
       "      <th>población</th>\n",
       "      <th>superficie</th>\n",
       "    </tr>\n",
       "  </thead>\n",
       "  <tbody>\n",
       "    <tr>\n",
       "      <th>1</th>\n",
       "      <td>a</td>\n",
       "      <td>NaN</td>\n",
       "    </tr>\n",
       "    <tr>\n",
       "      <th>2</th>\n",
       "      <td>a</td>\n",
       "      <td>NaN</td>\n",
       "    </tr>\n",
       "    <tr>\n",
       "      <th>3</th>\n",
       "      <td>a</td>\n",
       "      <td>NaN</td>\n",
       "    </tr>\n",
       "    <tr>\n",
       "      <th>4</th>\n",
       "      <td>a</td>\n",
       "      <td>NaN</td>\n",
       "    </tr>\n",
       "    <tr>\n",
       "      <th>La Habana</th>\n",
       "      <td>NaN</td>\n",
       "      <td>728.0</td>\n",
       "    </tr>\n",
       "    <tr>\n",
       "      <th>Sinaloa</th>\n",
       "      <td>NaN</td>\n",
       "      <td>58200.0</td>\n",
       "    </tr>\n",
       "    <tr>\n",
       "      <th>Santiago de Cuba</th>\n",
       "      <td>NaN</td>\n",
       "      <td>6243.0</td>\n",
       "    </tr>\n",
       "    <tr>\n",
       "      <th>Sonora</th>\n",
       "      <td>NaN</td>\n",
       "      <td>179355.0</td>\n",
       "    </tr>\n",
       "    <tr>\n",
       "      <th>Chihuahua</th>\n",
       "      <td>NaN</td>\n",
       "      <td>247455.0</td>\n",
       "    </tr>\n",
       "  </tbody>\n",
       "</table>\n",
       "</div>"
      ],
      "text/plain": [
       "                 población  superficie\n",
       "1                        a         NaN\n",
       "2                        a         NaN\n",
       "3                        a         NaN\n",
       "4                        a         NaN\n",
       "La Habana              NaN       728.0\n",
       "Sinaloa                NaN     58200.0\n",
       "Santiago de Cuba       NaN      6243.0\n",
       "Sonora                 NaN    179355.0\n",
       "Chihuahua              NaN    247455.0"
      ]
     },
     "execution_count": 71,
     "metadata": {},
     "output_type": "execute_result"
    }
   ],
   "source": [
    "territorios"
   ]
  },
  {
   "cell_type": "code",
   "execution_count": 72,
   "id": "98e8b5e0-06b6-43d5-b11d-8e4026c4beb6",
   "metadata": {},
   "outputs": [
    {
     "data": {
      "text/plain": [
       "1                     a\n",
       "2                     a\n",
       "3                     a\n",
       "4                     a\n",
       "La Habana           NaN\n",
       "Sinaloa             NaN\n",
       "Santiago de Cuba    NaN\n",
       "Sonora              NaN\n",
       "Chihuahua           NaN\n",
       "Name: población, dtype: object"
      ]
     },
     "execution_count": 72,
     "metadata": {},
     "output_type": "execute_result"
    }
   ],
   "source": [
    "territorios['población']"
   ]
  },
  {
   "cell_type": "code",
   "execution_count": 73,
   "id": "8b477ab9-3410-4727-a30f-c48dac74c594",
   "metadata": {},
   "outputs": [
    {
     "data": {
      "text/plain": [
       "1                        NaN\n",
       "2                        NaN\n",
       "3                        NaN\n",
       "4                        NaN\n",
       "La Habana              728.0\n",
       "Sinaloa              58200.0\n",
       "Santiago de Cuba      6243.0\n",
       "Sonora              179355.0\n",
       "Chihuahua           247455.0\n",
       "Name: superficie, dtype: float64"
      ]
     },
     "execution_count": 73,
     "metadata": {},
     "output_type": "execute_result"
    }
   ],
   "source": [
    "territorios['superficie']"
   ]
  },
  {
   "cell_type": "code",
   "execution_count": 74,
   "id": "d64e8d28-bc30-4e68-8011-fb70e75f873b",
   "metadata": {},
   "outputs": [
    {
     "data": {
      "text/plain": [
       "True"
      ]
     },
     "execution_count": 74,
     "metadata": {},
     "output_type": "execute_result"
    }
   ],
   "source": [
    "territorios.superficie is territorios['superficie']"
   ]
  },
  {
   "cell_type": "code",
   "execution_count": 75,
   "id": "9eda8b0d-4894-48b6-b9f8-41a446eb199f",
   "metadata": {},
   "outputs": [
    {
     "data": {
      "text/plain": [
       "True"
      ]
     },
     "execution_count": 75,
     "metadata": {},
     "output_type": "execute_result"
    }
   ],
   "source": [
    "territorios.población is territorios['población']"
   ]
  },
  {
   "cell_type": "code",
   "execution_count": 76,
   "id": "bf1b8e2f-06a2-45e2-86c4-aeef9aa9f5ae",
   "metadata": {},
   "outputs": [],
   "source": [
    "territorios['densidad'] = territorios['población'] / territorios['superficie']"
   ]
  },
  {
   "cell_type": "code",
   "execution_count": 77,
   "id": "379c2b98-4723-4ef2-adfc-0f5ae9b71216",
   "metadata": {},
   "outputs": [
    {
     "data": {
      "text/html": [
       "<div>\n",
       "<style scoped>\n",
       "    .dataframe tbody tr th:only-of-type {\n",
       "        vertical-align: middle;\n",
       "    }\n",
       "\n",
       "    .dataframe tbody tr th {\n",
       "        vertical-align: top;\n",
       "    }\n",
       "\n",
       "    .dataframe thead th {\n",
       "        text-align: right;\n",
       "    }\n",
       "</style>\n",
       "<table border=\"1\" class=\"dataframe\">\n",
       "  <thead>\n",
       "    <tr style=\"text-align: right;\">\n",
       "      <th></th>\n",
       "      <th>población</th>\n",
       "      <th>superficie</th>\n",
       "      <th>densidad</th>\n",
       "    </tr>\n",
       "  </thead>\n",
       "  <tbody>\n",
       "    <tr>\n",
       "      <th>1</th>\n",
       "      <td>a</td>\n",
       "      <td>NaN</td>\n",
       "      <td>NaN</td>\n",
       "    </tr>\n",
       "    <tr>\n",
       "      <th>2</th>\n",
       "      <td>a</td>\n",
       "      <td>NaN</td>\n",
       "      <td>NaN</td>\n",
       "    </tr>\n",
       "    <tr>\n",
       "      <th>3</th>\n",
       "      <td>a</td>\n",
       "      <td>NaN</td>\n",
       "      <td>NaN</td>\n",
       "    </tr>\n",
       "    <tr>\n",
       "      <th>4</th>\n",
       "      <td>a</td>\n",
       "      <td>NaN</td>\n",
       "      <td>NaN</td>\n",
       "    </tr>\n",
       "    <tr>\n",
       "      <th>La Habana</th>\n",
       "      <td>NaN</td>\n",
       "      <td>728.0</td>\n",
       "      <td>NaN</td>\n",
       "    </tr>\n",
       "    <tr>\n",
       "      <th>Sinaloa</th>\n",
       "      <td>NaN</td>\n",
       "      <td>58200.0</td>\n",
       "      <td>NaN</td>\n",
       "    </tr>\n",
       "    <tr>\n",
       "      <th>Santiago de Cuba</th>\n",
       "      <td>NaN</td>\n",
       "      <td>6243.0</td>\n",
       "      <td>NaN</td>\n",
       "    </tr>\n",
       "    <tr>\n",
       "      <th>Sonora</th>\n",
       "      <td>NaN</td>\n",
       "      <td>179355.0</td>\n",
       "      <td>NaN</td>\n",
       "    </tr>\n",
       "    <tr>\n",
       "      <th>Chihuahua</th>\n",
       "      <td>NaN</td>\n",
       "      <td>247455.0</td>\n",
       "      <td>NaN</td>\n",
       "    </tr>\n",
       "  </tbody>\n",
       "</table>\n",
       "</div>"
      ],
      "text/plain": [
       "                 población  superficie densidad\n",
       "1                        a         NaN      NaN\n",
       "2                        a         NaN      NaN\n",
       "3                        a         NaN      NaN\n",
       "4                        a         NaN      NaN\n",
       "La Habana              NaN       728.0      NaN\n",
       "Sinaloa                NaN     58200.0      NaN\n",
       "Santiago de Cuba       NaN      6243.0      NaN\n",
       "Sonora                 NaN    179355.0      NaN\n",
       "Chihuahua              NaN    247455.0      NaN"
      ]
     },
     "execution_count": 77,
     "metadata": {},
     "output_type": "execute_result"
    }
   ],
   "source": [
    "territorios"
   ]
  },
  {
   "cell_type": "code",
   "execution_count": 78,
   "id": "8b3feff5-f2f6-49c5-a162-5ac4d84630ad",
   "metadata": {},
   "outputs": [
    {
     "data": {
      "text/plain": [
       "array([['a', nan, nan],\n",
       "       ['a', nan, nan],\n",
       "       ['a', nan, nan],\n",
       "       ['a', nan, nan],\n",
       "       [nan, 728.0, nan],\n",
       "       [nan, 58200.0, nan],\n",
       "       [nan, 6243.0, nan],\n",
       "       [nan, 179355.0, nan],\n",
       "       [nan, 247455.0, nan]], dtype=object)"
      ]
     },
     "execution_count": 78,
     "metadata": {},
     "output_type": "execute_result"
    }
   ],
   "source": [
    "territorios.values"
   ]
  },
  {
   "cell_type": "code",
   "execution_count": 79,
   "id": "f250e003-8c56-4574-9d40-2c7acd5372b3",
   "metadata": {},
   "outputs": [
    {
     "data": {
      "text/html": [
       "<div>\n",
       "<style scoped>\n",
       "    .dataframe tbody tr th:only-of-type {\n",
       "        vertical-align: middle;\n",
       "    }\n",
       "\n",
       "    .dataframe tbody tr th {\n",
       "        vertical-align: top;\n",
       "    }\n",
       "\n",
       "    .dataframe thead th {\n",
       "        text-align: right;\n",
       "    }\n",
       "</style>\n",
       "<table border=\"1\" class=\"dataframe\">\n",
       "  <thead>\n",
       "    <tr style=\"text-align: right;\">\n",
       "      <th></th>\n",
       "      <th>1</th>\n",
       "      <th>2</th>\n",
       "      <th>3</th>\n",
       "      <th>4</th>\n",
       "      <th>La Habana</th>\n",
       "      <th>Sinaloa</th>\n",
       "      <th>Santiago de Cuba</th>\n",
       "      <th>Sonora</th>\n",
       "      <th>Chihuahua</th>\n",
       "    </tr>\n",
       "  </thead>\n",
       "  <tbody>\n",
       "    <tr>\n",
       "      <th>población</th>\n",
       "      <td>a</td>\n",
       "      <td>a</td>\n",
       "      <td>a</td>\n",
       "      <td>a</td>\n",
       "      <td>NaN</td>\n",
       "      <td>NaN</td>\n",
       "      <td>NaN</td>\n",
       "      <td>NaN</td>\n",
       "      <td>NaN</td>\n",
       "    </tr>\n",
       "    <tr>\n",
       "      <th>superficie</th>\n",
       "      <td>NaN</td>\n",
       "      <td>NaN</td>\n",
       "      <td>NaN</td>\n",
       "      <td>NaN</td>\n",
       "      <td>728.0</td>\n",
       "      <td>58200.0</td>\n",
       "      <td>6243.0</td>\n",
       "      <td>179355.0</td>\n",
       "      <td>247455.0</td>\n",
       "    </tr>\n",
       "    <tr>\n",
       "      <th>densidad</th>\n",
       "      <td>NaN</td>\n",
       "      <td>NaN</td>\n",
       "      <td>NaN</td>\n",
       "      <td>NaN</td>\n",
       "      <td>NaN</td>\n",
       "      <td>NaN</td>\n",
       "      <td>NaN</td>\n",
       "      <td>NaN</td>\n",
       "      <td>NaN</td>\n",
       "    </tr>\n",
       "  </tbody>\n",
       "</table>\n",
       "</div>"
      ],
      "text/plain": [
       "              1    2    3    4 La Habana  Sinaloa Santiago de Cuba    Sonora  \\\n",
       "población     a    a    a    a       NaN      NaN              NaN       NaN   \n",
       "superficie  NaN  NaN  NaN  NaN     728.0  58200.0           6243.0  179355.0   \n",
       "densidad    NaN  NaN  NaN  NaN       NaN      NaN              NaN       NaN   \n",
       "\n",
       "           Chihuahua  \n",
       "población        NaN  \n",
       "superficie  247455.0  \n",
       "densidad         NaN  "
      ]
     },
     "execution_count": 79,
     "metadata": {},
     "output_type": "execute_result"
    }
   ],
   "source": [
    "territorios.T"
   ]
  },
  {
   "cell_type": "code",
   "execution_count": 80,
   "id": "44c8d3fc-44df-4c7d-9af7-be3bfa1c5808",
   "metadata": {},
   "outputs": [
    {
     "data": {
      "text/plain": [
       "array(['a', nan, nan], dtype=object)"
      ]
     },
     "execution_count": 80,
     "metadata": {},
     "output_type": "execute_result"
    }
   ],
   "source": [
    "territorios.values[0]"
   ]
  },
  {
   "cell_type": "code",
   "execution_count": 81,
   "id": "04e15c50-b76b-4540-b69b-d784f43d8dbd",
   "metadata": {},
   "outputs": [
    {
     "data": {
      "text/plain": [
       "1                        NaN\n",
       "2                        NaN\n",
       "3                        NaN\n",
       "4                        NaN\n",
       "La Habana              728.0\n",
       "Sinaloa              58200.0\n",
       "Santiago de Cuba      6243.0\n",
       "Sonora              179355.0\n",
       "Chihuahua           247455.0\n",
       "Name: superficie, dtype: float64"
      ]
     },
     "execution_count": 81,
     "metadata": {},
     "output_type": "execute_result"
    }
   ],
   "source": [
    "territorios['superficie']"
   ]
  },
  {
   "cell_type": "code",
   "execution_count": 82,
   "id": "81f6748e-8377-4bb0-8ff2-f7785dd9d21b",
   "metadata": {},
   "outputs": [
    {
     "data": {
      "text/html": [
       "<div>\n",
       "<style scoped>\n",
       "    .dataframe tbody tr th:only-of-type {\n",
       "        vertical-align: middle;\n",
       "    }\n",
       "\n",
       "    .dataframe tbody tr th {\n",
       "        vertical-align: top;\n",
       "    }\n",
       "\n",
       "    .dataframe thead th {\n",
       "        text-align: right;\n",
       "    }\n",
       "</style>\n",
       "<table border=\"1\" class=\"dataframe\">\n",
       "  <thead>\n",
       "    <tr style=\"text-align: right;\">\n",
       "      <th></th>\n",
       "      <th>población</th>\n",
       "      <th>superficie</th>\n",
       "    </tr>\n",
       "  </thead>\n",
       "  <tbody>\n",
       "    <tr>\n",
       "      <th>1</th>\n",
       "      <td>a</td>\n",
       "      <td>NaN</td>\n",
       "    </tr>\n",
       "    <tr>\n",
       "      <th>2</th>\n",
       "      <td>a</td>\n",
       "      <td>NaN</td>\n",
       "    </tr>\n",
       "    <tr>\n",
       "      <th>3</th>\n",
       "      <td>a</td>\n",
       "      <td>NaN</td>\n",
       "    </tr>\n",
       "  </tbody>\n",
       "</table>\n",
       "</div>"
      ],
      "text/plain": [
       "  población  superficie\n",
       "1         a         NaN\n",
       "2         a         NaN\n",
       "3         a         NaN"
      ]
     },
     "execution_count": 82,
     "metadata": {},
     "output_type": "execute_result"
    }
   ],
   "source": [
    "territorios.iloc[:3,:2]"
   ]
  },
  {
   "cell_type": "code",
   "execution_count": 83,
   "id": "8731580e-af55-48ec-a525-7d95475e7623",
   "metadata": {},
   "outputs": [
    {
     "data": {
      "text/html": [
       "<div>\n",
       "<style scoped>\n",
       "    .dataframe tbody tr th:only-of-type {\n",
       "        vertical-align: middle;\n",
       "    }\n",
       "\n",
       "    .dataframe tbody tr th {\n",
       "        vertical-align: top;\n",
       "    }\n",
       "\n",
       "    .dataframe thead th {\n",
       "        text-align: right;\n",
       "    }\n",
       "</style>\n",
       "<table border=\"1\" class=\"dataframe\">\n",
       "  <thead>\n",
       "    <tr style=\"text-align: right;\">\n",
       "      <th></th>\n",
       "      <th>población</th>\n",
       "      <th>superficie</th>\n",
       "    </tr>\n",
       "  </thead>\n",
       "  <tbody>\n",
       "    <tr>\n",
       "      <th>1</th>\n",
       "      <td>a</td>\n",
       "      <td>NaN</td>\n",
       "    </tr>\n",
       "    <tr>\n",
       "      <th>2</th>\n",
       "      <td>a</td>\n",
       "      <td>NaN</td>\n",
       "    </tr>\n",
       "    <tr>\n",
       "      <th>3</th>\n",
       "      <td>a</td>\n",
       "      <td>NaN</td>\n",
       "    </tr>\n",
       "    <tr>\n",
       "      <th>4</th>\n",
       "      <td>a</td>\n",
       "      <td>NaN</td>\n",
       "    </tr>\n",
       "    <tr>\n",
       "      <th>La Habana</th>\n",
       "      <td>NaN</td>\n",
       "      <td>728.0</td>\n",
       "    </tr>\n",
       "    <tr>\n",
       "      <th>Sinaloa</th>\n",
       "      <td>NaN</td>\n",
       "      <td>58200.0</td>\n",
       "    </tr>\n",
       "    <tr>\n",
       "      <th>Santiago de Cuba</th>\n",
       "      <td>NaN</td>\n",
       "      <td>6243.0</td>\n",
       "    </tr>\n",
       "  </tbody>\n",
       "</table>\n",
       "</div>"
      ],
      "text/plain": [
       "                 población  superficie\n",
       "1                        a         NaN\n",
       "2                        a         NaN\n",
       "3                        a         NaN\n",
       "4                        a         NaN\n",
       "La Habana              NaN       728.0\n",
       "Sinaloa                NaN     58200.0\n",
       "Santiago de Cuba       NaN      6243.0"
      ]
     },
     "execution_count": 83,
     "metadata": {},
     "output_type": "execute_result"
    }
   ],
   "source": [
    "territorios.loc[:'Santiago de Cuba', :'superficie']"
   ]
  },
  {
   "cell_type": "code",
   "execution_count": 84,
   "id": "146b85b6-34be-479d-b707-adfb5819dae0",
   "metadata": {},
   "outputs": [
    {
     "data": {
      "text/html": [
       "<div>\n",
       "<style scoped>\n",
       "    .dataframe tbody tr th:only-of-type {\n",
       "        vertical-align: middle;\n",
       "    }\n",
       "\n",
       "    .dataframe tbody tr th {\n",
       "        vertical-align: top;\n",
       "    }\n",
       "\n",
       "    .dataframe thead th {\n",
       "        text-align: right;\n",
       "    }\n",
       "</style>\n",
       "<table border=\"1\" class=\"dataframe\">\n",
       "  <thead>\n",
       "    <tr style=\"text-align: right;\">\n",
       "      <th></th>\n",
       "      <th>población</th>\n",
       "      <th>densidad</th>\n",
       "    </tr>\n",
       "  </thead>\n",
       "  <tbody>\n",
       "  </tbody>\n",
       "</table>\n",
       "</div>"
      ],
      "text/plain": [
       "Empty DataFrame\n",
       "Columns: [población, densidad]\n",
       "Index: []"
      ]
     },
     "execution_count": 84,
     "metadata": {},
     "output_type": "execute_result"
    }
   ],
   "source": [
    "territorios.loc[territorios.densidad > 100, ['población', 'densidad']]"
   ]
  },
  {
   "cell_type": "code",
   "execution_count": 85,
   "id": "6ba6942b-1cc2-4bee-a0a4-320b328bbd60",
   "metadata": {},
   "outputs": [
    {
     "data": {
      "text/html": [
       "<div>\n",
       "<style scoped>\n",
       "    .dataframe tbody tr th:only-of-type {\n",
       "        vertical-align: middle;\n",
       "    }\n",
       "\n",
       "    .dataframe tbody tr th {\n",
       "        vertical-align: top;\n",
       "    }\n",
       "\n",
       "    .dataframe thead th {\n",
       "        text-align: right;\n",
       "    }\n",
       "</style>\n",
       "<table border=\"1\" class=\"dataframe\">\n",
       "  <thead>\n",
       "    <tr style=\"text-align: right;\">\n",
       "      <th></th>\n",
       "      <th>población</th>\n",
       "      <th>superficie</th>\n",
       "      <th>densidad</th>\n",
       "    </tr>\n",
       "  </thead>\n",
       "  <tbody>\n",
       "    <tr>\n",
       "      <th>1</th>\n",
       "      <td>a</td>\n",
       "      <td>NaN</td>\n",
       "      <td>NaN</td>\n",
       "    </tr>\n",
       "    <tr>\n",
       "      <th>2</th>\n",
       "      <td>a</td>\n",
       "      <td>NaN</td>\n",
       "      <td>NaN</td>\n",
       "    </tr>\n",
       "    <tr>\n",
       "      <th>3</th>\n",
       "      <td>a</td>\n",
       "      <td>NaN</td>\n",
       "      <td>NaN</td>\n",
       "    </tr>\n",
       "    <tr>\n",
       "      <th>4</th>\n",
       "      <td>a</td>\n",
       "      <td>NaN</td>\n",
       "      <td>NaN</td>\n",
       "    </tr>\n",
       "    <tr>\n",
       "      <th>La Habana</th>\n",
       "      <td>NaN</td>\n",
       "      <td>728.0</td>\n",
       "      <td>NaN</td>\n",
       "    </tr>\n",
       "    <tr>\n",
       "      <th>Sinaloa</th>\n",
       "      <td>NaN</td>\n",
       "      <td>58200.0</td>\n",
       "      <td>NaN</td>\n",
       "    </tr>\n",
       "    <tr>\n",
       "      <th>Santiago de Cuba</th>\n",
       "      <td>NaN</td>\n",
       "      <td>6243.0</td>\n",
       "      <td>NaN</td>\n",
       "    </tr>\n",
       "    <tr>\n",
       "      <th>Sonora</th>\n",
       "      <td>NaN</td>\n",
       "      <td>179355.0</td>\n",
       "      <td>NaN</td>\n",
       "    </tr>\n",
       "    <tr>\n",
       "      <th>Chihuahua</th>\n",
       "      <td>NaN</td>\n",
       "      <td>247455.0</td>\n",
       "      <td>NaN</td>\n",
       "    </tr>\n",
       "  </tbody>\n",
       "</table>\n",
       "</div>"
      ],
      "text/plain": [
       "                 población  superficie densidad\n",
       "1                        a         NaN      NaN\n",
       "2                        a         NaN      NaN\n",
       "3                        a         NaN      NaN\n",
       "4                        a         NaN      NaN\n",
       "La Habana              NaN       728.0      NaN\n",
       "Sinaloa                NaN     58200.0      NaN\n",
       "Santiago de Cuba       NaN      6243.0      NaN\n",
       "Sonora                 NaN    179355.0      NaN\n",
       "Chihuahua              NaN    247455.0      NaN"
      ]
     },
     "execution_count": 85,
     "metadata": {},
     "output_type": "execute_result"
    }
   ],
   "source": [
    "territorios"
   ]
  },
  {
   "cell_type": "code",
   "execution_count": 86,
   "id": "392c94aa-8ac2-4cff-84b1-2773bc83b285",
   "metadata": {},
   "outputs": [
    {
     "data": {
      "text/plain": [
       "nan"
      ]
     },
     "execution_count": 86,
     "metadata": {},
     "output_type": "execute_result"
    }
   ],
   "source": [
    "territorios.iloc[0, 2]"
   ]
  },
  {
   "cell_type": "code",
   "execution_count": 87,
   "id": "a10093f3-508d-4103-b3b2-8a449e57f6e7",
   "metadata": {},
   "outputs": [],
   "source": [
    "territorios.iloc[0, 2] = 90"
   ]
  },
  {
   "cell_type": "code",
   "execution_count": 88,
   "id": "3fa9e6e5-3381-4615-ac99-2be52c5250f8",
   "metadata": {},
   "outputs": [
    {
     "data": {
      "text/html": [
       "<div>\n",
       "<style scoped>\n",
       "    .dataframe tbody tr th:only-of-type {\n",
       "        vertical-align: middle;\n",
       "    }\n",
       "\n",
       "    .dataframe tbody tr th {\n",
       "        vertical-align: top;\n",
       "    }\n",
       "\n",
       "    .dataframe thead th {\n",
       "        text-align: right;\n",
       "    }\n",
       "</style>\n",
       "<table border=\"1\" class=\"dataframe\">\n",
       "  <thead>\n",
       "    <tr style=\"text-align: right;\">\n",
       "      <th></th>\n",
       "      <th>población</th>\n",
       "      <th>superficie</th>\n",
       "      <th>densidad</th>\n",
       "    </tr>\n",
       "  </thead>\n",
       "  <tbody>\n",
       "    <tr>\n",
       "      <th>1</th>\n",
       "      <td>a</td>\n",
       "      <td>NaN</td>\n",
       "      <td>90</td>\n",
       "    </tr>\n",
       "    <tr>\n",
       "      <th>2</th>\n",
       "      <td>a</td>\n",
       "      <td>NaN</td>\n",
       "      <td>NaN</td>\n",
       "    </tr>\n",
       "    <tr>\n",
       "      <th>3</th>\n",
       "      <td>a</td>\n",
       "      <td>NaN</td>\n",
       "      <td>NaN</td>\n",
       "    </tr>\n",
       "    <tr>\n",
       "      <th>4</th>\n",
       "      <td>a</td>\n",
       "      <td>NaN</td>\n",
       "      <td>NaN</td>\n",
       "    </tr>\n",
       "    <tr>\n",
       "      <th>La Habana</th>\n",
       "      <td>NaN</td>\n",
       "      <td>728.0</td>\n",
       "      <td>NaN</td>\n",
       "    </tr>\n",
       "    <tr>\n",
       "      <th>Sinaloa</th>\n",
       "      <td>NaN</td>\n",
       "      <td>58200.0</td>\n",
       "      <td>NaN</td>\n",
       "    </tr>\n",
       "    <tr>\n",
       "      <th>Santiago de Cuba</th>\n",
       "      <td>NaN</td>\n",
       "      <td>6243.0</td>\n",
       "      <td>NaN</td>\n",
       "    </tr>\n",
       "    <tr>\n",
       "      <th>Sonora</th>\n",
       "      <td>NaN</td>\n",
       "      <td>179355.0</td>\n",
       "      <td>NaN</td>\n",
       "    </tr>\n",
       "    <tr>\n",
       "      <th>Chihuahua</th>\n",
       "      <td>NaN</td>\n",
       "      <td>247455.0</td>\n",
       "      <td>NaN</td>\n",
       "    </tr>\n",
       "  </tbody>\n",
       "</table>\n",
       "</div>"
      ],
      "text/plain": [
       "                 población  superficie densidad\n",
       "1                        a         NaN       90\n",
       "2                        a         NaN      NaN\n",
       "3                        a         NaN      NaN\n",
       "4                        a         NaN      NaN\n",
       "La Habana              NaN       728.0      NaN\n",
       "Sinaloa                NaN     58200.0      NaN\n",
       "Santiago de Cuba       NaN      6243.0      NaN\n",
       "Sonora                 NaN    179355.0      NaN\n",
       "Chihuahua              NaN    247455.0      NaN"
      ]
     },
     "execution_count": 88,
     "metadata": {},
     "output_type": "execute_result"
    }
   ],
   "source": [
    "territorios"
   ]
  },
  {
   "cell_type": "code",
   "execution_count": 89,
   "id": "a8eb0ef7-d839-4243-aabb-dda0595cb179",
   "metadata": {},
   "outputs": [
    {
     "data": {
      "text/html": [
       "<div>\n",
       "<style scoped>\n",
       "    .dataframe tbody tr th:only-of-type {\n",
       "        vertical-align: middle;\n",
       "    }\n",
       "\n",
       "    .dataframe tbody tr th {\n",
       "        vertical-align: top;\n",
       "    }\n",
       "\n",
       "    .dataframe thead th {\n",
       "        text-align: right;\n",
       "    }\n",
       "</style>\n",
       "<table border=\"1\" class=\"dataframe\">\n",
       "  <thead>\n",
       "    <tr style=\"text-align: right;\">\n",
       "      <th></th>\n",
       "      <th>población</th>\n",
       "      <th>superficie</th>\n",
       "      <th>densidad</th>\n",
       "    </tr>\n",
       "  </thead>\n",
       "  <tbody>\n",
       "  </tbody>\n",
       "</table>\n",
       "</div>"
      ],
      "text/plain": [
       "Empty DataFrame\n",
       "Columns: [población, superficie, densidad]\n",
       "Index: []"
      ]
     },
     "execution_count": 89,
     "metadata": {},
     "output_type": "execute_result"
    }
   ],
   "source": [
    "territorios[territorios.densidad > 100]"
   ]
  },
  {
   "cell_type": "code",
   "execution_count": 90,
   "id": "19cbdfcb-4ddb-4f86-b883-8b4c92b9ff41",
   "metadata": {},
   "outputs": [
    {
     "data": {
      "text/plain": [
       "1                   False\n",
       "2                   False\n",
       "3                   False\n",
       "4                   False\n",
       "La Habana           False\n",
       "Sinaloa             False\n",
       "Santiago de Cuba    False\n",
       "Sonora              False\n",
       "Chihuahua           False\n",
       "Name: densidad, dtype: bool"
      ]
     },
     "execution_count": 90,
     "metadata": {},
     "output_type": "execute_result"
    }
   ],
   "source": [
    "territorios.densidad > 100"
   ]
  },
  {
   "cell_type": "markdown",
   "id": "bcf3a8da-0747-4c4f-a8f3-edb604333812",
   "metadata": {},
   "source": [
    "## Operando sobre datos"
   ]
  },
  {
   "cell_type": "code",
   "execution_count": 91,
   "id": "032a7d6c-17c5-4734-8f5b-cb2f4b894601",
   "metadata": {},
   "outputs": [
    {
     "data": {
      "text/plain": [
       "0    6\n",
       "1    3\n",
       "2    7\n",
       "3    4\n",
       "dtype: int32"
      ]
     },
     "execution_count": 91,
     "metadata": {},
     "output_type": "execute_result"
    }
   ],
   "source": [
    "ran = np.random.RandomState(42)\n",
    "ser = pd.Series(ran.randint(0, 10, 4))\n",
    "ser"
   ]
  },
  {
   "cell_type": "code",
   "execution_count": 92,
   "id": "9498736b-9456-4ad7-9f5c-86fa79bf04f8",
   "metadata": {},
   "outputs": [
    {
     "data": {
      "text/html": [
       "<div>\n",
       "<style scoped>\n",
       "    .dataframe tbody tr th:only-of-type {\n",
       "        vertical-align: middle;\n",
       "    }\n",
       "\n",
       "    .dataframe tbody tr th {\n",
       "        vertical-align: top;\n",
       "    }\n",
       "\n",
       "    .dataframe thead th {\n",
       "        text-align: right;\n",
       "    }\n",
       "</style>\n",
       "<table border=\"1\" class=\"dataframe\">\n",
       "  <thead>\n",
       "    <tr style=\"text-align: right;\">\n",
       "      <th></th>\n",
       "      <th>A</th>\n",
       "      <th>B</th>\n",
       "      <th>C</th>\n",
       "      <th>D</th>\n",
       "    </tr>\n",
       "  </thead>\n",
       "  <tbody>\n",
       "    <tr>\n",
       "      <th>0</th>\n",
       "      <td>6</td>\n",
       "      <td>9</td>\n",
       "      <td>2</td>\n",
       "      <td>6</td>\n",
       "    </tr>\n",
       "    <tr>\n",
       "      <th>1</th>\n",
       "      <td>7</td>\n",
       "      <td>4</td>\n",
       "      <td>3</td>\n",
       "      <td>7</td>\n",
       "    </tr>\n",
       "    <tr>\n",
       "      <th>2</th>\n",
       "      <td>7</td>\n",
       "      <td>2</td>\n",
       "      <td>5</td>\n",
       "      <td>4</td>\n",
       "    </tr>\n",
       "  </tbody>\n",
       "</table>\n",
       "</div>"
      ],
      "text/plain": [
       "   A  B  C  D\n",
       "0  6  9  2  6\n",
       "1  7  4  3  7\n",
       "2  7  2  5  4"
      ]
     },
     "execution_count": 92,
     "metadata": {},
     "output_type": "execute_result"
    }
   ],
   "source": [
    "df = pd.DataFrame(ran.randint(0, 10, (3,4)),\n",
    "                  columns=['A', 'B', 'C', 'D'])\n",
    "df"
   ]
  },
  {
   "cell_type": "code",
   "execution_count": 93,
   "id": "cb157782-250e-4654-acf2-9ff9a44fe792",
   "metadata": {},
   "outputs": [
    {
     "data": {
      "text/plain": [
       "0     403.428793\n",
       "1      20.085537\n",
       "2    1096.633158\n",
       "3      54.598150\n",
       "dtype: float64"
      ]
     },
     "execution_count": 93,
     "metadata": {},
     "output_type": "execute_result"
    }
   ],
   "source": [
    "np.exp(ser)"
   ]
  },
  {
   "cell_type": "code",
   "execution_count": 94,
   "id": "259b9993-12bb-4849-a64a-3eab4c76ac35",
   "metadata": {},
   "outputs": [
    {
     "data": {
      "text/html": [
       "<div>\n",
       "<style scoped>\n",
       "    .dataframe tbody tr th:only-of-type {\n",
       "        vertical-align: middle;\n",
       "    }\n",
       "\n",
       "    .dataframe tbody tr th {\n",
       "        vertical-align: top;\n",
       "    }\n",
       "\n",
       "    .dataframe thead th {\n",
       "        text-align: right;\n",
       "    }\n",
       "</style>\n",
       "<table border=\"1\" class=\"dataframe\">\n",
       "  <thead>\n",
       "    <tr style=\"text-align: right;\">\n",
       "      <th></th>\n",
       "      <th>A</th>\n",
       "      <th>B</th>\n",
       "      <th>C</th>\n",
       "      <th>D</th>\n",
       "    </tr>\n",
       "  </thead>\n",
       "  <tbody>\n",
       "    <tr>\n",
       "      <th>0</th>\n",
       "      <td>-1.000000</td>\n",
       "      <td>7.071068e-01</td>\n",
       "      <td>1.000000</td>\n",
       "      <td>-1.000000e+00</td>\n",
       "    </tr>\n",
       "    <tr>\n",
       "      <th>1</th>\n",
       "      <td>-0.707107</td>\n",
       "      <td>1.224647e-16</td>\n",
       "      <td>0.707107</td>\n",
       "      <td>-7.071068e-01</td>\n",
       "    </tr>\n",
       "    <tr>\n",
       "      <th>2</th>\n",
       "      <td>-0.707107</td>\n",
       "      <td>1.000000e+00</td>\n",
       "      <td>-0.707107</td>\n",
       "      <td>1.224647e-16</td>\n",
       "    </tr>\n",
       "  </tbody>\n",
       "</table>\n",
       "</div>"
      ],
      "text/plain": [
       "          A             B         C             D\n",
       "0 -1.000000  7.071068e-01  1.000000 -1.000000e+00\n",
       "1 -0.707107  1.224647e-16  0.707107 -7.071068e-01\n",
       "2 -0.707107  1.000000e+00 -0.707107  1.224647e-16"
      ]
     },
     "execution_count": 94,
     "metadata": {},
     "output_type": "execute_result"
    }
   ],
   "source": [
    "np.sin(df * np.pi / 4)"
   ]
  },
  {
   "cell_type": "code",
   "execution_count": 95,
   "id": "a7f1aeb1-59fb-4ef8-9d63-c72e96e55612",
   "metadata": {},
   "outputs": [],
   "source": [
    "superficie = pd.Series({\n",
    "    'Alaska': 1723337, \n",
    "    'Texas': 695662,\n",
    "    'California': 423967\n",
    "}, name='superficie')\n",
    "\n",
    "población = pd.Series({\n",
    "    'California': 38332521, \n",
    "    'Texas': 26448193,\n",
    "    'New York': 19651127\n",
    "}, name='población')"
   ]
  },
  {
   "cell_type": "code",
   "execution_count": 96,
   "id": "764f8579-8658-4f7f-8fbb-123a683fbb70",
   "metadata": {},
   "outputs": [
    {
     "data": {
      "text/plain": [
       "Alaska              NaN\n",
       "California    90.413926\n",
       "New York            NaN\n",
       "Texas         38.018740\n",
       "dtype: float64"
      ]
     },
     "execution_count": 96,
     "metadata": {},
     "output_type": "execute_result"
    }
   ],
   "source": [
    "población / superficie"
   ]
  },
  {
   "cell_type": "code",
   "execution_count": 97,
   "id": "345acaf1-aecf-4dd7-9974-bbd0ffc5c7d1",
   "metadata": {},
   "outputs": [
    {
     "data": {
      "text/plain": [
       "0    NaN\n",
       "1    5.0\n",
       "2    9.0\n",
       "3    NaN\n",
       "dtype: float64"
      ]
     },
     "execution_count": 97,
     "metadata": {},
     "output_type": "execute_result"
    }
   ],
   "source": [
    "A = pd.Series([2, 4, 6], index=[0, 1, 2])\n",
    "B = pd.Series([1, 3, 5], index=[1, 2, 3])\n",
    "A + B"
   ]
  },
  {
   "cell_type": "code",
   "execution_count": 98,
   "id": "d1ada94b-6e71-4960-8fda-fe7c82da788e",
   "metadata": {},
   "outputs": [
    {
     "data": {
      "text/plain": [
       "0    2.0\n",
       "1    5.0\n",
       "2    9.0\n",
       "3    5.0\n",
       "dtype: float64"
      ]
     },
     "execution_count": 98,
     "metadata": {},
     "output_type": "execute_result"
    }
   ],
   "source": [
    "A.add(B, fill_value=0)"
   ]
  },
  {
   "cell_type": "code",
   "execution_count": 99,
   "id": "045cdd69-4f1f-4acb-b990-60d05c573210",
   "metadata": {},
   "outputs": [
    {
     "data": {
      "text/html": [
       "<div>\n",
       "<style scoped>\n",
       "    .dataframe tbody tr th:only-of-type {\n",
       "        vertical-align: middle;\n",
       "    }\n",
       "\n",
       "    .dataframe tbody tr th {\n",
       "        vertical-align: top;\n",
       "    }\n",
       "\n",
       "    .dataframe thead th {\n",
       "        text-align: right;\n",
       "    }\n",
       "</style>\n",
       "<table border=\"1\" class=\"dataframe\">\n",
       "  <thead>\n",
       "    <tr style=\"text-align: right;\">\n",
       "      <th></th>\n",
       "      <th>A</th>\n",
       "      <th>B</th>\n",
       "    </tr>\n",
       "  </thead>\n",
       "  <tbody>\n",
       "    <tr>\n",
       "      <th>0</th>\n",
       "      <td>1</td>\n",
       "      <td>11</td>\n",
       "    </tr>\n",
       "    <tr>\n",
       "      <th>1</th>\n",
       "      <td>5</td>\n",
       "      <td>1</td>\n",
       "    </tr>\n",
       "  </tbody>\n",
       "</table>\n",
       "</div>"
      ],
      "text/plain": [
       "   A   B\n",
       "0  1  11\n",
       "1  5   1"
      ]
     },
     "execution_count": 99,
     "metadata": {},
     "output_type": "execute_result"
    }
   ],
   "source": [
    "A = pd.DataFrame(ran.randint(0, 20, (2,2)),\n",
    "                 columns=list('AB'))\n",
    "A"
   ]
  },
  {
   "cell_type": "code",
   "execution_count": 100,
   "id": "fcc09a89-62c7-4b7d-9e71-55a2be0035dc",
   "metadata": {},
   "outputs": [
    {
     "data": {
      "text/html": [
       "<div>\n",
       "<style scoped>\n",
       "    .dataframe tbody tr th:only-of-type {\n",
       "        vertical-align: middle;\n",
       "    }\n",
       "\n",
       "    .dataframe tbody tr th {\n",
       "        vertical-align: top;\n",
       "    }\n",
       "\n",
       "    .dataframe thead th {\n",
       "        text-align: right;\n",
       "    }\n",
       "</style>\n",
       "<table border=\"1\" class=\"dataframe\">\n",
       "  <thead>\n",
       "    <tr style=\"text-align: right;\">\n",
       "      <th></th>\n",
       "      <th>B</th>\n",
       "      <th>A</th>\n",
       "      <th>C</th>\n",
       "    </tr>\n",
       "  </thead>\n",
       "  <tbody>\n",
       "    <tr>\n",
       "      <th>0</th>\n",
       "      <td>4</td>\n",
       "      <td>0</td>\n",
       "      <td>9</td>\n",
       "    </tr>\n",
       "    <tr>\n",
       "      <th>1</th>\n",
       "      <td>5</td>\n",
       "      <td>8</td>\n",
       "      <td>0</td>\n",
       "    </tr>\n",
       "    <tr>\n",
       "      <th>2</th>\n",
       "      <td>9</td>\n",
       "      <td>2</td>\n",
       "      <td>6</td>\n",
       "    </tr>\n",
       "  </tbody>\n",
       "</table>\n",
       "</div>"
      ],
      "text/plain": [
       "   B  A  C\n",
       "0  4  0  9\n",
       "1  5  8  0\n",
       "2  9  2  6"
      ]
     },
     "execution_count": 100,
     "metadata": {},
     "output_type": "execute_result"
    }
   ],
   "source": [
    "B = pd.DataFrame(ran.randint(0, 10, (3,3)),\n",
    "                 columns=list('BAC'))\n",
    "B"
   ]
  },
  {
   "cell_type": "code",
   "execution_count": 101,
   "id": "8ab2a83a-9d6a-40b5-ab78-5f20424e7dce",
   "metadata": {},
   "outputs": [
    {
     "data": {
      "text/html": [
       "<div>\n",
       "<style scoped>\n",
       "    .dataframe tbody tr th:only-of-type {\n",
       "        vertical-align: middle;\n",
       "    }\n",
       "\n",
       "    .dataframe tbody tr th {\n",
       "        vertical-align: top;\n",
       "    }\n",
       "\n",
       "    .dataframe thead th {\n",
       "        text-align: right;\n",
       "    }\n",
       "</style>\n",
       "<table border=\"1\" class=\"dataframe\">\n",
       "  <thead>\n",
       "    <tr style=\"text-align: right;\">\n",
       "      <th></th>\n",
       "      <th>A</th>\n",
       "      <th>B</th>\n",
       "      <th>C</th>\n",
       "    </tr>\n",
       "  </thead>\n",
       "  <tbody>\n",
       "    <tr>\n",
       "      <th>0</th>\n",
       "      <td>1.0</td>\n",
       "      <td>15.0</td>\n",
       "      <td>NaN</td>\n",
       "    </tr>\n",
       "    <tr>\n",
       "      <th>1</th>\n",
       "      <td>13.0</td>\n",
       "      <td>6.0</td>\n",
       "      <td>NaN</td>\n",
       "    </tr>\n",
       "    <tr>\n",
       "      <th>2</th>\n",
       "      <td>NaN</td>\n",
       "      <td>NaN</td>\n",
       "      <td>NaN</td>\n",
       "    </tr>\n",
       "  </tbody>\n",
       "</table>\n",
       "</div>"
      ],
      "text/plain": [
       "      A     B   C\n",
       "0   1.0  15.0 NaN\n",
       "1  13.0   6.0 NaN\n",
       "2   NaN   NaN NaN"
      ]
     },
     "execution_count": 101,
     "metadata": {},
     "output_type": "execute_result"
    }
   ],
   "source": [
    "A + B"
   ]
  },
  {
   "cell_type": "code",
   "execution_count": 102,
   "id": "610e6115-4815-43ec-9fc8-5f4183ddb7ae",
   "metadata": {},
   "outputs": [
    {
     "data": {
      "text/html": [
       "<div>\n",
       "<style scoped>\n",
       "    .dataframe tbody tr th:only-of-type {\n",
       "        vertical-align: middle;\n",
       "    }\n",
       "\n",
       "    .dataframe tbody tr th {\n",
       "        vertical-align: top;\n",
       "    }\n",
       "\n",
       "    .dataframe thead th {\n",
       "        text-align: right;\n",
       "    }\n",
       "</style>\n",
       "<table border=\"1\" class=\"dataframe\">\n",
       "  <thead>\n",
       "    <tr style=\"text-align: right;\">\n",
       "      <th></th>\n",
       "      <th>A</th>\n",
       "      <th>B</th>\n",
       "    </tr>\n",
       "  </thead>\n",
       "  <tbody>\n",
       "    <tr>\n",
       "      <th>0</th>\n",
       "      <td>1</td>\n",
       "      <td>11</td>\n",
       "    </tr>\n",
       "    <tr>\n",
       "      <th>1</th>\n",
       "      <td>5</td>\n",
       "      <td>1</td>\n",
       "    </tr>\n",
       "  </tbody>\n",
       "</table>\n",
       "</div>"
      ],
      "text/plain": [
       "   A   B\n",
       "0  1  11\n",
       "1  5   1"
      ]
     },
     "execution_count": 102,
     "metadata": {},
     "output_type": "execute_result"
    }
   ],
   "source": [
    "A"
   ]
  },
  {
   "cell_type": "code",
   "execution_count": 103,
   "metadata": {},
   "outputs": [
    {
     "name": "stdout",
     "output_type": "stream",
     "text": [
      "\u001b[1;31mSignature:\u001b[0m \u001b[0mnp\u001b[0m\u001b[1;33m.\u001b[0m\u001b[0mstack\u001b[0m\u001b[1;33m(\u001b[0m\u001b[0marrays\u001b[0m\u001b[1;33m,\u001b[0m \u001b[0maxis\u001b[0m\u001b[1;33m=\u001b[0m\u001b[1;36m0\u001b[0m\u001b[1;33m,\u001b[0m \u001b[0mout\u001b[0m\u001b[1;33m=\u001b[0m\u001b[1;32mNone\u001b[0m\u001b[1;33m,\u001b[0m \u001b[1;33m*\u001b[0m\u001b[1;33m,\u001b[0m \u001b[0mdtype\u001b[0m\u001b[1;33m=\u001b[0m\u001b[1;32mNone\u001b[0m\u001b[1;33m,\u001b[0m \u001b[0mcasting\u001b[0m\u001b[1;33m=\u001b[0m\u001b[1;34m'same_kind'\u001b[0m\u001b[1;33m)\u001b[0m\u001b[1;33m\u001b[0m\u001b[1;33m\u001b[0m\u001b[0m\n",
      "\u001b[1;31mDocstring:\u001b[0m\n",
      "Join a sequence of arrays along a new axis.\n",
      "\n",
      "The ``axis`` parameter specifies the index of the new axis in the\n",
      "dimensions of the result. For example, if ``axis=0`` it will be the first\n",
      "dimension and if ``axis=-1`` it will be the last dimension.\n",
      "\n",
      ".. versionadded:: 1.10.0\n",
      "\n",
      "Parameters\n",
      "----------\n",
      "arrays : sequence of array_like\n",
      "    Each array must have the same shape.\n",
      "\n",
      "axis : int, optional\n",
      "    The axis in the result array along which the input arrays are stacked.\n",
      "\n",
      "out : ndarray, optional\n",
      "    If provided, the destination to place the result. The shape must be\n",
      "    correct, matching that of what stack would have returned if no\n",
      "    out argument were specified.\n",
      "\n",
      "dtype : str or dtype\n",
      "    If provided, the destination array will have this dtype. Cannot be\n",
      "    provided together with `out`.\n",
      "\n",
      "    .. versionadded:: 1.24\n",
      "\n",
      "casting : {'no', 'equiv', 'safe', 'same_kind', 'unsafe'}, optional\n",
      "    Controls what kind of data casting may occur. Defaults to 'same_kind'.\n",
      "\n",
      "    .. versionadded:: 1.24\n",
      "\n",
      "\n",
      "Returns\n",
      "-------\n",
      "stacked : ndarray\n",
      "    The stacked array has one more dimension than the input arrays.\n",
      "\n",
      "See Also\n",
      "--------\n",
      "concatenate : Join a sequence of arrays along an existing axis.\n",
      "block : Assemble an nd-array from nested lists of blocks.\n",
      "split : Split array into a list of multiple sub-arrays of equal size.\n",
      "\n",
      "Examples\n",
      "--------\n",
      ">>> arrays = [np.random.randn(3, 4) for _ in range(10)]\n",
      ">>> np.stack(arrays, axis=0).shape\n",
      "(10, 3, 4)\n",
      "\n",
      ">>> np.stack(arrays, axis=1).shape\n",
      "(3, 10, 4)\n",
      "\n",
      ">>> np.stack(arrays, axis=2).shape\n",
      "(3, 4, 10)\n",
      "\n",
      ">>> a = np.array([1, 2, 3])\n",
      ">>> b = np.array([4, 5, 6])\n",
      ">>> np.stack((a, b))\n",
      "array([[1, 2, 3],\n",
      "       [4, 5, 6]])\n",
      "\n",
      ">>> np.stack((a, b), axis=-1)\n",
      "array([[1, 4],\n",
      "       [2, 5],\n",
      "       [3, 6]])\n",
      "\u001b[1;31mFile:\u001b[0m      c:\\users\\mcd\\appdata\\roaming\\python\\python311\\site-packages\\numpy\\core\\shape_base.py\n",
      "\u001b[1;31mType:\u001b[0m      function"
     ]
    }
   ],
   "source": [
    "np.stack?\n"
   ]
  },
  {
   "cell_type": "code",
   "execution_count": 104,
   "id": "86e924e6-0daf-43e1-924a-34ff332f02dc",
   "metadata": {},
   "outputs": [
    {
     "data": {
      "text/plain": [
       "0  A     1\n",
       "   B    11\n",
       "1  A     5\n",
       "   B     1\n",
       "dtype: int32"
      ]
     },
     "execution_count": 104,
     "metadata": {},
     "output_type": "execute_result"
    }
   ],
   "source": [
    "A.stack()"
   ]
  },
  {
   "cell_type": "code",
   "execution_count": 105,
   "metadata": {},
   "outputs": [
    {
     "data": {
      "text/html": [
       "<div>\n",
       "<style scoped>\n",
       "    .dataframe tbody tr th:only-of-type {\n",
       "        vertical-align: middle;\n",
       "    }\n",
       "\n",
       "    .dataframe tbody tr th {\n",
       "        vertical-align: top;\n",
       "    }\n",
       "\n",
       "    .dataframe thead th {\n",
       "        text-align: right;\n",
       "    }\n",
       "</style>\n",
       "<table border=\"1\" class=\"dataframe\">\n",
       "  <thead>\n",
       "    <tr style=\"text-align: right;\">\n",
       "      <th></th>\n",
       "      <th>A</th>\n",
       "      <th>B</th>\n",
       "    </tr>\n",
       "  </thead>\n",
       "  <tbody>\n",
       "    <tr>\n",
       "      <th>0</th>\n",
       "      <td>1</td>\n",
       "      <td>11</td>\n",
       "    </tr>\n",
       "    <tr>\n",
       "      <th>1</th>\n",
       "      <td>5</td>\n",
       "      <td>1</td>\n",
       "    </tr>\n",
       "  </tbody>\n",
       "</table>\n",
       "</div>"
      ],
      "text/plain": [
       "   A   B\n",
       "0  1  11\n",
       "1  5   1"
      ]
     },
     "execution_count": 105,
     "metadata": {},
     "output_type": "execute_result"
    }
   ],
   "source": [
    "A"
   ]
  },
  {
   "cell_type": "code",
   "execution_count": 106,
   "id": "96fdcfbe-7a61-46e9-b8cb-9384b4fd65f5",
   "metadata": {},
   "outputs": [
    {
     "data": {
      "text/plain": [
       "4.5"
      ]
     },
     "execution_count": 106,
     "metadata": {},
     "output_type": "execute_result"
    }
   ],
   "source": [
    "A.stack().mean()"
   ]
  },
  {
   "cell_type": "code",
   "execution_count": 107,
   "id": "664b9011-226a-4232-8e8b-790f911ca600",
   "metadata": {},
   "outputs": [],
   "source": [
    "fill = A.stack().mean()"
   ]
  },
  {
   "cell_type": "code",
   "execution_count": 108,
   "id": "b0e4bc4c-72b7-4726-ac8f-39d856027ca0",
   "metadata": {},
   "outputs": [
    {
     "data": {
      "text/html": [
       "<div>\n",
       "<style scoped>\n",
       "    .dataframe tbody tr th:only-of-type {\n",
       "        vertical-align: middle;\n",
       "    }\n",
       "\n",
       "    .dataframe tbody tr th {\n",
       "        vertical-align: top;\n",
       "    }\n",
       "\n",
       "    .dataframe thead th {\n",
       "        text-align: right;\n",
       "    }\n",
       "</style>\n",
       "<table border=\"1\" class=\"dataframe\">\n",
       "  <thead>\n",
       "    <tr style=\"text-align: right;\">\n",
       "      <th></th>\n",
       "      <th>A</th>\n",
       "      <th>B</th>\n",
       "      <th>C</th>\n",
       "    </tr>\n",
       "  </thead>\n",
       "  <tbody>\n",
       "    <tr>\n",
       "      <th>0</th>\n",
       "      <td>1.0</td>\n",
       "      <td>15.0</td>\n",
       "      <td>13.5</td>\n",
       "    </tr>\n",
       "    <tr>\n",
       "      <th>1</th>\n",
       "      <td>13.0</td>\n",
       "      <td>6.0</td>\n",
       "      <td>4.5</td>\n",
       "    </tr>\n",
       "    <tr>\n",
       "      <th>2</th>\n",
       "      <td>6.5</td>\n",
       "      <td>13.5</td>\n",
       "      <td>10.5</td>\n",
       "    </tr>\n",
       "  </tbody>\n",
       "</table>\n",
       "</div>"
      ],
      "text/plain": [
       "      A     B     C\n",
       "0   1.0  15.0  13.5\n",
       "1  13.0   6.0   4.5\n",
       "2   6.5  13.5  10.5"
      ]
     },
     "execution_count": 108,
     "metadata": {},
     "output_type": "execute_result"
    }
   ],
   "source": [
    "A.add(B, fill_value=fill)"
   ]
  },
  {
   "cell_type": "code",
   "execution_count": 109,
   "id": "6bd5661d-e0d9-487e-a005-c153564b8ec4",
   "metadata": {},
   "outputs": [
    {
     "data": {
      "text/plain": [
       "array([[3, 8, 2, 4],\n",
       "       [2, 6, 4, 8],\n",
       "       [6, 1, 3, 8]])"
      ]
     },
     "execution_count": 109,
     "metadata": {},
     "output_type": "execute_result"
    }
   ],
   "source": [
    "A = ran.randint(10, size=(3,4))\n",
    "A"
   ]
  },
  {
   "cell_type": "code",
   "execution_count": 110,
   "id": "ffd2b5bd-7823-491a-ab64-c61b42a884ef",
   "metadata": {},
   "outputs": [
    {
     "data": {
      "text/html": [
       "<div>\n",
       "<style scoped>\n",
       "    .dataframe tbody tr th:only-of-type {\n",
       "        vertical-align: middle;\n",
       "    }\n",
       "\n",
       "    .dataframe tbody tr th {\n",
       "        vertical-align: top;\n",
       "    }\n",
       "\n",
       "    .dataframe thead th {\n",
       "        text-align: right;\n",
       "    }\n",
       "</style>\n",
       "<table border=\"1\" class=\"dataframe\">\n",
       "  <thead>\n",
       "    <tr style=\"text-align: right;\">\n",
       "      <th></th>\n",
       "      <th>Q</th>\n",
       "      <th>R</th>\n",
       "      <th>S</th>\n",
       "      <th>T</th>\n",
       "    </tr>\n",
       "  </thead>\n",
       "  <tbody>\n",
       "    <tr>\n",
       "      <th>0</th>\n",
       "      <td>3</td>\n",
       "      <td>8</td>\n",
       "      <td>2</td>\n",
       "      <td>4</td>\n",
       "    </tr>\n",
       "    <tr>\n",
       "      <th>1</th>\n",
       "      <td>2</td>\n",
       "      <td>6</td>\n",
       "      <td>4</td>\n",
       "      <td>8</td>\n",
       "    </tr>\n",
       "    <tr>\n",
       "      <th>2</th>\n",
       "      <td>6</td>\n",
       "      <td>1</td>\n",
       "      <td>3</td>\n",
       "      <td>8</td>\n",
       "    </tr>\n",
       "  </tbody>\n",
       "</table>\n",
       "</div>"
      ],
      "text/plain": [
       "   Q  R  S  T\n",
       "0  3  8  2  4\n",
       "1  2  6  4  8\n",
       "2  6  1  3  8"
      ]
     },
     "execution_count": 110,
     "metadata": {},
     "output_type": "execute_result"
    }
   ],
   "source": [
    "df = pd.DataFrame(A, columns=list('QRST'))\n",
    "df"
   ]
  },
  {
   "cell_type": "code",
   "execution_count": 111,
   "id": "843539f5-ee12-4260-9875-d8fd34c0cf51",
   "metadata": {},
   "outputs": [
    {
     "data": {
      "text/html": [
       "<div>\n",
       "<style scoped>\n",
       "    .dataframe tbody tr th:only-of-type {\n",
       "        vertical-align: middle;\n",
       "    }\n",
       "\n",
       "    .dataframe tbody tr th {\n",
       "        vertical-align: top;\n",
       "    }\n",
       "\n",
       "    .dataframe thead th {\n",
       "        text-align: right;\n",
       "    }\n",
       "</style>\n",
       "<table border=\"1\" class=\"dataframe\">\n",
       "  <thead>\n",
       "    <tr style=\"text-align: right;\">\n",
       "      <th></th>\n",
       "      <th>Q</th>\n",
       "      <th>R</th>\n",
       "      <th>S</th>\n",
       "      <th>T</th>\n",
       "    </tr>\n",
       "  </thead>\n",
       "  <tbody>\n",
       "    <tr>\n",
       "      <th>0</th>\n",
       "      <td>0</td>\n",
       "      <td>0</td>\n",
       "      <td>0</td>\n",
       "      <td>0</td>\n",
       "    </tr>\n",
       "    <tr>\n",
       "      <th>1</th>\n",
       "      <td>-1</td>\n",
       "      <td>-2</td>\n",
       "      <td>2</td>\n",
       "      <td>4</td>\n",
       "    </tr>\n",
       "    <tr>\n",
       "      <th>2</th>\n",
       "      <td>3</td>\n",
       "      <td>-7</td>\n",
       "      <td>1</td>\n",
       "      <td>4</td>\n",
       "    </tr>\n",
       "  </tbody>\n",
       "</table>\n",
       "</div>"
      ],
      "text/plain": [
       "   Q  R  S  T\n",
       "0  0  0  0  0\n",
       "1 -1 -2  2  4\n",
       "2  3 -7  1  4"
      ]
     },
     "execution_count": 111,
     "metadata": {},
     "output_type": "execute_result"
    }
   ],
   "source": [
    "df - df.iloc[0]"
   ]
  },
  {
   "cell_type": "code",
   "execution_count": 112,
   "id": "ef1c7895-9987-4995-a8d0-3cda948920c4",
   "metadata": {},
   "outputs": [
    {
     "data": {
      "text/html": [
       "<div>\n",
       "<style scoped>\n",
       "    .dataframe tbody tr th:only-of-type {\n",
       "        vertical-align: middle;\n",
       "    }\n",
       "\n",
       "    .dataframe tbody tr th {\n",
       "        vertical-align: top;\n",
       "    }\n",
       "\n",
       "    .dataframe thead th {\n",
       "        text-align: right;\n",
       "    }\n",
       "</style>\n",
       "<table border=\"1\" class=\"dataframe\">\n",
       "  <thead>\n",
       "    <tr style=\"text-align: right;\">\n",
       "      <th></th>\n",
       "      <th>Q</th>\n",
       "      <th>R</th>\n",
       "      <th>S</th>\n",
       "      <th>T</th>\n",
       "    </tr>\n",
       "  </thead>\n",
       "  <tbody>\n",
       "    <tr>\n",
       "      <th>0</th>\n",
       "      <td>3</td>\n",
       "      <td>8</td>\n",
       "      <td>2</td>\n",
       "      <td>4</td>\n",
       "    </tr>\n",
       "    <tr>\n",
       "      <th>1</th>\n",
       "      <td>2</td>\n",
       "      <td>6</td>\n",
       "      <td>4</td>\n",
       "      <td>8</td>\n",
       "    </tr>\n",
       "    <tr>\n",
       "      <th>2</th>\n",
       "      <td>6</td>\n",
       "      <td>1</td>\n",
       "      <td>3</td>\n",
       "      <td>8</td>\n",
       "    </tr>\n",
       "  </tbody>\n",
       "</table>\n",
       "</div>"
      ],
      "text/plain": [
       "   Q  R  S  T\n",
       "0  3  8  2  4\n",
       "1  2  6  4  8\n",
       "2  6  1  3  8"
      ]
     },
     "execution_count": 112,
     "metadata": {},
     "output_type": "execute_result"
    }
   ],
   "source": [
    "df"
   ]
  },
  {
   "cell_type": "code",
   "execution_count": 113,
   "id": "e142e0a8-567b-49ea-b124-187f14772e5c",
   "metadata": {},
   "outputs": [
    {
     "data": {
      "text/html": [
       "<div>\n",
       "<style scoped>\n",
       "    .dataframe tbody tr th:only-of-type {\n",
       "        vertical-align: middle;\n",
       "    }\n",
       "\n",
       "    .dataframe tbody tr th {\n",
       "        vertical-align: top;\n",
       "    }\n",
       "\n",
       "    .dataframe thead th {\n",
       "        text-align: right;\n",
       "    }\n",
       "</style>\n",
       "<table border=\"1\" class=\"dataframe\">\n",
       "  <thead>\n",
       "    <tr style=\"text-align: right;\">\n",
       "      <th></th>\n",
       "      <th>Q</th>\n",
       "      <th>R</th>\n",
       "      <th>S</th>\n",
       "      <th>T</th>\n",
       "    </tr>\n",
       "  </thead>\n",
       "  <tbody>\n",
       "    <tr>\n",
       "      <th>0</th>\n",
       "      <td>-5</td>\n",
       "      <td>0</td>\n",
       "      <td>-6</td>\n",
       "      <td>-4</td>\n",
       "    </tr>\n",
       "    <tr>\n",
       "      <th>1</th>\n",
       "      <td>-4</td>\n",
       "      <td>0</td>\n",
       "      <td>-2</td>\n",
       "      <td>2</td>\n",
       "    </tr>\n",
       "    <tr>\n",
       "      <th>2</th>\n",
       "      <td>5</td>\n",
       "      <td>0</td>\n",
       "      <td>2</td>\n",
       "      <td>7</td>\n",
       "    </tr>\n",
       "  </tbody>\n",
       "</table>\n",
       "</div>"
      ],
      "text/plain": [
       "   Q  R  S  T\n",
       "0 -5  0 -6 -4\n",
       "1 -4  0 -2  2\n",
       "2  5  0  2  7"
      ]
     },
     "execution_count": 113,
     "metadata": {},
     "output_type": "execute_result"
    }
   ],
   "source": [
    "df.subtract(df['R'], axis=0)"
   ]
  },
  {
   "cell_type": "code",
   "execution_count": 114,
   "id": "8c6b6b69-ed15-42ab-97f1-01f9c4d740b2",
   "metadata": {},
   "outputs": [
    {
     "data": {
      "text/html": [
       "<div>\n",
       "<style scoped>\n",
       "    .dataframe tbody tr th:only-of-type {\n",
       "        vertical-align: middle;\n",
       "    }\n",
       "\n",
       "    .dataframe tbody tr th {\n",
       "        vertical-align: top;\n",
       "    }\n",
       "\n",
       "    .dataframe thead th {\n",
       "        text-align: right;\n",
       "    }\n",
       "</style>\n",
       "<table border=\"1\" class=\"dataframe\">\n",
       "  <thead>\n",
       "    <tr style=\"text-align: right;\">\n",
       "      <th></th>\n",
       "      <th>Q</th>\n",
       "      <th>R</th>\n",
       "      <th>S</th>\n",
       "      <th>T</th>\n",
       "    </tr>\n",
       "  </thead>\n",
       "  <tbody>\n",
       "    <tr>\n",
       "      <th>0</th>\n",
       "      <td>-5</td>\n",
       "      <td>0</td>\n",
       "      <td>-6</td>\n",
       "      <td>-4</td>\n",
       "    </tr>\n",
       "    <tr>\n",
       "      <th>1</th>\n",
       "      <td>-4</td>\n",
       "      <td>0</td>\n",
       "      <td>-2</td>\n",
       "      <td>2</td>\n",
       "    </tr>\n",
       "    <tr>\n",
       "      <th>2</th>\n",
       "      <td>5</td>\n",
       "      <td>0</td>\n",
       "      <td>2</td>\n",
       "      <td>7</td>\n",
       "    </tr>\n",
       "  </tbody>\n",
       "</table>\n",
       "</div>"
      ],
      "text/plain": [
       "   Q  R  S  T\n",
       "0 -5  0 -6 -4\n",
       "1 -4  0 -2  2\n",
       "2  5  0  2  7"
      ]
     },
     "execution_count": 114,
     "metadata": {},
     "output_type": "execute_result"
    }
   ],
   "source": [
    "df.subtract(df['R'], axis='rows')"
   ]
  },
  {
   "cell_type": "code",
   "execution_count": 115,
   "id": "cc795f61-d997-4ca5-a5ed-0fe6593fc283",
   "metadata": {},
   "outputs": [
    {
     "data": {
      "text/html": [
       "<div>\n",
       "<style scoped>\n",
       "    .dataframe tbody tr th:only-of-type {\n",
       "        vertical-align: middle;\n",
       "    }\n",
       "\n",
       "    .dataframe tbody tr th {\n",
       "        vertical-align: top;\n",
       "    }\n",
       "\n",
       "    .dataframe thead th {\n",
       "        text-align: right;\n",
       "    }\n",
       "</style>\n",
       "<table border=\"1\" class=\"dataframe\">\n",
       "  <thead>\n",
       "    <tr style=\"text-align: right;\">\n",
       "      <th></th>\n",
       "      <th>Q</th>\n",
       "      <th>R</th>\n",
       "      <th>S</th>\n",
       "      <th>T</th>\n",
       "    </tr>\n",
       "  </thead>\n",
       "  <tbody>\n",
       "    <tr>\n",
       "      <th>0</th>\n",
       "      <td>3</td>\n",
       "      <td>8</td>\n",
       "      <td>2</td>\n",
       "      <td>4</td>\n",
       "    </tr>\n",
       "    <tr>\n",
       "      <th>1</th>\n",
       "      <td>2</td>\n",
       "      <td>6</td>\n",
       "      <td>4</td>\n",
       "      <td>8</td>\n",
       "    </tr>\n",
       "    <tr>\n",
       "      <th>2</th>\n",
       "      <td>6</td>\n",
       "      <td>1</td>\n",
       "      <td>3</td>\n",
       "      <td>8</td>\n",
       "    </tr>\n",
       "  </tbody>\n",
       "</table>\n",
       "</div>"
      ],
      "text/plain": [
       "   Q  R  S  T\n",
       "0  3  8  2  4\n",
       "1  2  6  4  8\n",
       "2  6  1  3  8"
      ]
     },
     "execution_count": 115,
     "metadata": {},
     "output_type": "execute_result"
    }
   ],
   "source": [
    "df"
   ]
  },
  {
   "cell_type": "code",
   "execution_count": 116,
   "id": "e478f2ab-96de-488c-8a7f-2e95ce2ca4a4",
   "metadata": {},
   "outputs": [
    {
     "data": {
      "text/plain": [
       "Q    3\n",
       "S    2\n",
       "Name: 0, dtype: int32"
      ]
     },
     "execution_count": 116,
     "metadata": {},
     "output_type": "execute_result"
    }
   ],
   "source": [
    "halfrow = df.iloc[0, ::2]\n",
    "halfrow"
   ]
  },
  {
   "cell_type": "code",
   "execution_count": 117,
   "id": "3367300b-9640-445c-bb5c-7b5768e43a8f",
   "metadata": {},
   "outputs": [
    {
     "data": {
      "text/html": [
       "<div>\n",
       "<style scoped>\n",
       "    .dataframe tbody tr th:only-of-type {\n",
       "        vertical-align: middle;\n",
       "    }\n",
       "\n",
       "    .dataframe tbody tr th {\n",
       "        vertical-align: top;\n",
       "    }\n",
       "\n",
       "    .dataframe thead th {\n",
       "        text-align: right;\n",
       "    }\n",
       "</style>\n",
       "<table border=\"1\" class=\"dataframe\">\n",
       "  <thead>\n",
       "    <tr style=\"text-align: right;\">\n",
       "      <th></th>\n",
       "      <th>Q</th>\n",
       "      <th>R</th>\n",
       "      <th>S</th>\n",
       "      <th>T</th>\n",
       "    </tr>\n",
       "  </thead>\n",
       "  <tbody>\n",
       "    <tr>\n",
       "      <th>0</th>\n",
       "      <td>0.0</td>\n",
       "      <td>NaN</td>\n",
       "      <td>0.0</td>\n",
       "      <td>NaN</td>\n",
       "    </tr>\n",
       "    <tr>\n",
       "      <th>1</th>\n",
       "      <td>-1.0</td>\n",
       "      <td>NaN</td>\n",
       "      <td>2.0</td>\n",
       "      <td>NaN</td>\n",
       "    </tr>\n",
       "    <tr>\n",
       "      <th>2</th>\n",
       "      <td>3.0</td>\n",
       "      <td>NaN</td>\n",
       "      <td>1.0</td>\n",
       "      <td>NaN</td>\n",
       "    </tr>\n",
       "  </tbody>\n",
       "</table>\n",
       "</div>"
      ],
      "text/plain": [
       "     Q   R    S   T\n",
       "0  0.0 NaN  0.0 NaN\n",
       "1 -1.0 NaN  2.0 NaN\n",
       "2  3.0 NaN  1.0 NaN"
      ]
     },
     "execution_count": 117,
     "metadata": {},
     "output_type": "execute_result"
    }
   ],
   "source": [
    "df - halfrow"
   ]
  },
  {
   "cell_type": "markdown",
   "id": "bdb951d3-cadb-49e4-a50a-0159a4567ee3",
   "metadata": {},
   "source": [
    "## Manejo de datos faltantes"
   ]
  },
  {
   "cell_type": "code",
   "execution_count": 118,
   "id": "590df058-a097-49c9-9d72-ac5b58223564",
   "metadata": {},
   "outputs": [
    {
     "data": {
      "text/plain": [
       "array([1, None, 3, 4], dtype=object)"
      ]
     },
     "execution_count": 118,
     "metadata": {},
     "output_type": "execute_result"
    }
   ],
   "source": [
    "vals1 = np.array([1, None, 3, 4])\n",
    "vals1"
   ]
  },
  {
   "cell_type": "code",
   "execution_count": 119,
   "id": "e68aa48c-ae6e-43e0-abcb-fd91a5103492",
   "metadata": {},
   "outputs": [
    {
     "name": "stdout",
     "output_type": "stream",
     "text": [
      "dtype = object\n",
      "58.3 ms ± 2.06 ms per loop (mean ± std. dev. of 7 runs, 10 loops each)\n",
      "\n",
      "dtype = int\n"
     ]
    },
    {
     "name": "stdout",
     "output_type": "stream",
     "text": [
      "1.65 ms ± 121 µs per loop (mean ± std. dev. of 7 runs, 1,000 loops each)\n",
      "\n"
     ]
    }
   ],
   "source": [
    "for dtype in ['object', 'int']:\n",
    "    print('dtype =', dtype)\n",
    "    %timeit np.arange(1e6, dtype=dtype).sum()\n",
    "    print()"
   ]
  },
  {
   "cell_type": "code",
   "execution_count": 120,
   "id": "69a66fed-88fd-45ef-b64d-c2a109c8a5a3",
   "metadata": {},
   "outputs": [
    {
     "data": {
      "text/plain": [
       "array([1, None, 3, 4], dtype=object)"
      ]
     },
     "execution_count": 120,
     "metadata": {},
     "output_type": "execute_result"
    }
   ],
   "source": [
    "vals1"
   ]
  },
  {
   "cell_type": "code",
   "execution_count": 121,
   "id": "f1482392-bb45-4307-8891-4e82d911738a",
   "metadata": {},
   "outputs": [],
   "source": [
    "#vals1.sum()"
   ]
  },
  {
   "cell_type": "code",
   "execution_count": 122,
   "id": "fc0cbb5e-ee5f-4a96-bb1e-8883313ffa2a",
   "metadata": {},
   "outputs": [
    {
     "data": {
      "text/plain": [
       "array([ 1., nan,  3.,  4.])"
      ]
     },
     "execution_count": 122,
     "metadata": {},
     "output_type": "execute_result"
    }
   ],
   "source": [
    "vals2 = np.array([1, np.nan, 3, 4])\n",
    "vals2"
   ]
  },
  {
   "cell_type": "code",
   "execution_count": 123,
   "id": "408ccca3-38a1-417d-a303-feb925494ca1",
   "metadata": {},
   "outputs": [
    {
     "data": {
      "text/plain": [
       "dtype('float64')"
      ]
     },
     "execution_count": 123,
     "metadata": {},
     "output_type": "execute_result"
    }
   ],
   "source": [
    "vals2.dtype"
   ]
  },
  {
   "cell_type": "code",
   "execution_count": 124,
   "id": "5bd71383-6da0-4954-9945-a5dd345e8e83",
   "metadata": {},
   "outputs": [
    {
     "data": {
      "text/plain": [
       "nan"
      ]
     },
     "execution_count": 124,
     "metadata": {},
     "output_type": "execute_result"
    }
   ],
   "source": [
    "1 + np.nan"
   ]
  },
  {
   "cell_type": "code",
   "execution_count": 125,
   "id": "effb8a8d-b788-4eb0-b8eb-52af18eb2a36",
   "metadata": {},
   "outputs": [
    {
     "data": {
      "text/plain": [
       "nan"
      ]
     },
     "execution_count": 125,
     "metadata": {},
     "output_type": "execute_result"
    }
   ],
   "source": [
    "0 * np.nan"
   ]
  },
  {
   "cell_type": "code",
   "execution_count": 126,
   "id": "bb686b63-fe58-416f-a680-f4fde8890a42",
   "metadata": {},
   "outputs": [
    {
     "data": {
      "text/plain": [
       "nan"
      ]
     },
     "execution_count": 126,
     "metadata": {},
     "output_type": "execute_result"
    }
   ],
   "source": [
    "vals2.sum()"
   ]
  },
  {
   "cell_type": "code",
   "execution_count": 127,
   "id": "a9387bac-9cd1-4582-ba2c-48f0a9b295b6",
   "metadata": {},
   "outputs": [
    {
     "data": {
      "text/plain": [
       "nan"
      ]
     },
     "execution_count": 127,
     "metadata": {},
     "output_type": "execute_result"
    }
   ],
   "source": [
    "vals2.min()"
   ]
  },
  {
   "cell_type": "code",
   "execution_count": 128,
   "id": "510cbc90-6bc7-4d55-9838-d603dbede591",
   "metadata": {},
   "outputs": [
    {
     "data": {
      "text/plain": [
       "nan"
      ]
     },
     "execution_count": 128,
     "metadata": {},
     "output_type": "execute_result"
    }
   ],
   "source": [
    "vals2.max()"
   ]
  },
  {
   "cell_type": "code",
   "execution_count": 129,
   "id": "ba730c9d-c031-4759-96d2-5ac4c46f47ea",
   "metadata": {},
   "outputs": [
    {
     "data": {
      "text/plain": [
       "8.0"
      ]
     },
     "execution_count": 129,
     "metadata": {},
     "output_type": "execute_result"
    }
   ],
   "source": [
    "np.nansum(vals2)"
   ]
  },
  {
   "cell_type": "code",
   "execution_count": 130,
   "metadata": {},
   "outputs": [
    {
     "name": "stdout",
     "output_type": "stream",
     "text": [
      "\u001b[1;31mSignature:\u001b[0m\n",
      "\u001b[0mnp\u001b[0m\u001b[1;33m.\u001b[0m\u001b[0mnansum\u001b[0m\u001b[1;33m(\u001b[0m\u001b[1;33m\n",
      "\u001b[0m    \u001b[0ma\u001b[0m\u001b[1;33m,\u001b[0m\u001b[1;33m\n",
      "\u001b[0m    \u001b[0maxis\u001b[0m\u001b[1;33m=\u001b[0m\u001b[1;32mNone\u001b[0m\u001b[1;33m,\u001b[0m\u001b[1;33m\n",
      "\u001b[0m    \u001b[0mdtype\u001b[0m\u001b[1;33m=\u001b[0m\u001b[1;32mNone\u001b[0m\u001b[1;33m,\u001b[0m\u001b[1;33m\n",
      "\u001b[0m    \u001b[0mout\u001b[0m\u001b[1;33m=\u001b[0m\u001b[1;32mNone\u001b[0m\u001b[1;33m,\u001b[0m\u001b[1;33m\n",
      "\u001b[0m    \u001b[0mkeepdims\u001b[0m\u001b[1;33m=\u001b[0m\u001b[1;33m<\u001b[0m\u001b[0mno\u001b[0m \u001b[0mvalue\u001b[0m\u001b[1;33m>\u001b[0m\u001b[1;33m,\u001b[0m\u001b[1;33m\n",
      "\u001b[0m    \u001b[0minitial\u001b[0m\u001b[1;33m=\u001b[0m\u001b[1;33m<\u001b[0m\u001b[0mno\u001b[0m \u001b[0mvalue\u001b[0m\u001b[1;33m>\u001b[0m\u001b[1;33m,\u001b[0m\u001b[1;33m\n",
      "\u001b[0m    \u001b[0mwhere\u001b[0m\u001b[1;33m=\u001b[0m\u001b[1;33m<\u001b[0m\u001b[0mno\u001b[0m \u001b[0mvalue\u001b[0m\u001b[1;33m>\u001b[0m\u001b[1;33m,\u001b[0m\u001b[1;33m\n",
      "\u001b[0m\u001b[1;33m)\u001b[0m\u001b[1;33m\u001b[0m\u001b[1;33m\u001b[0m\u001b[0m\n",
      "\u001b[1;31mDocstring:\u001b[0m\n",
      "Return the sum of array elements over a given axis treating Not a\n",
      "Numbers (NaNs) as zero.\n",
      "\n",
      "In NumPy versions <= 1.9.0 Nan is returned for slices that are all-NaN or\n",
      "empty. In later versions zero is returned.\n",
      "\n",
      "Parameters\n",
      "----------\n",
      "a : array_like\n",
      "    Array containing numbers whose sum is desired. If `a` is not an\n",
      "    array, a conversion is attempted.\n",
      "axis : {int, tuple of int, None}, optional\n",
      "    Axis or axes along which the sum is computed. The default is to compute the\n",
      "    sum of the flattened array.\n",
      "dtype : data-type, optional\n",
      "    The type of the returned array and of the accumulator in which the\n",
      "    elements are summed.  By default, the dtype of `a` is used.  An\n",
      "    exception is when `a` has an integer type with less precision than\n",
      "    the platform (u)intp. In that case, the default will be either\n",
      "    (u)int32 or (u)int64 depending on whether the platform is 32 or 64\n",
      "    bits. For inexact inputs, dtype must be inexact.\n",
      "\n",
      "    .. versionadded:: 1.8.0\n",
      "out : ndarray, optional\n",
      "    Alternate output array in which to place the result.  The default\n",
      "    is ``None``. If provided, it must have the same shape as the\n",
      "    expected output, but the type will be cast if necessary.  See\n",
      "    :ref:`ufuncs-output-type` for more details. The casting of NaN to integer\n",
      "    can yield unexpected results.\n",
      "\n",
      "    .. versionadded:: 1.8.0\n",
      "keepdims : bool, optional\n",
      "    If this is set to True, the axes which are reduced are left\n",
      "    in the result as dimensions with size one. With this option,\n",
      "    the result will broadcast correctly against the original `a`.\n",
      "\n",
      "\n",
      "    If the value is anything but the default, then\n",
      "    `keepdims` will be passed through to the `mean` or `sum` methods\n",
      "    of sub-classes of `ndarray`.  If the sub-classes methods\n",
      "    does not implement `keepdims` any exceptions will be raised.\n",
      "\n",
      "    .. versionadded:: 1.8.0\n",
      "initial : scalar, optional\n",
      "    Starting value for the sum. See `~numpy.ufunc.reduce` for details.\n",
      "\n",
      "    .. versionadded:: 1.22.0\n",
      "where : array_like of bool, optional\n",
      "    Elements to include in the sum. See `~numpy.ufunc.reduce` for details.\n",
      "\n",
      "    .. versionadded:: 1.22.0\n",
      "\n",
      "Returns\n",
      "-------\n",
      "nansum : ndarray.\n",
      "    A new array holding the result is returned unless `out` is\n",
      "    specified, in which it is returned. The result has the same\n",
      "    size as `a`, and the same shape as `a` if `axis` is not None\n",
      "    or `a` is a 1-d array.\n",
      "\n",
      "See Also\n",
      "--------\n",
      "numpy.sum : Sum across array propagating NaNs.\n",
      "isnan : Show which elements are NaN.\n",
      "isfinite : Show which elements are not NaN or +/-inf.\n",
      "\n",
      "Notes\n",
      "-----\n",
      "If both positive and negative infinity are present, the sum will be Not\n",
      "A Number (NaN).\n",
      "\n",
      "Examples\n",
      "--------\n",
      ">>> np.nansum(1)\n",
      "1\n",
      ">>> np.nansum([1])\n",
      "1\n",
      ">>> np.nansum([1, np.nan])\n",
      "1.0\n",
      ">>> a = np.array([[1, 1], [1, np.nan]])\n",
      ">>> np.nansum(a)\n",
      "3.0\n",
      ">>> np.nansum(a, axis=0)\n",
      "array([2.,  1.])\n",
      ">>> np.nansum([1, np.nan, np.inf])\n",
      "inf\n",
      ">>> np.nansum([1, np.nan, np.NINF])\n",
      "-inf\n",
      ">>> from numpy.testing import suppress_warnings\n",
      ">>> with suppress_warnings() as sup:\n",
      "...     sup.filter(RuntimeWarning)\n",
      "...     np.nansum([1, np.nan, np.inf, -np.inf]) # both +/- infinity present\n",
      "nan\n",
      "\u001b[1;31mFile:\u001b[0m      c:\\users\\mcd\\appdata\\roaming\\python\\python311\\site-packages\\numpy\\lib\\nanfunctions.py\n",
      "\u001b[1;31mType:\u001b[0m      function"
     ]
    }
   ],
   "source": [
    "np.nansum?"
   ]
  },
  {
   "cell_type": "code",
   "execution_count": 131,
   "id": "fbdbbcc1-ba3e-49dc-a545-de6582b1462d",
   "metadata": {},
   "outputs": [
    {
     "data": {
      "text/plain": [
       "1.0"
      ]
     },
     "execution_count": 131,
     "metadata": {},
     "output_type": "execute_result"
    }
   ],
   "source": [
    "np.nanmin(vals2)"
   ]
  },
  {
   "cell_type": "code",
   "execution_count": 132,
   "metadata": {},
   "outputs": [
    {
     "name": "stdout",
     "output_type": "stream",
     "text": [
      "\u001b[1;31mSignature:\u001b[0m\n",
      "\u001b[0mnp\u001b[0m\u001b[1;33m.\u001b[0m\u001b[0mnanmin\u001b[0m\u001b[1;33m(\u001b[0m\u001b[1;33m\n",
      "\u001b[0m    \u001b[0ma\u001b[0m\u001b[1;33m,\u001b[0m\u001b[1;33m\n",
      "\u001b[0m    \u001b[0maxis\u001b[0m\u001b[1;33m=\u001b[0m\u001b[1;32mNone\u001b[0m\u001b[1;33m,\u001b[0m\u001b[1;33m\n",
      "\u001b[0m    \u001b[0mout\u001b[0m\u001b[1;33m=\u001b[0m\u001b[1;32mNone\u001b[0m\u001b[1;33m,\u001b[0m\u001b[1;33m\n",
      "\u001b[0m    \u001b[0mkeepdims\u001b[0m\u001b[1;33m=\u001b[0m\u001b[1;33m<\u001b[0m\u001b[0mno\u001b[0m \u001b[0mvalue\u001b[0m\u001b[1;33m>\u001b[0m\u001b[1;33m,\u001b[0m\u001b[1;33m\n",
      "\u001b[0m    \u001b[0minitial\u001b[0m\u001b[1;33m=\u001b[0m\u001b[1;33m<\u001b[0m\u001b[0mno\u001b[0m \u001b[0mvalue\u001b[0m\u001b[1;33m>\u001b[0m\u001b[1;33m,\u001b[0m\u001b[1;33m\n",
      "\u001b[0m    \u001b[0mwhere\u001b[0m\u001b[1;33m=\u001b[0m\u001b[1;33m<\u001b[0m\u001b[0mno\u001b[0m \u001b[0mvalue\u001b[0m\u001b[1;33m>\u001b[0m\u001b[1;33m,\u001b[0m\u001b[1;33m\n",
      "\u001b[0m\u001b[1;33m)\u001b[0m\u001b[1;33m\u001b[0m\u001b[1;33m\u001b[0m\u001b[0m\n",
      "\u001b[1;31mDocstring:\u001b[0m\n",
      "Return minimum of an array or minimum along an axis, ignoring any NaNs.\n",
      "When all-NaN slices are encountered a ``RuntimeWarning`` is raised and\n",
      "Nan is returned for that slice.\n",
      "\n",
      "Parameters\n",
      "----------\n",
      "a : array_like\n",
      "    Array containing numbers whose minimum is desired. If `a` is not an\n",
      "    array, a conversion is attempted.\n",
      "axis : {int, tuple of int, None}, optional\n",
      "    Axis or axes along which the minimum is computed. The default is to compute\n",
      "    the minimum of the flattened array.\n",
      "out : ndarray, optional\n",
      "    Alternate output array in which to place the result.  The default\n",
      "    is ``None``; if provided, it must have the same shape as the\n",
      "    expected output, but the type will be cast if necessary. See\n",
      "    :ref:`ufuncs-output-type` for more details.\n",
      "\n",
      "    .. versionadded:: 1.8.0\n",
      "keepdims : bool, optional\n",
      "    If this is set to True, the axes which are reduced are left\n",
      "    in the result as dimensions with size one. With this option,\n",
      "    the result will broadcast correctly against the original `a`.\n",
      "\n",
      "    If the value is anything but the default, then\n",
      "    `keepdims` will be passed through to the `min` method\n",
      "    of sub-classes of `ndarray`.  If the sub-classes methods\n",
      "    does not implement `keepdims` any exceptions will be raised.\n",
      "\n",
      "    .. versionadded:: 1.8.0\n",
      "initial : scalar, optional\n",
      "    The maximum value of an output element. Must be present to allow\n",
      "    computation on empty slice. See `~numpy.ufunc.reduce` for details.\n",
      "\n",
      "    .. versionadded:: 1.22.0\n",
      "where : array_like of bool, optional\n",
      "    Elements to compare for the minimum. See `~numpy.ufunc.reduce`\n",
      "    for details.\n",
      "\n",
      "    .. versionadded:: 1.22.0\n",
      "\n",
      "Returns\n",
      "-------\n",
      "nanmin : ndarray\n",
      "    An array with the same shape as `a`, with the specified axis\n",
      "    removed.  If `a` is a 0-d array, or if axis is None, an ndarray\n",
      "    scalar is returned.  The same dtype as `a` is returned.\n",
      "\n",
      "See Also\n",
      "--------\n",
      "nanmax :\n",
      "    The maximum value of an array along a given axis, ignoring any NaNs.\n",
      "amin :\n",
      "    The minimum value of an array along a given axis, propagating any NaNs.\n",
      "fmin :\n",
      "    Element-wise minimum of two arrays, ignoring any NaNs.\n",
      "minimum :\n",
      "    Element-wise minimum of two arrays, propagating any NaNs.\n",
      "isnan :\n",
      "    Shows which elements are Not a Number (NaN).\n",
      "isfinite:\n",
      "    Shows which elements are neither NaN nor infinity.\n",
      "\n",
      "amax, fmax, maximum\n",
      "\n",
      "Notes\n",
      "-----\n",
      "NumPy uses the IEEE Standard for Binary Floating-Point for Arithmetic\n",
      "(IEEE 754). This means that Not a Number is not equivalent to infinity.\n",
      "Positive infinity is treated as a very large number and negative\n",
      "infinity is treated as a very small (i.e. negative) number.\n",
      "\n",
      "If the input has a integer type the function is equivalent to np.min.\n",
      "\n",
      "Examples\n",
      "--------\n",
      ">>> a = np.array([[1, 2], [3, np.nan]])\n",
      ">>> np.nanmin(a)\n",
      "1.0\n",
      ">>> np.nanmin(a, axis=0)\n",
      "array([1.,  2.])\n",
      ">>> np.nanmin(a, axis=1)\n",
      "array([1.,  3.])\n",
      "\n",
      "When positive infinity and negative infinity are present:\n",
      "\n",
      ">>> np.nanmin([1, 2, np.nan, np.inf])\n",
      "1.0\n",
      ">>> np.nanmin([1, 2, np.nan, np.NINF])\n",
      "-inf\n",
      "\u001b[1;31mFile:\u001b[0m      c:\\users\\mcd\\appdata\\roaming\\python\\python311\\site-packages\\numpy\\lib\\nanfunctions.py\n",
      "\u001b[1;31mType:\u001b[0m      function"
     ]
    }
   ],
   "source": [
    "np.nanmin?"
   ]
  },
  {
   "cell_type": "code",
   "execution_count": 133,
   "id": "120fa974-d06c-4592-9399-7bea4a7c7565",
   "metadata": {},
   "outputs": [
    {
     "data": {
      "text/plain": [
       "4.0"
      ]
     },
     "execution_count": 133,
     "metadata": {},
     "output_type": "execute_result"
    }
   ],
   "source": [
    "np.nanmax(vals2)"
   ]
  },
  {
   "cell_type": "code",
   "execution_count": 134,
   "id": "6d6896d9-529a-4fd2-a790-ec2f9fdd088a",
   "metadata": {},
   "outputs": [
    {
     "data": {
      "text/plain": [
       "0    1.0\n",
       "1    NaN\n",
       "2    2.0\n",
       "3    NaN\n",
       "dtype: float64"
      ]
     },
     "execution_count": 134,
     "metadata": {},
     "output_type": "execute_result"
    }
   ],
   "source": [
    "pd.Series([1, np.nan, 2, None])"
   ]
  },
  {
   "cell_type": "code",
   "execution_count": 135,
   "id": "86f0fad6-afdf-4368-8e43-ccca5daf2bd2",
   "metadata": {},
   "outputs": [
    {
     "data": {
      "text/plain": [
       "0    0\n",
       "1    1\n",
       "dtype: int32"
      ]
     },
     "execution_count": 135,
     "metadata": {},
     "output_type": "execute_result"
    }
   ],
   "source": [
    "x = pd.Series(range(2), dtype=int)\n",
    "x"
   ]
  },
  {
   "cell_type": "code",
   "execution_count": 136,
   "id": "4d3c9a37-41f1-4322-a83a-31ea52f1e352",
   "metadata": {},
   "outputs": [],
   "source": [
    "x[0] = None"
   ]
  },
  {
   "cell_type": "code",
   "execution_count": 137,
   "id": "6f55cda3-382a-46c8-86b1-a920d7a216d6",
   "metadata": {},
   "outputs": [
    {
     "data": {
      "text/plain": [
       "0    NaN\n",
       "1    1.0\n",
       "dtype: float64"
      ]
     },
     "execution_count": 137,
     "metadata": {},
     "output_type": "execute_result"
    }
   ],
   "source": [
    "x"
   ]
  },
  {
   "cell_type": "markdown",
   "id": "6c5a7f00-d9a8-4ad4-aca9-b1c684409715",
   "metadata": {},
   "source": [
    "**Problema 4:** Investiga las operaciones `isnull`, `notnull`, `dropna` y `fillna` de Pandas, así como el valor `pd.NA`. Puedes apoyarte de [la documentación](https://pandas.pydata.org/docs/user_guide/missing_data.html)\n",
    "\n",
    "Todas estas operaciones se utilizan para el manejo de NaNs (Valores nulos). Introducen índices que no existen en un DF de pandas, y como habíamos visto se generan varios valores  NaNs.\n",
    "\n",
    "Entonces:\n",
    "isnull:\n",
    "- Devuelve una matriz o lista de booleanos con la misma forma que el elemento dado señalando los valores nulos que este contiene.\n",
    "\n",
    "notnull:\n",
    "- Es lo contrario al anterior... devuelve de igual forma una matriz de booleanos pero marcando True donde no es nulo...\n",
    "\n",
    "dropna:\n",
    "- Este elimina las filas o columnas con valores nulos... Se estima usar si estos son menores al 10% de los datos. Quizás menos. Dependiendo de cada situación y de si los valores no pueden calcularse a partir de la combinación de otras filas o columnas, obtener por consecutividad o imputarse. Quizás existen otros escenarios.\n",
    "\n",
    "fillna:\n",
    "- Se utiliza para rellenar estos valores nulos, entre los ejemplos que habíamos mencionado, se puede sustituir por un valor específico o utilizarse métodos para la propagación hacia adelante o atrás."
   ]
  },
  {
   "cell_type": "markdown",
   "id": "e64ddc96-32c2-4b54-b12d-598ed04906a1",
   "metadata": {},
   "source": [
    "---\n",
    "\n",
    "**Problema 5:** Pandas incluye funciones para la lectura de archivos CSV o Excel. Consulta los sitios de datos abiertos de algúna institución pública o gubernamental, descarga un dataset en formato CSV, otro en Excel y carga los datos en un DataFrame de Pandas. El DataFrame resultante debe tener asociada a cada columna el tipo de dato adecuado para trabajar.\n"
   ]
  },
  {
   "cell_type": "code",
   "execution_count": 138,
   "metadata": {},
   "outputs": [],
   "source": [
    "import pandas as pd\n",
    "import numpy as np"
   ]
  },
  {
   "cell_type": "code",
   "execution_count": 139,
   "metadata": {},
   "outputs": [
    {
     "data": {
      "text/html": [
       "<div>\n",
       "<style scoped>\n",
       "    .dataframe tbody tr th:only-of-type {\n",
       "        vertical-align: middle;\n",
       "    }\n",
       "\n",
       "    .dataframe tbody tr th {\n",
       "        vertical-align: top;\n",
       "    }\n",
       "\n",
       "    .dataframe thead th {\n",
       "        text-align: right;\n",
       "    }\n",
       "</style>\n",
       "<table border=\"1\" class=\"dataframe\">\n",
       "  <thead>\n",
       "    <tr style=\"text-align: right;\">\n",
       "      <th></th>\n",
       "      <th>Unnamed: 0</th>\n",
       "      <th>Unnamed: 1</th>\n",
       "      <th>Unnamed: 2</th>\n",
       "      <th>Unnamed: 3</th>\n",
       "      <th>2023</th>\n",
       "    </tr>\n",
       "  </thead>\n",
       "  <tbody>\n",
       "    <tr>\n",
       "      <th>0</th>\n",
       "      <td>NaN</td>\n",
       "      <td>PERIODO</td>\n",
       "      <td>NaN</td>\n",
       "      <td>NaN</td>\n",
       "      <td>%</td>\n",
       "    </tr>\n",
       "    <tr>\n",
       "      <th>1</th>\n",
       "      <td>CONCEPTO</td>\n",
       "      <td>PROG</td>\n",
       "      <td>REAL</td>\n",
       "      <td>NaN</td>\n",
       "      <td>R/P</td>\n",
       "    </tr>\n",
       "    <tr>\n",
       "      <th>2</th>\n",
       "      <td>INTERVENCIONES QUIRURGICAS\\nCIRUGIA MAYOR 1_ \\...</td>\n",
       "      <td>NaN</td>\n",
       "      <td>NaN</td>\n",
       "      <td>714\\n669\\n45\\n36\\n102</td>\n",
       "      <td>NaN</td>\n",
       "    </tr>\n",
       "  </tbody>\n",
       "</table>\n",
       "</div>"
      ],
      "text/plain": [
       "                                          Unnamed: 0 Unnamed: 1 Unnamed: 2  \\\n",
       "0                                                NaN    PERIODO        NaN   \n",
       "1                                           CONCEPTO       PROG       REAL   \n",
       "2  INTERVENCIONES QUIRURGICAS\\nCIRUGIA MAYOR 1_ \\...        NaN        NaN   \n",
       "\n",
       "              Unnamed: 3 2023  \n",
       "0                    NaN    %  \n",
       "1                    NaN  R/P  \n",
       "2  714\\n669\\n45\\n36\\n102  NaN  "
      ]
     },
     "execution_count": 139,
     "metadata": {},
     "output_type": "execute_result"
    }
   ],
   "source": [
    "# Vamos a importar un archivo de Datos Abiertos:\n",
    "# https://datos.gob.mx/busca/dataset/cirugias-de-agosto-2015-a-la-fecha\n",
    "# Cirugías del er Trimestre de 2023...\n",
    "# http://himfg.com.mx/descargas/documentos/transparencia/Cirugias_Trimestre1_2023.xlsx\n",
    "\n",
    "df = pd.read_excel(\"assets\\Cirugias_Trimestre1_2023.xlsx\")\n",
    "df"
   ]
  },
  {
   "cell_type": "code",
   "execution_count": null,
   "metadata": {},
   "outputs": [],
   "source": [
    "# El resultado fue muy interesante... Los datos abiertos en xlsx sucks...\n",
    "# Otro entonces... Educación...\n",
    "# https://datos.gob.mx/busca/dataset/presupuesto-de-egresos-2023\n",
    "# https://www.poi.ipn.mx/assets/files/poi/PPTO-DE-EGRESOS-2023.csv"
   ]
  },
  {
   "cell_type": "code",
   "execution_count": 141,
   "metadata": {},
   "outputs": [
    {
     "data": {
      "text/html": [
       "<div>\n",
       "<style scoped>\n",
       "    .dataframe tbody tr th:only-of-type {\n",
       "        vertical-align: middle;\n",
       "    }\n",
       "\n",
       "    .dataframe tbody tr th {\n",
       "        vertical-align: top;\n",
       "    }\n",
       "\n",
       "    .dataframe thead th {\n",
       "        text-align: right;\n",
       "    }\n",
       "</style>\n",
       "<table border=\"1\" class=\"dataframe\">\n",
       "  <thead>\n",
       "    <tr style=\"text-align: right;\">\n",
       "      <th></th>\n",
       "      <th>RAMO</th>\n",
       "      <th>UNIDAD</th>\n",
       "      <th>AÑO</th>\n",
       "      <th>FINALIDAD</th>\n",
       "      <th>FUNCION</th>\n",
       "      <th>SUBFUNCION</th>\n",
       "      <th>REASIGNACION</th>\n",
       "      <th>ACTIVIDAD\\nINSTITUCIONAL</th>\n",
       "      <th>PROGRAMA PRESUPUESTARIO</th>\n",
       "      <th>PARTIDA DE GASTO</th>\n",
       "      <th>...</th>\n",
       "      <th>MARZO</th>\n",
       "      <th>ABRIL</th>\n",
       "      <th>MAYO</th>\n",
       "      <th>JUNIO</th>\n",
       "      <th>JULIO</th>\n",
       "      <th>AGOSTO</th>\n",
       "      <th>SEPTIEMBRE</th>\n",
       "      <th>OCTUBRE</th>\n",
       "      <th>NOVIEMBRE</th>\n",
       "      <th>DICIEMBRE</th>\n",
       "    </tr>\n",
       "  </thead>\n",
       "  <tbody>\n",
       "    <tr>\n",
       "      <th>0</th>\n",
       "      <td>11</td>\n",
       "      <td>MGC</td>\n",
       "      <td>2023</td>\n",
       "      <td>2</td>\n",
       "      <td>5</td>\n",
       "      <td>2</td>\n",
       "      <td>0</td>\n",
       "      <td>4</td>\n",
       "      <td>E047</td>\n",
       "      <td>11301</td>\n",
       "      <td>...</td>\n",
       "      <td>1180735</td>\n",
       "      <td>1180735</td>\n",
       "      <td>1180735</td>\n",
       "      <td>1180735</td>\n",
       "      <td>1180735</td>\n",
       "      <td>1180735</td>\n",
       "      <td>1180735</td>\n",
       "      <td>1180735</td>\n",
       "      <td>1180735</td>\n",
       "      <td>1342198</td>\n",
       "    </tr>\n",
       "    <tr>\n",
       "      <th>1</th>\n",
       "      <td>11</td>\n",
       "      <td>MGC</td>\n",
       "      <td>2023</td>\n",
       "      <td>1</td>\n",
       "      <td>3</td>\n",
       "      <td>4</td>\n",
       "      <td>0</td>\n",
       "      <td>1</td>\n",
       "      <td>O001</td>\n",
       "      <td>11301</td>\n",
       "      <td>...</td>\n",
       "      <td>111685</td>\n",
       "      <td>111685</td>\n",
       "      <td>111685</td>\n",
       "      <td>111685</td>\n",
       "      <td>111685</td>\n",
       "      <td>111685</td>\n",
       "      <td>111685</td>\n",
       "      <td>111685</td>\n",
       "      <td>94925</td>\n",
       "      <td>0</td>\n",
       "    </tr>\n",
       "    <tr>\n",
       "      <th>2</th>\n",
       "      <td>11</td>\n",
       "      <td>MGC</td>\n",
       "      <td>2023</td>\n",
       "      <td>2</td>\n",
       "      <td>5</td>\n",
       "      <td>2</td>\n",
       "      <td>0</td>\n",
       "      <td>4</td>\n",
       "      <td>E047</td>\n",
       "      <td>13101</td>\n",
       "      <td>...</td>\n",
       "      <td>1618</td>\n",
       "      <td>1618</td>\n",
       "      <td>1618</td>\n",
       "      <td>1618</td>\n",
       "      <td>1618</td>\n",
       "      <td>1618</td>\n",
       "      <td>1618</td>\n",
       "      <td>1618</td>\n",
       "      <td>1618</td>\n",
       "      <td>1622</td>\n",
       "    </tr>\n",
       "    <tr>\n",
       "      <th>3</th>\n",
       "      <td>11</td>\n",
       "      <td>MGC</td>\n",
       "      <td>2023</td>\n",
       "      <td>2</td>\n",
       "      <td>5</td>\n",
       "      <td>2</td>\n",
       "      <td>0</td>\n",
       "      <td>4</td>\n",
       "      <td>E047</td>\n",
       "      <td>13102</td>\n",
       "      <td>...</td>\n",
       "      <td>0</td>\n",
       "      <td>0</td>\n",
       "      <td>0</td>\n",
       "      <td>0</td>\n",
       "      <td>0</td>\n",
       "      <td>0</td>\n",
       "      <td>0</td>\n",
       "      <td>0</td>\n",
       "      <td>0</td>\n",
       "      <td>0</td>\n",
       "    </tr>\n",
       "    <tr>\n",
       "      <th>4</th>\n",
       "      <td>11</td>\n",
       "      <td>MGC</td>\n",
       "      <td>2023</td>\n",
       "      <td>1</td>\n",
       "      <td>3</td>\n",
       "      <td>4</td>\n",
       "      <td>0</td>\n",
       "      <td>1</td>\n",
       "      <td>O001</td>\n",
       "      <td>13102</td>\n",
       "      <td>...</td>\n",
       "      <td>2593</td>\n",
       "      <td>2593</td>\n",
       "      <td>2593</td>\n",
       "      <td>2593</td>\n",
       "      <td>2593</td>\n",
       "      <td>2593</td>\n",
       "      <td>2593</td>\n",
       "      <td>2593</td>\n",
       "      <td>2593</td>\n",
       "      <td>2586</td>\n",
       "    </tr>\n",
       "    <tr>\n",
       "      <th>...</th>\n",
       "      <td>...</td>\n",
       "      <td>...</td>\n",
       "      <td>...</td>\n",
       "      <td>...</td>\n",
       "      <td>...</td>\n",
       "      <td>...</td>\n",
       "      <td>...</td>\n",
       "      <td>...</td>\n",
       "      <td>...</td>\n",
       "      <td>...</td>\n",
       "      <td>...</td>\n",
       "      <td>...</td>\n",
       "      <td>...</td>\n",
       "      <td>...</td>\n",
       "      <td>...</td>\n",
       "      <td>...</td>\n",
       "      <td>...</td>\n",
       "      <td>...</td>\n",
       "      <td>...</td>\n",
       "      <td>...</td>\n",
       "      <td>...</td>\n",
       "    </tr>\n",
       "    <tr>\n",
       "      <th>61</th>\n",
       "      <td>11</td>\n",
       "      <td>MGC</td>\n",
       "      <td>2023</td>\n",
       "      <td>2</td>\n",
       "      <td>5</td>\n",
       "      <td>3</td>\n",
       "      <td>0</td>\n",
       "      <td>5</td>\n",
       "      <td>E047</td>\n",
       "      <td>35901</td>\n",
       "      <td>...</td>\n",
       "      <td>0</td>\n",
       "      <td>0</td>\n",
       "      <td>75000</td>\n",
       "      <td>0</td>\n",
       "      <td>0</td>\n",
       "      <td>0</td>\n",
       "      <td>0</td>\n",
       "      <td>75000</td>\n",
       "      <td>0</td>\n",
       "      <td>0</td>\n",
       "    </tr>\n",
       "    <tr>\n",
       "      <th>62</th>\n",
       "      <td>11</td>\n",
       "      <td>MGC</td>\n",
       "      <td>2023</td>\n",
       "      <td>2</td>\n",
       "      <td>5</td>\n",
       "      <td>2</td>\n",
       "      <td>0</td>\n",
       "      <td>4</td>\n",
       "      <td>E047</td>\n",
       "      <td>37204</td>\n",
       "      <td>...</td>\n",
       "      <td>2000</td>\n",
       "      <td>2000</td>\n",
       "      <td>2000</td>\n",
       "      <td>2000</td>\n",
       "      <td>2000</td>\n",
       "      <td>2000</td>\n",
       "      <td>2000</td>\n",
       "      <td>2000</td>\n",
       "      <td>2810</td>\n",
       "      <td>0</td>\n",
       "    </tr>\n",
       "    <tr>\n",
       "      <th>63</th>\n",
       "      <td>11</td>\n",
       "      <td>MGC</td>\n",
       "      <td>2023</td>\n",
       "      <td>2</td>\n",
       "      <td>5</td>\n",
       "      <td>2</td>\n",
       "      <td>0</td>\n",
       "      <td>4</td>\n",
       "      <td>E047</td>\n",
       "      <td>39202</td>\n",
       "      <td>...</td>\n",
       "      <td>3000</td>\n",
       "      <td>65000</td>\n",
       "      <td>2200</td>\n",
       "      <td>65000</td>\n",
       "      <td>2300</td>\n",
       "      <td>3100</td>\n",
       "      <td>65000</td>\n",
       "      <td>3200</td>\n",
       "      <td>65094</td>\n",
       "      <td>0</td>\n",
       "    </tr>\n",
       "    <tr>\n",
       "      <th>64</th>\n",
       "      <td>11</td>\n",
       "      <td>MGC</td>\n",
       "      <td>2023</td>\n",
       "      <td>2</td>\n",
       "      <td>5</td>\n",
       "      <td>2</td>\n",
       "      <td>0</td>\n",
       "      <td>4</td>\n",
       "      <td>E047</td>\n",
       "      <td>39801</td>\n",
       "      <td>...</td>\n",
       "      <td>365000</td>\n",
       "      <td>148532</td>\n",
       "      <td>70000</td>\n",
       "      <td>365000</td>\n",
       "      <td>70000</td>\n",
       "      <td>375000</td>\n",
       "      <td>275000</td>\n",
       "      <td>70000</td>\n",
       "      <td>80000</td>\n",
       "      <td>80000</td>\n",
       "    </tr>\n",
       "    <tr>\n",
       "      <th>65</th>\n",
       "      <td>11</td>\n",
       "      <td>MGC</td>\n",
       "      <td>2023</td>\n",
       "      <td>2</td>\n",
       "      <td>5</td>\n",
       "      <td>2</td>\n",
       "      <td>0</td>\n",
       "      <td>4</td>\n",
       "      <td>E047</td>\n",
       "      <td>39910</td>\n",
       "      <td>...</td>\n",
       "      <td>0</td>\n",
       "      <td>0</td>\n",
       "      <td>0</td>\n",
       "      <td>0</td>\n",
       "      <td>0</td>\n",
       "      <td>0</td>\n",
       "      <td>0</td>\n",
       "      <td>0</td>\n",
       "      <td>0</td>\n",
       "      <td>0</td>\n",
       "    </tr>\n",
       "  </tbody>\n",
       "</table>\n",
       "<p>66 rows × 23 columns</p>\n",
       "</div>"
      ],
      "text/plain": [
       "    RAMO UNIDAD   AÑO  FINALIDAD  FUNCION  SUBFUNCION  REASIGNACION  \\\n",
       "0     11    MGC  2023          2        5           2             0   \n",
       "1     11    MGC  2023          1        3           4             0   \n",
       "2     11    MGC  2023          2        5           2             0   \n",
       "3     11    MGC  2023          2        5           2             0   \n",
       "4     11    MGC  2023          1        3           4             0   \n",
       "..   ...    ...   ...        ...      ...         ...           ...   \n",
       "61    11    MGC  2023          2        5           3             0   \n",
       "62    11    MGC  2023          2        5           2             0   \n",
       "63    11    MGC  2023          2        5           2             0   \n",
       "64    11    MGC  2023          2        5           2             0   \n",
       "65    11    MGC  2023          2        5           2             0   \n",
       "\n",
       "    ACTIVIDAD\\nINSTITUCIONAL PROGRAMA PRESUPUESTARIO  PARTIDA DE GASTO  ...  \\\n",
       "0                          4                    E047             11301  ...   \n",
       "1                          1                    O001             11301  ...   \n",
       "2                          4                    E047             13101  ...   \n",
       "3                          4                    E047             13102  ...   \n",
       "4                          1                    O001             13102  ...   \n",
       "..                       ...                     ...               ...  ...   \n",
       "61                         5                    E047             35901  ...   \n",
       "62                         4                    E047             37204  ...   \n",
       "63                         4                    E047             39202  ...   \n",
       "64                         4                    E047             39801  ...   \n",
       "65                         4                    E047             39910  ...   \n",
       "\n",
       "      MARZO    ABRIL     MAYO    JUNIO    JULIO   AGOSTO  SEPTIEMBRE  OCTUBRE  \\\n",
       "0   1180735  1180735  1180735  1180735  1180735  1180735     1180735  1180735   \n",
       "1    111685   111685   111685   111685   111685   111685      111685   111685   \n",
       "2      1618     1618     1618     1618     1618     1618        1618     1618   \n",
       "3         0        0        0        0        0        0           0        0   \n",
       "4      2593     2593     2593     2593     2593     2593        2593     2593   \n",
       "..      ...      ...      ...      ...      ...      ...         ...      ...   \n",
       "61        0        0    75000        0        0        0           0    75000   \n",
       "62     2000     2000     2000     2000     2000     2000        2000     2000   \n",
       "63     3000    65000     2200    65000     2300     3100       65000     3200   \n",
       "64   365000   148532    70000   365000    70000   375000      275000    70000   \n",
       "65        0        0        0        0        0        0           0        0   \n",
       "\n",
       "    NOVIEMBRE  DICIEMBRE  \n",
       "0     1180735    1342198  \n",
       "1       94925          0  \n",
       "2        1618       1622  \n",
       "3           0          0  \n",
       "4        2593       2586  \n",
       "..        ...        ...  \n",
       "61          0          0  \n",
       "62       2810          0  \n",
       "63      65094          0  \n",
       "64      80000      80000  \n",
       "65          0          0  \n",
       "\n",
       "[66 rows x 23 columns]"
      ]
     },
     "execution_count": 141,
     "metadata": {},
     "output_type": "execute_result"
    }
   ],
   "source": [
    "df = pd.read_csv(\"assets\\PPTO-DE-EGRESOS-2023.csv\")\n",
    "df"
   ]
  },
  {
   "cell_type": "code",
   "execution_count": 144,
   "metadata": {},
   "outputs": [
    {
     "name": "stdout",
     "output_type": "stream",
     "text": [
      "<class 'pandas.core.frame.DataFrame'>\n",
      "RangeIndex: 66 entries, 0 to 65\n",
      "Data columns (total 23 columns):\n",
      " #   Column                   Non-Null Count  Dtype \n",
      "---  ------                   --------------  ----- \n",
      " 0   RAMO                     66 non-null     int64 \n",
      " 1   UNIDAD                   66 non-null     object\n",
      " 2   AÑO                      66 non-null     int64 \n",
      " 3   FINALIDAD                66 non-null     int64 \n",
      " 4   FUNCION                  66 non-null     int64 \n",
      " 5   SUBFUNCION               66 non-null     int64 \n",
      " 6   REASIGNACION             66 non-null     int64 \n",
      " 7   ACTIVIDAD\n",
      "INSTITUCIONAL  66 non-null     int64 \n",
      " 8   PROGRAMA PRESUPUESTARIO  66 non-null     object\n",
      " 9   PARTIDA DE GASTO         66 non-null     int64 \n",
      " 10  ORIGINAL                 66 non-null     object\n",
      " 11  ENERO                    66 non-null     int64 \n",
      " 12  FEBRERO                  66 non-null     int64 \n",
      " 13  MARZO                    66 non-null     int64 \n",
      " 14  ABRIL                    66 non-null     int64 \n",
      " 15  MAYO                     66 non-null     int64 \n",
      " 16  JUNIO                    66 non-null     int64 \n",
      " 17  JULIO                    66 non-null     int64 \n",
      " 18  AGOSTO                   66 non-null     int64 \n",
      " 19  SEPTIEMBRE               66 non-null     int64 \n",
      " 20  OCTUBRE                  66 non-null     int64 \n",
      " 21  NOVIEMBRE                66 non-null     int64 \n",
      " 22  DICIEMBRE                66 non-null     int64 \n",
      "dtypes: int64(20), object(3)\n",
      "memory usage: 12.0+ KB\n"
     ]
    }
   ],
   "source": [
    "# Algo bien... Cero valores nulos... Dataset listo para trabajar... y con los tipos de datos correctos en cada columna... ejercicio resuelto...\n",
    "df.info()"
   ]
  }
 ],
 "metadata": {
  "kernelspec": {
   "display_name": "Python 3 (ipykernel)",
   "language": "python",
   "name": "python3"
  },
  "language_info": {
   "codemirror_mode": {
    "name": "ipython",
    "version": 3
   },
   "file_extension": ".py",
   "mimetype": "text/x-python",
   "name": "python",
   "nbconvert_exporter": "python",
   "pygments_lexer": "ipython3",
   "version": "3.11.3"
  }
 },
 "nbformat": 4,
 "nbformat_minor": 5
}
