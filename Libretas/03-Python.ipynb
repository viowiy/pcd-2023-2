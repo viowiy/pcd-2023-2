{
 "cells": [
  {
   "cell_type": "markdown",
   "id": "cfb3f693-c275-47f5-95f2-d771d25a418d",
   "metadata": {},
   "source": [
    "# Programación orientada a objetos\n",
    "\n",
    "Ya hemos discutido sobre los tipos de colecciones en Python, funcionan mas o menos así:\n",
    "1. El tipo puede ser llamado como función para crear nuevas **instancias**.\n",
    "2. La llamada al tipo puede incluir argumentos usados para inicializar la nueva instancia.\n",
    "3. Podemos invocar **métodos** sobre instancias de los tipos en lugar de inspeccionar y manipular por su representación interna.\n",
    "4. Métodos para distintos tipos pueden tener el mismo nombre.\n",
    "5. La forma en que se imprime una instancia se basa en su tipo.\n",
    "\n",
    "Nada de lo anterior es especial para los tipos de colecciones, en realidad, todas estas características son parte de un mecanismo incorporado a Python para organizar ideas y modelar problemas.\n",
    "\n",
    "Podemos crear un nuevo tipo en Python con una definición de **clase**, similar a como podemos definir una nueva función.\n",
    "\n",
    "Veamos un ejemplo y luego discutamos algunas propiedades de estas técnicas de programación."
   ]
  },
  {
   "cell_type": "code",
   "execution_count": 3,
   "id": "6ef9ed0c-423e-45c4-8ecc-774125c2b493",
   "metadata": {},
   "outputs": [],
   "source": [
    "class Problem:\n",
    "    \"\"\"Esta es una clase abstracta para un problema.\n",
    "    No se supone que debamos crear objetos de esta\n",
    "    clase directamente. La idea es que otras clases\n",
    "    hereden de esta para crear clases de problemas\n",
    "    más especeificos.\"\"\"\n",
    "    \n",
    "    def __init__(self, initial, goal=None):\n",
    "        \"\"\"Esta definición es un método, es especial\n",
    "        porque comienza y termina con doble piso.\n",
    "        En Python, el método __init__ es utilizado\n",
    "        para construir objetos de la clase.\n",
    "        En este y el resto de los métodos, el primer\n",
    "        parámetro es self, y nos permite referirnos\n",
    "        al objeto sobre el cuál el método es invocado.\"\"\"\n",
    "        self.initial = initial\n",
    "        self.goal = goal\n",
    "    \n",
    "    def actions(self, state):\n",
    "        \"\"\"Un problema contiene un estado inicial y\n",
    "        quizá una meta en particular. El método actions\n",
    "        debe regresar las acciones que se pueden tomar\n",
    "        en el estado dado. El resultado usualmente es\n",
    "        una lista, pero si debes regresar muchas acciones,\n",
    "        considera usar yield para generarlas una a la vez.\"\"\"\n",
    "        raise NotImplementedError\n",
    "    \n",
    "    def result(self, state, action):\n",
    "        \"\"\"El método anterior, al igual que este, tiene una\n",
    "        implementación trivial. Simplemente señalamos un\n",
    "        error que indica que no hay una implementación\n",
    "        para el método. En una implementación de este método,\n",
    "        debemos regresar el estado al que llegamos después\n",
    "        de ejecutar la acción dada en el estado dado.\n",
    "        La acción debe ser una calculada por\n",
    "        self.actions(state).\"\"\"\n",
    "        raise NotImplementedError\n",
    "    \n",
    "    def goal_test(self, state):\n",
    "        \"\"\"De seguro ya te diste cuenta que todos estos\n",
    "        métodos son muy generales y poco específicos.\n",
    "        ¿Qué forma tienen los estados?\n",
    "        ¿Qué son las acciones?\n",
    "        ¿Qué es una meta?\n",
    "        Este método regresa True si el estado dado es una\n",
    "        meta. Por defecto se compara el estado dado con\n",
    "        self.goal o verifica que el estado dado sea\n",
    "        elemento de self.goal en caso de ser lista.\"\"\"\n",
    "        if isinstance(self.goal, list):\n",
    "            return any(x is state for x in self.goal)\n",
    "        return state == self.goal\n",
    "    \n",
    "    def path_cost(self, c, state1, action, state2):\n",
    "        \"\"\"El método anterior si tenía una implementación útil,\n",
    "        sigue siendo general, pero podemos pensar que en muchos\n",
    "        problemas, si un estado es igual a la meta, entonces hemos\n",
    "        llegado a la meta. El método path_cost también incluye una\n",
    "        implementación: Se considera que llegar al estado 1 tiene\n",
    "        un costo c. Regresa el costo de un camino de solución que\n",
    "        llega al estado 2 desde estado 1 por medio de la acción dada.\"\"\"\n",
    "        return c + 1\n",
    "    \n",
    "    def value(self, state):\n",
    "        \"\"\"En distintos problemas, cada estado tiene un valor asociado.\n",
    "        Este método sirve para obtener este valor.\"\"\"\n",
    "        raise NotImplementedError"
   ]
  },
  {
   "cell_type": "code",
   "execution_count": 4,
   "id": "b87736ae",
   "metadata": {},
   "outputs": [
    {
     "data": {
      "text/plain": [
       "(False, True)"
      ]
     },
     "execution_count": 4,
     "metadata": {},
     "output_type": "execute_result"
    }
   ],
   "source": [
    "# Practicando...\n",
    "def checa_is(a,b):\n",
    "    return a is b, a == b\n",
    "\n",
    "checa_is(1,1)\n",
    "\n",
    "xs = (1,2,3)\n",
    "ys = (1,2,3)\n",
    "\n",
    "checa_is([1,2,3],[1,2,3])\n",
    "\n",
    "checa_is(xs,ys)\n",
    "# Son 2 listas iguales pero no son el mismo objeto...\n",
    "# is devuelve True si son el mismo objeto o si son inmutables en la mayoría... "
   ]
  },
  {
   "cell_type": "markdown",
   "id": "1ad9f26d-c90a-4728-9038-e0068fcb25f3",
   "metadata": {},
   "source": [
    "En el ejemplo anterior podemos observar distintos aspectos de la programación orientada a objetos. \n",
    "\n",
    "Primero, observemos que un problema puede ser especificado a partir de un estado inicial y un(os) estado(s) objetivo(s). Cuando se trabajan con objetos que son instancias de esta clase, podremos consultar su estado inicial y su(s) objetivo(s), estos valores particulares viven **dentro** del objeto y forman parte de su identidad.\n",
    "\n",
    "Al crear un objeto de una clase, se crea un nuevo espacio de nombres, por lo tanto si `x` y `y` son dos problemas distintos, nos referimos a sus estados iniciales de la misma forma `x.initial` y `y.initial`.\n",
    "\n",
    "Segundo, observamos que una clase no solo nos informa sobre los nombres que conforman la estructura de un objeto problema. Considera los siguientes incisos:\n",
    "- En *este* estado, ¿Qué acciones puedo realizar? `Problem.actions`\n",
    "- Si estoy en *este* estado y realizo *esta* acción, ¿A qué estado llego? `Problem.result`\n",
    "- Me encuentro en *este* estado, ¿Ya llegué a la meta? `Problem.goal_test`\n",
    "- Fue *así* de costoso llegar a *este* estado, si realizo *esta* acción y llego a *este otro* estado, ¿Qué tan costoso será? `Problem.path_cost`\n",
    "\n",
    "Estos métodos nos proveen todo un vocabulario para comunicar ideas, razonar y eventualmente resolver problemas.\n",
    "\n",
    "Tercero, la orientación a objetos nos permite *modelar* ciertos problemas identificando qué tienen en común, qué tienen diferente, e incluso si un problema es parte de otro.\n",
    "\n",
    "La idea de este paradigma es construir tus programas como objetos relacionados entre sí. Estos objetos se podrán comunicar a partir de sus métodos y estos serán cuidadosamente diseñados para contemplar las necesidades de la mayoría de los objetivos específicos de nuestro programa."
   ]
  },
  {
   "cell_type": "code",
   "execution_count": 5,
   "id": "ff26e0d9-2f1d-4a4e-9cbe-7bb626f3de97",
   "metadata": {},
   "outputs": [],
   "source": [
    "class Node:\n",
    "    \"\"\"Esta es la clase nodo. Nos permite modelar un árbol\n",
    "    donde los vertices son estados y las aristas son acciones.\n",
    "    Al resolver un problema, podemos trabajar con nodos para\n",
    "    representar el camino que se ha tomado hasta llegar a la\n",
    "    solución.\"\"\"\n",
    "    \n",
    "    def __init__(self, state, parent=None, action=None, path_cost=0):\n",
    "        \"\"\"Crea un nodo, a partir de (posiblemente) otro nodo padre\n",
    "        y una acción.\"\"\"\n",
    "        self.state = state\n",
    "        self.parent = parent\n",
    "        self.action = action\n",
    "        self.path_cost = path_cost\n",
    "        self.depth = 0\n",
    "        if parent:\n",
    "            self.depth = parent.depth + 1\n",
    "    \n",
    "    def __repr__(self):\n",
    "        \"\"\"Ver ejemplo más adelante\"\"\"\n",
    "        return f\"<Node {self.state}>\"\n",
    "    \n",
    "    def __lt__(self, node):\n",
    "        \"\"\"Ver ejemplo más adelante\"\"\"\n",
    "        return self.state < node.state\n",
    "    \n",
    "    def __eq__(self, other):\n",
    "        \"\"\"Ver ejemplo más adelante\"\"\"\n",
    "        return (\n",
    "            isinstance(other, Node) and\n",
    "            self.state == other.state\n",
    "        )\n",
    "    \n",
    "    def __hash__(self):\n",
    "        \"\"\"Ver ejemplo más adelante\"\"\"\n",
    "        return hash(self.state)\n",
    "    \n",
    "    def expand(self, problem):\n",
    "        \"\"\"Enlista los nodos que son alcanzables con una acción\n",
    "        a partir de este nodo.\"\"\"\n",
    "        return [self.child_node(problem, action)\n",
    "                for action in problem.actions(self.state)]\n",
    "    \n",
    "    def child_node(self, problem, action):\n",
    "        \"\"\"Construye un nodo hijo a partir de efectuar una acción en\n",
    "        el estado actual.\"\"\"\n",
    "        next_state = problem.result(self.state, action)\n",
    "        next_cost = problem.path_cost(self.path_cost, self.state, action, next_state)\n",
    "        next_node = Node(next_state, self, action, next_cost)\n",
    "        return next_node\n",
    "    \n",
    "    def solution(self):\n",
    "        \"\"\"Regresa una lista de acciones para llegar a este nodo.\"\"\"\n",
    "        return [node.action for node in self.path()[1:]]\n",
    "    \n",
    "    def path(self):\n",
    "        \"\"\"Regresa una lista de nodos que forman la trayectoria desde\n",
    "        la raíz hasta este nodo.\"\"\"\n",
    "        node, path_back = self, []\n",
    "        while node:\n",
    "            path_back.append(node)\n",
    "            node = node.parent\n",
    "        return list(reversed(path_back))\n",
    "    def __str__(self):\n",
    "        return \"<Node>\""
   ]
  },
  {
   "cell_type": "markdown",
   "id": "a1ba1ed4-65d4-4910-aec2-a050cb3dbea3",
   "metadata": {},
   "source": [
    "## Ejemplo"
   ]
  },
  {
   "cell_type": "code",
   "execution_count": 6,
   "id": "77d1e5e4-29db-4fbf-a050-1784d752a89a",
   "metadata": {},
   "outputs": [],
   "source": [
    "class HomoSapiens:\n",
    "    def __init__(self, nombre, edad):\n",
    "        self.nombre = nombre\n",
    "        self.edad = edad\n",
    "\n",
    "class Persona(HomoSapiens):\n",
    "    def __init__(self, nombre, edad):\n",
    "        super().__init__(nombre, edad)\n",
    "    \n",
    "    def __repr__(self):\n",
    "        return f\"<Persona {self.nombre}>\"\n",
    "    \n",
    "    def __lt__(self, otra):\n",
    "        return self.nombre < otra.nombre\n",
    "    \n",
    "    def __eq__(self, otra):\n",
    "        return (\n",
    "            isinstance(otra, HomoSapiens) and\n",
    "            self.nombre == otra.nombre\n",
    "        )\n",
    "    \n",
    "    def __hash__(self):\n",
    "        return hash(self.nombre)"
   ]
  },
  {
   "cell_type": "code",
   "execution_count": 7,
   "id": "2f413762-8946-4b25-8074-ac1755e5d975",
   "metadata": {},
   "outputs": [
    {
     "data": {
      "text/plain": [
       "<__main__.HomoSapiens at 0x2466c3ebe90>"
      ]
     },
     "execution_count": 7,
     "metadata": {},
     "output_type": "execute_result"
    }
   ],
   "source": [
    "HomoSapiens('Eduardo', 29)"
   ]
  },
  {
   "cell_type": "code",
   "execution_count": 8,
   "id": "c548d708-32e0-40d4-87e8-d4d30df3bf12",
   "metadata": {},
   "outputs": [],
   "source": [
    "x = HomoSapiens('Eduardo', 30)\n",
    "y = HomoSapiens('Eduardo', 30)"
   ]
  },
  {
   "cell_type": "code",
   "execution_count": 9,
   "id": "62226a46-5bf5-4193-96b7-e8fa4c06eee8",
   "metadata": {},
   "outputs": [
    {
     "data": {
      "text/plain": [
       "False"
      ]
     },
     "execution_count": 9,
     "metadata": {},
     "output_type": "execute_result"
    }
   ],
   "source": [
    "x == y"
   ]
  },
  {
   "cell_type": "code",
   "execution_count": 10,
   "id": "d6593b98-eabc-46be-b5f9-1011fa991ab8",
   "metadata": {},
   "outputs": [],
   "source": [
    "# x < y"
   ]
  },
  {
   "cell_type": "code",
   "execution_count": 11,
   "id": "a0c13241-6dad-4b89-9b32-97256862c6c3",
   "metadata": {},
   "outputs": [
    {
     "data": {
      "text/plain": [
       "156342502785"
      ]
     },
     "execution_count": 11,
     "metadata": {},
     "output_type": "execute_result"
    }
   ],
   "source": [
    "hash(x)"
   ]
  },
  {
   "cell_type": "code",
   "execution_count": 12,
   "id": "38bcb416-ae7f-4483-86e0-e9fb870e84bb",
   "metadata": {},
   "outputs": [
    {
     "data": {
      "text/plain": [
       "156342938037"
      ]
     },
     "execution_count": 12,
     "metadata": {},
     "output_type": "execute_result"
    }
   ],
   "source": [
    "hash(y)"
   ]
  },
  {
   "cell_type": "code",
   "execution_count": 13,
   "id": "b8567185-6974-423f-8347-93c03c467337",
   "metadata": {},
   "outputs": [
    {
     "data": {
      "text/plain": [
       "False"
      ]
     },
     "execution_count": 13,
     "metadata": {},
     "output_type": "execute_result"
    }
   ],
   "source": [
    "hash(x) == hash(y)"
   ]
  },
  {
   "cell_type": "code",
   "execution_count": 14,
   "id": "df2f10f9-84e7-4a7b-b295-eabef7c0e2eb",
   "metadata": {},
   "outputs": [
    {
     "data": {
      "text/plain": [
       "{<__main__.HomoSapiens at 0x2466bd45810>: 1,\n",
       " <__main__.HomoSapiens at 0x2466c3e9b50>: 2}"
      ]
     },
     "execution_count": 14,
     "metadata": {},
     "output_type": "execute_result"
    }
   ],
   "source": [
    "d = {}\n",
    "d[x] = 1\n",
    "d[y] = 2\n",
    "d"
   ]
  },
  {
   "cell_type": "code",
   "execution_count": 15,
   "id": "5f6c1fc7-1454-43b7-8725-43765dc0c6dd",
   "metadata": {},
   "outputs": [
    {
     "data": {
      "text/plain": [
       "<Persona Eduardo>"
      ]
     },
     "execution_count": 15,
     "metadata": {},
     "output_type": "execute_result"
    }
   ],
   "source": [
    "Persona('Eduardo', 29)"
   ]
  },
  {
   "cell_type": "code",
   "execution_count": 16,
   "id": "897a1a83-8fff-494a-a8e4-a969106f1bcf",
   "metadata": {},
   "outputs": [],
   "source": [
    "x = Persona('Eduardo', 29)\n",
    "y = Persona('Eduardo', 29)"
   ]
  },
  {
   "cell_type": "code",
   "execution_count": 17,
   "id": "20327b7d-3509-4958-9523-f7e73c2aa8c9",
   "metadata": {},
   "outputs": [
    {
     "data": {
      "text/plain": [
       "True"
      ]
     },
     "execution_count": 17,
     "metadata": {},
     "output_type": "execute_result"
    }
   ],
   "source": [
    "x == y"
   ]
  },
  {
   "cell_type": "code",
   "execution_count": 18,
   "id": "8959a555-8051-4d2e-91cd-73e41c906bb3",
   "metadata": {},
   "outputs": [
    {
     "data": {
      "text/plain": [
       "False"
      ]
     },
     "execution_count": 18,
     "metadata": {},
     "output_type": "execute_result"
    }
   ],
   "source": [
    "x < y"
   ]
  },
  {
   "cell_type": "code",
   "execution_count": 19,
   "id": "c934689b-e1d8-4797-8d45-2c9aa25eb5ba",
   "metadata": {},
   "outputs": [
    {
     "data": {
      "text/plain": [
       "7967756951457964803"
      ]
     },
     "execution_count": 19,
     "metadata": {},
     "output_type": "execute_result"
    }
   ],
   "source": [
    "hash(x)"
   ]
  },
  {
   "cell_type": "code",
   "execution_count": 20,
   "id": "7278f6d9-66bd-483f-84f0-2865d5d2f900",
   "metadata": {},
   "outputs": [
    {
     "data": {
      "text/plain": [
       "7967756951457964803"
      ]
     },
     "execution_count": 20,
     "metadata": {},
     "output_type": "execute_result"
    }
   ],
   "source": [
    "hash(y)"
   ]
  },
  {
   "cell_type": "code",
   "execution_count": 21,
   "id": "f936ba2d-3507-4034-bcde-7deab87baf8a",
   "metadata": {},
   "outputs": [
    {
     "data": {
      "text/plain": [
       "True"
      ]
     },
     "execution_count": 21,
     "metadata": {},
     "output_type": "execute_result"
    }
   ],
   "source": [
    "hash(x) == hash(y)"
   ]
  },
  {
   "cell_type": "code",
   "execution_count": 22,
   "id": "1742bfb2-e9af-4391-8005-3c75eacda890",
   "metadata": {},
   "outputs": [
    {
     "data": {
      "text/plain": [
       "{<Persona Eduardo>: 'Adios'}"
      ]
     },
     "execution_count": 22,
     "metadata": {},
     "output_type": "execute_result"
    }
   ],
   "source": [
    "d = {}\n",
    "d[x] = 'Hola'\n",
    "d[y] = 'Adios'\n",
    "d"
   ]
  },
  {
   "cell_type": "code",
   "execution_count": 23,
   "id": "0fcdbff5-0a4d-4adb-8c0b-253c348a79d8",
   "metadata": {},
   "outputs": [],
   "source": [
    "x = Persona('Eduardo', 29)\n",
    "y = Persona('Eduardo', 3)"
   ]
  },
  {
   "cell_type": "code",
   "execution_count": 24,
   "id": "57142321-1ce5-4643-9166-531ffc51f2fa",
   "metadata": {},
   "outputs": [
    {
     "data": {
      "text/plain": [
       "True"
      ]
     },
     "execution_count": 24,
     "metadata": {},
     "output_type": "execute_result"
    }
   ],
   "source": [
    "x == y"
   ]
  },
  {
   "cell_type": "code",
   "execution_count": 25,
   "id": "0937664b-eac8-4663-a8f3-a84ceab95560",
   "metadata": {},
   "outputs": [
    {
     "data": {
      "text/plain": [
       "False"
      ]
     },
     "execution_count": 25,
     "metadata": {},
     "output_type": "execute_result"
    }
   ],
   "source": [
    "x < y"
   ]
  },
  {
   "cell_type": "code",
   "execution_count": 26,
   "id": "23b74959-7440-4c1b-a199-3c8ddc07d91a",
   "metadata": {},
   "outputs": [
    {
     "data": {
      "text/plain": [
       "7967756951457964803"
      ]
     },
     "execution_count": 26,
     "metadata": {},
     "output_type": "execute_result"
    }
   ],
   "source": [
    "hash(x)"
   ]
  },
  {
   "cell_type": "code",
   "execution_count": 27,
   "id": "4c9778a1-f673-4a55-88eb-a6efbf09f73d",
   "metadata": {},
   "outputs": [
    {
     "data": {
      "text/plain": [
       "7967756951457964803"
      ]
     },
     "execution_count": 27,
     "metadata": {},
     "output_type": "execute_result"
    }
   ],
   "source": [
    "hash(y)"
   ]
  },
  {
   "cell_type": "code",
   "execution_count": 28,
   "id": "74a8c95c-3b99-4f7b-86cd-669b1a2524c4",
   "metadata": {},
   "outputs": [
    {
     "data": {
      "text/plain": [
       "True"
      ]
     },
     "execution_count": 28,
     "metadata": {},
     "output_type": "execute_result"
    }
   ],
   "source": [
    "hash(x) == hash(y)"
   ]
  },
  {
   "cell_type": "code",
   "execution_count": 29,
   "id": "8cc09d8b-5c87-49ff-ab8f-7dfe4646fb65",
   "metadata": {},
   "outputs": [],
   "source": [
    "class Abstracta:\n",
    "    def __init__(self, x):\n",
    "        self.x = x\n",
    "    \n",
    "    def foo(self):\n",
    "        raise NotImplementedError\n",
    "\n",
    "class Concreta1(Abstracta):\n",
    "    def __init__(self, x):\n",
    "        super().__init__(x)\n",
    "        self.x = 2 * self.x\n",
    "    \n",
    "    def foo(self):\n",
    "        print(f\"Foo fooo!!!! valor de x es = {self.x}\")\n",
    "\n",
    "class Concreta2(Abstracta):\n",
    "    def __init__(self, x, y):\n",
    "        super().__init__(x)\n",
    "        self.x = self.x + y\n",
    "    \n",
    "    def foo(self):\n",
    "        print(f\"Fi fa fo fú!!! valor de x es = {self.x}\")\n",
    "\n",
    "def llama_foo(lista_de_objetos_concretos):\n",
    "    for x in lista_de_objetos_concretos:\n",
    "        x.foo()"
   ]
  },
  {
   "cell_type": "code",
   "execution_count": 30,
   "id": "a504de60-9b90-453e-b4fc-fb4baa44d671",
   "metadata": {},
   "outputs": [
    {
     "name": "stdout",
     "output_type": "stream",
     "text": [
      "Foo fooo!!!! valor de x es = 8\n",
      "Fi fa fo fú!!! valor de x es = 6\n",
      "Fi fa fo fú!!! valor de x es = 0\n",
      "Foo fooo!!!! valor de x es = 24\n"
     ]
    }
   ],
   "source": [
    "llama_foo([\n",
    "    Concreta1(4),\n",
    "    Concreta2(5, 1),\n",
    "    Concreta2(0, 0),\n",
    "    Concreta1(12),\n",
    "])"
   ]
  },
  {
   "cell_type": "markdown",
   "id": "b0dc0ec4-69b8-4d55-b927-4ee212b73226",
   "metadata": {},
   "source": [
    "# Resolución de problemas genéricos reciclables"
   ]
  },
  {
   "cell_type": "markdown",
   "id": "d090028f-64ce-4f3b-83e1-c986b6e0ed59",
   "metadata": {},
   "source": [
    "## El problema\n",
    "\n",
    "![GIF vuelo](https://media.giphy.com/media/3o6nV8OYdUhiuKja1i/giphy.gif)"
   ]
  },
  {
   "cell_type": "code",
   "execution_count": 218,
   "id": "cc2339e3-27e4-434b-854d-6e86f73e6d42",
   "metadata": {},
   "outputs": [],
   "source": [
    "import time\n",
    "import random\n",
    "import math"
   ]
  },
  {
   "cell_type": "markdown",
   "id": "df398780-6108-4ee4-bf4f-3753b4a019ee",
   "metadata": {},
   "source": [
    "Planear un viaje para un grupo de personas que viven en distintos lugares llegando al mismo lugar siempre es un reto.\n",
    "\n",
    "Consideremos que los miembros de una familia vienen de todas partes de Estados Unidos para encontrarse en Nueva York. Todos van a llegar el mismo día y regresarse el mismo día, y quisieran compartir transporte hacia y desde el aeropuerto.\n",
    "\n",
    "Definimos una lista con parejas (*Nombre*, *Aeropuerto*) que indican el aeropuerto del que parte cada miembro de la familia."
   ]
  },
  {
   "cell_type": "code",
   "execution_count": 219,
   "id": "01b5da1d-d44c-40ea-a92c-e58d39b20cd1",
   "metadata": {},
   "outputs": [],
   "source": [
    "people = [('Seymour', 'BOS'),\n",
    "          ('Franny', 'DAL'),\n",
    "          ('Zooey', 'CAK'),\n",
    "          ('Walt', 'MIA'),\n",
    "          ('Buddy', 'ORD'),\n",
    "          ('Les', 'OMA')]"
   ]
  },
  {
   "cell_type": "code",
   "execution_count": 220,
   "id": "90fcb2f5-2f97-4556-b594-4fcf72b8d7c2",
   "metadata": {},
   "outputs": [],
   "source": [
    "destination = 'LGA'\n"
   ]
  },
  {
   "cell_type": "markdown",
   "id": "0bf8243b-b5c5-4f70-8c4b-57992072f409",
   "metadata": {},
   "source": [
    "Podemos obtener información de cada aeropuerto a partir del archivo `airport-codes.txt`."
   ]
  },
  {
   "cell_type": "code",
   "execution_count": 221,
   "id": "c101496f-2d6d-4d52-8111-62b147a4a370",
   "metadata": {},
   "outputs": [],
   "source": [
    "def load_airports(path):\n",
    "    airports = {}\n",
    "    with open(path) as f:\n",
    "        f.readline()\n",
    "        for line in f:\n",
    "            cols = line.strip().split(',')\n",
    "            iata = cols[9]\n",
    "            name = cols[2]\n",
    "            region = cols[6]\n",
    "            municipality = cols[7]\n",
    "            airports[iata] = (\n",
    "                name,\n",
    "                region,\n",
    "                municipality\n",
    "            )\n",
    "    return airports"
   ]
  },
  {
   "cell_type": "code",
   "execution_count": 222,
   "id": "9b96d28c-736b-48d4-9de1-282d938a2d82",
   "metadata": {},
   "outputs": [],
   "source": [
    "airports = load_airports('assets/airport-codes.txt')"
   ]
  },
  {
   "cell_type": "markdown",
   "id": "dfc739f5-1d22-4784-b5a5-f4ab3ef571b4",
   "metadata": {},
   "source": [
    "Veamos una descripción del viaje de ida de cada miembro de la familia"
   ]
  },
  {
   "cell_type": "code",
   "execution_count": 223,
   "id": "876d4620-3e3e-4a13-afb1-8189d05feaed",
   "metadata": {},
   "outputs": [
    {
     "name": "stdout",
     "output_type": "stream",
     "text": [
      "* Seymour parte de “General Edward Lawrence Logan International Airport” en Boston y viaja hasta “La Guardia Airport” en New York\n",
      "* Franny parte de “Dallas Love Field” en Dallas y viaja hasta “La Guardia Airport” en New York\n",
      "* Zooey parte de “Akron Canton Regional Airport” en Akron y viaja hasta “La Guardia Airport” en New York\n",
      "* Walt parte de “Miami International Airport” en Miami y viaja hasta “La Guardia Airport” en New York\n",
      "* Buddy parte de “Chicago O'Hare International Airport” en Chicago y viaja hasta “La Guardia Airport” en New York\n",
      "* Les parte de “Eppley Airfield” en Omaha y viaja hasta “La Guardia Airport” en New York\n"
     ]
    }
   ],
   "source": [
    "for name, iata in people:\n",
    "    print(f\"\\\n",
    "* {name} parte de \\\n",
    "“{airports[iata][0]}” en {airports[iata][2]} \\\n",
    "y viaja hasta \\\n",
    "“{airports[destination][0]}” en {airports[destination][2]}\\\n",
    "\")"
   ]
  },
  {
   "cell_type": "markdown",
   "id": "b510d798-0816-4a5b-9384-90226c61d8c2",
   "metadata": {},
   "source": [
    "Existen muchos vuelos al día para llegar a Nueva York desde las ubicaciones de los miembros de esta familia, todos saliendo a distintos tiempos y con distinto precio.\n",
    "\n",
    "Podemos obtener información de los vuelos disponibles a partir del archivo `schedule.txt`."
   ]
  },
  {
   "cell_type": "code",
   "execution_count": 224,
   "id": "915df899-8e14-48e0-ae58-1e5fa9418b7f",
   "metadata": {},
   "outputs": [],
   "source": [
    "def load_flights(path):\n",
    "    flights = {}\n",
    "    with open(path) as f:\n",
    "        for line in f:\n",
    "            origin, dest, t_depart, t_arrive, price = line.strip().split(',')\n",
    "            flights.setdefault((origin, dest), [])\n",
    "            flights[(origin, dest)].append((t_depart, t_arrive, int(price)))\n",
    "    return flights"
   ]
  },
  {
   "cell_type": "code",
   "execution_count": 225,
   "id": "297bc450-d3b7-4275-967a-762985f6097e",
   "metadata": {},
   "outputs": [],
   "source": [
    "flights = load_flights('assets/schedule.txt')"
   ]
  },
  {
   "cell_type": "code",
   "execution_count": 226,
   "id": "a912bed9",
   "metadata": {},
   "outputs": [
    {
     "data": {
      "text/plain": [
       "{('LGA', 'OMA'): [('6:19', '8:13', 239),\n",
       "  ('8:04', '10:59', 136),\n",
       "  ('9:31', '11:43', 210),\n",
       "  ('11:07', '13:24', 171),\n",
       "  ('12:31', '14:02', 234),\n",
       "  ('14:05', '15:47', 226),\n",
       "  ('15:07', '17:21', 129),\n",
       "  ('16:35', '18:56', 144),\n",
       "  ('18:25', '20:34', 205),\n",
       "  ('20:05', '21:44', 172)],\n",
       " ('OMA', 'LGA'): [('6:11', '8:31', 249),\n",
       "  ('7:39', '10:24', 219),\n",
       "  ('9:15', '12:03', 99),\n",
       "  ('11:08', '13:07', 175),\n",
       "  ('12:18', '14:56', 172),\n",
       "  ('13:37', '15:08', 250),\n",
       "  ('15:03', '16:42', 135),\n",
       "  ('16:51', '19:09', 147),\n",
       "  ('18:12', '20:17', 242),\n",
       "  ('20:05', '22:06', 261)],\n",
       " ('LGA', 'ORD'): [('6:03', '8:43', 219),\n",
       "  ('7:50', '10:08', 164),\n",
       "  ('9:11', '10:42', 172),\n",
       "  ('10:33', '13:11', 132),\n",
       "  ('12:08', '14:47', 231),\n",
       "  ('14:19', '17:09', 190),\n",
       "  ('15:04', '17:23', 189),\n",
       "  ('17:06', '20:00', 95),\n",
       "  ('18:33', '20:22', 143),\n",
       "  ('19:32', '21:25', 160)],\n",
       " ('ORD', 'LGA'): [('6:05', '8:32', 174),\n",
       "  ('8:25', '10:34', 157),\n",
       "  ('9:42', '11:32', 169),\n",
       "  ('11:01', '12:39', 260),\n",
       "  ('12:44', '14:17', 134),\n",
       "  ('14:22', '16:32', 126),\n",
       "  ('15:58', '18:40', 173),\n",
       "  ('16:43', '19:00', 246),\n",
       "  ('18:48', '21:45', 246),\n",
       "  ('19:50', '22:24', 269)],\n",
       " ('LGA', 'MIA'): [('6:33', '9:14', 172),\n",
       "  ('8:23', '11:07', 143),\n",
       "  ('9:25', '12:46', 295),\n",
       "  ('11:08', '14:38', 262),\n",
       "  ('12:37', '15:05', 170),\n",
       "  ('14:08', '16:09', 232),\n",
       "  ('15:23', '18:49', 150),\n",
       "  ('16:50', '19:26', 304),\n",
       "  ('18:07', '21:30', 355),\n",
       "  ('20:27', '23:42', 169)],\n",
       " ('MIA', 'LGA'): [('6:25', '9:30', 335),\n",
       "  ('7:34', '9:40', 324),\n",
       "  ('9:15', '12:29', 225),\n",
       "  ('11:28', '14:40', 248),\n",
       "  ('12:05', '15:30', 330),\n",
       "  ('14:01', '17:24', 338),\n",
       "  ('15:34', '18:11', 326),\n",
       "  ('17:07', '20:04', 291),\n",
       "  ('18:23', '21:35', 134),\n",
       "  ('19:53', '22:21', 173)],\n",
       " ('LGA', 'BOS'): [('6:39', '8:09', 86),\n",
       "  ('8:23', '10:28', 149),\n",
       "  ('9:58', '11:18', 130),\n",
       "  ('10:33', '12:03', 74),\n",
       "  ('12:08', '14:05', 142),\n",
       "  ('13:39', '15:30', 74),\n",
       "  ('15:25', '16:58', 62),\n",
       "  ('17:03', '18:03', 103),\n",
       "  ('18:24', '20:49', 124),\n",
       "  ('19:58', '21:23', 142)],\n",
       " ('BOS', 'LGA'): [('6:17', '8:26', 89),\n",
       "  ('8:04', '10:11', 95),\n",
       "  ('9:45', '11:50', 172),\n",
       "  ('11:16', '13:29', 83),\n",
       "  ('12:34', '15:02', 109),\n",
       "  ('13:40', '15:37', 138),\n",
       "  ('15:27', '17:18', 151),\n",
       "  ('17:11', '18:30', 108),\n",
       "  ('18:34', '19:36', 136),\n",
       "  ('20:17', '22:22', 102)],\n",
       " ('LGA', 'DAL'): [('6:09', '9:49', 414),\n",
       "  ('7:57', '11:15', 347),\n",
       "  ('9:49', '13:51', 229),\n",
       "  ('10:51', '14:16', 256),\n",
       "  ('12:20', '16:34', 500),\n",
       "  ('14:20', '17:32', 332),\n",
       "  ('15:49', '20:10', 497),\n",
       "  ('17:14', '20:59', 277),\n",
       "  ('18:44', '22:42', 351),\n",
       "  ('19:57', '23:15', 512)],\n",
       " ('DAL', 'LGA'): [('6:12', '10:22', 230),\n",
       "  ('7:53', '11:37', 433),\n",
       "  ('9:08', '12:12', 364),\n",
       "  ('10:30', '14:57', 290),\n",
       "  ('12:19', '15:25', 342),\n",
       "  ('13:54', '18:02', 294),\n",
       "  ('15:44', '18:55', 382),\n",
       "  ('16:52', '20:48', 448),\n",
       "  ('18:26', '21:29', 464),\n",
       "  ('20:07', '23:27', 473)],\n",
       " ('LGA', 'CAK'): [('6:58', '9:01', 238),\n",
       "  ('8:19', '11:16', 122),\n",
       "  ('9:58', '12:56', 249),\n",
       "  ('10:32', '13:16', 139),\n",
       "  ('12:01', '13:41', 267),\n",
       "  ('13:37', '15:33', 142),\n",
       "  ('15:50', '18:45', 243),\n",
       "  ('16:33', '18:15', 253),\n",
       "  ('18:17', '21:04', 259),\n",
       "  ('19:46', '21:45', 214)],\n",
       " ('CAK', 'LGA'): [('6:08', '8:06', 224),\n",
       "  ('8:27', '10:45', 139),\n",
       "  ('9:15', '12:14', 247),\n",
       "  ('10:53', '13:36', 189),\n",
       "  ('12:08', '14:59', 149),\n",
       "  ('13:40', '15:38', 137),\n",
       "  ('15:23', '17:25', 232),\n",
       "  ('17:08', '19:08', 262),\n",
       "  ('18:35', '20:28', 204),\n",
       "  ('20:30', '23:11', 114)]}"
      ]
     },
     "execution_count": 226,
     "metadata": {},
     "output_type": "execute_result"
    }
   ],
   "source": [
    "type(flights)\n",
    "flights\n"
   ]
  },
  {
   "cell_type": "markdown",
   "id": "f74cbcaa-54e8-4615-aad7-33dd996e4098",
   "metadata": {},
   "source": [
    "Podemos consultar los posibles vuelos de ida para un miembro de la familia (en este ejemplo el primero en la lista, que es Seymour) de la siguiente forma:"
   ]
  },
  {
   "cell_type": "code",
   "execution_count": 227,
   "id": "4c50b4c2-c648-4742-b973-a8503fec655c",
   "metadata": {},
   "outputs": [
    {
     "data": {
      "text/plain": [
       "[('6:17', '8:26', 89),\n",
       " ('8:04', '10:11', 95),\n",
       " ('9:45', '11:50', 172),\n",
       " ('11:16', '13:29', 83),\n",
       " ('12:34', '15:02', 109),\n",
       " ('13:40', '15:37', 138),\n",
       " ('15:27', '17:18', 151),\n",
       " ('17:11', '18:30', 108),\n",
       " ('18:34', '19:36', 136),\n",
       " ('20:17', '22:22', 102)]"
      ]
     },
     "execution_count": 227,
     "metadata": {},
     "output_type": "execute_result"
    }
   ],
   "source": [
    "flights[(\n",
    "    people[0][1],\n",
    "    destination,\n",
    ")]"
   ]
  },
  {
   "cell_type": "markdown",
   "id": "43d0de96-0680-4502-9089-86508220b05a",
   "metadata": {},
   "source": [
    "Para su vuelo de regreso, simplemente cambiamos el orden del viaje:"
   ]
  },
  {
   "cell_type": "code",
   "execution_count": 228,
   "id": "7e4f90bd-bceb-43a2-b7d3-e18d52231da0",
   "metadata": {},
   "outputs": [
    {
     "data": {
      "text/plain": [
       "[('6:39', '8:09', 86),\n",
       " ('8:23', '10:28', 149),\n",
       " ('9:58', '11:18', 130),\n",
       " ('10:33', '12:03', 74),\n",
       " ('12:08', '14:05', 142),\n",
       " ('13:39', '15:30', 74),\n",
       " ('15:25', '16:58', 62),\n",
       " ('17:03', '18:03', 103),\n",
       " ('18:24', '20:49', 124),\n",
       " ('19:58', '21:23', 142)]"
      ]
     },
     "execution_count": 228,
     "metadata": {},
     "output_type": "execute_result"
    }
   ],
   "source": [
    "flights[(\n",
    "    destination,\n",
    "    people[0][1],\n",
    ")]"
   ]
  },
  {
   "cell_type": "markdown",
   "id": "77a6c1d7-82de-4e51-a8c4-feb7d12be736",
   "metadata": {},
   "source": [
    "Una desventaja de nuestra actual representación para los vuelos es la forma en que se especifican los tiempos.\n",
    "\n",
    "Para trabajar con valores numéricos, vamos a considerar una función que calcula la cantidad de minutos que han pasado en el día para cierta hora."
   ]
  },
  {
   "cell_type": "code",
   "execution_count": 229,
   "id": "29673dd1-138c-4785-8ab9-23f490a9f5ff",
   "metadata": {},
   "outputs": [],
   "source": [
    "import time\n",
    "\n",
    "def get_minutes(t):\n",
    "    x = time.strptime(t, '%H:%M')\n",
    "    h = x.tm_hour\n",
    "    m = x.tm_min\n",
    "    return 60 * h + m"
   ]
  },
  {
   "cell_type": "code",
   "execution_count": 230,
   "id": "b0724ec4-bd0a-41e2-b534-7e2cb87a1535",
   "metadata": {},
   "outputs": [
    {
     "data": {
      "text/plain": [
       "1430"
      ]
     },
     "execution_count": 230,
     "metadata": {},
     "output_type": "execute_result"
    }
   ],
   "source": [
    "get_minutes('23:50')"
   ]
  },
  {
   "cell_type": "code",
   "execution_count": 231,
   "id": "231b017a-e07e-48e8-80b8-78ca4da0f59b",
   "metadata": {},
   "outputs": [
    {
     "data": {
      "text/plain": [
       "51"
      ]
     },
     "execution_count": 231,
     "metadata": {},
     "output_type": "execute_result"
    }
   ],
   "source": [
    "get_minutes('00:51')"
   ]
  },
  {
   "cell_type": "code",
   "execution_count": 232,
   "id": "6e99cf17-39b6-4f4d-973e-9063b347beac",
   "metadata": {},
   "outputs": [
    {
     "data": {
      "text/plain": [
       "72"
      ]
     },
     "execution_count": 232,
     "metadata": {},
     "output_type": "execute_result"
    }
   ],
   "source": [
    "get_minutes('01:12')"
   ]
  },
  {
   "cell_type": "code",
   "execution_count": 233,
   "id": "e6af6e7c-9f41-4709-b0e4-0268ea747e88",
   "metadata": {},
   "outputs": [
    {
     "data": {
      "text/plain": [
       "[(377, 506, 89),\n",
       " (484, 611, 95),\n",
       " (585, 710, 172),\n",
       " (676, 809, 83),\n",
       " (754, 902, 109),\n",
       " (820, 937, 138),\n",
       " (927, 1038, 151),\n",
       " (1031, 1110, 108),\n",
       " (1114, 1176, 136),\n",
       " (1217, 1342, 102)]"
      ]
     },
     "execution_count": 233,
     "metadata": {},
     "output_type": "execute_result"
    }
   ],
   "source": [
    "list(\n",
    "    map(\n",
    "        lambda x: ( # Función anónima Lambda...\n",
    "            get_minutes(x[0]),\n",
    "            get_minutes(x[1]),\n",
    "            x[2],\n",
    "        ),\n",
    "        flights[(\n",
    "            people[0][1],\n",
    "            destination\n",
    "        )]\n",
    "    )\n",
    ")"
   ]
  },
  {
   "cell_type": "code",
   "execution_count": 234,
   "id": "2ee5afe3",
   "metadata": {},
   "outputs": [
    {
     "data": {
      "text/plain": [
       "[(377, 506, 89),\n",
       " (484, 611, 95),\n",
       " (585, 710, 172),\n",
       " (676, 809, 83),\n",
       " (754, 902, 109),\n",
       " (820, 937, 138),\n",
       " (927, 1038, 151),\n",
       " (1031, 1110, 108),\n",
       " (1114, 1176, 136),\n",
       " (1217, 1342, 102)]"
      ]
     },
     "execution_count": 234,
     "metadata": {},
     "output_type": "execute_result"
    }
   ],
   "source": [
    "list(map(lambda x: (get_minutes(x[0]), get_minutes(x[1]), x[2]),flights[(people[0][1],destination)]))"
   ]
  },
  {
   "cell_type": "code",
   "execution_count": 235,
   "id": "622071bd",
   "metadata": {},
   "outputs": [
    {
     "data": {
      "text/plain": [
       "[('Seymour', 'BOS'),\n",
       " ('Franny', 'DAL'),\n",
       " ('Zooey', 'CAK'),\n",
       " ('Walt', 'MIA'),\n",
       " ('Buddy', 'ORD'),\n",
       " ('Les', 'OMA')]"
      ]
     },
     "execution_count": 235,
     "metadata": {},
     "output_type": "execute_result"
    }
   ],
   "source": [
    "people"
   ]
  },
  {
   "cell_type": "code",
   "execution_count": 236,
   "id": "58389f25",
   "metadata": {},
   "outputs": [
    {
     "name": "stdout",
     "output_type": "stream",
     "text": [
      "('17:03', '18:03', 103)\n"
     ]
    }
   ],
   "source": [
    "a = flights[(\"LGA\", people[0][1])]\n",
    "print(random.choice(a))"
   ]
  },
  {
   "cell_type": "markdown",
   "id": "26f00668-b264-4952-9971-10bce0b06192",
   "metadata": {},
   "source": [
    "Vamos a considerar una estructura particular para las posibles soluciones al problema. Una representación usual es que las soluciones sean listas de números. En nuestro caso, cada número puede representar el vuelo de ida o el vuelo de regreso, de tal manera que el tamaño de la solución es dos veces más que la cantidad de personas.\n",
    "\n",
    "Por ejemplo,\n",
    "```\n",
    "[1,4,3,2,7,3,6,3,2,4,5,3]\n",
    "```\n",
    "\n",
    "Nos representa una solución donde:\n",
    "- la persona con índice `0` toma el vuelo de ida con índice `1` y el vuelo de regreso con índice `4`,\n",
    "- la persona con índice `1` toma el vuelo de ida con índice `3` y el vuelo de regreso con índice `2`,\n",
    "- la persona con índice `3` toma el vuelo de ida con índice `7` y el vuelo de regreso con índice `3`,\n",
    "- etc.\n",
    "\n",
    "El índice de las personas hace referencia a la lista `people`, si dicha persona vive en `A` y va a `B`, entonces el índice de ida hace referencia a la lista `flights[(A,B)]`, mientras que el índice de regreso hace referencia a la lista `flights[(B,A)]`.\n",
    "\n",
    "Todo esto puede sonar confuso, lo conveniente es elegir una representación lo suficientemente simple para que nuestros programas encuentren buenas soluciones, pero lo suficientemente complejo como para entender soluciones como personas.\n",
    "\n",
    "La siguiente función nos permite tomar un valor de solución e imprimir la información de forma legible."
   ]
  },
  {
   "cell_type": "code",
   "execution_count": 237,
   "id": "5210a474-3562-4f72-adc3-320b20228106",
   "metadata": {},
   "outputs": [],
   "source": [
    "def print_schedule(s):\n",
    "    for i in range(len(s) // 2):\n",
    "        name = people[i][0]\n",
    "        origin = people[i][1]\n",
    "        out = flights[(origin,destination)][s[2*i]]\n",
    "        ret = flights[(destination,origin)][s[2*i+1]]\n",
    "        print('%10s%10s %5s-%5s $%3s %5s-%5s $%3s' % (\n",
    "            name,\n",
    "            airports[people[i][1]][2],\n",
    "            out[0],out[1],out[2],\n",
    "            ret[0],ret[1],ret[2],\n",
    "        ))"
   ]
  },
  {
   "cell_type": "code",
   "execution_count": 238,
   "id": "858116d3",
   "metadata": {},
   "outputs": [
    {
     "name": "stdout",
     "output_type": "stream",
     "text": [
      "[7, 0, 2, 6, 5, 1, 7, 8, 1, 1, 7, 7]\n",
      "   Seymour    Boston 17:11-18:30 $108  6:39- 8:09 $ 86\n",
      "    Franny    Dallas  9:08-12:12 $364 15:49-20:10 $497\n",
      "     Zooey     Akron 13:40-15:38 $137  8:19-11:16 $122\n",
      "      Walt     Miami 17:07-20:04 $291 18:07-21:30 $355\n",
      "     Buddy   Chicago  8:25-10:34 $157  7:50-10:08 $164\n",
      "       Les     Omaha 16:51-19:09 $147 16:35-18:56 $144\n"
     ]
    }
   ],
   "source": [
    "# Soluición aleatoria:\n",
    "import random\n",
    "\n",
    "\n",
    "def random_sol():\n",
    "    solution_r=[]\n",
    "    for i in range(len(people)):\n",
    "        opciones_ida = flights[(people[i][1], \"LGA\")]\n",
    "        opciones_regreso = flights[(\"LGA\",people[i][1])]\n",
    "        \n",
    "        ida = random.randint(0, len(opciones_ida) - 1)\n",
    "        regreso = random.randint(0, len(opciones_regreso) - 1)\n",
    "        \n",
    "        solution_r.append(ida)\n",
    "        solution_r.append(regreso)\n",
    "    \n",
    "    return solution_r\n",
    "\n",
    "a = random_sol()\n",
    "\n",
    "print(a)\n",
    "\n",
    "print_schedule(a)"
   ]
  },
  {
   "cell_type": "code",
   "execution_count": 239,
   "id": "1a4a7019-9bc1-47ba-824b-f19c117b46a0",
   "metadata": {},
   "outputs": [
    {
     "name": "stdout",
     "output_type": "stream",
     "text": [
      "   Seymour    Boston  8:04-10:11 $ 95 12:08-14:05 $142\n",
      "    Franny    Dallas 10:30-14:57 $290  9:49-13:51 $229\n",
      "     Zooey     Akron 17:08-19:08 $262 10:32-13:16 $139\n",
      "      Walt     Miami 15:34-18:11 $326 11:08-14:38 $262\n",
      "     Buddy   Chicago  9:42-11:32 $169 12:08-14:47 $231\n",
      "       Les     Omaha 13:37-15:08 $250 11:07-13:24 $171\n"
     ]
    }
   ],
   "source": [
    "print_schedule([1,4,3,2,7,3,6,3,2,4,5,3])"
   ]
  },
  {
   "cell_type": "markdown",
   "id": "b2d1a632-3228-4762-b6a3-ff558471f687",
   "metadata": {},
   "source": [
    "Hasta ahora, hemos modelado este problema de forma computacional y tenemos codificaciones prácticas para razonar sobre personas, vuelos y tiempos.\n",
    "Sin embargo, podemos ver que la solución de ejemplo nos dice que Walt viaja desde Miami en el vuelo que parte a las 15:34 y regresa el mismo dia a las 11:08...\n",
    "\n",
    "Esta es una pésima solución... ¡es imposible!\n",
    "\n",
    "Para poder avanzar, necesitamos un criterio que nos permita comparar dos soluciones, claramente la que del ejemplo es pésima, pero ¿De qué forma podemos especificar que una solución es mejor que esta?"
   ]
  },
  {
   "cell_type": "markdown",
   "id": "9560a14c-1295-485f-80ce-8b1ef217a98d",
   "metadata": {},
   "source": [
    "## Función de costo\n",
    "\n",
    "![GIF costoso](https://media.giphy.com/media/yIxNOXEMpqkqA/giphy.gif)\n",
    "\n",
    "Vamos a definir una *función de costo*, de tal manera que el problema se va a reducir a encontrar un conjunto de entradas (vuelos en este caso) que minimice la función de costo, es decir, la que tenga el costo más bajo.\n",
    "\n",
    "Esta función de costo debe recibir una posible solución y darnos un valor numérico que nos indique qué tan mala es.\n",
    "\n",
    "Suele ser dificil determinar qué hace que una solución sea buena o mala cuando se involucran varios factores. Consideremos algunos candidatos para este problema:\n",
    "\n",
    "- Precio: El precio total de todos los vuelos de avión, o posiblemente un promedio ponderado que tome en cuenta la situación financiera de los familiares.\n",
    "- Tiempo de viaje: El tiempo total de viaje para todos los familiares.\n",
    "- Tiempo de espera: El tiempo que van a esperar en el aeropuerto a que lleguen los demás miembros de la familia.\n",
    "- Tiempo de salida: Los vuelos que salen demasiado temprano pueden imponer costo adicional a los pasajeros que no durmieron plenamente en la noche por llegar al aeropuerto.\n",
    "- Periodo de renta de carro: Si la familia renta un carro, deben regresarlo lo suficientemente temprano en el día para que no les cobren un día adicional.\n",
    "\n",
    "![GIF cansado](https://media.giphy.com/media/AgP9GXdpREaURYbxca/giphy.gif)\n",
    "\n",
    "Podemos imaginarnos otros factores que tomar en cuenta para nuestro problema particular.\n",
    "\n",
    "Una vez que determinamos el conjunto de factores que afectan nuestra noción de *costo*, debemos determinar cómo combinarlas en un número."
   ]
  },
  {
   "cell_type": "code",
   "execution_count": 240,
   "id": "e2387a5e",
   "metadata": {},
   "outputs": [
    {
     "data": {
      "text/plain": [
       "[1, 9, 2, 2, 7, 5, 5, 1, 5, 2, 7, 6]"
      ]
     },
     "execution_count": 240,
     "metadata": {},
     "output_type": "execute_result"
    }
   ],
   "source": [
    "a = random_sol()\n",
    "a"
   ]
  },
  {
   "cell_type": "code",
   "execution_count": 241,
   "id": "f330f4c6-0665-46d6-9dc9-ed1da6164478",
   "metadata": {},
   "outputs": [],
   "source": [
    "def schedule_cost(s):\n",
    "    # contamos el precio total de cada vuelo (ida y regreso)\n",
    "    total_price = 0\n",
    "    \n",
    "    # nos interesa conocer el tiempo de llegada a NY mas tarde\n",
    "    # y el tiempo de salida de NY mas temprano.\n",
    "    latest_arrival = 0\n",
    "    earliest_departure = 24 * 60\n",
    "    \n",
    "    for i in range(len(s) // 2):\n",
    "        origin = people[i][1]\n",
    "        out_flight = flights[(origin, destination)][s[2*i]]\n",
    "        ret_flight = flights[(destination, origin)][s[2*i+1]]\n",
    "        \n",
    "        total_price += out_flight[2] # vuelo de ida\n",
    "        total_price += ret_flight[2] # vuelo de regreso\n",
    "        \n",
    "        # tiempo de llegada máximo\n",
    "        # tiempo de salida mínimo\n",
    "        if latest_arrival < get_minutes(out_flight[1]):\n",
    "            latest_arrival = get_minutes(out_flight[1])\n",
    "        if earliest_departure > get_minutes(ret_flight[0]):\n",
    "            earliest_departure = get_minutes(ret_flight[0])\n",
    "    \n",
    "    # contamos el tiempo de espera de cada persona\n",
    "    total_wait = 0\n",
    "    \n",
    "    for i in range(len(s) // 2):\n",
    "        origin = people[i][1]\n",
    "        out_flight = flights[(origin, destination)][s[2*i]]\n",
    "        ret_flight = flights[(destination, origin)][s[2*i+1]]\n",
    "        \n",
    "        # todos esperan al último familiar en llegar\n",
    "        total_wait += latest_arrival - get_minutes(out_flight[1])\n",
    "        \n",
    "        # todos llegan al aeropuerto al mismo tiempo y esperan su vuelo\n",
    "        total_wait += get_minutes(ret_flight[0]) - earliest_departure\n",
    "        \n",
    "        # si el último en llegar a NY llega después del primero en\n",
    "        # irse de NY se paga un día más de la renta del carro.\n",
    "        # el costo de la renta por un día es independiente de la\n",
    "        # solución.\n",
    "        if latest_arrival > earliest_departure:\n",
    "            total_price += 50\n",
    "    \n",
    "    # El costo total es el precio total de los vuelos y el tiempo de\n",
    "    # espera total de las personas.\n",
    "    # Buscamos soluciones con un bajo costo.\n",
    "    return total_price + total_wait # Quizás dándole más peso a la espera y no al precio la solución sea más idonea... total_wait * 2..."
   ]
  },
  {
   "cell_type": "code",
   "execution_count": 242,
   "id": "f608b74b",
   "metadata": {},
   "outputs": [
    {
     "name": "stdout",
     "output_type": "stream",
     "text": [
      "3.19 ms ± 330 µs per loop (mean ± std. dev. of 7 runs, 100 loops each)\n"
     ]
    }
   ],
   "source": [
    "%%timeit\n",
    "lista_sol = []\n",
    "for i in range(10):\n",
    "    lista_sol.append(schedule_cost(random_sol()))\n",
    "\n",
    "# print(min(lista_sol))\n",
    "# print(max(lista_sol))"
   ]
  },
  {
   "cell_type": "markdown",
   "id": "a883bfab-61ff-4e4a-bc2a-a6bc4dadf091",
   "metadata": {},
   "source": [
    "Veamos qué tan malo es nuestro ejemplo con estos criterios de costo:"
   ]
  },
  {
   "cell_type": "code",
   "execution_count": 243,
   "id": "d37b9d47-d535-4c96-97fd-ef5cfed59a46",
   "metadata": {},
   "outputs": [
    {
     "data": {
      "text/plain": [
       "[('Seymour', 'BOS'),\n",
       " ('Franny', 'DAL'),\n",
       " ('Zooey', 'CAK'),\n",
       " ('Walt', 'MIA'),\n",
       " ('Buddy', 'ORD'),\n",
       " ('Les', 'OMA')]"
      ]
     },
     "execution_count": 243,
     "metadata": {},
     "output_type": "execute_result"
    }
   ],
   "source": [
    "people"
   ]
  },
  {
   "cell_type": "code",
   "execution_count": 244,
   "id": "b603bfb8-93a1-4b0f-82cf-9e661d4362bf",
   "metadata": {},
   "outputs": [
    {
     "data": {
      "text/plain": [
       "[('6:17', '8:26', 89),\n",
       " ('8:04', '10:11', 95),\n",
       " ('9:45', '11:50', 172),\n",
       " ('11:16', '13:29', 83),\n",
       " ('12:34', '15:02', 109),\n",
       " ('13:40', '15:37', 138),\n",
       " ('15:27', '17:18', 151),\n",
       " ('17:11', '18:30', 108),\n",
       " ('18:34', '19:36', 136),\n",
       " ('20:17', '22:22', 102)]"
      ]
     },
     "execution_count": 244,
     "metadata": {},
     "output_type": "execute_result"
    }
   ],
   "source": [
    "flights[('BOS', 'LGA')]"
   ]
  },
  {
   "cell_type": "code",
   "execution_count": 245,
   "id": "f7e3427e-dcde-442d-b0ad-7a8a962e7656",
   "metadata": {},
   "outputs": [
    {
     "data": {
      "text/plain": [
       "[('6:39', '8:09', 86),\n",
       " ('8:23', '10:28', 149),\n",
       " ('9:58', '11:18', 130),\n",
       " ('10:33', '12:03', 74),\n",
       " ('12:08', '14:05', 142),\n",
       " ('13:39', '15:30', 74),\n",
       " ('15:25', '16:58', 62),\n",
       " ('17:03', '18:03', 103),\n",
       " ('18:24', '20:49', 124),\n",
       " ('19:58', '21:23', 142)]"
      ]
     },
     "execution_count": 245,
     "metadata": {},
     "output_type": "execute_result"
    }
   ],
   "source": [
    "flights[('LGA', 'BOS')]"
   ]
  },
  {
   "cell_type": "code",
   "execution_count": 246,
   "id": "d632cf3f-501f-4b5a-973c-f24c5ace4577",
   "metadata": {},
   "outputs": [
    {
     "data": {
      "text/plain": [
       "4885"
      ]
     },
     "execution_count": 246,
     "metadata": {},
     "output_type": "execute_result"
    }
   ],
   "source": [
    "schedule_cost([1,4,3,2,7,3,6,3,2,4,5,3])"
   ]
  },
  {
   "cell_type": "markdown",
   "id": "f9ece466-7648-4b2b-8176-0c4d590753bc",
   "metadata": {},
   "source": [
    "## Buscar todas las soluciones"
   ]
  },
  {
   "cell_type": "markdown",
   "id": "2b3b588f-310d-4d50-8e9c-46a7e98d8a96",
   "metadata": {},
   "source": [
    "¡Perfecto! Ahora solo tenemos que considerar todas las combinaciones de vuelos para determinar cuál tiene el menor costo."
   ]
  },
  {
   "cell_type": "code",
   "execution_count": 247,
   "id": "ad1ec74d-9ce4-498a-990b-45a1cabde633",
   "metadata": {},
   "outputs": [
    {
     "name": "stdout",
     "output_type": "stream",
     "text": [
      "Hay 6 personas en la familia:\n",
      "- Seymour parte de Boston, tiene 10 opciones de salida y 10 opciones de regreso;\n",
      "- Franny parte de Dallas, tiene 10 opciones de salida y 10 opciones de regreso;\n",
      "- Zooey parte de Akron, tiene 10 opciones de salida y 10 opciones de regreso;\n",
      "- Walt parte de Miami, tiene 10 opciones de salida y 10 opciones de regreso;\n",
      "- Buddy parte de Chicago, tiene 10 opciones de salida y 10 opciones de regreso;\n",
      "- Les parte de Omaha, tiene 10 opciones de salida y 10 opciones de regreso;\n",
      "Por lo que hay un total de 1000000000000 posibles soluciones que analizar!\n",
      "\n",
      "\n",
      "¡Caracoles! esas son muchas soluciones\n"
     ]
    }
   ],
   "source": [
    "print(f\"Hay {len(people)} personas en la familia:\")\n",
    "total_solutions = 1\n",
    "for p in people:\n",
    "    name = p[0]\n",
    "    origin = airports[p[1]][2]\n",
    "    outs = len(flights[(p[1],destination)])\n",
    "    rets = len(flights[(destination,p[1])])\n",
    "    total_solutions *= outs\n",
    "    total_solutions *= rets\n",
    "    print(f\"- {name} parte de {origin}, tiene {outs} opciones de salida y {rets} opciones de regreso;\")\n",
    "print(f\"Por lo que hay un total de {total_solutions} posibles soluciones que analizar!\\n\\n\")\n",
    "\n",
    "if total_solutions > 1e9:\n",
    "    print(\"¡Caracoles! esas son muchas soluciones\")\n",
    "else:\n",
    "    print(\"Está facilito encontrar la mejor\")"
   ]
  },
  {
   "cell_type": "markdown",
   "id": "573f7748-5547-4a59-8c51-02a221b6d9a1",
   "metadata": {},
   "source": [
    "![GIF dolor](https://media.giphy.com/media/7T33BLlB7NQrjozoRB/giphy.gif)"
   ]
  },
  {
   "cell_type": "markdown",
   "id": "32705543-c06c-4350-903b-f931f1eaa36c",
   "metadata": {},
   "source": [
    "## Buscar aleatoriamente\n",
    "\n",
    "Veamos si podemos encontrar un buen resultado haciendo una búsqueda aleatoria en el espacio de soluciones.\n",
    "\n",
    "![GIF random](https://media.giphy.com/media/89Eko49m84Ja/giphy.gif)"
   ]
  },
  {
   "cell_type": "markdown",
   "id": "c71363ad-5e64-4e77-af5f-f8d0c6818715",
   "metadata": {},
   "source": [
    "Consideremos la función `solve_randomly` que toma dos parámetros:\n",
    "1. El *dominio* que consiste en una secuencia de tuplas `(min, max)` que establecen el valor mínimo y máximo que pueden tomar las entradas de las soluciones (de esta forma, codificamos el espacio de posibles soluciones de manera sucinta)\n",
    "2. Una función de *costo*, que toma una posible solución y nos regresa un valor numérico que queremos minimizar.\n",
    "\n",
    "Es importante observar que la cantidad de elementos en el dominio es igual a la cantidad de elementos en una solución.\n",
    "\n",
    "Vamos a generar de forma aleatoria soluciones y regresar aquella con el costo mas pequeño."
   ]
  },
  {
   "cell_type": "code",
   "execution_count": 248,
   "id": "aa233319-bac1-410f-a0c2-19704c440ff8",
   "metadata": {},
   "outputs": [],
   "source": [
    "sol = [1,4,3,2,7,3,6,3,2,4,5,3]"
   ]
  },
  {
   "cell_type": "code",
   "execution_count": 249,
   "id": "265e0d79-3e7a-4329-bb6d-6cec2d54ae77",
   "metadata": {},
   "outputs": [
    {
     "data": {
      "text/plain": [
       "('Seymour', 'BOS')"
      ]
     },
     "execution_count": 249,
     "metadata": {},
     "output_type": "execute_result"
    }
   ],
   "source": [
    "people[0]"
   ]
  },
  {
   "cell_type": "code",
   "execution_count": 250,
   "id": "3467f632-6dac-427e-9f39-fd5fde00c175",
   "metadata": {},
   "outputs": [
    {
     "data": {
      "text/plain": [
       "('Franny', 'DAL')"
      ]
     },
     "execution_count": 250,
     "metadata": {},
     "output_type": "execute_result"
    }
   ],
   "source": [
    "people[1]"
   ]
  },
  {
   "cell_type": "code",
   "execution_count": 251,
   "id": "dcec93cb-4588-4130-aeb2-08017c942098",
   "metadata": {},
   "outputs": [
    {
     "data": {
      "text/plain": [
       "[('6:33', '9:14', 172),\n",
       " ('8:23', '11:07', 143),\n",
       " ('9:25', '12:46', 295),\n",
       " ('11:08', '14:38', 262),\n",
       " ('12:37', '15:05', 170),\n",
       " ('14:08', '16:09', 232),\n",
       " ('15:23', '18:49', 150),\n",
       " ('16:50', '19:26', 304),\n",
       " ('18:07', '21:30', 355),\n",
       " ('20:27', '23:42', 169)]"
      ]
     },
     "execution_count": 251,
     "metadata": {},
     "output_type": "execute_result"
    }
   ],
   "source": [
    "flights[('LGA', 'MIA')]"
   ]
  },
  {
   "cell_type": "code",
   "execution_count": 252,
   "id": "4427f4dc-5b42-493f-b43c-cf888abb9d6d",
   "metadata": {},
   "outputs": [
    {
     "data": {
      "text/plain": [
       "[(0, 9),\n",
       " (0, 9),\n",
       " (0, 9),\n",
       " (0, 9),\n",
       " (0, 9),\n",
       " (0, 9),\n",
       " (0, 9),\n",
       " (0, 9),\n",
       " (0, 9),\n",
       " (0, 9),\n",
       " (0, 9),\n",
       " (0, 9)]"
      ]
     },
     "execution_count": 252,
     "metadata": {},
     "output_type": "execute_result"
    }
   ],
   "source": [
    "dom = [(0,9)]*12\n",
    "dom"
   ]
  },
  {
   "cell_type": "code",
   "execution_count": 253,
   "id": "23b19f16-1427-49bf-9347-ad4493fe295a",
   "metadata": {},
   "outputs": [],
   "source": [
    "def random_solution(domain):\n",
    "    return [\n",
    "        random.randint(r[0], r[1])\n",
    "        for r in domain\n",
    "    ]"
   ]
  },
  {
   "cell_type": "code",
   "execution_count": 254,
   "id": "d444219f-94b0-42dc-aa85-813531b24332",
   "metadata": {},
   "outputs": [
    {
     "data": {
      "text/plain": [
       "[0, 1, 5, 1, 2, 4, 6, 9, 8, 1, 8, 5]"
      ]
     },
     "execution_count": 254,
     "metadata": {},
     "output_type": "execute_result"
    }
   ],
   "source": [
    "random_solution(dom)\n",
    "\n",
    "# schedule_cost(random_solution(dom))"
   ]
  },
  {
   "cell_type": "code",
   "execution_count": 255,
   "id": "f0157691-070d-4538-a59d-209e15ddb1d2",
   "metadata": {},
   "outputs": [],
   "source": [
    "def solve_randomly(domain, cost_of, repeats = 1000):\n",
    "    best_cost = float('inf')\n",
    "    best_sol = None\n",
    "    \n",
    "    for _ in range(repeats):\n",
    "        s = random_solution(domain)\n",
    "        c = cost_of(s)\n",
    "        if c < best_cost:\n",
    "            best_cost = c\n",
    "            best_sol = s\n",
    "    \n",
    "    return best_sol"
   ]
  },
  {
   "cell_type": "code",
   "execution_count": 256,
   "id": "eb1dcf16-6bcc-445b-baaf-1a4532f2eb16",
   "metadata": {},
   "outputs": [
    {
     "data": {
      "text/plain": [
       "1000000000000"
      ]
     },
     "execution_count": 256,
     "metadata": {},
     "output_type": "execute_result"
    }
   ],
   "source": [
    "(10*10)**6"
   ]
  },
  {
   "cell_type": "code",
   "execution_count": 257,
   "id": "81dd0fde-9163-48ba-8927-2d71c61d5e9f",
   "metadata": {},
   "outputs": [],
   "source": [
    "domain = [(0,9)] * len(people) * 2"
   ]
  },
  {
   "cell_type": "code",
   "execution_count": 258,
   "id": "0037bdd8-98ac-42b8-acc4-04459426c2a5",
   "metadata": {},
   "outputs": [],
   "source": [
    "def test_randomly(repeats = 1000):\n",
    "    s = solve_randomly(\n",
    "        domain,\n",
    "        schedule_cost,\n",
    "        repeats\n",
    "    )\n",
    "    print_schedule(s)\n",
    "    print(f\"\\nCon costo {schedule_cost(s)}\")"
   ]
  },
  {
   "cell_type": "code",
   "execution_count": 259,
   "id": "93cf2a19-32f6-419c-b457-249ad415dd76",
   "metadata": {},
   "outputs": [
    {
     "name": "stdout",
     "output_type": "stream",
     "text": [
      "   Seymour    Boston 11:16-13:29 $ 83 10:33-12:03 $ 74\n",
      "    Franny    Dallas 10:30-14:57 $290  9:49-13:51 $229\n",
      "     Zooey     Akron 12:08-14:59 $149 10:32-13:16 $139\n",
      "      Walt     Miami  9:15-12:29 $225  9:25-12:46 $295\n",
      "     Buddy   Chicago 14:22-16:32 $126 12:08-14:47 $231\n",
      "       Les     Omaha 15:03-16:42 $135 11:07-13:24 $171\n",
      "\n",
      "Con costo 3535\n"
     ]
    }
   ],
   "source": [
    "test_randomly(100000)"
   ]
  },
  {
   "cell_type": "code",
   "execution_count": 260,
   "id": "9238a15c-e496-4a91-a0b7-18553fd739f3",
   "metadata": {},
   "outputs": [
    {
     "name": "stdout",
     "output_type": "stream",
     "text": [
      "   Seymour    Boston 12:34-15:02 $109 17:03-18:03 $103\n",
      "    Franny    Dallas 10:30-14:57 $290 14:20-17:32 $332\n",
      "     Zooey     Akron 12:08-14:59 $149 10:32-13:16 $139\n",
      "      Walt     Miami 12:05-15:30 $330 11:08-14:38 $262\n",
      "     Buddy   Chicago  8:25-10:34 $157 12:08-14:47 $231\n",
      "       Les     Omaha 15:03-16:42 $135 12:31-14:02 $234\n",
      "\n",
      "Con costo 4389\n",
      "351 ms ± 0 ns per loop (mean ± std. dev. of 1 run, 1 loop each)\n"
     ]
    }
   ],
   "source": [
    "%timeit -n 1 -r 1 test_randomly()"
   ]
  },
  {
   "cell_type": "code",
   "execution_count": 261,
   "id": "4c42ec33-4fcd-4e97-ba9f-c6cb498b9747",
   "metadata": {},
   "outputs": [
    {
     "name": "stdout",
     "output_type": "stream",
     "text": [
      "   Seymour    Boston 12:34-15:02 $109  8:23-10:28 $149\n",
      "    Franny    Dallas 10:30-14:57 $290  9:49-13:51 $229\n",
      "     Zooey     Akron 10:53-13:36 $189  8:19-11:16 $122\n",
      "      Walt     Miami 11:28-14:40 $248 11:08-14:38 $262\n",
      "     Buddy   Chicago 12:44-14:17 $134 10:33-13:11 $132\n",
      "       Les     Omaha 13:37-15:08 $250  8:04-10:59 $136\n",
      "\n",
      "Con costo 3210\n",
      "3.07 s ± 0 ns per loop (mean ± std. dev. of 1 run, 1 loop each)\n"
     ]
    }
   ],
   "source": [
    "%timeit -n 1 -r 1 test_randomly(int(1e4))"
   ]
  },
  {
   "cell_type": "code",
   "execution_count": 262,
   "id": "f7794cdc-fcc1-40bf-8fb1-ad8de21a0162",
   "metadata": {},
   "outputs": [
    {
     "name": "stdout",
     "output_type": "stream",
     "text": [
      "   Seymour    Boston 12:34-15:02 $109 13:39-15:30 $ 74\n",
      "    Franny    Dallas 12:19-15:25 $342 12:20-16:34 $500\n",
      "     Zooey     Akron 12:08-14:59 $149 13:37-15:33 $142\n",
      "      Walt     Miami 11:28-14:40 $248 12:37-15:05 $170\n",
      "     Buddy   Chicago  9:42-11:32 $169 17:06-20:00 $ 95\n",
      "       Les     Omaha 13:37-15:08 $250 16:35-18:56 $144\n",
      "\n",
      "Con costo 3750\n",
      "5.92 s ± 0 ns per loop (mean ± std. dev. of 1 run, 1 loop each)\n"
     ]
    }
   ],
   "source": [
    "%timeit -n 1 -r 1 test_randomly(int(2e4))"
   ]
  },
  {
   "cell_type": "code",
   "execution_count": 263,
   "id": "819c9d38-6824-4b26-94d8-61ee55357325",
   "metadata": {},
   "outputs": [
    {
     "data": {
      "text/plain": [
       "2e-06"
      ]
     },
     "execution_count": 263,
     "metadata": {},
     "output_type": "execute_result"
    }
   ],
   "source": [
    "100*int(2e4) / ((10*10)**6)"
   ]
  },
  {
   "cell_type": "markdown",
   "id": "b27d55bd-9fdd-4e74-9292-1991b65d2d41",
   "metadata": {},
   "source": [
    "## Pensando en nuestros alrededores\n",
    "\n",
    "\n",
    "Intentar obtener un buen resultado generando soluciones aleatorias es una ineficiente y pésima estrategia en este caso.\n",
    "\n",
    "Un problema obvio de el método es que no aprovecha la información de las mejores soluciones que ha generado para generar otras buenas soluciones.\n",
    "\n",
    "En nuestro problema particular, una solución con bajo costo es probablemente similar a otras soluciones con bajo costo.\n",
    "\n",
    "Vamos a incorporar esta idea implementando en Python un método alternativo llamado *descenso de colinas*. Comenzamos con una solución aleatoria y buscamos en la *vecindad* de la solución por aquellas que mejoran el costo.\n",
    "\n",
    "![GIF sisifo](https://media.giphy.com/media/xT0BKumCMrUb0dCypa/giphy.gif)\n",
    "\n",
    "Detendremos la búsqueda hasta llegar a una solución cuya vecindad no mejora el costo."
   ]
  },
  {
   "cell_type": "code",
   "execution_count": 264,
   "id": "86ba1238-1375-4258-945d-59e1f718655f",
   "metadata": {},
   "outputs": [],
   "source": [
    "def neighbors_of(s, domain):\n",
    "    neighbors = []\n",
    "    for i in range(len(domain)):\n",
    "        if s[i] > domain[i][0]:\n",
    "            neighbors.append(s[0:i] + [s[i] - 1] + s[i+1:])\n",
    "            #print(\"Mayor que: \", i)\n",
    "            #print(neighbors)\n",
    "        if s[i] < domain[i][1]:\n",
    "            neighbors.append(s[0:i] + [s[i] + 1] + s[i+1:])\n",
    "            #print(\"Menor que: \", i)\n",
    "            #print(neighbors)\n",
    "    return neighbors"
   ]
  },
  {
   "cell_type": "code",
   "execution_count": 265,
   "id": "73951260",
   "metadata": {},
   "outputs": [
    {
     "data": {
      "text/plain": [
       "[[2, 0, 0, 0, 0, 0, 0, 0, 0, 0, 0, 9],\n",
       " [4, 0, 0, 0, 0, 0, 0, 0, 0, 0, 0, 9],\n",
       " [3, 1, 0, 0, 0, 0, 0, 0, 0, 0, 0, 9],\n",
       " [3, 0, 1, 0, 0, 0, 0, 0, 0, 0, 0, 9],\n",
       " [3, 0, 0, 1, 0, 0, 0, 0, 0, 0, 0, 9],\n",
       " [3, 0, 0, 0, 1, 0, 0, 0, 0, 0, 0, 9],\n",
       " [3, 0, 0, 0, 0, 1, 0, 0, 0, 0, 0, 9],\n",
       " [3, 0, 0, 0, 0, 0, 1, 0, 0, 0, 0, 9],\n",
       " [3, 0, 0, 0, 0, 0, 0, 1, 0, 0, 0, 9],\n",
       " [3, 0, 0, 0, 0, 0, 0, 0, 1, 0, 0, 9],\n",
       " [3, 0, 0, 0, 0, 0, 0, 0, 0, 1, 0, 9],\n",
       " [3, 0, 0, 0, 0, 0, 0, 0, 0, 0, 1, 9],\n",
       " [3, 0, 0, 0, 0, 0, 0, 0, 0, 0, 0, 8]]"
      ]
     },
     "execution_count": 265,
     "metadata": {},
     "output_type": "execute_result"
    }
   ],
   "source": [
    "neighbors_of([3,0,0,0,0,0,0,0,0,0,0,9], domain)"
   ]
  },
  {
   "cell_type": "code",
   "execution_count": 266,
   "id": "b17cde09",
   "metadata": {},
   "outputs": [
    {
     "data": {
      "text/plain": [
       "9"
      ]
     },
     "execution_count": 266,
     "metadata": {},
     "output_type": "execute_result"
    }
   ],
   "source": [
    "len(domain)\n",
    "domain[2][1]"
   ]
  },
  {
   "cell_type": "markdown",
   "id": "f693619d-20dc-40f1-a3d9-0e214742f012",
   "metadata": {},
   "source": [
    "Este criterio de vecindad corresponde a todas las soluciones que están a distancia 1 (de acuerdo a Hamming).\n",
    "\n",
    "Veamos la lista de vecinos de nuestra solución de ejemplo:"
   ]
  },
  {
   "cell_type": "code",
   "execution_count": 267,
   "id": "41e9c722-abf4-44f1-960b-a2edeee6585c",
   "metadata": {},
   "outputs": [
    {
     "data": {
      "text/plain": [
       "[[0, 4, 3, 2, 7, 3, 6, 3, 2, 4, 5, 3],\n",
       " [2, 4, 3, 2, 7, 3, 6, 3, 2, 4, 5, 3],\n",
       " [1, 3, 3, 2, 7, 3, 6, 3, 2, 4, 5, 3],\n",
       " [1, 5, 3, 2, 7, 3, 6, 3, 2, 4, 5, 3],\n",
       " [1, 4, 2, 2, 7, 3, 6, 3, 2, 4, 5, 3],\n",
       " [1, 4, 4, 2, 7, 3, 6, 3, 2, 4, 5, 3],\n",
       " [1, 4, 3, 1, 7, 3, 6, 3, 2, 4, 5, 3],\n",
       " [1, 4, 3, 3, 7, 3, 6, 3, 2, 4, 5, 3],\n",
       " [1, 4, 3, 2, 6, 3, 6, 3, 2, 4, 5, 3],\n",
       " [1, 4, 3, 2, 8, 3, 6, 3, 2, 4, 5, 3],\n",
       " [1, 4, 3, 2, 7, 2, 6, 3, 2, 4, 5, 3],\n",
       " [1, 4, 3, 2, 7, 4, 6, 3, 2, 4, 5, 3],\n",
       " [1, 4, 3, 2, 7, 3, 5, 3, 2, 4, 5, 3],\n",
       " [1, 4, 3, 2, 7, 3, 7, 3, 2, 4, 5, 3],\n",
       " [1, 4, 3, 2, 7, 3, 6, 2, 2, 4, 5, 3],\n",
       " [1, 4, 3, 2, 7, 3, 6, 4, 2, 4, 5, 3],\n",
       " [1, 4, 3, 2, 7, 3, 6, 3, 1, 4, 5, 3],\n",
       " [1, 4, 3, 2, 7, 3, 6, 3, 3, 4, 5, 3],\n",
       " [1, 4, 3, 2, 7, 3, 6, 3, 2, 3, 5, 3],\n",
       " [1, 4, 3, 2, 7, 3, 6, 3, 2, 5, 5, 3],\n",
       " [1, 4, 3, 2, 7, 3, 6, 3, 2, 4, 4, 3],\n",
       " [1, 4, 3, 2, 7, 3, 6, 3, 2, 4, 6, 3],\n",
       " [1, 4, 3, 2, 7, 3, 6, 3, 2, 4, 5, 2],\n",
       " [1, 4, 3, 2, 7, 3, 6, 3, 2, 4, 5, 4]]"
      ]
     },
     "execution_count": 267,
     "metadata": {},
     "output_type": "execute_result"
    }
   ],
   "source": [
    "neighbors_of([1,4,3,2,7,3,6,3,2,4,5,3], domain)"
   ]
  },
  {
   "cell_type": "code",
   "execution_count": 268,
   "id": "7c991007",
   "metadata": {},
   "outputs": [
    {
     "data": {
      "text/plain": [
       "[[5, 0, 0, 0, 0, 0, 6, 0, 0, 0, 0, 0],\n",
       " [7, 0, 0, 0, 0, 0, 6, 0, 0, 0, 0, 0],\n",
       " [6, 1, 0, 0, 0, 0, 6, 0, 0, 0, 0, 0],\n",
       " [6, 0, 1, 0, 0, 0, 6, 0, 0, 0, 0, 0],\n",
       " [6, 0, 0, 1, 0, 0, 6, 0, 0, 0, 0, 0],\n",
       " [6, 0, 0, 0, 1, 0, 6, 0, 0, 0, 0, 0],\n",
       " [6, 0, 0, 0, 0, 1, 6, 0, 0, 0, 0, 0],\n",
       " [6, 0, 0, 0, 0, 0, 5, 0, 0, 0, 0, 0],\n",
       " [6, 0, 0, 0, 0, 0, 7, 0, 0, 0, 0, 0],\n",
       " [6, 0, 0, 0, 0, 0, 6, 1, 0, 0, 0, 0],\n",
       " [6, 0, 0, 0, 0, 0, 6, 0, 1, 0, 0, 0],\n",
       " [6, 0, 0, 0, 0, 0, 6, 0, 0, 1, 0, 0],\n",
       " [6, 0, 0, 0, 0, 0, 6, 0, 0, 0, 1, 0],\n",
       " [6, 0, 0, 0, 0, 0, 6, 0, 0, 0, 0, 1]]"
      ]
     },
     "execution_count": 268,
     "metadata": {},
     "output_type": "execute_result"
    }
   ],
   "source": [
    "neighbors_of([6,0,0,0,0,0,6,0,0,0,0,0], domain)"
   ]
  },
  {
   "cell_type": "code",
   "execution_count": 269,
   "id": "0c1f20e1",
   "metadata": {},
   "outputs": [],
   "source": [
    "# Revisar este método...\n",
    "\n",
    "def neighbour_of(s, domain):\n",
    "    neighbours = []\n",
    "    for i, x in enumerate(s):\n",
    "        for j in set(range(domain[i][0], domain[i][1] + 1)) - {x}:\n",
    "            neighbours.append(s[:i] + [j] + s[i + 1:])\n",
    "    return neighbours"
   ]
  },
  {
   "cell_type": "code",
   "execution_count": 270,
   "id": "030c5ddb",
   "metadata": {},
   "outputs": [
    {
     "data": {
      "text/plain": [
       "[[0, 0, 0, 0, 0, 0, 0, 0, 0, 0, 0, 9],\n",
       " [1, 0, 0, 0, 0, 0, 0, 0, 0, 0, 0, 9],\n",
       " [2, 0, 0, 0, 0, 0, 0, 0, 0, 0, 0, 9],\n",
       " [4, 0, 0, 0, 0, 0, 0, 0, 0, 0, 0, 9],\n",
       " [5, 0, 0, 0, 0, 0, 0, 0, 0, 0, 0, 9],\n",
       " [6, 0, 0, 0, 0, 0, 0, 0, 0, 0, 0, 9],\n",
       " [7, 0, 0, 0, 0, 0, 0, 0, 0, 0, 0, 9],\n",
       " [8, 0, 0, 0, 0, 0, 0, 0, 0, 0, 0, 9],\n",
       " [9, 0, 0, 0, 0, 0, 0, 0, 0, 0, 0, 9],\n",
       " [3, 1, 0, 0, 0, 0, 0, 0, 0, 0, 0, 9],\n",
       " [3, 2, 0, 0, 0, 0, 0, 0, 0, 0, 0, 9],\n",
       " [3, 3, 0, 0, 0, 0, 0, 0, 0, 0, 0, 9],\n",
       " [3, 4, 0, 0, 0, 0, 0, 0, 0, 0, 0, 9],\n",
       " [3, 5, 0, 0, 0, 0, 0, 0, 0, 0, 0, 9],\n",
       " [3, 6, 0, 0, 0, 0, 0, 0, 0, 0, 0, 9],\n",
       " [3, 7, 0, 0, 0, 0, 0, 0, 0, 0, 0, 9],\n",
       " [3, 8, 0, 0, 0, 0, 0, 0, 0, 0, 0, 9],\n",
       " [3, 9, 0, 0, 0, 0, 0, 0, 0, 0, 0, 9],\n",
       " [3, 0, 1, 0, 0, 0, 0, 0, 0, 0, 0, 9],\n",
       " [3, 0, 2, 0, 0, 0, 0, 0, 0, 0, 0, 9],\n",
       " [3, 0, 3, 0, 0, 0, 0, 0, 0, 0, 0, 9],\n",
       " [3, 0, 4, 0, 0, 0, 0, 0, 0, 0, 0, 9],\n",
       " [3, 0, 5, 0, 0, 0, 0, 0, 0, 0, 0, 9],\n",
       " [3, 0, 6, 0, 0, 0, 0, 0, 0, 0, 0, 9],\n",
       " [3, 0, 7, 0, 0, 0, 0, 0, 0, 0, 0, 9],\n",
       " [3, 0, 8, 0, 0, 0, 0, 0, 0, 0, 0, 9],\n",
       " [3, 0, 9, 0, 0, 0, 0, 0, 0, 0, 0, 9],\n",
       " [3, 0, 0, 1, 0, 0, 0, 0, 0, 0, 0, 9],\n",
       " [3, 0, 0, 2, 0, 0, 0, 0, 0, 0, 0, 9],\n",
       " [3, 0, 0, 3, 0, 0, 0, 0, 0, 0, 0, 9],\n",
       " [3, 0, 0, 4, 0, 0, 0, 0, 0, 0, 0, 9],\n",
       " [3, 0, 0, 5, 0, 0, 0, 0, 0, 0, 0, 9],\n",
       " [3, 0, 0, 6, 0, 0, 0, 0, 0, 0, 0, 9],\n",
       " [3, 0, 0, 7, 0, 0, 0, 0, 0, 0, 0, 9],\n",
       " [3, 0, 0, 8, 0, 0, 0, 0, 0, 0, 0, 9],\n",
       " [3, 0, 0, 9, 0, 0, 0, 0, 0, 0, 0, 9],\n",
       " [3, 0, 0, 0, 1, 0, 0, 0, 0, 0, 0, 9],\n",
       " [3, 0, 0, 0, 2, 0, 0, 0, 0, 0, 0, 9],\n",
       " [3, 0, 0, 0, 3, 0, 0, 0, 0, 0, 0, 9],\n",
       " [3, 0, 0, 0, 4, 0, 0, 0, 0, 0, 0, 9],\n",
       " [3, 0, 0, 0, 5, 0, 0, 0, 0, 0, 0, 9],\n",
       " [3, 0, 0, 0, 6, 0, 0, 0, 0, 0, 0, 9],\n",
       " [3, 0, 0, 0, 7, 0, 0, 0, 0, 0, 0, 9],\n",
       " [3, 0, 0, 0, 8, 0, 0, 0, 0, 0, 0, 9],\n",
       " [3, 0, 0, 0, 9, 0, 0, 0, 0, 0, 0, 9],\n",
       " [3, 0, 0, 0, 0, 1, 0, 0, 0, 0, 0, 9],\n",
       " [3, 0, 0, 0, 0, 2, 0, 0, 0, 0, 0, 9],\n",
       " [3, 0, 0, 0, 0, 3, 0, 0, 0, 0, 0, 9],\n",
       " [3, 0, 0, 0, 0, 4, 0, 0, 0, 0, 0, 9],\n",
       " [3, 0, 0, 0, 0, 5, 0, 0, 0, 0, 0, 9],\n",
       " [3, 0, 0, 0, 0, 6, 0, 0, 0, 0, 0, 9],\n",
       " [3, 0, 0, 0, 0, 7, 0, 0, 0, 0, 0, 9],\n",
       " [3, 0, 0, 0, 0, 8, 0, 0, 0, 0, 0, 9],\n",
       " [3, 0, 0, 0, 0, 9, 0, 0, 0, 0, 0, 9],\n",
       " [3, 0, 0, 0, 0, 0, 1, 0, 0, 0, 0, 9],\n",
       " [3, 0, 0, 0, 0, 0, 2, 0, 0, 0, 0, 9],\n",
       " [3, 0, 0, 0, 0, 0, 3, 0, 0, 0, 0, 9],\n",
       " [3, 0, 0, 0, 0, 0, 4, 0, 0, 0, 0, 9],\n",
       " [3, 0, 0, 0, 0, 0, 5, 0, 0, 0, 0, 9],\n",
       " [3, 0, 0, 0, 0, 0, 6, 0, 0, 0, 0, 9],\n",
       " [3, 0, 0, 0, 0, 0, 7, 0, 0, 0, 0, 9],\n",
       " [3, 0, 0, 0, 0, 0, 8, 0, 0, 0, 0, 9],\n",
       " [3, 0, 0, 0, 0, 0, 9, 0, 0, 0, 0, 9],\n",
       " [3, 0, 0, 0, 0, 0, 0, 1, 0, 0, 0, 9],\n",
       " [3, 0, 0, 0, 0, 0, 0, 2, 0, 0, 0, 9],\n",
       " [3, 0, 0, 0, 0, 0, 0, 3, 0, 0, 0, 9],\n",
       " [3, 0, 0, 0, 0, 0, 0, 4, 0, 0, 0, 9],\n",
       " [3, 0, 0, 0, 0, 0, 0, 5, 0, 0, 0, 9],\n",
       " [3, 0, 0, 0, 0, 0, 0, 6, 0, 0, 0, 9],\n",
       " [3, 0, 0, 0, 0, 0, 0, 7, 0, 0, 0, 9],\n",
       " [3, 0, 0, 0, 0, 0, 0, 8, 0, 0, 0, 9],\n",
       " [3, 0, 0, 0, 0, 0, 0, 9, 0, 0, 0, 9],\n",
       " [3, 0, 0, 0, 0, 0, 0, 0, 1, 0, 0, 9],\n",
       " [3, 0, 0, 0, 0, 0, 0, 0, 2, 0, 0, 9],\n",
       " [3, 0, 0, 0, 0, 0, 0, 0, 3, 0, 0, 9],\n",
       " [3, 0, 0, 0, 0, 0, 0, 0, 4, 0, 0, 9],\n",
       " [3, 0, 0, 0, 0, 0, 0, 0, 5, 0, 0, 9],\n",
       " [3, 0, 0, 0, 0, 0, 0, 0, 6, 0, 0, 9],\n",
       " [3, 0, 0, 0, 0, 0, 0, 0, 7, 0, 0, 9],\n",
       " [3, 0, 0, 0, 0, 0, 0, 0, 8, 0, 0, 9],\n",
       " [3, 0, 0, 0, 0, 0, 0, 0, 9, 0, 0, 9],\n",
       " [3, 0, 0, 0, 0, 0, 0, 0, 0, 1, 0, 9],\n",
       " [3, 0, 0, 0, 0, 0, 0, 0, 0, 2, 0, 9],\n",
       " [3, 0, 0, 0, 0, 0, 0, 0, 0, 3, 0, 9],\n",
       " [3, 0, 0, 0, 0, 0, 0, 0, 0, 4, 0, 9],\n",
       " [3, 0, 0, 0, 0, 0, 0, 0, 0, 5, 0, 9],\n",
       " [3, 0, 0, 0, 0, 0, 0, 0, 0, 6, 0, 9],\n",
       " [3, 0, 0, 0, 0, 0, 0, 0, 0, 7, 0, 9],\n",
       " [3, 0, 0, 0, 0, 0, 0, 0, 0, 8, 0, 9],\n",
       " [3, 0, 0, 0, 0, 0, 0, 0, 0, 9, 0, 9],\n",
       " [3, 0, 0, 0, 0, 0, 0, 0, 0, 0, 1, 9],\n",
       " [3, 0, 0, 0, 0, 0, 0, 0, 0, 0, 2, 9],\n",
       " [3, 0, 0, 0, 0, 0, 0, 0, 0, 0, 3, 9],\n",
       " [3, 0, 0, 0, 0, 0, 0, 0, 0, 0, 4, 9],\n",
       " [3, 0, 0, 0, 0, 0, 0, 0, 0, 0, 5, 9],\n",
       " [3, 0, 0, 0, 0, 0, 0, 0, 0, 0, 6, 9],\n",
       " [3, 0, 0, 0, 0, 0, 0, 0, 0, 0, 7, 9],\n",
       " [3, 0, 0, 0, 0, 0, 0, 0, 0, 0, 8, 9],\n",
       " [3, 0, 0, 0, 0, 0, 0, 0, 0, 0, 9, 9],\n",
       " [3, 0, 0, 0, 0, 0, 0, 0, 0, 0, 0, 0],\n",
       " [3, 0, 0, 0, 0, 0, 0, 0, 0, 0, 0, 1],\n",
       " [3, 0, 0, 0, 0, 0, 0, 0, 0, 0, 0, 2],\n",
       " [3, 0, 0, 0, 0, 0, 0, 0, 0, 0, 0, 3],\n",
       " [3, 0, 0, 0, 0, 0, 0, 0, 0, 0, 0, 4],\n",
       " [3, 0, 0, 0, 0, 0, 0, 0, 0, 0, 0, 5],\n",
       " [3, 0, 0, 0, 0, 0, 0, 0, 0, 0, 0, 6],\n",
       " [3, 0, 0, 0, 0, 0, 0, 0, 0, 0, 0, 7],\n",
       " [3, 0, 0, 0, 0, 0, 0, 0, 0, 0, 0, 8]]"
      ]
     },
     "execution_count": 270,
     "metadata": {},
     "output_type": "execute_result"
    }
   ],
   "source": [
    "neighbour_of([3,0,0,0,0,0,0,0,0,0,0,9], domain)"
   ]
  },
  {
   "cell_type": "code",
   "execution_count": 271,
   "id": "27d48894-cd55-4e4a-a311-6bbf1fd13616",
   "metadata": {},
   "outputs": [],
   "source": [
    "def solve_hillclimbing(domain, cost_of):\n",
    "    s = random_solution(domain)\n",
    "\n",
    "    while True:\n",
    "        neighbors = neighbors_of(s, domain)\n",
    "        cost = cost_of(s)\n",
    "        best_neighbor = min(neighbors, key=cost_of)\n",
    "        neighbor_cost = cost_of(best_neighbor)\n",
    "        \n",
    "        if cost < neighbor_cost:\n",
    "            return s\n",
    "        \n",
    "        s = best_neighbor\n"
   ]
  },
  {
   "cell_type": "code",
   "execution_count": 272,
   "id": "4fe442d1-1214-42b6-a737-cef2c036967d",
   "metadata": {},
   "outputs": [],
   "source": [
    "def test_hillclimbing():\n",
    "    s = solve_hillclimbing(\n",
    "        domain,\n",
    "        schedule_cost,\n",
    "    )\n",
    "    print_schedule(s)\n",
    "    print(f\"\\nCon costo {schedule_cost(s)}\")"
   ]
  },
  {
   "cell_type": "code",
   "execution_count": 273,
   "id": "992f9b6c-c05d-4b7e-a09c-0dd3ecf5e763",
   "metadata": {},
   "outputs": [
    {
     "name": "stdout",
     "output_type": "stream",
     "text": [
      "   Seymour    Boston  9:45-11:50 $172  8:23-10:28 $149\n",
      "    Franny    Dallas  6:12-10:22 $230  9:49-13:51 $229\n",
      "     Zooey     Akron  8:27-10:45 $139  8:19-11:16 $122\n",
      "      Walt     Miami  9:15-12:29 $225  8:23-11:07 $143\n",
      "     Buddy   Chicago  9:42-11:32 $169  7:50-10:08 $164\n",
      "       Les     Omaha  9:15-12:03 $ 99  8:04-10:59 $136\n",
      "\n",
      "Con costo 2858\n"
     ]
    }
   ],
   "source": [
    "test_hillclimbing()"
   ]
  },
  {
   "cell_type": "code",
   "execution_count": 274,
   "id": "dd1d70e2-c83b-4bbf-80e7-792f65b14a3b",
   "metadata": {},
   "outputs": [
    {
     "name": "stdout",
     "output_type": "stream",
     "text": [
      "   Seymour    Boston 17:11-18:30 $108 10:33-12:03 $ 74\n",
      "    Franny    Dallas 10:30-14:57 $290 10:51-14:16 $256\n",
      "     Zooey     Akron 17:08-19:08 $262 10:32-13:16 $139\n",
      "      Walt     Miami 11:28-14:40 $248 12:37-15:05 $170\n",
      "     Buddy   Chicago 15:58-18:40 $173 10:33-13:11 $132\n",
      "       Les     Omaha 16:51-19:09 $147 11:07-13:24 $171\n",
      "\n",
      "Con costo 3241\n",
      "203 ms ± 0 ns per loop (mean ± std. dev. of 1 run, 1 loop each)\n"
     ]
    }
   ],
   "source": [
    "%timeit -n 1 -r 1 test_hillclimbing()"
   ]
  },
  {
   "cell_type": "markdown",
   "id": "46b286d2-76f3-409e-8526-82af55e0b01f",
   "metadata": {},
   "source": [
    "## Calentando los motores\n",
    "\n",
    "Un problema del método de descenso de colinas es que una vez que se llega a un mínimo local, se deja de buscar. Sin embargo, este mínimo local puede corresponder a una pésima solución.\n",
    "\n",
    "Podemos perturbar la búsqueda con un método llamado *recocido simulado*.\n",
    "\n",
    "![GIF forjar](https://media.giphy.com/media/NpILbqtmLO1Qkfvc4f/giphy.gif)\n",
    "\n",
    "Este método consiste en partir de un estado caliente, en donde es probable seguir un vecino con peor costo. Poco a poco, la temperatura del sistema baja, de tal forma que cada vez es menos probable elegir un peor vecino. Eventualmente, la temperatura es suficientemente baja como para detener la búsqueda.\n",
    "\n",
    "Esto nos permite introducir una probabilidad variable para evitar algunos mínimos locales.\n",
    "\n",
    "La estrategia es la siguiente: comenzamos con una solución aleatoria y una temperatura alta, tomamos un vecino aleatorio y analizamos los casos:\n",
    "1. Si el vecino tiene menor costo $c'$ que la solución actual con costo $c$, elegimos al vecino como nueva solución\n",
    "2. Si no es el caso, elegimos al vecino como nueva solución con probabilidad $$\\mathrm{e}^{(c-c')/T}$$"
   ]
  },
  {
   "cell_type": "code",
   "execution_count": 275,
   "id": "b05a77ad",
   "metadata": {},
   "outputs": [
    {
     "data": {
      "text/plain": [
       "2.0"
      ]
     },
     "execution_count": 275,
     "metadata": {},
     "output_type": "execute_result"
    }
   ],
   "source": [
    "4**1/2"
   ]
  },
  {
   "cell_type": "code",
   "execution_count": 276,
   "id": "39a3cc38-727f-4edc-9b65-ee12634e8bc4",
   "metadata": {},
   "outputs": [],
   "source": [
    "def solve_annealing(domain, cost_of, Ti=10000.0, Tf=0.1, alpha=0.95):\n",
    "    solution = random_solution(domain)\n",
    "    cost = cost_of(solution)\n",
    "    T = Ti\n",
    "    while T > Tf:\n",
    "        neighbor = random.choice(neighbors_of(solution, domain))\n",
    "        neighbor_cost = cost_of(neighbor)\n",
    "        diff = cost - neighbor_cost\n",
    "        if diff > 0 or random.random() < math.exp(diff / T):\n",
    "            solution = neighbor\n",
    "            cost = neighbor_cost\n",
    "        T = alpha*T\n",
    "    \n",
    "    return solution"
   ]
  },
  {
   "cell_type": "code",
   "execution_count": 277,
   "id": "605d2dfb-0272-4db1-993a-b8f8c5c56677",
   "metadata": {},
   "outputs": [],
   "source": [
    "def test_annealing(Ti=100000.0, Tf=0.1, alpha=0.95):\n",
    "    s = solve_annealing(\n",
    "        domain,\n",
    "        schedule_cost,\n",
    "        Ti, Tf, alpha,\n",
    "    )\n",
    "    print_schedule(s)\n",
    "    print(f\"\\nCon costo {schedule_cost(s)}\")"
   ]
  },
  {
   "cell_type": "code",
   "execution_count": 278,
   "id": "22b291b1-0082-4b8a-aa25-043066578bc2",
   "metadata": {},
   "outputs": [
    {
     "name": "stdout",
     "output_type": "stream",
     "text": [
      "   Seymour    Boston 12:34-15:02 $109 10:33-12:03 $ 74\n",
      "    Franny    Dallas 10:30-14:57 $290 10:51-14:16 $256\n",
      "     Zooey     Akron 12:08-14:59 $149 10:32-13:16 $139\n",
      "      Walt     Miami 11:28-14:40 $248 12:37-15:05 $170\n",
      "     Buddy   Chicago 12:44-14:17 $134 10:33-13:11 $132\n",
      "       Les     Omaha 12:18-14:56 $172 15:07-17:21 $129\n",
      "\n",
      "Con costo 2804\n",
      "88 ms ± 0 ns per loop (mean ± std. dev. of 1 run, 1 loop each)\n"
     ]
    }
   ],
   "source": [
    "%timeit -n 1 -r 1 test_annealing(Ti=10000.0, Tf=0.1, alpha=0.95)"
   ]
  },
  {
   "cell_type": "code",
   "execution_count": 279,
   "id": "28a26034-740b-4631-b893-be3d69ed96bb",
   "metadata": {},
   "outputs": [
    {
     "name": "stdout",
     "output_type": "stream",
     "text": [
      "   Seymour    Boston 18:34-19:36 $136 15:25-16:58 $ 62\n",
      "    Franny    Dallas 18:26-21:29 $464 17:14-20:59 $277\n",
      "     Zooey     Akron 18:35-20:28 $204 15:50-18:45 $243\n",
      "      Walt     Miami 18:23-21:35 $134 15:23-18:49 $150\n",
      "     Buddy   Chicago 18:48-21:45 $246 15:04-17:23 $189\n",
      "       Les     Omaha 12:18-14:56 $172 15:07-17:21 $129\n",
      "\n",
      "Con costo 3566\n",
      "369 ms ± 0 ns per loop (mean ± std. dev. of 1 run, 1 loop each)\n"
     ]
    }
   ],
   "source": [
    "%timeit -n 1 -r 1 test_annealing(Ti=10000.0, Tf=0.1, alpha=0.99)"
   ]
  },
  {
   "cell_type": "code",
   "execution_count": 280,
   "id": "5d150ece-7bd0-4df0-a4c7-09d90e8df8e0",
   "metadata": {},
   "outputs": [
    {
     "name": "stdout",
     "output_type": "stream",
     "text": [
      "   Seymour    Boston 12:34-15:02 $109  8:23-10:28 $149\n",
      "    Franny    Dallas 10:30-14:57 $290  9:49-13:51 $229\n",
      "     Zooey     Akron 12:08-14:59 $149 13:37-15:33 $142\n",
      "      Walt     Miami 11:28-14:40 $248  8:23-11:07 $143\n",
      "     Buddy   Chicago 12:44-14:17 $134  7:50-10:08 $164\n",
      "       Les     Omaha 12:18-14:56 $172  8:04-10:59 $136\n",
      "\n",
      "Con costo 2992\n",
      "438 ms ± 0 ns per loop (mean ± std. dev. of 1 run, 1 loop each)\n"
     ]
    }
   ],
   "source": [
    "%timeit -n 1 -r 1 test_annealing(Ti=100000.0, Tf=0.1, alpha=0.99)"
   ]
  },
  {
   "cell_type": "code",
   "execution_count": 281,
   "id": "a6290fe3-21a0-4a4d-bdb6-b66705e62eb1",
   "metadata": {},
   "outputs": [
    {
     "name": "stdout",
     "output_type": "stream",
     "text": [
      "   Seymour    Boston  9:45-11:50 $172 10:33-12:03 $ 74\n",
      "    Franny    Dallas  6:12-10:22 $230 10:51-14:16 $256\n",
      "     Zooey     Akron  8:27-10:45 $139 13:37-15:33 $142\n",
      "      Walt     Miami  9:15-12:29 $225 12:37-15:05 $170\n",
      "     Buddy   Chicago  9:42-11:32 $169 10:33-13:11 $132\n",
      "       Les     Omaha  9:15-12:03 $ 99 11:07-13:24 $171\n",
      "\n",
      "Con costo 2992\n",
      "486 ms ± 0 ns per loop (mean ± std. dev. of 1 run, 1 loop each)\n"
     ]
    }
   ],
   "source": [
    "%timeit -n 1 -r 1 test_annealing(Ti=1000000.0, Tf=0.1, alpha=0.99)"
   ]
  },
  {
   "cell_type": "code",
   "execution_count": 282,
   "id": "95c5550b-2b1a-4026-a667-9439d11616b0",
   "metadata": {},
   "outputs": [
    {
     "name": "stdout",
     "output_type": "stream",
     "text": [
      "   Seymour    Boston 13:40-15:37 $138 15:25-16:58 $ 62\n",
      "    Franny    Dallas 10:30-14:57 $290 17:14-20:59 $277\n",
      "     Zooey     Akron 13:40-15:38 $137 15:50-18:45 $243\n",
      "      Walt     Miami 11:28-14:40 $248 15:23-18:49 $150\n",
      "     Buddy   Chicago 14:22-16:32 $126 15:04-17:23 $189\n",
      "       Les     Omaha 15:03-16:42 $135 15:07-17:21 $129\n",
      "\n",
      "Con costo 3009\n",
      "4.96 s ± 0 ns per loop (mean ± std. dev. of 1 run, 1 loop each)\n"
     ]
    }
   ],
   "source": [
    "%timeit -n 1 -r 1 test_annealing(Ti=1000000.0, Tf=0.1, alpha=0.999)"
   ]
  },
  {
   "cell_type": "markdown",
   "id": "6fe15357-5be7-4a87-9452-794fdd27d2b7",
   "metadata": {},
   "source": [
    "## ¿Evolución al rescate?\n",
    "\n",
    "![GIF darwin](https://media.giphy.com/media/VFAke5Xm1TDwjgimyW/giphy.gif)\n",
    "\n",
    "Ahora vamos a considerar otro método, que al igual que el recocido simulado está inspirado en la naturaleza, pero no en la física, si no en la biología.\n",
    "\n",
    "Primero se crea un conjunto de soluciones aleatorias, conocidas como *la población*. En cada paso del método, la función de costo para cada solución en la población es calculada, esto nos permite ordenar las soluciones de mejor a peor.\n",
    "\n",
    "Posteriormente, una nueva población es generada a partir de la actual: Las mejores soluciones de la actual se conservan tal cuál (*elitismo*). El resto de la población, va a ser modificada para obtener la nueva población.\n",
    "\n",
    "Hay dos formas en que las soluciones pueden ser modificadas. La mas simple es llamada *mutación* y consiste en un pequeño y simple cambio aleatorio a la solución actual. Esto sería similar a elegir un vecino de forma aleatoria.\n",
    "\n",
    "Otra manera de modificar las soluciones es llamado *cruza*, consiste en tomar dos soluciones de las mejores y combinarlas de alguna manera. Una forma simple de combinarlas es tomar una cantidad aleatoria de elementos de una buena solución y acompletar los elementos que faltan con otra buena solución.\n",
    "\n",
    "Una vez que se obtiene la nueva población, el proceso continúa."
   ]
  },
  {
   "cell_type": "code",
   "execution_count": 283,
   "id": "55be0060-ba5b-4f55-b72c-0eaa63031a2c",
   "metadata": {},
   "outputs": [],
   "source": [
    "def mutate(s, domain):\n",
    "    return random.choice(neighbors_of(s, domain))"
   ]
  },
  {
   "cell_type": "code",
   "execution_count": 284,
   "id": "160c2d37-231a-412c-9ca0-0f32acbb9b84",
   "metadata": {},
   "outputs": [],
   "source": [
    "def crossover(s1, s2):\n",
    "    i = random.randint(1, len(s1)-2)\n",
    "    return s1[:i] + s2[i:]"
   ]
  },
  {
   "cell_type": "code",
   "execution_count": 285,
   "id": "e8d1c702-0cea-46f0-9000-b82dcca80411",
   "metadata": {},
   "outputs": [],
   "source": [
    "def solve_evolving(domain, cost_of, pop_size=50, mut_prob=0.2, elite=0.2, epochs=100):\n",
    "    pop = [random_solution(domain) for _ in range(pop_size)]\n",
    "    top_elite = int(elite * pop_size)\n",
    "    \n",
    "    for epoch in range(epochs):\n",
    "        pop.sort(key=cost_of)\n",
    "        best = pop[:top_elite]\n",
    "        while len(best) < pop_size:\n",
    "            if random.random() < mut_prob:\n",
    "                best.append(mutate(\n",
    "                    best[random.randint(0, top_elite-1)],\n",
    "                    domain\n",
    "                ))\n",
    "            else:\n",
    "                best.append(crossover(\n",
    "                    best[random.randint(0, top_elite-1)],\n",
    "                    best[random.randint(0, top_elite-1)],\n",
    "                ))\n",
    "        pop = best\n",
    "    pop.sort(key=cost_of)\n",
    "    return pop[0]"
   ]
  },
  {
   "cell_type": "code",
   "execution_count": 286,
   "id": "a81beb6c-3755-43ee-8c23-9fedb0044a4f",
   "metadata": {},
   "outputs": [],
   "source": [
    "def test_evolving(pop_size=50, mut_prob=0.2, elite=0.2, epochs=100):\n",
    "    s = solve_evolving(\n",
    "        domain,\n",
    "        schedule_cost,\n",
    "        pop_size, mut_prob,\n",
    "        elite, epochs,\n",
    "    )\n",
    "    print_schedule(s)\n",
    "    print(f\"\\nCon costo {schedule_cost(s)}\")"
   ]
  },
  {
   "cell_type": "code",
   "execution_count": 287,
   "id": "27c8bc52-78dd-4565-a695-d241b5ba56f3",
   "metadata": {},
   "outputs": [
    {
     "name": "stdout",
     "output_type": "stream",
     "text": [
      "   Seymour    Boston 20:17-22:22 $102 13:39-15:30 $ 74\n",
      "    Franny    Dallas 18:26-21:29 $464 17:14-20:59 $277\n",
      "     Zooey     Akron 18:35-20:28 $204 13:37-15:33 $142\n",
      "      Walt     Miami 19:53-22:21 $173 15:23-18:49 $150\n",
      "     Buddy   Chicago 19:50-22:24 $269 14:19-17:09 $190\n",
      "       Les     Omaha 16:51-19:09 $147 15:07-17:21 $129\n",
      "\n",
      "Con costo 3449\n",
      "1.28 s ± 0 ns per loop (mean ± std. dev. of 1 run, 1 loop each)\n"
     ]
    }
   ],
   "source": [
    "%timeit -r 1 -n 1 test_evolving(50, 0.2, 0.2, 100)"
   ]
  },
  {
   "cell_type": "code",
   "execution_count": 288,
   "id": "a3ffd767-5d22-4d38-b98c-660a60c3578f",
   "metadata": {},
   "outputs": [
    {
     "name": "stdout",
     "output_type": "stream",
     "text": [
      "   Seymour    Boston 17:11-18:30 $108 10:33-12:03 $ 74\n",
      "    Franny    Dallas 13:54-18:02 $294 10:51-14:16 $256\n",
      "     Zooey     Akron 17:08-19:08 $262 10:32-13:16 $139\n",
      "      Walt     Miami 11:28-14:40 $248 15:23-18:49 $150\n",
      "     Buddy   Chicago 15:58-18:40 $173 10:33-13:11 $132\n",
      "       Les     Omaha 16:51-19:09 $147 11:07-13:24 $171\n",
      "\n",
      "Con costo 3206\n",
      "2.76 s ± 0 ns per loop (mean ± std. dev. of 1 run, 1 loop each)\n"
     ]
    }
   ],
   "source": [
    "%timeit -r 1 -n 1 test_evolving(50, 0.2, 0.2, 200)"
   ]
  },
  {
   "cell_type": "code",
   "execution_count": 289,
   "id": "2e155b6d-ee83-49bf-b54c-cda80946eac9",
   "metadata": {},
   "outputs": [
    {
     "name": "stdout",
     "output_type": "stream",
     "text": [
      "   Seymour    Boston 17:11-18:30 $108  8:23-10:28 $149\n",
      "    Franny    Dallas 13:54-18:02 $294  9:49-13:51 $229\n",
      "     Zooey     Akron 15:23-17:25 $232  8:19-11:16 $122\n",
      "      Walt     Miami 15:34-18:11 $326  8:23-11:07 $143\n",
      "     Buddy   Chicago 15:58-18:40 $173  7:50-10:08 $164\n",
      "       Les     Omaha 15:03-16:42 $135  8:04-10:59 $136\n",
      "\n",
      "Con costo 3009\n",
      "5.32 s ± 0 ns per loop (mean ± std. dev. of 1 run, 1 loop each)\n"
     ]
    }
   ],
   "source": [
    "%timeit -r 1 -n 1 test_evolving(200, 0.2, 0.2, 100)"
   ]
  },
  {
   "cell_type": "markdown",
   "id": "934270c7-fd51-4554-ade8-34416f05f687",
   "metadata": {},
   "source": [
    "# La tarea\n",
    "\n",
    "1. Modela este problema utilizando técnicas de orientado a objetos.\n",
    "2. Explora los parámetros y la función costo de este problema, intenta encontrar mejores valores para resolver el problema.\n",
    "\n",
    "Explorados...\n",
    "\n",
    "3. Elige un problema distinto, y modela las posibles soluciones del problema para utilizar los métodos discutidos en esta libreta: búsqueda de solución aleatoria, búsqueda de solución por descenso de colinas, búsqueda de solución por recocido simulado, búsqueda de solución por algoritmos genéticos.\n",
    "4. Compara los resultados de las soluciones de los cuatro métodos anteriores.\n",
    "\n",
    "Comparados...\n",
    "\n",
    "5. ¿Es posible resolver el problema que planteas analizando todas las posibles soluciones? Justifica tu respuesta.\n",
    "\n",
    "No. Porque el dominio de posibles soluciones es muy extenso pero con el uso de la función de costo se puede encontrar la mejor solución posible para el tiempo conque se cuenta."
   ]
  },
  {
   "cell_type": "code",
   "execution_count": 290,
   "id": "31d8ad46",
   "metadata": {},
   "outputs": [
    {
     "data": {
      "text/plain": [
       "'101000000'"
      ]
     },
     "execution_count": 290,
     "metadata": {},
     "output_type": "execute_result"
    }
   ],
   "source": [
    "#Estructura de Datos... sucintos???\n",
    "\n",
    "def binrep(n):\n",
    "    rep = \"\"\n",
    "    while n > 0:    \n",
    "        r = n % 2\n",
    "        n = n // 2\n",
    "        rep = str(r) + rep\n",
    "    return rep\n",
    "    #print(r, q)\n",
    "\n",
    "binrep(320)\n"
   ]
  },
  {
   "cell_type": "code",
   "execution_count": 291,
   "id": "0bdbde0a",
   "metadata": {},
   "outputs": [
    {
     "data": {
      "text/plain": [
       "'0b101000000'"
      ]
     },
     "execution_count": 291,
     "metadata": {},
     "output_type": "execute_result"
    }
   ],
   "source": [
    "bin(320)"
   ]
  },
  {
   "cell_type": "code",
   "execution_count": 292,
   "id": "2238fcbc",
   "metadata": {},
   "outputs": [
    {
     "name": "stdout",
     "output_type": "stream",
     "text": [
      "None\n"
     ]
    }
   ],
   "source": [
    "a= exec(\"0b\" + \"101000000\")\n",
    "\n",
    "print(a)"
   ]
  },
  {
   "cell_type": "code",
   "execution_count": 293,
   "id": "2c025e2e",
   "metadata": {},
   "outputs": [
    {
     "data": {
      "text/plain": [
       "320"
      ]
     },
     "execution_count": 293,
     "metadata": {},
     "output_type": "execute_result"
    }
   ],
   "source": [
    "# Eval ----> Interpretar una cadena de Python...\n",
    "eval(\"0b\" + \"101000000\")\n"
   ]
  },
  {
   "cell_type": "code",
   "execution_count": 294,
   "id": "f387e74d",
   "metadata": {},
   "outputs": [],
   "source": [
    "# Se pudiera convertir un Binario a Entero... cosa que no se puede hacer con\n",
    "#int(\"0b\" + \"101000000\") # Usar Eval..."
   ]
  },
  {
   "cell_type": "code",
   "execution_count": 295,
   "id": "ce07f56d",
   "metadata": {},
   "outputs": [
    {
     "name": "stdout",
     "output_type": "stream",
     "text": [
      "\u001b[1;31mSignature:\u001b[0m \u001b[0meval\u001b[0m\u001b[1;33m(\u001b[0m\u001b[0msource\u001b[0m\u001b[1;33m,\u001b[0m \u001b[0mglobals\u001b[0m\u001b[1;33m=\u001b[0m\u001b[1;32mNone\u001b[0m\u001b[1;33m,\u001b[0m \u001b[0mlocals\u001b[0m\u001b[1;33m=\u001b[0m\u001b[1;32mNone\u001b[0m\u001b[1;33m,\u001b[0m \u001b[1;33m/\u001b[0m\u001b[1;33m)\u001b[0m\u001b[1;33m\u001b[0m\u001b[1;33m\u001b[0m\u001b[0m\n",
      "\u001b[1;31mDocstring:\u001b[0m\n",
      "Evaluate the given source in the context of globals and locals.\n",
      "\n",
      "The source may be a string representing a Python expression\n",
      "or a code object as returned by compile().\n",
      "The globals must be a dictionary and locals can be any mapping,\n",
      "defaulting to the current globals and locals.\n",
      "If only globals is given, locals defaults to it.\n",
      "\u001b[1;31mType:\u001b[0m      builtin_function_or_method"
     ]
    }
   ],
   "source": [
    "eval?\n"
   ]
  },
  {
   "cell_type": "code",
   "execution_count": 296,
   "id": "b015d9f9",
   "metadata": {},
   "outputs": [
    {
     "name": "stdout",
     "output_type": "stream",
     "text": [
      "\u001b[1;31mSignature:\u001b[0m \u001b[0mexec\u001b[0m\u001b[1;33m(\u001b[0m\u001b[0msource\u001b[0m\u001b[1;33m,\u001b[0m \u001b[0mglobals\u001b[0m\u001b[1;33m=\u001b[0m\u001b[1;32mNone\u001b[0m\u001b[1;33m,\u001b[0m \u001b[0mlocals\u001b[0m\u001b[1;33m=\u001b[0m\u001b[1;32mNone\u001b[0m\u001b[1;33m,\u001b[0m \u001b[1;33m/\u001b[0m\u001b[1;33m,\u001b[0m \u001b[1;33m*\u001b[0m\u001b[1;33m,\u001b[0m \u001b[0mclosure\u001b[0m\u001b[1;33m=\u001b[0m\u001b[1;32mNone\u001b[0m\u001b[1;33m)\u001b[0m\u001b[1;33m\u001b[0m\u001b[1;33m\u001b[0m\u001b[0m\n",
      "\u001b[1;31mDocstring:\u001b[0m\n",
      "Execute the given source in the context of globals and locals.\n",
      "\n",
      "The source may be a string representing one or more Python statements\n",
      "or a code object as returned by compile().\n",
      "The globals must be a dictionary and locals can be any mapping,\n",
      "defaulting to the current globals and locals.\n",
      "If only globals is given, locals defaults to it.\n",
      "The closure must be a tuple of cellvars, and can only be used\n",
      "when source is a code object requiring exactly that many cellvars.\n",
      "\u001b[1;31mType:\u001b[0m      builtin_function_or_method"
     ]
    }
   ],
   "source": [
    "exec?"
   ]
  },
  {
   "cell_type": "code",
   "execution_count": null,
   "id": "1d737653",
   "metadata": {},
   "outputs": [],
   "source": [
    "class paciente:\n",
    "    \"\"\"Paciente al cual se le realizará un diagnóstico X, y este será su estado actual, siendo la meta encontrar el mejor tratamiento en un dominio Y de opciones...\"\"\"\n",
    "    \n",
    "    def __init__(self, dx_actual, sano = False):\n",
    "        \"\"\"Constructor inicializado...\"\"\"\n",
    "        self.dx_actual = dx_actual\n",
    "        self.sano = sano\n",
    "    \n",
    "    def actions(self, state):\n",
    "        \"\"\"Tipos de tratamientos disponibles\"\"\"\n",
    "        lista_de_acciones = find_acciones(state) # Crear esta función...\n",
    "        return lista_de_acciones\n",
    "    \n",
    "    def result(self, state, action):\n",
    "        \"\"\"Da el resultado de aplicar una action de la lista de acciones...\"\"\"\n",
    "        # Cambiar el estado actual después de aplicar tratamiento...\n",
    "        state = aplica_tratamiento(state, action) # Crear función...\n",
    "        return state\n",
    "        \n",
    "    def cheaca_salud(self, state):\n",
    "        \"\"\"Retornar True si el state pertenece a una lista donde se considere que ya el paciente está Sano...\"\"\"\n",
    "        if isinstance(state, list_sano):\n",
    "            self.sano = True\n",
    "            return \"Sano\"\n",
    "        return state\n",
    "    \n",
    "    def path_cost(self, c, state1, action, state2):\n",
    "        \"\"\"Crear un método para calcular el costo que llevaría mejorar.\"\"\"\n",
    "        # Crear una función de costo...\n",
    "        return \"costoso... muy costoso...\"\n",
    "    \n",
    "    def codigo_CID(self, state):\n",
    "        \"\"\"Devuelve el código CID-10 de un diagnóstico X...\"\"\"\n",
    "        cid10 = codificar(state)\n",
    "        return cid10"
   ]
  },
  {
   "cell_type": "markdown",
   "id": "4c3ee5a3",
   "metadata": {},
   "source": [
    "Que la función de costo venga del constructor...\n",
    "\n",
    "\n",
    "Para cada persona que  costoso será segun cada tipo de costo.\n",
    "\n",
    "\n",
    "Ponderarlo... para ponderarlo necesito saber como las personas eligen opciones, que aspectos toman en concideración de forma personal, cuales en si les conviene tomar según su estado de salud anterior...\n",
    "\n",
    "\n",
    "Dinero  0.2\n",
    "Sentimental   0.5\n",
    "Tiempo 0.1\n",
    "Físico.   0.2\n",
    "Valores que sumen 1.0\n",
    "\n",
    "\n",
    "Le calculo el costo a una tupla (Diagnóstico, acción) ... pero se pudiera tener en cuenta también APP, APF, Diagnóstico, Acción...\n",
    "\n",
    "\n",
    "Recibir este vector segun cada paciente.\n",
    "\n",
    "\n",
    "Los vecinos serían estar en un diagnóstico y tomar una acción...\n",
    "\n",
    "\n",
    "Como modelar la experiencia del panciente con salud...\n",
    "\n",
    "\n",
    "Orientado a objeto como modelar estas acciones...\n",
    "\n",
    "\n",
    "Criterios para saber el estado inicial...\n",
    "list_actions...\n",
    "\n",
    "\n",
    "Como modelar las clases si en una misma consulta se diagnostican 2 enfermedades...\n",
    "En este caso se sobrecargaría el operador sumar por ejemplo, y la solución sería digamos un pronmedios de las soluciones... aunque... se adicionarían las contraindicaciones y las interacciones... entre las soluciones...\n",
    "\n",
    "\n",
    "Ver simulaciones basadas en agantes...\n",
    "Ver otros tipos de simulaciones...\n",
    "\n",
    "Que otras clases se pueden modelar...\n",
    "Descargar software de Pandemia... simulaciones... descargar códigos de pandemias...\n",
    "\n",
    "Precisar como se ve un estado??? Como se ve una solución??? Como se ve una acción???\n",
    "Son listas??? Son Tuplas??? Valores???\n"
   ]
  }
 ],
 "metadata": {
  "kernelspec": {
   "display_name": "Python 3 (ipykernel)",
   "language": "python",
   "name": "python3"
  },
  "language_info": {
   "codemirror_mode": {
    "name": "ipython",
    "version": 3
   },
   "file_extension": ".py",
   "mimetype": "text/x-python",
   "name": "python",
   "nbconvert_exporter": "python",
   "pygments_lexer": "ipython3",
   "version": "3.11.3"
  }
 },
 "nbformat": 4,
 "nbformat_minor": 5
}
